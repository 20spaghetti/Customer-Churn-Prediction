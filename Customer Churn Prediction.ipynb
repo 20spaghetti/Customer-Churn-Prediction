{
 "cells": [
  {
   "cell_type": "markdown",
   "metadata": {},
   "source": [
    "# Customer Churn Prediction\n",
    "Predict when a customer of an insurance company is likely to cancel their insurance product.\n",
    "\n",
    "Data Source: https://www.kaggle.com/mukulsingh/insurance-churn-prediction\n",
    "\n",
    "Libraries:"
   ]
  },
  {
   "cell_type": "code",
   "execution_count": 1,
   "metadata": {},
   "outputs": [
    {
     "name": "stderr",
     "output_type": "stream",
     "text": [
      "\n",
      "Attaching package: 'ggplot2'\n",
      "\n",
      "\n",
      "The following objects are masked from 'package:psych':\n",
      "\n",
      "    %+%, alpha\n",
      "\n",
      "\n"
     ]
    }
   ],
   "source": [
    "library(psych)\n",
    "library(ggplot2)\n",
    "#library(GGally) \n",
    "library(ggplot2)\n",
    "#library(reshape2)\n",
    "#library(corrgram)\n",
    "#library(corrplot)"
   ]
  },
  {
   "cell_type": "markdown",
   "metadata": {},
   "source": [
    "Read in the test and train datasets"
   ]
  },
  {
   "cell_type": "code",
   "execution_count": 2,
   "metadata": {},
   "outputs": [],
   "source": [
    "test <- read.csv(file = 'testSet.csv')\n",
    "train <-  read.csv(file = 'trainSet.csv')"
   ]
  },
  {
   "cell_type": "markdown",
   "metadata": {},
   "source": [
    "Our approach:\n",
    "\n",
    "What are we doing? What is the goal? How will we predict churn?\n",
    "1. Identify important features which have a relationship with our label, and how they interact.\n",
    "2. Explore the qualities of the relationship, so we may know which models will give strongest results\n",
    "3. Identify features with no relationship and exclude them from our models\n",
    "4. Identify features which strongly correlate with one anaother - these may duplicate the same information and increase learning time. They may be carefully removed.\n",
    "4. Choose and build models which are supported by our exploration."
   ]
  },
  {
   "cell_type": "markdown",
   "metadata": {},
   "source": [
    "# Exploratory Data Analysis"
   ]
  },
  {
   "cell_type": "markdown",
   "metadata": {},
   "source": [
    "First look at the data"
   ]
  },
  {
   "cell_type": "code",
   "execution_count": 3,
   "metadata": {},
   "outputs": [
    {
     "data": {
      "text/html": [
       "<table class=\"dataframe\">\n",
       "<caption>A data.frame: 6 × 17</caption>\n",
       "<thead>\n",
       "\t<tr><th></th><th scope=col>feature_0</th><th scope=col>feature_1</th><th scope=col>feature_2</th><th scope=col>feature_3</th><th scope=col>feature_4</th><th scope=col>feature_5</th><th scope=col>feature_6</th><th scope=col>feature_7</th><th scope=col>feature_8</th><th scope=col>feature_9</th><th scope=col>feature_10</th><th scope=col>feature_11</th><th scope=col>feature_12</th><th scope=col>feature_13</th><th scope=col>feature_14</th><th scope=col>feature_15</th><th scope=col>labels</th></tr>\n",
       "\t<tr><th></th><th scope=col>&lt;dbl&gt;</th><th scope=col>&lt;dbl&gt;</th><th scope=col>&lt;dbl&gt;</th><th scope=col>&lt;dbl&gt;</th><th scope=col>&lt;dbl&gt;</th><th scope=col>&lt;dbl&gt;</th><th scope=col>&lt;dbl&gt;</th><th scope=col>&lt;int&gt;</th><th scope=col>&lt;int&gt;</th><th scope=col>&lt;int&gt;</th><th scope=col>&lt;int&gt;</th><th scope=col>&lt;int&gt;</th><th scope=col>&lt;int&gt;</th><th scope=col>&lt;int&gt;</th><th scope=col>&lt;int&gt;</th><th scope=col>&lt;int&gt;</th><th scope=col>&lt;int&gt;</th></tr>\n",
       "</thead>\n",
       "<tbody>\n",
       "\t<tr><th scope=row>1</th><td> 1.5127910</td><td>-0.2434605</td><td> 0.1434182</td><td> 2.01858846</td><td> 0.07622994</td><td>-0.4114531</td><td>-0.2519404</td><td>1</td><td>1</td><td>1</td><td>0</td><td>1</td><td>0</td><td>0</td><td>0</td><td>3</td><td>0</td></tr>\n",
       "\t<tr><th scope=row>2</th><td>-1.5007763</td><td>-0.2125875</td><td> 1.2248391</td><td>-0.15984112</td><td>-0.56935064</td><td>-0.4114531</td><td>-0.2519404</td><td>8</td><td>2</td><td>1</td><td>0</td><td>0</td><td>0</td><td>0</td><td>8</td><td>3</td><td>0</td></tr>\n",
       "\t<tr><th scope=row>3</th><td> 0.9477471</td><td> 0.5812426</td><td>-0.3372133</td><td> 0.77987360</td><td>-0.56935064</td><td>-0.4114531</td><td>-0.2519404</td><td>0</td><td>2</td><td>1</td><td>0</td><td>0</td><td>0</td><td>2</td><td>8</td><td>3</td><td>0</td></tr>\n",
       "\t<tr><th scope=row>4</th><td>-0.8415585</td><td>-0.2217837</td><td> 0.5038918</td><td>-0.37729577</td><td> 0.39902023</td><td>-0.4114531</td><td>-0.2519404</td><td>9</td><td>1</td><td>1</td><td>0</td><td>0</td><td>0</td><td>0</td><td>1</td><td>3</td><td>0</td></tr>\n",
       "\t<tr><th scope=row>5</th><td>-0.5590365</td><td>-0.5922597</td><td>-1.1783185</td><td>-0.41612696</td><td>-0.56935064</td><td>-0.4114531</td><td>-0.2519404</td><td>1</td><td>2</td><td>1</td><td>0</td><td>1</td><td>0</td><td>0</td><td>8</td><td>3</td><td>0</td></tr>\n",
       "\t<tr><th scope=row>6</th><td> 0.9477471</td><td>-0.4654833</td><td>-0.5775291</td><td> 0.08867847</td><td>-0.24656035</td><td> 2.2551433</td><td> 2.3528870</td><td>4</td><td>2</td><td>2</td><td>1</td><td>1</td><td>0</td><td>0</td><td>8</td><td>0</td><td>0</td></tr>\n",
       "</tbody>\n",
       "</table>\n"
      ],
      "text/latex": [
       "A data.frame: 6 × 17\n",
       "\\begin{tabular}{r|lllllllllllllllll}\n",
       "  & feature\\_0 & feature\\_1 & feature\\_2 & feature\\_3 & feature\\_4 & feature\\_5 & feature\\_6 & feature\\_7 & feature\\_8 & feature\\_9 & feature\\_10 & feature\\_11 & feature\\_12 & feature\\_13 & feature\\_14 & feature\\_15 & labels\\\\\n",
       "  & <dbl> & <dbl> & <dbl> & <dbl> & <dbl> & <dbl> & <dbl> & <int> & <int> & <int> & <int> & <int> & <int> & <int> & <int> & <int> & <int>\\\\\n",
       "\\hline\n",
       "\t1 &  1.5127910 & -0.2434605 &  0.1434182 &  2.01858846 &  0.07622994 & -0.4114531 & -0.2519404 & 1 & 1 & 1 & 0 & 1 & 0 & 0 & 0 & 3 & 0\\\\\n",
       "\t2 & -1.5007763 & -0.2125875 &  1.2248391 & -0.15984112 & -0.56935064 & -0.4114531 & -0.2519404 & 8 & 2 & 1 & 0 & 0 & 0 & 0 & 8 & 3 & 0\\\\\n",
       "\t3 &  0.9477471 &  0.5812426 & -0.3372133 &  0.77987360 & -0.56935064 & -0.4114531 & -0.2519404 & 0 & 2 & 1 & 0 & 0 & 0 & 2 & 8 & 3 & 0\\\\\n",
       "\t4 & -0.8415585 & -0.2217837 &  0.5038918 & -0.37729577 &  0.39902023 & -0.4114531 & -0.2519404 & 9 & 1 & 1 & 0 & 0 & 0 & 0 & 1 & 3 & 0\\\\\n",
       "\t5 & -0.5590365 & -0.5922597 & -1.1783185 & -0.41612696 & -0.56935064 & -0.4114531 & -0.2519404 & 1 & 2 & 1 & 0 & 1 & 0 & 0 & 8 & 3 & 0\\\\\n",
       "\t6 &  0.9477471 & -0.4654833 & -0.5775291 &  0.08867847 & -0.24656035 &  2.2551433 &  2.3528870 & 4 & 2 & 2 & 1 & 1 & 0 & 0 & 8 & 0 & 0\\\\\n",
       "\\end{tabular}\n"
      ],
      "text/markdown": [
       "\n",
       "A data.frame: 6 × 17\n",
       "\n",
       "| <!--/--> | feature_0 &lt;dbl&gt; | feature_1 &lt;dbl&gt; | feature_2 &lt;dbl&gt; | feature_3 &lt;dbl&gt; | feature_4 &lt;dbl&gt; | feature_5 &lt;dbl&gt; | feature_6 &lt;dbl&gt; | feature_7 &lt;int&gt; | feature_8 &lt;int&gt; | feature_9 &lt;int&gt; | feature_10 &lt;int&gt; | feature_11 &lt;int&gt; | feature_12 &lt;int&gt; | feature_13 &lt;int&gt; | feature_14 &lt;int&gt; | feature_15 &lt;int&gt; | labels &lt;int&gt; |\n",
       "|---|---|---|---|---|---|---|---|---|---|---|---|---|---|---|---|---|---|\n",
       "| 1 |  1.5127910 | -0.2434605 |  0.1434182 |  2.01858846 |  0.07622994 | -0.4114531 | -0.2519404 | 1 | 1 | 1 | 0 | 1 | 0 | 0 | 0 | 3 | 0 |\n",
       "| 2 | -1.5007763 | -0.2125875 |  1.2248391 | -0.15984112 | -0.56935064 | -0.4114531 | -0.2519404 | 8 | 2 | 1 | 0 | 0 | 0 | 0 | 8 | 3 | 0 |\n",
       "| 3 |  0.9477471 |  0.5812426 | -0.3372133 |  0.77987360 | -0.56935064 | -0.4114531 | -0.2519404 | 0 | 2 | 1 | 0 | 0 | 0 | 2 | 8 | 3 | 0 |\n",
       "| 4 | -0.8415585 | -0.2217837 |  0.5038918 | -0.37729577 |  0.39902023 | -0.4114531 | -0.2519404 | 9 | 1 | 1 | 0 | 0 | 0 | 0 | 1 | 3 | 0 |\n",
       "| 5 | -0.5590365 | -0.5922597 | -1.1783185 | -0.41612696 | -0.56935064 | -0.4114531 | -0.2519404 | 1 | 2 | 1 | 0 | 1 | 0 | 0 | 8 | 3 | 0 |\n",
       "| 6 |  0.9477471 | -0.4654833 | -0.5775291 |  0.08867847 | -0.24656035 |  2.2551433 |  2.3528870 | 4 | 2 | 2 | 1 | 1 | 0 | 0 | 8 | 0 | 0 |\n",
       "\n"
      ],
      "text/plain": [
       "  feature_0  feature_1  feature_2  feature_3   feature_4   feature_5 \n",
       "1  1.5127910 -0.2434605  0.1434182  2.01858846  0.07622994 -0.4114531\n",
       "2 -1.5007763 -0.2125875  1.2248391 -0.15984112 -0.56935064 -0.4114531\n",
       "3  0.9477471  0.5812426 -0.3372133  0.77987360 -0.56935064 -0.4114531\n",
       "4 -0.8415585 -0.2217837  0.5038918 -0.37729577  0.39902023 -0.4114531\n",
       "5 -0.5590365 -0.5922597 -1.1783185 -0.41612696 -0.56935064 -0.4114531\n",
       "6  0.9477471 -0.4654833 -0.5775291  0.08867847 -0.24656035  2.2551433\n",
       "  feature_6  feature_7 feature_8 feature_9 feature_10 feature_11 feature_12\n",
       "1 -0.2519404 1         1         1         0          1          0         \n",
       "2 -0.2519404 8         2         1         0          0          0         \n",
       "3 -0.2519404 0         2         1         0          0          0         \n",
       "4 -0.2519404 9         1         1         0          0          0         \n",
       "5 -0.2519404 1         2         1         0          1          0         \n",
       "6  2.3528870 4         2         2         1          1          0         \n",
       "  feature_13 feature_14 feature_15 labels\n",
       "1 0          0          3          0     \n",
       "2 0          8          3          0     \n",
       "3 2          8          3          0     \n",
       "4 0          1          3          0     \n",
       "5 0          8          3          0     \n",
       "6 0          8          0          0     "
      ]
     },
     "metadata": {},
     "output_type": "display_data"
    }
   ],
   "source": [
    "head(train)"
   ]
  },
  {
   "cell_type": "markdown",
   "metadata": {},
   "source": [
    "Check the data types - we have no information about whether any of these should be factors, except the label, which is binary (churn or no churn), this could be set as a factor. We'll revisit this later when we deal with other qualitative data."
   ]
  },
  {
   "cell_type": "code",
   "execution_count": 4,
   "metadata": {},
   "outputs": [
    {
     "name": "stdout",
     "output_type": "stream",
     "text": [
      "'data.frame':\t27126 obs. of  17 variables:\n",
      " $ feature_0 : num  1.513 -1.501 0.948 -0.842 -0.559 ...\n",
      " $ feature_1 : num  -0.243 -0.213 0.581 -0.222 -0.592 ...\n",
      " $ feature_2 : num  0.143 1.225 -0.337 0.504 -1.178 ...\n",
      " $ feature_3 : num  2.019 -0.16 0.78 -0.377 -0.416 ...\n",
      " $ feature_4 : num  0.0762 -0.5694 -0.5694 0.399 -0.5694 ...\n",
      " $ feature_5 : num  -0.411 -0.411 -0.411 -0.411 -0.411 ...\n",
      " $ feature_6 : num  -0.252 -0.252 -0.252 -0.252 -0.252 ...\n",
      " $ feature_7 : int  1 8 0 9 1 4 7 6 6 9 ...\n",
      " $ feature_8 : int  1 2 2 1 2 2 1 1 1 1 ...\n",
      " $ feature_9 : int  1 1 1 1 1 2 1 2 1 3 ...\n",
      " $ feature_10: int  0 0 0 0 0 1 0 0 0 0 ...\n",
      " $ feature_11: int  1 0 0 0 1 1 0 1 1 1 ...\n",
      " $ feature_12: int  0 0 0 0 0 0 0 1 1 0 ...\n",
      " $ feature_13: int  0 0 2 0 0 0 0 2 0 0 ...\n",
      " $ feature_14: int  0 8 8 1 8 8 1 6 5 9 ...\n",
      " $ feature_15: int  3 3 3 3 3 0 3 3 3 3 ...\n",
      " $ labels    : int  0 0 0 0 0 0 0 0 0 0 ...\n"
     ]
    }
   ],
   "source": [
    "str(train)"
   ]
  },
  {
   "cell_type": "markdown",
   "metadata": {},
   "source": [
    "We want to be certain that the two test and train datasets are compatible with one another. Do they have the same data types? The same labels?"
   ]
  },
  {
   "cell_type": "code",
   "execution_count": 5,
   "metadata": {},
   "outputs": [
    {
     "name": "stdout",
     "output_type": "stream",
     "text": [
      "'data.frame':\t6782 obs. of  17 variables:\n",
      " $ feature_0 : num  -1.03 -0.842 -1.501 -0.277 -0.936 ...\n",
      " $ feature_1 : num  -0.222 -0.356 -0.265 -0.402 -0.268 ...\n",
      " $ feature_2 : num  0.504 -1.539 -1.419 1.826 1.585 ...\n",
      " $ feature_3 : num  -0.9054 -0.1055 0.3993 -0.8976 0.0537 ...\n",
      " $ feature_4 : num  0.0762 2.9813 -0.5694 6.2092 -0.5694 ...\n",
      " $ feature_5 : num  -0.411 -0.411 -0.411 -0.411 -0.411 ...\n",
      " $ feature_6 : num  -0.252 -0.252 -0.252 -0.252 -0.252 ...\n",
      " $ feature_7 : int  0 0 7 0 0 7 5 9 4 1 ...\n",
      " $ feature_8 : int  1 1 2 1 2 2 1 1 1 1 ...\n",
      " $ feature_9 : int  1 1 1 1 1 1 1 1 2 1 ...\n",
      " $ feature_10: int  0 0 0 0 0 0 0 0 0 0 ...\n",
      " $ feature_11: int  1 1 1 1 1 1 0 1 1 1 ...\n",
      " $ feature_12: int  0 0 1 0 0 1 0 0 0 1 ...\n",
      " $ feature_13: int  2 2 2 0 0 2 0 2 0 2 ...\n",
      " $ feature_14: int  6 6 6 5 4 8 1 8 3 8 ...\n",
      " $ feature_15: int  3 3 3 3 3 3 3 3 3 3 ...\n",
      " $ labels    : int  0 0 0 0 0 0 0 0 0 0 ...\n"
     ]
    }
   ],
   "source": [
    " str(test)"
   ]
  },
  {
   "cell_type": "markdown",
   "metadata": {},
   "source": [
    "We are satisfied that features 0-6 are numeric and 7-15 are integer in both test and train sets. It's possible that some of these integer variables are categoric / non-ordinal / qualitative and that there is no relationship between their numeric assignment. Setting them as factors or one hot encoding might need to be concidered later - for now we don't know enough about the data though."
   ]
  },
  {
   "cell_type": "markdown",
   "metadata": {},
   "source": [
    "What proportion of the data is test versus train?"
   ]
  },
  {
   "cell_type": "code",
   "execution_count": 6,
   "metadata": {},
   "outputs": [
    {
     "data": {
      "text/html": [
       "<style>\n",
       ".list-inline {list-style: none; margin:0; padding: 0}\n",
       ".list-inline>li {display: inline-block}\n",
       ".list-inline>li:not(:last-child)::after {content: \"\\00b7\"; padding: 0 .5ex}\n",
       "</style>\n",
       "<ol class=list-inline><li>6782</li><li>17</li></ol>\n"
      ],
      "text/latex": [
       "\\begin{enumerate*}\n",
       "\\item 6782\n",
       "\\item 17\n",
       "\\end{enumerate*}\n"
      ],
      "text/markdown": [
       "1. 6782\n",
       "2. 17\n",
       "\n",
       "\n"
      ],
      "text/plain": [
       "[1] 6782   17"
      ]
     },
     "metadata": {},
     "output_type": "display_data"
    },
    {
     "data": {
      "text/html": [
       "<style>\n",
       ".list-inline {list-style: none; margin:0; padding: 0}\n",
       ".list-inline>li {display: inline-block}\n",
       ".list-inline>li:not(:last-child)::after {content: \"\\00b7\"; padding: 0 .5ex}\n",
       "</style>\n",
       "<ol class=list-inline><li>27126</li><li>17</li></ol>\n"
      ],
      "text/latex": [
       "\\begin{enumerate*}\n",
       "\\item 27126\n",
       "\\item 17\n",
       "\\end{enumerate*}\n"
      ],
      "text/markdown": [
       "1. 27126\n",
       "2. 17\n",
       "\n",
       "\n"
      ],
      "text/plain": [
       "[1] 27126    17"
      ]
     },
     "metadata": {},
     "output_type": "display_data"
    }
   ],
   "source": [
    "dim(test)\n",
    "dim(train)"
   ]
  },
  {
   "cell_type": "markdown",
   "metadata": {},
   "source": [
    "One fifth of our data is in the test dataset"
   ]
  },
  {
   "cell_type": "markdown",
   "metadata": {},
   "source": [
    "How is the response variable distributed? Is it imbalanced? Is it biased?"
   ]
  },
  {
   "cell_type": "code",
   "execution_count": 7,
   "metadata": {},
   "outputs": [
    {
     "data": {
      "image/png": "[encoded data removed]",
      "text/plain": [
       "Plot with title \"Histogram of train$labels\""
      ]
     },
     "metadata": {
      "image/png": {
       "height": 420,
       "width": 420
      }
     },
     "output_type": "display_data"
    }
   ],
   "source": [
    "hist(train$labels, breaks =2)"
   ]
  },
  {
   "cell_type": "markdown",
   "metadata": {},
   "source": [
    "There is no **detectable** bias in the label data, as we do not know any true information about real churn rates compared to the rates observed in this dataset. However, the class distribution in the label is very imbalanced (regardless of bias), this will likely become an issue for some learning algorithms later. The majority class (0) is very dominant here and so we expect that learning algorithms will significantly favour this class for positive prediction. Resampling may be necessary so as not to introduce bias in our learning/modelling algorithms. \n",
    "\n"
   ]
  },
  {
   "cell_type": "markdown",
   "metadata": {},
   "source": [
    "Descriptive statistics for continuous data:"
   ]
  },
  {
   "cell_type": "code",
   "execution_count": null,
   "metadata": {},
   "outputs": [],
   "source": []
  },
  {
   "cell_type": "markdown",
   "metadata": {},
   "source": [
    "Descriptive statistics for qualitative data: ??"
   ]
  },
  {
   "cell_type": "code",
   "execution_count": null,
   "metadata": {},
   "outputs": [],
   "source": []
  },
  {
   "cell_type": "markdown",
   "metadata": {},
   "source": [
    "More detailed summary statistics"
   ]
  },
  {
   "cell_type": "code",
   "execution_count": 8,
   "metadata": {},
   "outputs": [
    {
     "data": {
      "text/html": [
       "<table class=\"dataframe\">\n",
       "<caption>A psych: 17 × 13</caption>\n",
       "<thead>\n",
       "\t<tr><th></th><th scope=col>vars</th><th scope=col>n</th><th scope=col>mean</th><th scope=col>sd</th><th scope=col>median</th><th scope=col>trimmed</th><th scope=col>mad</th><th scope=col>min</th><th scope=col>max</th><th scope=col>range</th><th scope=col>skew</th><th scope=col>kurtosis</th><th scope=col>se</th></tr>\n",
       "\t<tr><th></th><th scope=col>&lt;dbl&gt;</th><th scope=col>&lt;dbl&gt;</th><th scope=col>&lt;dbl&gt;</th><th scope=col>&lt;dbl&gt;</th><th scope=col>&lt;dbl&gt;</th><th scope=col>&lt;dbl&gt;</th><th scope=col>&lt;dbl&gt;</th><th scope=col>&lt;dbl&gt;</th><th scope=col>&lt;dbl&gt;</th><th scope=col>&lt;dbl&gt;</th><th scope=col>&lt;dbl&gt;</th><th scope=col>&lt;dbl&gt;</th><th scope=col>&lt;dbl&gt;</th></tr>\n",
       "</thead>\n",
       "<tbody>\n",
       "\t<tr><th scope=row>feature_0</th><td> 1</td><td>27126</td><td>-0.005</td><td>1.000</td><td>-0.182</td><td>-0.068</td><td>0.977</td><td>-2.160</td><td> 5.091</td><td> 7.251</td><td> 0.677</td><td>  0.292</td><td>0.006</td></tr>\n",
       "\t<tr><th scope=row>feature_1</th><td> 2</td><td>27126</td><td> 0.001</td><td>0.986</td><td>-0.297</td><td>-0.193</td><td>0.223</td><td>-3.081</td><td>26.223</td><td>29.304</td><td> 7.503</td><td>103.612</td><td>0.006</td></tr>\n",
       "\t<tr><th scope=row>feature_2</th><td> 3</td><td>27126</td><td> 0.004</td><td>1.000</td><td> 0.023</td><td>-0.010</td><td>1.247</td><td>-1.779</td><td> 1.826</td><td> 3.605</td><td> 0.088</td><td> -1.058</td><td>0.006</td></tr>\n",
       "\t<tr><th scope=row>feature_3</th><td> 4</td><td>27126</td><td>-0.002</td><td>0.997</td><td>-0.307</td><td>-0.186</td><td>0.530</td><td>-1.002</td><td>18.095</td><td>19.097</td><td> 3.157</td><td> 18.827</td><td>0.006</td></tr>\n",
       "\t<tr><th scope=row>feature_4</th><td> 5</td><td>27126</td><td> 0.000</td><td>1.009</td><td>-0.247</td><td>-0.210</td><td>0.479</td><td>-0.569</td><td>19.444</td><td>20.013</td><td> 5.101</td><td> 44.119</td><td>0.006</td></tr>\n",
       "\t<tr><th scope=row>feature_5</th><td> 6</td><td>27126</td><td>-0.003</td><td>0.997</td><td>-0.411</td><td>-0.285</td><td>0.000</td><td>-0.411</td><td> 8.128</td><td> 8.539</td><td> 2.639</td><td>  7.088</td><td>0.006</td></tr>\n",
       "\t<tr><th scope=row>feature_6</th><td> 7</td><td>27126</td><td>-0.009</td><td>0.795</td><td>-0.252</td><td>-0.197</td><td>0.000</td><td>-0.252</td><td>23.626</td><td>23.878</td><td> 7.360</td><td> 96.290</td><td>0.005</td></tr>\n",
       "\t<tr><th scope=row>feature_7</th><td> 8</td><td>27126</td><td> 4.336</td><td>3.273</td><td> 4.000</td><td> 4.242</td><td>4.448</td><td> 0.000</td><td>11.000</td><td>11.000</td><td> 0.268</td><td> -1.265</td><td>0.020</td></tr>\n",
       "\t<tr><th scope=row>feature_8</th><td> 9</td><td>27126</td><td> 1.170</td><td>0.605</td><td> 1.000</td><td> 1.213</td><td>0.000</td><td> 0.000</td><td> 2.000</td><td> 2.000</td><td>-0.098</td><td> -0.423</td><td>0.004</td></tr>\n",
       "\t<tr><th scope=row>feature_9</th><td>10</td><td>27126</td><td> 1.226</td><td>0.749</td><td> 1.000</td><td> 1.231</td><td>0.000</td><td> 0.000</td><td> 3.000</td><td> 3.000</td><td> 0.191</td><td> -0.278</td><td>0.005</td></tr>\n",
       "\t<tr><th scope=row>feature_10</th><td>11</td><td>27126</td><td> 0.018</td><td>0.133</td><td> 0.000</td><td> 0.000</td><td>0.000</td><td> 0.000</td><td> 1.000</td><td> 1.000</td><td> 7.276</td><td> 50.944</td><td>0.001</td></tr>\n",
       "\t<tr><th scope=row>feature_11</th><td>12</td><td>27126</td><td> 0.552</td><td>0.497</td><td> 1.000</td><td> 0.565</td><td>0.000</td><td> 0.000</td><td> 1.000</td><td> 1.000</td><td>-0.210</td><td> -1.956</td><td>0.003</td></tr>\n",
       "\t<tr><th scope=row>feature_12</th><td>13</td><td>27126</td><td> 0.159</td><td>0.366</td><td> 0.000</td><td> 0.074</td><td>0.000</td><td> 0.000</td><td> 1.000</td><td> 1.000</td><td> 1.865</td><td>  1.479</td><td>0.002</td></tr>\n",
       "\t<tr><th scope=row>feature_13</th><td>14</td><td>27126</td><td> 0.637</td><td>0.896</td><td> 0.000</td><td> 0.546</td><td>0.000</td><td> 0.000</td><td> 2.000</td><td> 2.000</td><td> 0.778</td><td> -1.302</td><td>0.005</td></tr>\n",
       "\t<tr><th scope=row>feature_14</th><td>15</td><td>27126</td><td> 5.513</td><td>3.004</td><td> 6.000</td><td> 5.671</td><td>2.965</td><td> 0.000</td><td>11.000</td><td>11.000</td><td>-0.474</td><td> -0.997</td><td>0.018</td></tr>\n",
       "\t<tr><th scope=row>feature_15</th><td>16</td><td>27126</td><td> 2.562</td><td>0.987</td><td> 3.000</td><td> 2.828</td><td>0.000</td><td> 0.000</td><td> 3.000</td><td> 3.000</td><td>-1.983</td><td>  2.192</td><td>0.006</td></tr>\n",
       "\t<tr><th scope=row>labels</th><td>17</td><td>27126</td><td> 0.117</td><td>0.322</td><td> 0.000</td><td> 0.022</td><td>0.000</td><td> 0.000</td><td> 1.000</td><td> 1.000</td><td> 2.378</td><td>  3.657</td><td>0.002</td></tr>\n",
       "</tbody>\n",
       "</table>\n"
      ],
      "text/latex": [
       "A psych: 17 × 13\n",
       "\\begin{tabular}{r|lllllllllllll}\n",
       "  & vars & n & mean & sd & median & trimmed & mad & min & max & range & skew & kurtosis & se\\\\\n",
       "  & <dbl> & <dbl> & <dbl> & <dbl> & <dbl> & <dbl> & <dbl> & <dbl> & <dbl> & <dbl> & <dbl> & <dbl> & <dbl>\\\\\n",
       "\\hline\n",
       "\tfeature\\_0 &  1 & 27126 & -0.005 & 1.000 & -0.182 & -0.068 & 0.977 & -2.160 &  5.091 &  7.251 &  0.677 &   0.292 & 0.006\\\\\n",
       "\tfeature\\_1 &  2 & 27126 &  0.001 & 0.986 & -0.297 & -0.193 & 0.223 & -3.081 & 26.223 & 29.304 &  7.503 & 103.612 & 0.006\\\\\n",
       "\tfeature\\_2 &  3 & 27126 &  0.004 & 1.000 &  0.023 & -0.010 & 1.247 & -1.779 &  1.826 &  3.605 &  0.088 &  -1.058 & 0.006\\\\\n",
       "\tfeature\\_3 &  4 & 27126 & -0.002 & 0.997 & -0.307 & -0.186 & 0.530 & -1.002 & 18.095 & 19.097 &  3.157 &  18.827 & 0.006\\\\\n",
       "\tfeature\\_4 &  5 & 27126 &  0.000 & 1.009 & -0.247 & -0.210 & 0.479 & -0.569 & 19.444 & 20.013 &  5.101 &  44.119 & 0.006\\\\\n",
       "\tfeature\\_5 &  6 & 27126 & -0.003 & 0.997 & -0.411 & -0.285 & 0.000 & -0.411 &  8.128 &  8.539 &  2.639 &   7.088 & 0.006\\\\\n",
       "\tfeature\\_6 &  7 & 27126 & -0.009 & 0.795 & -0.252 & -0.197 & 0.000 & -0.252 & 23.626 & 23.878 &  7.360 &  96.290 & 0.005\\\\\n",
       "\tfeature\\_7 &  8 & 27126 &  4.336 & 3.273 &  4.000 &  4.242 & 4.448 &  0.000 & 11.000 & 11.000 &  0.268 &  -1.265 & 0.020\\\\\n",
       "\tfeature\\_8 &  9 & 27126 &  1.170 & 0.605 &  1.000 &  1.213 & 0.000 &  0.000 &  2.000 &  2.000 & -0.098 &  -0.423 & 0.004\\\\\n",
       "\tfeature\\_9 & 10 & 27126 &  1.226 & 0.749 &  1.000 &  1.231 & 0.000 &  0.000 &  3.000 &  3.000 &  0.191 &  -0.278 & 0.005\\\\\n",
       "\tfeature\\_10 & 11 & 27126 &  0.018 & 0.133 &  0.000 &  0.000 & 0.000 &  0.000 &  1.000 &  1.000 &  7.276 &  50.944 & 0.001\\\\\n",
       "\tfeature\\_11 & 12 & 27126 &  0.552 & 0.497 &  1.000 &  0.565 & 0.000 &  0.000 &  1.000 &  1.000 & -0.210 &  -1.956 & 0.003\\\\\n",
       "\tfeature\\_12 & 13 & 27126 &  0.159 & 0.366 &  0.000 &  0.074 & 0.000 &  0.000 &  1.000 &  1.000 &  1.865 &   1.479 & 0.002\\\\\n",
       "\tfeature\\_13 & 14 & 27126 &  0.637 & 0.896 &  0.000 &  0.546 & 0.000 &  0.000 &  2.000 &  2.000 &  0.778 &  -1.302 & 0.005\\\\\n",
       "\tfeature\\_14 & 15 & 27126 &  5.513 & 3.004 &  6.000 &  5.671 & 2.965 &  0.000 & 11.000 & 11.000 & -0.474 &  -0.997 & 0.018\\\\\n",
       "\tfeature\\_15 & 16 & 27126 &  2.562 & 0.987 &  3.000 &  2.828 & 0.000 &  0.000 &  3.000 &  3.000 & -1.983 &   2.192 & 0.006\\\\\n",
       "\tlabels & 17 & 27126 &  0.117 & 0.322 &  0.000 &  0.022 & 0.000 &  0.000 &  1.000 &  1.000 &  2.378 &   3.657 & 0.002\\\\\n",
       "\\end{tabular}\n"
      ],
      "text/markdown": [
       "\n",
       "A psych: 17 × 13\n",
       "\n",
       "| <!--/--> | vars &lt;dbl&gt; | n &lt;dbl&gt; | mean &lt;dbl&gt; | sd &lt;dbl&gt; | median &lt;dbl&gt; | trimmed &lt;dbl&gt; | mad &lt;dbl&gt; | min &lt;dbl&gt; | max &lt;dbl&gt; | range &lt;dbl&gt; | skew &lt;dbl&gt; | kurtosis &lt;dbl&gt; | se &lt;dbl&gt; |\n",
       "|---|---|---|---|---|---|---|---|---|---|---|---|---|---|\n",
       "| feature_0 |  1 | 27126 | -0.005 | 1.000 | -0.182 | -0.068 | 0.977 | -2.160 |  5.091 |  7.251 |  0.677 |   0.292 | 0.006 |\n",
       "| feature_1 |  2 | 27126 |  0.001 | 0.986 | -0.297 | -0.193 | 0.223 | -3.081 | 26.223 | 29.304 |  7.503 | 103.612 | 0.006 |\n",
       "| feature_2 |  3 | 27126 |  0.004 | 1.000 |  0.023 | -0.010 | 1.247 | -1.779 |  1.826 |  3.605 |  0.088 |  -1.058 | 0.006 |\n",
       "| feature_3 |  4 | 27126 | -0.002 | 0.997 | -0.307 | -0.186 | 0.530 | -1.002 | 18.095 | 19.097 |  3.157 |  18.827 | 0.006 |\n",
       "| feature_4 |  5 | 27126 |  0.000 | 1.009 | -0.247 | -0.210 | 0.479 | -0.569 | 19.444 | 20.013 |  5.101 |  44.119 | 0.006 |\n",
       "| feature_5 |  6 | 27126 | -0.003 | 0.997 | -0.411 | -0.285 | 0.000 | -0.411 |  8.128 |  8.539 |  2.639 |   7.088 | 0.006 |\n",
       "| feature_6 |  7 | 27126 | -0.009 | 0.795 | -0.252 | -0.197 | 0.000 | -0.252 | 23.626 | 23.878 |  7.360 |  96.290 | 0.005 |\n",
       "| feature_7 |  8 | 27126 |  4.336 | 3.273 |  4.000 |  4.242 | 4.448 |  0.000 | 11.000 | 11.000 |  0.268 |  -1.265 | 0.020 |\n",
       "| feature_8 |  9 | 27126 |  1.170 | 0.605 |  1.000 |  1.213 | 0.000 |  0.000 |  2.000 |  2.000 | -0.098 |  -0.423 | 0.004 |\n",
       "| feature_9 | 10 | 27126 |  1.226 | 0.749 |  1.000 |  1.231 | 0.000 |  0.000 |  3.000 |  3.000 |  0.191 |  -0.278 | 0.005 |\n",
       "| feature_10 | 11 | 27126 |  0.018 | 0.133 |  0.000 |  0.000 | 0.000 |  0.000 |  1.000 |  1.000 |  7.276 |  50.944 | 0.001 |\n",
       "| feature_11 | 12 | 27126 |  0.552 | 0.497 |  1.000 |  0.565 | 0.000 |  0.000 |  1.000 |  1.000 | -0.210 |  -1.956 | 0.003 |\n",
       "| feature_12 | 13 | 27126 |  0.159 | 0.366 |  0.000 |  0.074 | 0.000 |  0.000 |  1.000 |  1.000 |  1.865 |   1.479 | 0.002 |\n",
       "| feature_13 | 14 | 27126 |  0.637 | 0.896 |  0.000 |  0.546 | 0.000 |  0.000 |  2.000 |  2.000 |  0.778 |  -1.302 | 0.005 |\n",
       "| feature_14 | 15 | 27126 |  5.513 | 3.004 |  6.000 |  5.671 | 2.965 |  0.000 | 11.000 | 11.000 | -0.474 |  -0.997 | 0.018 |\n",
       "| feature_15 | 16 | 27126 |  2.562 | 0.987 |  3.000 |  2.828 | 0.000 |  0.000 |  3.000 |  3.000 | -1.983 |   2.192 | 0.006 |\n",
       "| labels | 17 | 27126 |  0.117 | 0.322 |  0.000 |  0.022 | 0.000 |  0.000 |  1.000 |  1.000 |  2.378 |   3.657 | 0.002 |\n",
       "\n"
      ],
      "text/plain": [
       "           vars n     mean   sd    median trimmed mad   min    max    range \n",
       "feature_0   1   27126 -0.005 1.000 -0.182 -0.068  0.977 -2.160  5.091  7.251\n",
       "feature_1   2   27126  0.001 0.986 -0.297 -0.193  0.223 -3.081 26.223 29.304\n",
       "feature_2   3   27126  0.004 1.000  0.023 -0.010  1.247 -1.779  1.826  3.605\n",
       "feature_3   4   27126 -0.002 0.997 -0.307 -0.186  0.530 -1.002 18.095 19.097\n",
       "feature_4   5   27126  0.000 1.009 -0.247 -0.210  0.479 -0.569 19.444 20.013\n",
       "feature_5   6   27126 -0.003 0.997 -0.411 -0.285  0.000 -0.411  8.128  8.539\n",
       "feature_6   7   27126 -0.009 0.795 -0.252 -0.197  0.000 -0.252 23.626 23.878\n",
       "feature_7   8   27126  4.336 3.273  4.000  4.242  4.448  0.000 11.000 11.000\n",
       "feature_8   9   27126  1.170 0.605  1.000  1.213  0.000  0.000  2.000  2.000\n",
       "feature_9  10   27126  1.226 0.749  1.000  1.231  0.000  0.000  3.000  3.000\n",
       "feature_10 11   27126  0.018 0.133  0.000  0.000  0.000  0.000  1.000  1.000\n",
       "feature_11 12   27126  0.552 0.497  1.000  0.565  0.000  0.000  1.000  1.000\n",
       "feature_12 13   27126  0.159 0.366  0.000  0.074  0.000  0.000  1.000  1.000\n",
       "feature_13 14   27126  0.637 0.896  0.000  0.546  0.000  0.000  2.000  2.000\n",
       "feature_14 15   27126  5.513 3.004  6.000  5.671  2.965  0.000 11.000 11.000\n",
       "feature_15 16   27126  2.562 0.987  3.000  2.828  0.000  0.000  3.000  3.000\n",
       "labels     17   27126  0.117 0.322  0.000  0.022  0.000  0.000  1.000  1.000\n",
       "           skew   kurtosis se   \n",
       "feature_0   0.677   0.292  0.006\n",
       "feature_1   7.503 103.612  0.006\n",
       "feature_2   0.088  -1.058  0.006\n",
       "feature_3   3.157  18.827  0.006\n",
       "feature_4   5.101  44.119  0.006\n",
       "feature_5   2.639   7.088  0.006\n",
       "feature_6   7.360  96.290  0.005\n",
       "feature_7   0.268  -1.265  0.020\n",
       "feature_8  -0.098  -0.423  0.004\n",
       "feature_9   0.191  -0.278  0.005\n",
       "feature_10  7.276  50.944  0.001\n",
       "feature_11 -0.210  -1.956  0.003\n",
       "feature_12  1.865   1.479  0.002\n",
       "feature_13  0.778  -1.302  0.005\n",
       "feature_14 -0.474  -0.997  0.018\n",
       "feature_15 -1.983   2.192  0.006\n",
       "labels      2.378   3.657  0.002"
      ]
     },
     "metadata": {},
     "output_type": "display_data"
    }
   ],
   "source": [
    "round(describe(train), 3)"
   ]
  },
  {
   "cell_type": "markdown",
   "metadata": {},
   "source": [
    "Some initital findings:\n",
    "- No missing data in any features\n",
    "- Not yet feature scaled (e.g. min-max scaling), might need to do this for some models\n",
    "- Feature 1 , 6 and 10 have highest skew, in the positive direction. Negative skewed variables are minimally affected.\n",
    "- Features 1 & 6 have the widest range\n",
    "- Features 10, 11 and 12 are integer and have a range of 1, making them binary (as well as label)\n",
    "- Features 1, 4, 6 and 10 have relatively high kurtosis, making their tails very short. Conversely, quite a few variables have longer tails, measuring no lesser than -2 though\n",
    "- Given that we don't have any particular knowledge about each feature, we cannot comment on the expected or unexpected characteristics of each variable.\n",
    "- 7 & 14 have highest standard deviation"
   ]
  },
  {
   "cell_type": "markdown",
   "metadata": {},
   "source": [
    "Box plots of numeric and integer vars seperated for easier readability"
   ]
  },
  {
   "cell_type": "code",
   "execution_count": 9,
   "metadata": {},
   "outputs": [
    {
     "data": {
      "image/png": "[encoded data removed]",
      "text/plain": [
       "plot without title"
      ]
     },
     "metadata": {
      "image/png": {
       "height": 420,
       "width": 420
      }
     },
     "output_type": "display_data"
    }
   ],
   "source": [
    "boxplot(train[1:7], las=2, cex.axis = 1)"
   ]
  },
  {
   "cell_type": "code",
   "execution_count": 10,
   "metadata": {},
   "outputs": [
    {
     "data": {
      "image/png": "[encoded data removed]",
      "text/plain": [
       "plot without title"
      ]
     },
     "metadata": {
      "image/png": {
       "height": 420,
       "width": 420
      }
     },
     "output_type": "display_data"
    }
   ],
   "source": [
    "boxplot(train[8:17], las=2, cex.axis = 1)"
   ]
  },
  {
   "cell_type": "markdown",
   "metadata": {},
   "source": [
    "Zoom in on 10,12 and labels"
   ]
  },
  {
   "cell_type": "code",
   "execution_count": 11,
   "metadata": {},
   "outputs": [
    {
     "data": {
      "image/png": "[encoded data removed]",
      "text/plain": [
       "plot without title"
      ]
     },
     "metadata": {
      "image/png": {
       "height": 420,
       "width": 420
      }
     },
     "output_type": "display_data"
    }
   ],
   "source": [
    "boxplot(train$feature_10, train$feature_11, train$feature_12, train$labels)"
   ]
  },
  {
   "cell_type": "markdown",
   "metadata": {},
   "source": [
    "Earlier we found features 10,11 and 12 along with the label all have two possible values. It appears all but feature 11 are primarliy distributed at zero with less than a quarter of the data at one. Feature 11 on the otherhand is a little more evenly distributed with one quartile of the data distributed at zero and the remainder at one."
   ]
  },
  {
   "cell_type": "code",
   "execution_count": 12,
   "metadata": {},
   "outputs": [],
   "source": [
    "#increase scale size of jupyter plots for some very detailed ones momentarily.\n",
    "options(jupyter.plot_scale=1) "
   ]
  },
  {
   "cell_type": "markdown",
   "metadata": {},
   "source": [
    "The correlation between features and labels."
   ]
  },
  {
   "cell_type": "code",
   "execution_count": 13,
   "metadata": {},
   "outputs": [
    {
     "data": {
      "image/png": "[encoded data removed]",
      "text/plain": [
       "plot without title"
      ]
     },
     "metadata": {
      "image/png": {
       "height": 840,
       "width": 840
      }
     },
     "output_type": "display_data"
    }
   ],
   "source": [
    "par(mfrow = c(4,4))\n",
    "for (i in 1:(length(train) - 1)) {\n",
    "        plot(train[,i], train$labels, ylab = 'labels', xlab = names(train)[i])\n",
    "}"
   ]
  },
  {
   "cell_type": "markdown",
   "metadata": {},
   "source": [
    "There appear to be differences in the distribution of data for each label correlated with features 1, 4 and 6. It is questionable whether this is also the case for 1, 3 and 5. These features should be explored further using geom_density filled by label to distinguish..."
   ]
  },
  {
   "cell_type": "markdown",
   "metadata": {},
   "source": [
    "Correlation of all features and labels:"
   ]
  },
  {
   "cell_type": "code",
   "execution_count": 14,
   "metadata": {},
   "outputs": [
    {
     "data": {
      "text/html": [
       "<table class=\"dataframe\">\n",
       "<caption>A matrix: 17 × 17 of type dbl</caption>\n",
       "<thead>\n",
       "\t<tr><th></th><th scope=col>feature_0</th><th scope=col>feature_1</th><th scope=col>feature_2</th><th scope=col>feature_3</th><th scope=col>feature_4</th><th scope=col>feature_5</th><th scope=col>feature_6</th><th scope=col>feature_7</th><th scope=col>feature_8</th><th scope=col>feature_9</th><th scope=col>feature_10</th><th scope=col>feature_11</th><th scope=col>feature_12</th><th scope=col>feature_13</th><th scope=col>feature_14</th><th scope=col>feature_15</th><th scope=col>labels</th></tr>\n",
       "</thead>\n",
       "<tbody>\n",
       "\t<tr><th scope=row>feature_0</th><td> 1.000</td><td> 0.105</td><td>-0.006</td><td>-0.008</td><td> 0.003</td><td>-0.023</td><td>-0.001</td><td>-0.026</td><td>-0.405</td><td>-0.107</td><td>-0.018</td><td>-0.182</td><td>-0.014</td><td> 0.029</td><td>-0.041</td><td> 0.007</td><td> 0.016</td></tr>\n",
       "\t<tr><th scope=row>feature_1</th><td> 0.105</td><td> 1.000</td><td> 0.005</td><td> 0.016</td><td>-0.016</td><td> 0.007</td><td> 0.026</td><td> 0.020</td><td>-0.005</td><td> 0.062</td><td>-0.068</td><td>-0.075</td><td>-0.086</td><td>-0.030</td><td> 0.011</td><td>-0.025</td><td> 0.051</td></tr>\n",
       "\t<tr><th scope=row>feature_2</th><td>-0.006</td><td> 0.005</td><td> 1.000</td><td>-0.027</td><td> 0.167</td><td>-0.092</td><td>-0.052</td><td> 0.019</td><td>-0.008</td><td> 0.023</td><td> 0.011</td><td>-0.028</td><td> 0.009</td><td>-0.030</td><td>-0.003</td><td> 0.080</td><td>-0.030</td></tr>\n",
       "\t<tr><th scope=row>feature_3</th><td>-0.008</td><td> 0.016</td><td>-0.027</td><td> 1.000</td><td>-0.084</td><td> 0.003</td><td> 0.000</td><td> 0.000</td><td> 0.005</td><td> 0.004</td><td>-0.012</td><td> 0.006</td><td>-0.003</td><td>-0.022</td><td> 0.008</td><td> 0.009</td><td> 0.390</td></tr>\n",
       "\t<tr><th scope=row>feature_4</th><td> 0.003</td><td>-0.016</td><td> 0.167</td><td>-0.084</td><td> 1.000</td><td>-0.092</td><td>-0.047</td><td> 0.007</td><td>-0.006</td><td> 0.010</td><td> 0.020</td><td>-0.021</td><td> 0.000</td><td> 0.028</td><td>-0.110</td><td> 0.106</td><td>-0.076</td></tr>\n",
       "\t<tr><th scope=row>feature_5</th><td>-0.023</td><td> 0.007</td><td>-0.092</td><td> 0.003</td><td>-0.092</td><td> 1.000</td><td> 0.547</td><td>-0.018</td><td> 0.018</td><td> 0.003</td><td>-0.035</td><td> 0.122</td><td>-0.024</td><td>-0.244</td><td> 0.032</td><td>-0.855</td><td> 0.111</td></tr>\n",
       "\t<tr><th scope=row>feature_6</th><td>-0.001</td><td> 0.026</td><td>-0.052</td><td> 0.000</td><td>-0.047</td><td> 0.547</td><td> 1.000</td><td> 0.005</td><td> 0.022</td><td> 0.021</td><td>-0.022</td><td> 0.035</td><td>-0.013</td><td>-0.180</td><td> 0.028</td><td>-0.596</td><td> 0.119</td></tr>\n",
       "\t<tr><th scope=row>feature_7</th><td>-0.026</td><td> 0.020</td><td> 0.019</td><td> 0.000</td><td> 0.007</td><td>-0.018</td><td> 0.005</td><td> 1.000</td><td> 0.063</td><td> 0.166</td><td>-0.007</td><td>-0.128</td><td>-0.035</td><td>-0.083</td><td>-0.090</td><td> 0.008</td><td> 0.037</td></tr>\n",
       "\t<tr><th scope=row>feature_8</th><td>-0.405</td><td>-0.005</td><td>-0.008</td><td> 0.005</td><td>-0.006</td><td> 0.018</td><td> 0.022</td><td> 0.063</td><td> 1.000</td><td> 0.111</td><td>-0.005</td><td>-0.019</td><td>-0.051</td><td>-0.036</td><td>-0.004</td><td>-0.015</td><td> 0.043</td></tr>\n",
       "\t<tr><th scope=row>feature_9</th><td>-0.107</td><td> 0.062</td><td> 0.023</td><td> 0.004</td><td> 0.010</td><td> 0.003</td><td> 0.021</td><td> 0.166</td><td> 0.111</td><td> 1.000</td><td>-0.012</td><td>-0.092</td><td>-0.046</td><td>-0.113</td><td>-0.059</td><td>-0.023</td><td> 0.069</td></tr>\n",
       "\t<tr><th scope=row>feature_10</th><td>-0.018</td><td>-0.068</td><td> 0.011</td><td>-0.012</td><td> 0.020</td><td>-0.035</td><td>-0.022</td><td>-0.007</td><td>-0.005</td><td>-0.012</td><td> 1.000</td><td>-0.008</td><td> 0.079</td><td> 0.019</td><td> 0.010</td><td> 0.038</td><td>-0.024</td></tr>\n",
       "\t<tr><th scope=row>feature_11</th><td>-0.182</td><td>-0.075</td><td>-0.028</td><td> 0.006</td><td>-0.021</td><td> 0.122</td><td> 0.035</td><td>-0.128</td><td>-0.019</td><td>-0.092</td><td>-0.008</td><td> 1.000</td><td> 0.046</td><td> 0.190</td><td> 0.269</td><td>-0.100</td><td>-0.136</td></tr>\n",
       "\t<tr><th scope=row>feature_12</th><td>-0.014</td><td>-0.086</td><td> 0.009</td><td>-0.003</td><td> 0.000</td><td>-0.024</td><td>-0.013</td><td>-0.035</td><td>-0.051</td><td>-0.046</td><td> 0.079</td><td> 0.046</td><td> 1.000</td><td>-0.014</td><td> 0.029</td><td> 0.017</td><td>-0.065</td></tr>\n",
       "\t<tr><th scope=row>feature_13</th><td> 0.029</td><td>-0.030</td><td>-0.030</td><td>-0.022</td><td> 0.028</td><td>-0.244</td><td>-0.180</td><td>-0.083</td><td>-0.036</td><td>-0.113</td><td> 0.019</td><td> 0.190</td><td>-0.014</td><td> 1.000</td><td> 0.360</td><td> 0.271</td><td>-0.148</td></tr>\n",
       "\t<tr><th scope=row>feature_14</th><td>-0.041</td><td> 0.011</td><td>-0.003</td><td> 0.008</td><td>-0.110</td><td> 0.032</td><td> 0.028</td><td>-0.090</td><td>-0.004</td><td>-0.059</td><td> 0.010</td><td> 0.269</td><td> 0.029</td><td> 0.360</td><td> 1.000</td><td>-0.035</td><td>-0.025</td></tr>\n",
       "\t<tr><th scope=row>feature_15</th><td> 0.007</td><td>-0.025</td><td> 0.080</td><td> 0.009</td><td> 0.106</td><td>-0.855</td><td>-0.596</td><td> 0.008</td><td>-0.015</td><td>-0.023</td><td> 0.038</td><td>-0.100</td><td> 0.017</td><td> 0.271</td><td>-0.035</td><td> 1.000</td><td>-0.081</td></tr>\n",
       "\t<tr><th scope=row>labels</th><td> 0.016</td><td> 0.051</td><td>-0.030</td><td> 0.390</td><td>-0.076</td><td> 0.111</td><td> 0.119</td><td> 0.037</td><td> 0.043</td><td> 0.069</td><td>-0.024</td><td>-0.136</td><td>-0.065</td><td>-0.148</td><td>-0.025</td><td>-0.081</td><td> 1.000</td></tr>\n",
       "</tbody>\n",
       "</table>\n"
      ],
      "text/latex": [
       "A matrix: 17 × 17 of type dbl\n",
       "\\begin{tabular}{r|lllllllllllllllll}\n",
       "  & feature\\_0 & feature\\_1 & feature\\_2 & feature\\_3 & feature\\_4 & feature\\_5 & feature\\_6 & feature\\_7 & feature\\_8 & feature\\_9 & feature\\_10 & feature\\_11 & feature\\_12 & feature\\_13 & feature\\_14 & feature\\_15 & labels\\\\\n",
       "\\hline\n",
       "\tfeature\\_0 &  1.000 &  0.105 & -0.006 & -0.008 &  0.003 & -0.023 & -0.001 & -0.026 & -0.405 & -0.107 & -0.018 & -0.182 & -0.014 &  0.029 & -0.041 &  0.007 &  0.016\\\\\n",
       "\tfeature\\_1 &  0.105 &  1.000 &  0.005 &  0.016 & -0.016 &  0.007 &  0.026 &  0.020 & -0.005 &  0.062 & -0.068 & -0.075 & -0.086 & -0.030 &  0.011 & -0.025 &  0.051\\\\\n",
       "\tfeature\\_2 & -0.006 &  0.005 &  1.000 & -0.027 &  0.167 & -0.092 & -0.052 &  0.019 & -0.008 &  0.023 &  0.011 & -0.028 &  0.009 & -0.030 & -0.003 &  0.080 & -0.030\\\\\n",
       "\tfeature\\_3 & -0.008 &  0.016 & -0.027 &  1.000 & -0.084 &  0.003 &  0.000 &  0.000 &  0.005 &  0.004 & -0.012 &  0.006 & -0.003 & -0.022 &  0.008 &  0.009 &  0.390\\\\\n",
       "\tfeature\\_4 &  0.003 & -0.016 &  0.167 & -0.084 &  1.000 & -0.092 & -0.047 &  0.007 & -0.006 &  0.010 &  0.020 & -0.021 &  0.000 &  0.028 & -0.110 &  0.106 & -0.076\\\\\n",
       "\tfeature\\_5 & -0.023 &  0.007 & -0.092 &  0.003 & -0.092 &  1.000 &  0.547 & -0.018 &  0.018 &  0.003 & -0.035 &  0.122 & -0.024 & -0.244 &  0.032 & -0.855 &  0.111\\\\\n",
       "\tfeature\\_6 & -0.001 &  0.026 & -0.052 &  0.000 & -0.047 &  0.547 &  1.000 &  0.005 &  0.022 &  0.021 & -0.022 &  0.035 & -0.013 & -0.180 &  0.028 & -0.596 &  0.119\\\\\n",
       "\tfeature\\_7 & -0.026 &  0.020 &  0.019 &  0.000 &  0.007 & -0.018 &  0.005 &  1.000 &  0.063 &  0.166 & -0.007 & -0.128 & -0.035 & -0.083 & -0.090 &  0.008 &  0.037\\\\\n",
       "\tfeature\\_8 & -0.405 & -0.005 & -0.008 &  0.005 & -0.006 &  0.018 &  0.022 &  0.063 &  1.000 &  0.111 & -0.005 & -0.019 & -0.051 & -0.036 & -0.004 & -0.015 &  0.043\\\\\n",
       "\tfeature\\_9 & -0.107 &  0.062 &  0.023 &  0.004 &  0.010 &  0.003 &  0.021 &  0.166 &  0.111 &  1.000 & -0.012 & -0.092 & -0.046 & -0.113 & -0.059 & -0.023 &  0.069\\\\\n",
       "\tfeature\\_10 & -0.018 & -0.068 &  0.011 & -0.012 &  0.020 & -0.035 & -0.022 & -0.007 & -0.005 & -0.012 &  1.000 & -0.008 &  0.079 &  0.019 &  0.010 &  0.038 & -0.024\\\\\n",
       "\tfeature\\_11 & -0.182 & -0.075 & -0.028 &  0.006 & -0.021 &  0.122 &  0.035 & -0.128 & -0.019 & -0.092 & -0.008 &  1.000 &  0.046 &  0.190 &  0.269 & -0.100 & -0.136\\\\\n",
       "\tfeature\\_12 & -0.014 & -0.086 &  0.009 & -0.003 &  0.000 & -0.024 & -0.013 & -0.035 & -0.051 & -0.046 &  0.079 &  0.046 &  1.000 & -0.014 &  0.029 &  0.017 & -0.065\\\\\n",
       "\tfeature\\_13 &  0.029 & -0.030 & -0.030 & -0.022 &  0.028 & -0.244 & -0.180 & -0.083 & -0.036 & -0.113 &  0.019 &  0.190 & -0.014 &  1.000 &  0.360 &  0.271 & -0.148\\\\\n",
       "\tfeature\\_14 & -0.041 &  0.011 & -0.003 &  0.008 & -0.110 &  0.032 &  0.028 & -0.090 & -0.004 & -0.059 &  0.010 &  0.269 &  0.029 &  0.360 &  1.000 & -0.035 & -0.025\\\\\n",
       "\tfeature\\_15 &  0.007 & -0.025 &  0.080 &  0.009 &  0.106 & -0.855 & -0.596 &  0.008 & -0.015 & -0.023 &  0.038 & -0.100 &  0.017 &  0.271 & -0.035 &  1.000 & -0.081\\\\\n",
       "\tlabels &  0.016 &  0.051 & -0.030 &  0.390 & -0.076 &  0.111 &  0.119 &  0.037 &  0.043 &  0.069 & -0.024 & -0.136 & -0.065 & -0.148 & -0.025 & -0.081 &  1.000\\\\\n",
       "\\end{tabular}\n"
      ],
      "text/markdown": [
       "\n",
       "A matrix: 17 × 17 of type dbl\n",
       "\n",
       "| <!--/--> | feature_0 | feature_1 | feature_2 | feature_3 | feature_4 | feature_5 | feature_6 | feature_7 | feature_8 | feature_9 | feature_10 | feature_11 | feature_12 | feature_13 | feature_14 | feature_15 | labels |\n",
       "|---|---|---|---|---|---|---|---|---|---|---|---|---|---|---|---|---|---|\n",
       "| feature_0 |  1.000 |  0.105 | -0.006 | -0.008 |  0.003 | -0.023 | -0.001 | -0.026 | -0.405 | -0.107 | -0.018 | -0.182 | -0.014 |  0.029 | -0.041 |  0.007 |  0.016 |\n",
       "| feature_1 |  0.105 |  1.000 |  0.005 |  0.016 | -0.016 |  0.007 |  0.026 |  0.020 | -0.005 |  0.062 | -0.068 | -0.075 | -0.086 | -0.030 |  0.011 | -0.025 |  0.051 |\n",
       "| feature_2 | -0.006 |  0.005 |  1.000 | -0.027 |  0.167 | -0.092 | -0.052 |  0.019 | -0.008 |  0.023 |  0.011 | -0.028 |  0.009 | -0.030 | -0.003 |  0.080 | -0.030 |\n",
       "| feature_3 | -0.008 |  0.016 | -0.027 |  1.000 | -0.084 |  0.003 |  0.000 |  0.000 |  0.005 |  0.004 | -0.012 |  0.006 | -0.003 | -0.022 |  0.008 |  0.009 |  0.390 |\n",
       "| feature_4 |  0.003 | -0.016 |  0.167 | -0.084 |  1.000 | -0.092 | -0.047 |  0.007 | -0.006 |  0.010 |  0.020 | -0.021 |  0.000 |  0.028 | -0.110 |  0.106 | -0.076 |\n",
       "| feature_5 | -0.023 |  0.007 | -0.092 |  0.003 | -0.092 |  1.000 |  0.547 | -0.018 |  0.018 |  0.003 | -0.035 |  0.122 | -0.024 | -0.244 |  0.032 | -0.855 |  0.111 |\n",
       "| feature_6 | -0.001 |  0.026 | -0.052 |  0.000 | -0.047 |  0.547 |  1.000 |  0.005 |  0.022 |  0.021 | -0.022 |  0.035 | -0.013 | -0.180 |  0.028 | -0.596 |  0.119 |\n",
       "| feature_7 | -0.026 |  0.020 |  0.019 |  0.000 |  0.007 | -0.018 |  0.005 |  1.000 |  0.063 |  0.166 | -0.007 | -0.128 | -0.035 | -0.083 | -0.090 |  0.008 |  0.037 |\n",
       "| feature_8 | -0.405 | -0.005 | -0.008 |  0.005 | -0.006 |  0.018 |  0.022 |  0.063 |  1.000 |  0.111 | -0.005 | -0.019 | -0.051 | -0.036 | -0.004 | -0.015 |  0.043 |\n",
       "| feature_9 | -0.107 |  0.062 |  0.023 |  0.004 |  0.010 |  0.003 |  0.021 |  0.166 |  0.111 |  1.000 | -0.012 | -0.092 | -0.046 | -0.113 | -0.059 | -0.023 |  0.069 |\n",
       "| feature_10 | -0.018 | -0.068 |  0.011 | -0.012 |  0.020 | -0.035 | -0.022 | -0.007 | -0.005 | -0.012 |  1.000 | -0.008 |  0.079 |  0.019 |  0.010 |  0.038 | -0.024 |\n",
       "| feature_11 | -0.182 | -0.075 | -0.028 |  0.006 | -0.021 |  0.122 |  0.035 | -0.128 | -0.019 | -0.092 | -0.008 |  1.000 |  0.046 |  0.190 |  0.269 | -0.100 | -0.136 |\n",
       "| feature_12 | -0.014 | -0.086 |  0.009 | -0.003 |  0.000 | -0.024 | -0.013 | -0.035 | -0.051 | -0.046 |  0.079 |  0.046 |  1.000 | -0.014 |  0.029 |  0.017 | -0.065 |\n",
       "| feature_13 |  0.029 | -0.030 | -0.030 | -0.022 |  0.028 | -0.244 | -0.180 | -0.083 | -0.036 | -0.113 |  0.019 |  0.190 | -0.014 |  1.000 |  0.360 |  0.271 | -0.148 |\n",
       "| feature_14 | -0.041 |  0.011 | -0.003 |  0.008 | -0.110 |  0.032 |  0.028 | -0.090 | -0.004 | -0.059 |  0.010 |  0.269 |  0.029 |  0.360 |  1.000 | -0.035 | -0.025 |\n",
       "| feature_15 |  0.007 | -0.025 |  0.080 |  0.009 |  0.106 | -0.855 | -0.596 |  0.008 | -0.015 | -0.023 |  0.038 | -0.100 |  0.017 |  0.271 | -0.035 |  1.000 | -0.081 |\n",
       "| labels |  0.016 |  0.051 | -0.030 |  0.390 | -0.076 |  0.111 |  0.119 |  0.037 |  0.043 |  0.069 | -0.024 | -0.136 | -0.065 | -0.148 | -0.025 | -0.081 |  1.000 |\n",
       "\n"
      ],
      "text/plain": [
       "           feature_0 feature_1 feature_2 feature_3 feature_4 feature_5\n",
       "feature_0   1.000     0.105    -0.006    -0.008     0.003    -0.023   \n",
       "feature_1   0.105     1.000     0.005     0.016    -0.016     0.007   \n",
       "feature_2  -0.006     0.005     1.000    -0.027     0.167    -0.092   \n",
       "feature_3  -0.008     0.016    -0.027     1.000    -0.084     0.003   \n",
       "feature_4   0.003    -0.016     0.167    -0.084     1.000    -0.092   \n",
       "feature_5  -0.023     0.007    -0.092     0.003    -0.092     1.000   \n",
       "feature_6  -0.001     0.026    -0.052     0.000    -0.047     0.547   \n",
       "feature_7  -0.026     0.020     0.019     0.000     0.007    -0.018   \n",
       "feature_8  -0.405    -0.005    -0.008     0.005    -0.006     0.018   \n",
       "feature_9  -0.107     0.062     0.023     0.004     0.010     0.003   \n",
       "feature_10 -0.018    -0.068     0.011    -0.012     0.020    -0.035   \n",
       "feature_11 -0.182    -0.075    -0.028     0.006    -0.021     0.122   \n",
       "feature_12 -0.014    -0.086     0.009    -0.003     0.000    -0.024   \n",
       "feature_13  0.029    -0.030    -0.030    -0.022     0.028    -0.244   \n",
       "feature_14 -0.041     0.011    -0.003     0.008    -0.110     0.032   \n",
       "feature_15  0.007    -0.025     0.080     0.009     0.106    -0.855   \n",
       "labels      0.016     0.051    -0.030     0.390    -0.076     0.111   \n",
       "           feature_6 feature_7 feature_8 feature_9 feature_10 feature_11\n",
       "feature_0  -0.001    -0.026    -0.405    -0.107    -0.018     -0.182    \n",
       "feature_1   0.026     0.020    -0.005     0.062    -0.068     -0.075    \n",
       "feature_2  -0.052     0.019    -0.008     0.023     0.011     -0.028    \n",
       "feature_3   0.000     0.000     0.005     0.004    -0.012      0.006    \n",
       "feature_4  -0.047     0.007    -0.006     0.010     0.020     -0.021    \n",
       "feature_5   0.547    -0.018     0.018     0.003    -0.035      0.122    \n",
       "feature_6   1.000     0.005     0.022     0.021    -0.022      0.035    \n",
       "feature_7   0.005     1.000     0.063     0.166    -0.007     -0.128    \n",
       "feature_8   0.022     0.063     1.000     0.111    -0.005     -0.019    \n",
       "feature_9   0.021     0.166     0.111     1.000    -0.012     -0.092    \n",
       "feature_10 -0.022    -0.007    -0.005    -0.012     1.000     -0.008    \n",
       "feature_11  0.035    -0.128    -0.019    -0.092    -0.008      1.000    \n",
       "feature_12 -0.013    -0.035    -0.051    -0.046     0.079      0.046    \n",
       "feature_13 -0.180    -0.083    -0.036    -0.113     0.019      0.190    \n",
       "feature_14  0.028    -0.090    -0.004    -0.059     0.010      0.269    \n",
       "feature_15 -0.596     0.008    -0.015    -0.023     0.038     -0.100    \n",
       "labels      0.119     0.037     0.043     0.069    -0.024     -0.136    \n",
       "           feature_12 feature_13 feature_14 feature_15 labels\n",
       "feature_0  -0.014      0.029     -0.041      0.007      0.016\n",
       "feature_1  -0.086     -0.030      0.011     -0.025      0.051\n",
       "feature_2   0.009     -0.030     -0.003      0.080     -0.030\n",
       "feature_3  -0.003     -0.022      0.008      0.009      0.390\n",
       "feature_4   0.000      0.028     -0.110      0.106     -0.076\n",
       "feature_5  -0.024     -0.244      0.032     -0.855      0.111\n",
       "feature_6  -0.013     -0.180      0.028     -0.596      0.119\n",
       "feature_7  -0.035     -0.083     -0.090      0.008      0.037\n",
       "feature_8  -0.051     -0.036     -0.004     -0.015      0.043\n",
       "feature_9  -0.046     -0.113     -0.059     -0.023      0.069\n",
       "feature_10  0.079      0.019      0.010      0.038     -0.024\n",
       "feature_11  0.046      0.190      0.269     -0.100     -0.136\n",
       "feature_12  1.000     -0.014      0.029      0.017     -0.065\n",
       "feature_13 -0.014      1.000      0.360      0.271     -0.148\n",
       "feature_14  0.029      0.360      1.000     -0.035     -0.025\n",
       "feature_15  0.017      0.271     -0.035      1.000     -0.081\n",
       "labels     -0.065     -0.148     -0.025     -0.081      1.000"
      ]
     },
     "metadata": {},
     "output_type": "display_data"
    }
   ],
   "source": [
    "round(cor(train),3)"
   ]
  },
  {
   "cell_type": "markdown",
   "metadata": {},
   "source": [
    "Correlation measurements are for the most part relatively low, the top 5 include:\n",
    "1. -0.855 between features 5 & 15\n",
    "2. -0.596\tbetween features 15 & 6\n",
    "3. 0.547\tbetween features  5 & 6\n",
    "4. -0.405\tbetween features 8 and 0\n",
    "5. 0.390\tbetween the labels and 3\n",
    "\n",
    "Remember this only measures the linear relationship between two variables. Visualising with all with a scatter plot could bring other non linear relationship patterns to the surface. These are a bit crowded with so many features though, so we will focus on the top 5 we've highlighted for now."
   ]
  },
  {
   "cell_type": "code",
   "execution_count": 15,
   "metadata": {},
   "outputs": [
    {
     "data": {
      "image/png": "[encoded data removed]",
      "text/plain": [
       "Plot with title \"Features 5 & 16\""
      ]
     },
     "metadata": {
      "image/png": {
       "height": 840,
       "width": 840
      }
     },
     "output_type": "display_data"
    }
   ],
   "source": [
    "par(mfrow = c(2,3))\n",
    "plot(train$feature_0, train$feature_8, main = \"Features 0 & 8\", sub = \"Cor = -0.405\")\n",
    "plot(train$feature_3, train$labels, main = \"Feature 0 & labels\", sub = \"Cor = -0.390\")\n",
    "plot(train$feature_5, train$feature_6, main = \"Features 5 & 6\", sub = \"Cor = 0.547\")\n",
    "plot(train$feature_5, train$feature_15, main = \"Features 5 & 15\", sub = \"Cor = -0.855\")\n",
    "plot(train$feature_6, train$feature_15, main = \"Features 5 & 16\", sub = \"Cor = -0.596\")"
   ]
  },
  {
   "cell_type": "markdown",
   "metadata": {},
   "source": [
    "We can't really comment on whether we expected these correlations, we just know they're the most significant linear relationships we have found."
   ]
  },
  {
   "cell_type": "code",
   "execution_count": 16,
   "metadata": {},
   "outputs": [
    {
     "data": {
      "image/png": "[encoded data removed]",
      "text/plain": [
       "Plot with title \"feature_15\""
      ]
     },
     "metadata": {
      "image/png": {
       "height": 840,
       "width": 840
      }
     },
     "output_type": "display_data"
    }
   ],
   "source": [
    "par(mfrow = c(4,4))\n",
    "for (i in 1:(length(train) - 1)) {\n",
    "        hist(train[,i], main = names(train[i]),)\n",
    "}"
   ]
  },
  {
   "cell_type": "markdown",
   "metadata": {},
   "source": [
    "Feature 0 is skewed to the left while  it appears that 1,3,4,6 are all exponential (although increasing the bins might yet reveal they are all very highly skewed instead. Feature 5 looks interesting, it could be skewed, exponential or something else entirely. Meanwhile feature 2 is fairly uniformly distributed (possibly 7 and 11 too). Many of the integer features (7 and above) show a clear imbalance where one class is prefenced (particularly 10, 12 and 15). Features 8 and 9 could be somewhat normally distributed (bins resolution does not clearly show skew). It's hard to determine what information 7 & 14 have to give from this."
   ]
  },
  {
   "cell_type": "markdown",
   "metadata": {},
   "source": [
    "Analysing labels seperately to find differences:"
   ]
  },
  {
   "cell_type": "code",
   "execution_count": 17,
   "metadata": {},
   "outputs": [],
   "source": [
    "colorRange <- c('#69091e', '#e37f65', 'white', '#aed2e6', '#042f60')\n",
    "## colorRamp() returns a function which takes as an argument a number\n",
    "## on [0,1] and returns a color in the gradient in colorRange\n",
    "myColorRampFunc <- colorRamp(colorRange)\n",
    "\n",
    "panel.cor <- function(w, z, ...) {\n",
    "    correlation <- cor(w, z)\n",
    "\n",
    "    ## because the func needs [0,1] and cor gives [-1,1], we need to shift and scale it\n",
    "    col <- rgb(myColorRampFunc((1 + correlation) / 2 ) / 255 )\n",
    "\n",
    "    ## square it to avoid visual bias due to \"area vs diameter\"\n",
    "    radius <- sqrt(abs(correlation))\n",
    "    radians <- seq(0, 2*pi, len = 50) # 50 is arbitrary\n",
    "    x <- radius * cos(radians)\n",
    "    y <- radius * sin(radians)\n",
    "    ## make them full loops\n",
    "    x <- c(x, tail(x,n=1))\n",
    "    y <- c(y, tail(y,n=1))\n",
    "\n",
    "    ## trick: \"don't create a new plot\" thing by following the\n",
    "    ## advice here: http://www.r-bloggers.com/multiple-y-axis-in-a-r-plot/\n",
    "    ## This allows\n",
    "    par(new=TRUE)\n",
    "    plot(0, type='n', xlim=c(-1,1), ylim=c(-1,1), axes=FALSE, asp=1)\n",
    "    polygon(x, y, border=col, col=col)\n",
    "}"
   ]
  },
  {
   "cell_type": "code",
   "execution_count": 18,
   "metadata": {},
   "outputs": [],
   "source": [
    "#increase scale size of jupyter plots for some very detailed ones momentarily.\n",
    "options(jupyter.plot_scale=1.5) "
   ]
  },
  {
   "cell_type": "code",
   "execution_count": 19,
   "metadata": {},
   "outputs": [
    {
     "data": {
      "image/png": "[encoded data removed]",
      "text/plain": [
       "plot without title"
      ]
     },
     "metadata": {
      "image/png": {
       "height": 560,
       "width": 560
      }
     },
     "output_type": "display_data"
    }
   ],
   "source": [
    "pairs(train[train$labels==1,-17], upper.panel = panel.cor, main = \"Label = 1\") # just red"
   ]
  },
  {
   "cell_type": "code",
   "execution_count": 20,
   "metadata": {},
   "outputs": [
    {
     "data": {
      "image/png": "[encoded data removed]",
      "text/plain": [
       "plot without title"
      ]
     },
     "metadata": {
      "image/png": {
       "height": 560,
       "width": 560
      }
     },
     "output_type": "display_data"
    }
   ],
   "source": [
    "pairs(train[train$labels==0,-17], upper.panel = panel.cor, main = \"Label = 0\") # just red"
   ]
  },
  {
   "cell_type": "markdown",
   "metadata": {},
   "source": [
    "There appears to be no major differences in correlation between any features and the two label values. This indicates that regression may not perform well with this data."
   ]
  },
  {
   "cell_type": "code",
   "execution_count": null,
   "metadata": {},
   "outputs": [],
   "source": []
  },
  {
   "cell_type": "code",
   "execution_count": null,
   "metadata": {},
   "outputs": [],
   "source": []
  },
  {
   "cell_type": "code",
   "execution_count": null,
   "metadata": {},
   "outputs": [],
   "source": []
  },
  {
   "cell_type": "code",
   "execution_count": null,
   "metadata": {},
   "outputs": [],
   "source": []
  },
  {
   "cell_type": "markdown",
   "metadata": {},
   "source": [
    "Explore distribution of variables for each seperate label side by side."
   ]
  },
  {
   "cell_type": "code",
   "execution_count": null,
   "metadata": {},
   "outputs": [],
   "source": [
    "# What to do with this information??\n",
    "ggplot(aes(x=feature_0),data =train) + \n",
    "    geom_density(aes(fill = labels)) +\n",
    "    facet_wrap(~feature_11) +\n",
    "    ggtitle('title')"
   ]
  },
  {
   "cell_type": "code",
   "execution_count": null,
   "metadata": {},
   "outputs": [],
   "source": [
    "ggplot(aes(x = feature_6),data = train) + \n",
    "    geom_density(aes(fill = labels)) +\n",
    "    facet_wrap(~feature_13) +\n",
    "    ggtitle('pH values  relationship with Quality')"
   ]
  },
  {
   "cell_type": "markdown",
   "metadata": {},
   "source": [
    "### Model selection and justification\n",
    "Clearly explained how the models were developed with sufficient supporting information derived from exploratory data analysis and proper statistical diagnostics.\n",
    "\n",
    "The exploratory analysis and diagnostics logically lead to the development of the models (including attribute/feature selection)."
   ]
  },
  {
   "cell_type": "markdown",
   "metadata": {},
   "source": [
    "# Modelling"
   ]
  },
  {
   "cell_type": "code",
   "execution_count": null,
   "metadata": {},
   "outputs": [],
   "source": []
  },
  {
   "cell_type": "markdown",
   "metadata": {},
   "source": [
    "### Model quality comparison\n",
    "Critically assess the accuracy of the models with in-depth statistical analysis. \n",
    "\n",
    "The comparison is logical and solid with an appropriate level of details. \n",
    "\n",
    "Demonstrates a high-level of understanding of the differences (i.e., advantages and disadvantages) between the models in regard to the task."
   ]
  },
  {
   "cell_type": "markdown",
   "metadata": {},
   "source": [
    "# Summary\n",
    "Explanation of why the chosen subset of attributes have a significant impact on the prediction of the response variable.\n",
    "- The subset of attributes leading to the prediction are identified and clearly justified with in-depth statistical analysis.\n",
    "- The description and accompanying interpretation are comprehensible and convincing, in line with the findings from the model development.\n",
    "\n",
    "The quality of the Jupiter notebook/ the R Markdown file, quality and readability of the R implementation.\n",
    "- The Jupyter  Notebook is well structured in a logical order that clearly supports the development of the answers.\n",
    "- The R code is logically structured and easy to read.\n",
    "- Concise but precise code comments clearly explain how the code is intended to work.\n",
    "- The redundant or unnecessary code is excluded from the final submission.\n"
   ]
  },
  {
   "cell_type": "code",
   "execution_count": null,
   "metadata": {},
   "outputs": [],
   "source": []
  },
  {
   "cell_type": "markdown",
   "metadata": {},
   "source": [
    "# Questions:\n",
    "- Should test and train be merged during EDA - so we get the fullest picture of the data?\n",
    "- The Week 2 tutorial explores the relationship between many variables with one another. Are we interested in just the relationships that we wish to predict? Why would we explore other relationships aside from just looking for duplicated information?\n",
    "\n",
    "\n",
    "# Concerns to follow up before modelling\n",
    "- Resample data to even out label class\n",
    "- Are categoric data ordinal? Should they be one hot encoded? Specifically look at 7, 8, 9, 13, 14, 15.\n",
    "- Feature scaling might be needed for some models\n",
    "- "
   ]
  }
 ],
 "metadata": {
  "kernelspec": {
   "display_name": "R",
   "language": "R",
   "name": "ir"
  },
  "language_info": {
   "codemirror_mode": "r",
   "file_extension": ".r",
   "mimetype": "text/x-r-source",
   "name": "R",
   "pygments_lexer": "r",
   "version": "3.6.2"
  }
 },
 "nbformat": 4,
 "nbformat_minor": 2
}
