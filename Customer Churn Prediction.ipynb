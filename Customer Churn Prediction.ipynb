{
 "cells": [
  {
   "cell_type": "markdown",
   "metadata": {},
   "source": [
    "# CUSTOMER CHURN PREDICTION"
   ]
  },
  {
   "cell_type": "markdown",
   "metadata": {},
   "source": [
    "# 1.  Introduction  <a class=\"anchor\" name=\"Intro\">\n",
    "    \n",
    "Customer churn is the measure used to quantify the number of customers that cancel a companies product or service over time, it is key to understanding customer retention. It is an important metric when it comes to company growth forecasting, managing customer dissatisfaction and cost saving, as it can be costly to acquire new customers."
   ]
  },
  {
   "cell_type": "markdown",
   "metadata": {},
   "source": [
    "## 1.1 Table of Contents\n",
    "\n",
    "[1. Introduction](#Intro) <br>\n",
    "[2. EDA](#task1) <br>\n",
    "$\\;\\;\\;\\;$[2.1. Univariate analysis](#UnivariateAnalysis) <br>\n",
    "$\\;\\;\\;\\;$[2.1. Summary of Univariate analysis](#SumUnivariate) <br>\n",
    "$\\;\\;\\;\\;$[2.2. Bivariate analysis](#BivariateAnalysis) <br>\n",
    "$\\;\\;\\;\\;$[2.2. Summary of Bivariate analysis](#SumBivariate) <br>\n",
    "$\\;\\;\\;\\;$[2.2. Multivariate analysis](#MultivariateAnalysis) <br>\n",
    "$\\;\\;\\;\\;$[2.2. Summary of Multivariate analysis](#SumMultivariate) <br>\n",
    "$\\;\\;\\;\\;$[2.3. More](#More) <br>\n",
    "$\\;\\;\\;\\;$[2.4. Summary](#Summary) <br>\n",
    "[3. Model Development](#MD) <br>\n",
    "$\\;\\;\\;\\;$[3.1 Model 1 - GLM](#DevGLM) <br>\n",
    "$\\;\\;\\;\\;$[3.2 Model - LDA](#DevLDA) <br>\n",
    "[4. Model Scoring on Test Data](#MScore) <br>\n",
    "[5. Model Interpretation and Inference](#MInterp) <br>\n",
    "[6. Variable Importance](#VarImp) <br>\n",
    "[7. Marketing Suggestions](#MarktSugst) <br>\n",
    "[8. Conclusion](#Conclusion) <br>\n",
    "[9. References](#Ref) <br>"
   ]
  },
  {
   "cell_type": "markdown",
   "metadata": {},
   "source": [
    "# 2.  Problem Statement  <a class=\"anchor\" name=\"Problem\">\n",
    "\n",
    "Two datasets are provided to explore, develop, train and test models. There are sixteen anonymized features in the provided dataset and one response variable (named 'labels') which indicates churn (1) or no churn (0) for each observation. The aim is to build a statistical model which will accurately predict when an insurance company is about to lose their customer.\n",
    "\n",
    "Data Source: https://www.kaggle.com/mukulsingh/insurance-churn-prediction"
   ]
  },
  {
   "cell_type": "code",
   "execution_count": 69,
   "metadata": {},
   "outputs": [],
   "source": [
    "# Subpress warnings before loading lbraries\n",
    "options(warn=-1)\n",
    "\n",
    "#import necessary libraries\n",
    "library(psych)\n",
    "library(ggplot2)\n",
    "library(reshape2)\n",
    "library(OneR)\n",
    "library(RColorBrewer)\n",
    "library(corrplot)\n",
    "library(gridExtra)\n",
    "library(tree)\n",
    "library(rpart)\n",
    "library(iml)\n",
    "library(boot)\n",
    "library(MASS)\n",
    "library(glmnet)\n",
    "library(ROCR)\n",
    "library(caret)\n",
    "library(stats)\n",
    "library(vcd)\n",
    "library(car)"
   ]
  },
  {
   "cell_type": "markdown",
   "metadata": {},
   "source": [
    "Read in the test and train datasets."
   ]
  },
  {
   "cell_type": "code",
   "execution_count": 2,
   "metadata": {},
   "outputs": [],
   "source": [
    "# laod test dataset\n",
    "test <- read.csv(file = 'testSet.csv',stringsAsFactors = TRUE)\n",
    "\n",
    "# load train dataset\n",
    "train <-  read.csv(file = 'trainSet.csv',stringsAsFactors = TRUE)"
   ]
  },
  {
   "cell_type": "markdown",
   "metadata": {},
   "source": [
    "## 3. Exploratory Data Analysis (EDA)<a class=\"anchor\" name=\"task1\">"
   ]
  },
  {
   "cell_type": "markdown",
   "metadata": {},
   "source": [
    "#### Aim of Exploratory Data Analysis (EDA):\n",
    "\n",
    "1. Explore individual variables, their characteristics such as spread, variance, distribution etc.\n",
    "2. Identify important features which have a relationship with our label, and how they interact.\n",
    "3. Explore the qualities of the relationships to identify which models will give strongest results, and how we can transform the data to aid with learning.\n",
    "4. Identify features with no relationship and exclude them from our models, for improved efficiency and reduced over fitting.\n",
    "5. Identify features which strongly correlate with one another, to eliminate duplicate information. \n",
    "6. Build effective models which are supported by our exploration."
   ]
  },
  {
   "cell_type": "markdown",
   "metadata": {},
   "source": [
    "First look at the data"
   ]
  },
  {
   "cell_type": "code",
   "execution_count": 3,
   "metadata": {},
   "outputs": [
    {
     "data": {
      "text/html": [
       "<table class=\"dataframe\">\n",
       "<caption>A data.frame: 6 × 17</caption>\n",
       "<thead>\n",
       "\t<tr><th></th><th scope=col>feature_0</th><th scope=col>feature_1</th><th scope=col>feature_2</th><th scope=col>feature_3</th><th scope=col>feature_4</th><th scope=col>feature_5</th><th scope=col>feature_6</th><th scope=col>feature_7</th><th scope=col>feature_8</th><th scope=col>feature_9</th><th scope=col>feature_10</th><th scope=col>feature_11</th><th scope=col>feature_12</th><th scope=col>feature_13</th><th scope=col>feature_14</th><th scope=col>feature_15</th><th scope=col>labels</th></tr>\n",
       "\t<tr><th></th><th scope=col>&lt;dbl&gt;</th><th scope=col>&lt;dbl&gt;</th><th scope=col>&lt;dbl&gt;</th><th scope=col>&lt;dbl&gt;</th><th scope=col>&lt;dbl&gt;</th><th scope=col>&lt;dbl&gt;</th><th scope=col>&lt;dbl&gt;</th><th scope=col>&lt;int&gt;</th><th scope=col>&lt;int&gt;</th><th scope=col>&lt;int&gt;</th><th scope=col>&lt;int&gt;</th><th scope=col>&lt;int&gt;</th><th scope=col>&lt;int&gt;</th><th scope=col>&lt;int&gt;</th><th scope=col>&lt;int&gt;</th><th scope=col>&lt;int&gt;</th><th scope=col>&lt;int&gt;</th></tr>\n",
       "</thead>\n",
       "<tbody>\n",
       "\t<tr><th scope=row>1</th><td> 1.5127910</td><td>-0.2434605</td><td> 0.1434182</td><td> 2.01858846</td><td> 0.07622994</td><td>-0.4114531</td><td>-0.2519404</td><td>1</td><td>1</td><td>1</td><td>0</td><td>1</td><td>0</td><td>0</td><td>0</td><td>3</td><td>0</td></tr>\n",
       "\t<tr><th scope=row>2</th><td>-1.5007763</td><td>-0.2125875</td><td> 1.2248391</td><td>-0.15984112</td><td>-0.56935064</td><td>-0.4114531</td><td>-0.2519404</td><td>8</td><td>2</td><td>1</td><td>0</td><td>0</td><td>0</td><td>0</td><td>8</td><td>3</td><td>0</td></tr>\n",
       "\t<tr><th scope=row>3</th><td> 0.9477471</td><td> 0.5812426</td><td>-0.3372133</td><td> 0.77987360</td><td>-0.56935064</td><td>-0.4114531</td><td>-0.2519404</td><td>0</td><td>2</td><td>1</td><td>0</td><td>0</td><td>0</td><td>2</td><td>8</td><td>3</td><td>0</td></tr>\n",
       "\t<tr><th scope=row>4</th><td>-0.8415585</td><td>-0.2217837</td><td> 0.5038918</td><td>-0.37729577</td><td> 0.39902023</td><td>-0.4114531</td><td>-0.2519404</td><td>9</td><td>1</td><td>1</td><td>0</td><td>0</td><td>0</td><td>0</td><td>1</td><td>3</td><td>0</td></tr>\n",
       "\t<tr><th scope=row>5</th><td>-0.5590365</td><td>-0.5922597</td><td>-1.1783185</td><td>-0.41612696</td><td>-0.56935064</td><td>-0.4114531</td><td>-0.2519404</td><td>1</td><td>2</td><td>1</td><td>0</td><td>1</td><td>0</td><td>0</td><td>8</td><td>3</td><td>0</td></tr>\n",
       "\t<tr><th scope=row>6</th><td> 0.9477471</td><td>-0.4654833</td><td>-0.5775291</td><td> 0.08867847</td><td>-0.24656035</td><td> 2.2551433</td><td> 2.3528870</td><td>4</td><td>2</td><td>2</td><td>1</td><td>1</td><td>0</td><td>0</td><td>8</td><td>0</td><td>0</td></tr>\n",
       "</tbody>\n",
       "</table>\n"
      ],
      "text/latex": [
       "A data.frame: 6 × 17\n",
       "\\begin{tabular}{r|lllllllllllllllll}\n",
       "  & feature\\_0 & feature\\_1 & feature\\_2 & feature\\_3 & feature\\_4 & feature\\_5 & feature\\_6 & feature\\_7 & feature\\_8 & feature\\_9 & feature\\_10 & feature\\_11 & feature\\_12 & feature\\_13 & feature\\_14 & feature\\_15 & labels\\\\\n",
       "  & <dbl> & <dbl> & <dbl> & <dbl> & <dbl> & <dbl> & <dbl> & <int> & <int> & <int> & <int> & <int> & <int> & <int> & <int> & <int> & <int>\\\\\n",
       "\\hline\n",
       "\t1 &  1.5127910 & -0.2434605 &  0.1434182 &  2.01858846 &  0.07622994 & -0.4114531 & -0.2519404 & 1 & 1 & 1 & 0 & 1 & 0 & 0 & 0 & 3 & 0\\\\\n",
       "\t2 & -1.5007763 & -0.2125875 &  1.2248391 & -0.15984112 & -0.56935064 & -0.4114531 & -0.2519404 & 8 & 2 & 1 & 0 & 0 & 0 & 0 & 8 & 3 & 0\\\\\n",
       "\t3 &  0.9477471 &  0.5812426 & -0.3372133 &  0.77987360 & -0.56935064 & -0.4114531 & -0.2519404 & 0 & 2 & 1 & 0 & 0 & 0 & 2 & 8 & 3 & 0\\\\\n",
       "\t4 & -0.8415585 & -0.2217837 &  0.5038918 & -0.37729577 &  0.39902023 & -0.4114531 & -0.2519404 & 9 & 1 & 1 & 0 & 0 & 0 & 0 & 1 & 3 & 0\\\\\n",
       "\t5 & -0.5590365 & -0.5922597 & -1.1783185 & -0.41612696 & -0.56935064 & -0.4114531 & -0.2519404 & 1 & 2 & 1 & 0 & 1 & 0 & 0 & 8 & 3 & 0\\\\\n",
       "\t6 &  0.9477471 & -0.4654833 & -0.5775291 &  0.08867847 & -0.24656035 &  2.2551433 &  2.3528870 & 4 & 2 & 2 & 1 & 1 & 0 & 0 & 8 & 0 & 0\\\\\n",
       "\\end{tabular}\n"
      ],
      "text/markdown": [
       "\n",
       "A data.frame: 6 × 17\n",
       "\n",
       "| <!--/--> | feature_0 &lt;dbl&gt; | feature_1 &lt;dbl&gt; | feature_2 &lt;dbl&gt; | feature_3 &lt;dbl&gt; | feature_4 &lt;dbl&gt; | feature_5 &lt;dbl&gt; | feature_6 &lt;dbl&gt; | feature_7 &lt;int&gt; | feature_8 &lt;int&gt; | feature_9 &lt;int&gt; | feature_10 &lt;int&gt; | feature_11 &lt;int&gt; | feature_12 &lt;int&gt; | feature_13 &lt;int&gt; | feature_14 &lt;int&gt; | feature_15 &lt;int&gt; | labels &lt;int&gt; |\n",
       "|---|---|---|---|---|---|---|---|---|---|---|---|---|---|---|---|---|---|\n",
       "| 1 |  1.5127910 | -0.2434605 |  0.1434182 |  2.01858846 |  0.07622994 | -0.4114531 | -0.2519404 | 1 | 1 | 1 | 0 | 1 | 0 | 0 | 0 | 3 | 0 |\n",
       "| 2 | -1.5007763 | -0.2125875 |  1.2248391 | -0.15984112 | -0.56935064 | -0.4114531 | -0.2519404 | 8 | 2 | 1 | 0 | 0 | 0 | 0 | 8 | 3 | 0 |\n",
       "| 3 |  0.9477471 |  0.5812426 | -0.3372133 |  0.77987360 | -0.56935064 | -0.4114531 | -0.2519404 | 0 | 2 | 1 | 0 | 0 | 0 | 2 | 8 | 3 | 0 |\n",
       "| 4 | -0.8415585 | -0.2217837 |  0.5038918 | -0.37729577 |  0.39902023 | -0.4114531 | -0.2519404 | 9 | 1 | 1 | 0 | 0 | 0 | 0 | 1 | 3 | 0 |\n",
       "| 5 | -0.5590365 | -0.5922597 | -1.1783185 | -0.41612696 | -0.56935064 | -0.4114531 | -0.2519404 | 1 | 2 | 1 | 0 | 1 | 0 | 0 | 8 | 3 | 0 |\n",
       "| 6 |  0.9477471 | -0.4654833 | -0.5775291 |  0.08867847 | -0.24656035 |  2.2551433 |  2.3528870 | 4 | 2 | 2 | 1 | 1 | 0 | 0 | 8 | 0 | 0 |\n",
       "\n"
      ],
      "text/plain": [
       "  feature_0  feature_1  feature_2  feature_3   feature_4   feature_5 \n",
       "1  1.5127910 -0.2434605  0.1434182  2.01858846  0.07622994 -0.4114531\n",
       "2 -1.5007763 -0.2125875  1.2248391 -0.15984112 -0.56935064 -0.4114531\n",
       "3  0.9477471  0.5812426 -0.3372133  0.77987360 -0.56935064 -0.4114531\n",
       "4 -0.8415585 -0.2217837  0.5038918 -0.37729577  0.39902023 -0.4114531\n",
       "5 -0.5590365 -0.5922597 -1.1783185 -0.41612696 -0.56935064 -0.4114531\n",
       "6  0.9477471 -0.4654833 -0.5775291  0.08867847 -0.24656035  2.2551433\n",
       "  feature_6  feature_7 feature_8 feature_9 feature_10 feature_11 feature_12\n",
       "1 -0.2519404 1         1         1         0          1          0         \n",
       "2 -0.2519404 8         2         1         0          0          0         \n",
       "3 -0.2519404 0         2         1         0          0          0         \n",
       "4 -0.2519404 9         1         1         0          0          0         \n",
       "5 -0.2519404 1         2         1         0          1          0         \n",
       "6  2.3528870 4         2         2         1          1          0         \n",
       "  feature_13 feature_14 feature_15 labels\n",
       "1 0          0          3          0     \n",
       "2 0          8          3          0     \n",
       "3 2          8          3          0     \n",
       "4 0          1          3          0     \n",
       "5 0          8          3          0     \n",
       "6 0          8          0          0     "
      ]
     },
     "metadata": {},
     "output_type": "display_data"
    }
   ],
   "source": [
    "# show the first rows\n",
    "head(train)"
   ]
  },
  {
   "cell_type": "markdown",
   "metadata": {},
   "source": [
    "Check the data types."
   ]
  },
  {
   "cell_type": "code",
   "execution_count": 4,
   "metadata": {},
   "outputs": [
    {
     "name": "stdout",
     "output_type": "stream",
     "text": [
      "'data.frame':\t27126 obs. of  17 variables:\n",
      " $ feature_0 : num  1.513 -1.501 0.948 -0.842 -0.559 ...\n",
      " $ feature_1 : num  -0.243 -0.213 0.581 -0.222 -0.592 ...\n",
      " $ feature_2 : num  0.143 1.225 -0.337 0.504 -1.178 ...\n",
      " $ feature_3 : num  2.019 -0.16 0.78 -0.377 -0.416 ...\n",
      " $ feature_4 : num  0.0762 -0.5694 -0.5694 0.399 -0.5694 ...\n",
      " $ feature_5 : num  -0.411 -0.411 -0.411 -0.411 -0.411 ...\n",
      " $ feature_6 : num  -0.252 -0.252 -0.252 -0.252 -0.252 ...\n",
      " $ feature_7 : int  1 8 0 9 1 4 7 6 6 9 ...\n",
      " $ feature_8 : int  1 2 2 1 2 2 1 1 1 1 ...\n",
      " $ feature_9 : int  1 1 1 1 1 2 1 2 1 3 ...\n",
      " $ feature_10: int  0 0 0 0 0 1 0 0 0 0 ...\n",
      " $ feature_11: int  1 0 0 0 1 1 0 1 1 1 ...\n",
      " $ feature_12: int  0 0 0 0 0 0 0 1 1 0 ...\n",
      " $ feature_13: int  0 0 2 0 0 0 0 2 0 0 ...\n",
      " $ feature_14: int  0 8 8 1 8 8 1 6 5 9 ...\n",
      " $ feature_15: int  3 3 3 3 3 0 3 3 3 3 ...\n",
      " $ labels    : int  0 0 0 0 0 0 0 0 0 0 ...\n"
     ]
    }
   ],
   "source": [
    "# show training the data structure\n",
    "str(train)"
   ]
  },
  {
   "cell_type": "markdown",
   "metadata": {},
   "source": [
    "We already know the 'labels' are factors, feature 7-15 probably are as well. It's important to know which features are categoric/discrete, because it will influence some of the statistical measurements we perform to analyse relationships, such as whether or not to use chi-squared test in bivariate analysis.\n",
    "\n",
    "Below shows the number of unique values in each feature:"
   ]
  },
  {
   "cell_type": "code",
   "execution_count": 5,
   "metadata": {},
   "outputs": [
    {
     "name": "stdout",
     "output_type": "stream",
     "text": [
      " feature_0  feature_1  feature_2  feature_3  feature_4  feature_5  feature_6 \n",
      "        77       5901         31       1403         46        499         35 \n",
      " feature_7  feature_8  feature_9 feature_10 feature_11 feature_12 feature_13 \n",
      "        12          3          4          2          2          2          3 \n",
      "feature_14 feature_15     labels \n",
      "        12          4          2 \n"
     ]
    }
   ],
   "source": [
    "#Show the unique values in each feature\n",
    "print(apply(train,2,function(x) length(unique(x))))"
   ]
  },
  {
   "cell_type": "markdown",
   "metadata": {},
   "source": [
    "This adds to our evidence that most variables were categoric before being numerically encoded (for de-identification).\n",
    "\n",
    "We can also  check what the discrete values are. If there is a set of numeric integers from a condensed range, that will further our case for assuming they are categoric/qualitative."
   ]
  },
  {
   "cell_type": "code",
   "execution_count": 6,
   "metadata": {},
   "outputs": [
    {
     "data": {
      "text/html": [
       "<dl>\n",
       "\t<dt>$feature_7</dt>\n",
       "\t\t<dd><style>\n",
       ".list-inline {list-style: none; margin:0; padding: 0}\n",
       ".list-inline>li {display: inline-block}\n",
       ".list-inline>li:not(:last-child)::after {content: \"\\00b7\"; padding: 0 .5ex}\n",
       "</style>\n",
       "<ol class=list-inline><li>0</li><li>1</li><li>2</li><li>3</li><li>4</li><li>5</li><li>6</li><li>7</li><li>8</li><li>9</li><li>10</li><li>11</li></ol>\n",
       "</dd>\n",
       "\t<dt>$feature_8</dt>\n",
       "\t\t<dd><style>\n",
       ".list-inline {list-style: none; margin:0; padding: 0}\n",
       ".list-inline>li {display: inline-block}\n",
       ".list-inline>li:not(:last-child)::after {content: \"\\00b7\"; padding: 0 .5ex}\n",
       "</style>\n",
       "<ol class=list-inline><li>0</li><li>1</li><li>2</li></ol>\n",
       "</dd>\n",
       "\t<dt>$feature_9</dt>\n",
       "\t\t<dd><style>\n",
       ".list-inline {list-style: none; margin:0; padding: 0}\n",
       ".list-inline>li {display: inline-block}\n",
       ".list-inline>li:not(:last-child)::after {content: \"\\00b7\"; padding: 0 .5ex}\n",
       "</style>\n",
       "<ol class=list-inline><li>0</li><li>1</li><li>2</li><li>3</li></ol>\n",
       "</dd>\n",
       "\t<dt>$feature_10</dt>\n",
       "\t\t<dd><style>\n",
       ".list-inline {list-style: none; margin:0; padding: 0}\n",
       ".list-inline>li {display: inline-block}\n",
       ".list-inline>li:not(:last-child)::after {content: \"\\00b7\"; padding: 0 .5ex}\n",
       "</style>\n",
       "<ol class=list-inline><li>0</li><li>1</li></ol>\n",
       "</dd>\n",
       "\t<dt>$feature_11</dt>\n",
       "\t\t<dd><style>\n",
       ".list-inline {list-style: none; margin:0; padding: 0}\n",
       ".list-inline>li {display: inline-block}\n",
       ".list-inline>li:not(:last-child)::after {content: \"\\00b7\"; padding: 0 .5ex}\n",
       "</style>\n",
       "<ol class=list-inline><li>0</li><li>1</li></ol>\n",
       "</dd>\n",
       "\t<dt>$feature_12</dt>\n",
       "\t\t<dd><style>\n",
       ".list-inline {list-style: none; margin:0; padding: 0}\n",
       ".list-inline>li {display: inline-block}\n",
       ".list-inline>li:not(:last-child)::after {content: \"\\00b7\"; padding: 0 .5ex}\n",
       "</style>\n",
       "<ol class=list-inline><li>0</li><li>1</li></ol>\n",
       "</dd>\n",
       "\t<dt>$feature_13</dt>\n",
       "\t\t<dd><style>\n",
       ".list-inline {list-style: none; margin:0; padding: 0}\n",
       ".list-inline>li {display: inline-block}\n",
       ".list-inline>li:not(:last-child)::after {content: \"\\00b7\"; padding: 0 .5ex}\n",
       "</style>\n",
       "<ol class=list-inline><li>0</li><li>1</li><li>2</li></ol>\n",
       "</dd>\n",
       "\t<dt>$feature_14</dt>\n",
       "\t\t<dd><style>\n",
       ".list-inline {list-style: none; margin:0; padding: 0}\n",
       ".list-inline>li {display: inline-block}\n",
       ".list-inline>li:not(:last-child)::after {content: \"\\00b7\"; padding: 0 .5ex}\n",
       "</style>\n",
       "<ol class=list-inline><li>0</li><li>1</li><li>2</li><li>3</li><li>4</li><li>5</li><li>6</li><li>7</li><li>8</li><li>9</li><li>10</li><li>11</li></ol>\n",
       "</dd>\n",
       "\t<dt>$feature_15</dt>\n",
       "\t\t<dd><style>\n",
       ".list-inline {list-style: none; margin:0; padding: 0}\n",
       ".list-inline>li {display: inline-block}\n",
       ".list-inline>li:not(:last-child)::after {content: \"\\00b7\"; padding: 0 .5ex}\n",
       "</style>\n",
       "<ol class=list-inline><li>0</li><li>1</li><li>2</li><li>3</li></ol>\n",
       "</dd>\n",
       "\t<dt>$labels</dt>\n",
       "\t\t<dd><style>\n",
       ".list-inline {list-style: none; margin:0; padding: 0}\n",
       ".list-inline>li {display: inline-block}\n",
       ".list-inline>li:not(:last-child)::after {content: \"\\00b7\"; padding: 0 .5ex}\n",
       "</style>\n",
       "<ol class=list-inline><li>0</li><li>1</li></ol>\n",
       "</dd>\n",
       "</dl>\n"
      ],
      "text/latex": [
       "\\begin{description}\n",
       "\\item[\\$feature\\_7] \\begin{enumerate*}\n",
       "\\item 0\n",
       "\\item 1\n",
       "\\item 2\n",
       "\\item 3\n",
       "\\item 4\n",
       "\\item 5\n",
       "\\item 6\n",
       "\\item 7\n",
       "\\item 8\n",
       "\\item 9\n",
       "\\item 10\n",
       "\\item 11\n",
       "\\end{enumerate*}\n",
       "\n",
       "\\item[\\$feature\\_8] \\begin{enumerate*}\n",
       "\\item 0\n",
       "\\item 1\n",
       "\\item 2\n",
       "\\end{enumerate*}\n",
       "\n",
       "\\item[\\$feature\\_9] \\begin{enumerate*}\n",
       "\\item 0\n",
       "\\item 1\n",
       "\\item 2\n",
       "\\item 3\n",
       "\\end{enumerate*}\n",
       "\n",
       "\\item[\\$feature\\_10] \\begin{enumerate*}\n",
       "\\item 0\n",
       "\\item 1\n",
       "\\end{enumerate*}\n",
       "\n",
       "\\item[\\$feature\\_11] \\begin{enumerate*}\n",
       "\\item 0\n",
       "\\item 1\n",
       "\\end{enumerate*}\n",
       "\n",
       "\\item[\\$feature\\_12] \\begin{enumerate*}\n",
       "\\item 0\n",
       "\\item 1\n",
       "\\end{enumerate*}\n",
       "\n",
       "\\item[\\$feature\\_13] \\begin{enumerate*}\n",
       "\\item 0\n",
       "\\item 1\n",
       "\\item 2\n",
       "\\end{enumerate*}\n",
       "\n",
       "\\item[\\$feature\\_14] \\begin{enumerate*}\n",
       "\\item 0\n",
       "\\item 1\n",
       "\\item 2\n",
       "\\item 3\n",
       "\\item 4\n",
       "\\item 5\n",
       "\\item 6\n",
       "\\item 7\n",
       "\\item 8\n",
       "\\item 9\n",
       "\\item 10\n",
       "\\item 11\n",
       "\\end{enumerate*}\n",
       "\n",
       "\\item[\\$feature\\_15] \\begin{enumerate*}\n",
       "\\item 0\n",
       "\\item 1\n",
       "\\item 2\n",
       "\\item 3\n",
       "\\end{enumerate*}\n",
       "\n",
       "\\item[\\$labels] \\begin{enumerate*}\n",
       "\\item 0\n",
       "\\item 1\n",
       "\\end{enumerate*}\n",
       "\n",
       "\\end{description}\n"
      ],
      "text/markdown": [
       "$feature_7\n",
       ":   1. 0\n",
       "2. 1\n",
       "3. 2\n",
       "4. 3\n",
       "5. 4\n",
       "6. 5\n",
       "7. 6\n",
       "8. 7\n",
       "9. 8\n",
       "10. 9\n",
       "11. 10\n",
       "12. 11\n",
       "\n",
       "\n",
       "\n",
       "$feature_8\n",
       ":   1. 0\n",
       "2. 1\n",
       "3. 2\n",
       "\n",
       "\n",
       "\n",
       "$feature_9\n",
       ":   1. 0\n",
       "2. 1\n",
       "3. 2\n",
       "4. 3\n",
       "\n",
       "\n",
       "\n",
       "$feature_10\n",
       ":   1. 0\n",
       "2. 1\n",
       "\n",
       "\n",
       "\n",
       "$feature_11\n",
       ":   1. 0\n",
       "2. 1\n",
       "\n",
       "\n",
       "\n",
       "$feature_12\n",
       ":   1. 0\n",
       "2. 1\n",
       "\n",
       "\n",
       "\n",
       "$feature_13\n",
       ":   1. 0\n",
       "2. 1\n",
       "3. 2\n",
       "\n",
       "\n",
       "\n",
       "$feature_14\n",
       ":   1. 0\n",
       "2. 1\n",
       "3. 2\n",
       "4. 3\n",
       "5. 4\n",
       "6. 5\n",
       "7. 6\n",
       "8. 7\n",
       "9. 8\n",
       "10. 9\n",
       "11. 10\n",
       "12. 11\n",
       "\n",
       "\n",
       "\n",
       "$feature_15\n",
       ":   1. 0\n",
       "2. 1\n",
       "3. 2\n",
       "4. 3\n",
       "\n",
       "\n",
       "\n",
       "$labels\n",
       ":   1. 0\n",
       "2. 1\n",
       "\n",
       "\n",
       "\n",
       "\n",
       "\n"
      ],
      "text/plain": [
       "$feature_7\n",
       " [1]  0  1  2  3  4  5  6  7  8  9 10 11\n",
       "\n",
       "$feature_8\n",
       "[1] 0 1 2\n",
       "\n",
       "$feature_9\n",
       "[1] 0 1 2 3\n",
       "\n",
       "$feature_10\n",
       "[1] 0 1\n",
       "\n",
       "$feature_11\n",
       "[1] 0 1\n",
       "\n",
       "$feature_12\n",
       "[1] 0 1\n",
       "\n",
       "$feature_13\n",
       "[1] 0 1 2\n",
       "\n",
       "$feature_14\n",
       " [1]  0  1  2  3  4  5  6  7  8  9 10 11\n",
       "\n",
       "$feature_15\n",
       "[1] 0 1 2 3\n",
       "\n",
       "$labels\n",
       "[1] 0 1\n"
      ]
     },
     "metadata": {},
     "output_type": "display_data"
    }
   ],
   "source": [
    "#Show the unique values in the features we think could be qualitative\n",
    "apply(train[,8:17],2,function(x) sort(unique(x)))"
   ]
  },
  {
   "cell_type": "markdown",
   "metadata": {},
   "source": [
    "So we will assume features 7-15, and the labels are categoric."
   ]
  },
  {
   "cell_type": "markdown",
   "metadata": {},
   "source": [
    "It also appears that more than just our integer data is discrete, for example, feature 2 despite containing decimals, only takes 31 unique values. By plotting them on a number line, we can see the exact nature of the remaining features (features 0-6)."
   ]
  },
  {
   "cell_type": "code",
   "execution_count": 7,
   "metadata": {},
   "outputs": [
    {
     "data": {
      "image/png": "[encoded data removed]",
      "text/plain": [
       "plot without title"
      ]
     },
     "metadata": {
      "image/png": {
       "height": 420,
       "width": 420
      }
     },
     "output_type": "display_data"
    }
   ],
   "source": [
    "p0 <- ggplot(train, aes(x=0, y=feature_0)) +\n",
    "  geom_point(size = 1)\n",
    "\n",
    "p1 <- ggplot(train, aes(x=0, y=feature_1)) +\n",
    "  geom_point(size = 1)\n",
    "\n",
    "p2 <- ggplot(train, aes(x=0, y=feature_2)) +\n",
    "  geom_point(size = 1)\n",
    "\n",
    "p3 <- ggplot(train, aes(x=0, y=feature_3)) +\n",
    "  geom_point(size = 1)\n",
    "\n",
    "p4 <- ggplot(train, aes(x=0, y=feature_4)) +\n",
    "  geom_point(size = 1)\n",
    "\n",
    "p5 <- ggplot(train, aes(x=0, y=feature_5)) +\n",
    "  geom_point(size = 1)\n",
    "\n",
    "p6 <- ggplot(train, aes(x=0, y=feature_6)) +\n",
    "  geom_point(size = 1)\n",
    "\n",
    "grid.arrange(p1, p2, p3, p4, p5, p6, ncol = 6)"
   ]
  },
  {
   "cell_type": "markdown",
   "metadata": {},
   "source": [
    "It appears that feature 2, 4 and 6 are discrete, but it would be unusual to encode categoric data in a decimal scale. We'll explore these variables with statistical tools for both continuous and discrete data and treat them in which ever way performs best in the end.\n",
    "\n",
    "It's not known which variables are ordinal and nominal, that is, whether to imply the natural order of the assigned integers has meaning or not. Non-ordinal variables will need to be converted to factors or one-hot-encoded if there is no specific order to their integer assignment. Currently we only know that the label is a factor."
   ]
  },
  {
   "cell_type": "code",
   "execution_count": 8,
   "metadata": {},
   "outputs": [
    {
     "name": "stdout",
     "output_type": "stream",
     "text": [
      "'data.frame':\t27126 obs. of  17 variables:\n",
      " $ feature_0 : num  1.513 -1.501 0.948 -0.842 -0.559 ...\n",
      " $ feature_1 : num  -0.243 -0.213 0.581 -0.222 -0.592 ...\n",
      " $ feature_2 : num  0.143 1.225 -0.337 0.504 -1.178 ...\n",
      " $ feature_3 : num  2.019 -0.16 0.78 -0.377 -0.416 ...\n",
      " $ feature_4 : num  0.0762 -0.5694 -0.5694 0.399 -0.5694 ...\n",
      " $ feature_5 : num  -0.411 -0.411 -0.411 -0.411 -0.411 ...\n",
      " $ feature_6 : num  -0.252 -0.252 -0.252 -0.252 -0.252 ...\n",
      " $ feature_7 : int  1 8 0 9 1 4 7 6 6 9 ...\n",
      " $ feature_8 : int  1 2 2 1 2 2 1 1 1 1 ...\n",
      " $ feature_9 : int  1 1 1 1 1 2 1 2 1 3 ...\n",
      " $ feature_10: int  0 0 0 0 0 1 0 0 0 0 ...\n",
      " $ feature_11: int  1 0 0 0 1 1 0 1 1 1 ...\n",
      " $ feature_12: int  0 0 0 0 0 0 0 1 1 0 ...\n",
      " $ feature_13: int  0 0 2 0 0 0 0 2 0 0 ...\n",
      " $ feature_14: int  0 8 8 1 8 8 1 6 5 9 ...\n",
      " $ feature_15: int  3 3 3 3 3 0 3 3 3 3 ...\n",
      " $ labels    : Factor w/ 2 levels \"0\",\"1\": 1 1 1 1 1 1 1 1 1 1 ...\n"
     ]
    }
   ],
   "source": [
    "#change label and features 7-15 data type to factor in train dataset\n",
    "#train[,8:17] <- data.frame(lapply(train[,8:17], as.factor))\n",
    "train$labels <- as.factor(train$labels)\n",
    "\n",
    "#change label and features 7-15 data type to factor in test dataset\n",
    "#test[,8:17] <- data.frame(lapply(test[,8:17], as.factor))\n",
    "test$labels <- as.factor(test$labels)\n",
    "                     \n",
    "#always check your work - looks good.\n",
    "str(train)"
   ]
  },
  {
   "cell_type": "markdown",
   "metadata": {},
   "source": [
    "The proportion of data provided for testing versus training:"
   ]
  },
  {
   "cell_type": "code",
   "execution_count": 9,
   "metadata": {},
   "outputs": [
    {
     "name": "stdout",
     "output_type": "stream",
     "text": [
      "The ratio of testing to training data:  0.2"
     ]
    }
   ],
   "source": [
    "# get the dimentions of each dataset and return the proportion of data in the training dataset\n",
    "cat(\"The ratio of testing to training data: \", round(dim(test)[1] / (dim(test)[1] + dim(train)[1]),3))"
   ]
  },
  {
   "cell_type": "markdown",
   "metadata": {},
   "source": [
    "## 3.1. Univariate Analysis <a class=\"anchor\" name=\"UnivariateAnalysis\"></a>"
   ]
  },
  {
   "cell_type": "markdown",
   "metadata": {},
   "source": [
    "How is the response variable distributed? Is it imbalanced? Is it biased?"
   ]
  },
  {
   "cell_type": "code",
   "execution_count": 10,
   "metadata": {},
   "outputs": [
    {
     "name": "stdout",
     "output_type": "stream",
     "text": [
      "Percentage rate of churn: 11.73 %"
     ]
    },
    {
     "data": {
      "image/png": "[encoded data removed]",
      "text/plain": [
       "Plot with title \"Class distribution of Labels\""
      ]
     },
     "metadata": {
      "image/png": {
       "height": 420,
       "width": 420
      }
     },
     "output_type": "display_data"
    }
   ],
   "source": [
    "# produce a bar chart showing how many observations in our label data have their class equal to 1 or 0.\n",
    "barplot(table(train$labels), xlab = \"Labels\", ylab = \"Number of customers\", main = \"Class distribution of Labels\", col = \"lightblue\")\n",
    "\n",
    "# imbalance as a ratio\n",
    "pc <- round(table(train$labels)[2] / length(train$labels) * 100, 2)\n",
    "cat('Percentage rate of churn:', pc, '%')\n",
    "\n"
   ]
  },
  {
   "cell_type": "markdown",
   "metadata": {},
   "source": [
    "The class distribution in the label is very imbalanced, this will affect some learning algorithms and/or model evaluation metrics later."
   ]
  },
  {
   "cell_type": "markdown",
   "metadata": {},
   "source": [
    "#### Detailed descriptive statistics for continuous data:"
   ]
  },
  {
   "cell_type": "code",
   "execution_count": 11,
   "metadata": {},
   "outputs": [
    {
     "data": {
      "text/html": [
       "<table class=\"dataframe\">\n",
       "<caption>A psych: 16 × 13</caption>\n",
       "<thead>\n",
       "\t<tr><th></th><th scope=col>vars</th><th scope=col>n</th><th scope=col>mean</th><th scope=col>sd</th><th scope=col>median</th><th scope=col>trimmed</th><th scope=col>mad</th><th scope=col>min</th><th scope=col>max</th><th scope=col>range</th><th scope=col>skew</th><th scope=col>kurtosis</th><th scope=col>se</th></tr>\n",
       "\t<tr><th></th><th scope=col>&lt;dbl&gt;</th><th scope=col>&lt;dbl&gt;</th><th scope=col>&lt;dbl&gt;</th><th scope=col>&lt;dbl&gt;</th><th scope=col>&lt;dbl&gt;</th><th scope=col>&lt;dbl&gt;</th><th scope=col>&lt;dbl&gt;</th><th scope=col>&lt;dbl&gt;</th><th scope=col>&lt;dbl&gt;</th><th scope=col>&lt;dbl&gt;</th><th scope=col>&lt;dbl&gt;</th><th scope=col>&lt;dbl&gt;</th><th scope=col>&lt;dbl&gt;</th></tr>\n",
       "</thead>\n",
       "<tbody>\n",
       "\t<tr><th scope=row>feature_0</th><td> 1</td><td>27126</td><td>-0.005</td><td>1.000</td><td>-0.182</td><td>-0.068</td><td>0.977</td><td>-2.160</td><td> 5.091</td><td> 7.251</td><td> 0.677</td><td>  0.292</td><td>0.006</td></tr>\n",
       "\t<tr><th scope=row>feature_1</th><td> 2</td><td>27126</td><td> 0.001</td><td>0.986</td><td>-0.297</td><td>-0.193</td><td>0.223</td><td>-3.081</td><td>26.223</td><td>29.304</td><td> 7.503</td><td>103.612</td><td>0.006</td></tr>\n",
       "\t<tr><th scope=row>feature_2</th><td> 3</td><td>27126</td><td> 0.004</td><td>1.000</td><td> 0.023</td><td>-0.010</td><td>1.247</td><td>-1.779</td><td> 1.826</td><td> 3.605</td><td> 0.088</td><td> -1.058</td><td>0.006</td></tr>\n",
       "\t<tr><th scope=row>feature_3</th><td> 4</td><td>27126</td><td>-0.002</td><td>0.997</td><td>-0.307</td><td>-0.186</td><td>0.530</td><td>-1.002</td><td>18.095</td><td>19.097</td><td> 3.157</td><td> 18.827</td><td>0.006</td></tr>\n",
       "\t<tr><th scope=row>feature_4</th><td> 5</td><td>27126</td><td> 0.000</td><td>1.009</td><td>-0.247</td><td>-0.210</td><td>0.479</td><td>-0.569</td><td>19.444</td><td>20.013</td><td> 5.101</td><td> 44.119</td><td>0.006</td></tr>\n",
       "\t<tr><th scope=row>feature_5</th><td> 6</td><td>27126</td><td>-0.003</td><td>0.997</td><td>-0.411</td><td>-0.285</td><td>0.000</td><td>-0.411</td><td> 8.128</td><td> 8.539</td><td> 2.639</td><td>  7.088</td><td>0.006</td></tr>\n",
       "\t<tr><th scope=row>feature_6</th><td> 7</td><td>27126</td><td>-0.009</td><td>0.795</td><td>-0.252</td><td>-0.197</td><td>0.000</td><td>-0.252</td><td>23.626</td><td>23.878</td><td> 7.360</td><td> 96.290</td><td>0.005</td></tr>\n",
       "\t<tr><th scope=row>feature_7</th><td> 8</td><td>27126</td><td> 4.336</td><td>3.273</td><td> 4.000</td><td> 4.242</td><td>4.448</td><td> 0.000</td><td>11.000</td><td>11.000</td><td> 0.268</td><td> -1.265</td><td>0.020</td></tr>\n",
       "\t<tr><th scope=row>feature_8</th><td> 9</td><td>27126</td><td> 1.170</td><td>0.605</td><td> 1.000</td><td> 1.213</td><td>0.000</td><td> 0.000</td><td> 2.000</td><td> 2.000</td><td>-0.098</td><td> -0.423</td><td>0.004</td></tr>\n",
       "\t<tr><th scope=row>feature_9</th><td>10</td><td>27126</td><td> 1.226</td><td>0.749</td><td> 1.000</td><td> 1.231</td><td>0.000</td><td> 0.000</td><td> 3.000</td><td> 3.000</td><td> 0.191</td><td> -0.278</td><td>0.005</td></tr>\n",
       "\t<tr><th scope=row>feature_10</th><td>11</td><td>27126</td><td> 0.018</td><td>0.133</td><td> 0.000</td><td> 0.000</td><td>0.000</td><td> 0.000</td><td> 1.000</td><td> 1.000</td><td> 7.276</td><td> 50.944</td><td>0.001</td></tr>\n",
       "\t<tr><th scope=row>feature_11</th><td>12</td><td>27126</td><td> 0.552</td><td>0.497</td><td> 1.000</td><td> 0.565</td><td>0.000</td><td> 0.000</td><td> 1.000</td><td> 1.000</td><td>-0.210</td><td> -1.956</td><td>0.003</td></tr>\n",
       "\t<tr><th scope=row>feature_12</th><td>13</td><td>27126</td><td> 0.159</td><td>0.366</td><td> 0.000</td><td> 0.074</td><td>0.000</td><td> 0.000</td><td> 1.000</td><td> 1.000</td><td> 1.865</td><td>  1.479</td><td>0.002</td></tr>\n",
       "\t<tr><th scope=row>feature_13</th><td>14</td><td>27126</td><td> 0.637</td><td>0.896</td><td> 0.000</td><td> 0.546</td><td>0.000</td><td> 0.000</td><td> 2.000</td><td> 2.000</td><td> 0.778</td><td> -1.302</td><td>0.005</td></tr>\n",
       "\t<tr><th scope=row>feature_14</th><td>15</td><td>27126</td><td> 5.513</td><td>3.004</td><td> 6.000</td><td> 5.671</td><td>2.965</td><td> 0.000</td><td>11.000</td><td>11.000</td><td>-0.474</td><td> -0.997</td><td>0.018</td></tr>\n",
       "\t<tr><th scope=row>feature_15</th><td>16</td><td>27126</td><td> 2.562</td><td>0.987</td><td> 3.000</td><td> 2.828</td><td>0.000</td><td> 0.000</td><td> 3.000</td><td> 3.000</td><td>-1.983</td><td>  2.192</td><td>0.006</td></tr>\n",
       "</tbody>\n",
       "</table>\n"
      ],
      "text/latex": [
       "A psych: 16 × 13\n",
       "\\begin{tabular}{r|lllllllllllll}\n",
       "  & vars & n & mean & sd & median & trimmed & mad & min & max & range & skew & kurtosis & se\\\\\n",
       "  & <dbl> & <dbl> & <dbl> & <dbl> & <dbl> & <dbl> & <dbl> & <dbl> & <dbl> & <dbl> & <dbl> & <dbl> & <dbl>\\\\\n",
       "\\hline\n",
       "\tfeature\\_0 &  1 & 27126 & -0.005 & 1.000 & -0.182 & -0.068 & 0.977 & -2.160 &  5.091 &  7.251 &  0.677 &   0.292 & 0.006\\\\\n",
       "\tfeature\\_1 &  2 & 27126 &  0.001 & 0.986 & -0.297 & -0.193 & 0.223 & -3.081 & 26.223 & 29.304 &  7.503 & 103.612 & 0.006\\\\\n",
       "\tfeature\\_2 &  3 & 27126 &  0.004 & 1.000 &  0.023 & -0.010 & 1.247 & -1.779 &  1.826 &  3.605 &  0.088 &  -1.058 & 0.006\\\\\n",
       "\tfeature\\_3 &  4 & 27126 & -0.002 & 0.997 & -0.307 & -0.186 & 0.530 & -1.002 & 18.095 & 19.097 &  3.157 &  18.827 & 0.006\\\\\n",
       "\tfeature\\_4 &  5 & 27126 &  0.000 & 1.009 & -0.247 & -0.210 & 0.479 & -0.569 & 19.444 & 20.013 &  5.101 &  44.119 & 0.006\\\\\n",
       "\tfeature\\_5 &  6 & 27126 & -0.003 & 0.997 & -0.411 & -0.285 & 0.000 & -0.411 &  8.128 &  8.539 &  2.639 &   7.088 & 0.006\\\\\n",
       "\tfeature\\_6 &  7 & 27126 & -0.009 & 0.795 & -0.252 & -0.197 & 0.000 & -0.252 & 23.626 & 23.878 &  7.360 &  96.290 & 0.005\\\\\n",
       "\tfeature\\_7 &  8 & 27126 &  4.336 & 3.273 &  4.000 &  4.242 & 4.448 &  0.000 & 11.000 & 11.000 &  0.268 &  -1.265 & 0.020\\\\\n",
       "\tfeature\\_8 &  9 & 27126 &  1.170 & 0.605 &  1.000 &  1.213 & 0.000 &  0.000 &  2.000 &  2.000 & -0.098 &  -0.423 & 0.004\\\\\n",
       "\tfeature\\_9 & 10 & 27126 &  1.226 & 0.749 &  1.000 &  1.231 & 0.000 &  0.000 &  3.000 &  3.000 &  0.191 &  -0.278 & 0.005\\\\\n",
       "\tfeature\\_10 & 11 & 27126 &  0.018 & 0.133 &  0.000 &  0.000 & 0.000 &  0.000 &  1.000 &  1.000 &  7.276 &  50.944 & 0.001\\\\\n",
       "\tfeature\\_11 & 12 & 27126 &  0.552 & 0.497 &  1.000 &  0.565 & 0.000 &  0.000 &  1.000 &  1.000 & -0.210 &  -1.956 & 0.003\\\\\n",
       "\tfeature\\_12 & 13 & 27126 &  0.159 & 0.366 &  0.000 &  0.074 & 0.000 &  0.000 &  1.000 &  1.000 &  1.865 &   1.479 & 0.002\\\\\n",
       "\tfeature\\_13 & 14 & 27126 &  0.637 & 0.896 &  0.000 &  0.546 & 0.000 &  0.000 &  2.000 &  2.000 &  0.778 &  -1.302 & 0.005\\\\\n",
       "\tfeature\\_14 & 15 & 27126 &  5.513 & 3.004 &  6.000 &  5.671 & 2.965 &  0.000 & 11.000 & 11.000 & -0.474 &  -0.997 & 0.018\\\\\n",
       "\tfeature\\_15 & 16 & 27126 &  2.562 & 0.987 &  3.000 &  2.828 & 0.000 &  0.000 &  3.000 &  3.000 & -1.983 &   2.192 & 0.006\\\\\n",
       "\\end{tabular}\n"
      ],
      "text/markdown": [
       "\n",
       "A psych: 16 × 13\n",
       "\n",
       "| <!--/--> | vars &lt;dbl&gt; | n &lt;dbl&gt; | mean &lt;dbl&gt; | sd &lt;dbl&gt; | median &lt;dbl&gt; | trimmed &lt;dbl&gt; | mad &lt;dbl&gt; | min &lt;dbl&gt; | max &lt;dbl&gt; | range &lt;dbl&gt; | skew &lt;dbl&gt; | kurtosis &lt;dbl&gt; | se &lt;dbl&gt; |\n",
       "|---|---|---|---|---|---|---|---|---|---|---|---|---|---|\n",
       "| feature_0 |  1 | 27126 | -0.005 | 1.000 | -0.182 | -0.068 | 0.977 | -2.160 |  5.091 |  7.251 |  0.677 |   0.292 | 0.006 |\n",
       "| feature_1 |  2 | 27126 |  0.001 | 0.986 | -0.297 | -0.193 | 0.223 | -3.081 | 26.223 | 29.304 |  7.503 | 103.612 | 0.006 |\n",
       "| feature_2 |  3 | 27126 |  0.004 | 1.000 |  0.023 | -0.010 | 1.247 | -1.779 |  1.826 |  3.605 |  0.088 |  -1.058 | 0.006 |\n",
       "| feature_3 |  4 | 27126 | -0.002 | 0.997 | -0.307 | -0.186 | 0.530 | -1.002 | 18.095 | 19.097 |  3.157 |  18.827 | 0.006 |\n",
       "| feature_4 |  5 | 27126 |  0.000 | 1.009 | -0.247 | -0.210 | 0.479 | -0.569 | 19.444 | 20.013 |  5.101 |  44.119 | 0.006 |\n",
       "| feature_5 |  6 | 27126 | -0.003 | 0.997 | -0.411 | -0.285 | 0.000 | -0.411 |  8.128 |  8.539 |  2.639 |   7.088 | 0.006 |\n",
       "| feature_6 |  7 | 27126 | -0.009 | 0.795 | -0.252 | -0.197 | 0.000 | -0.252 | 23.626 | 23.878 |  7.360 |  96.290 | 0.005 |\n",
       "| feature_7 |  8 | 27126 |  4.336 | 3.273 |  4.000 |  4.242 | 4.448 |  0.000 | 11.000 | 11.000 |  0.268 |  -1.265 | 0.020 |\n",
       "| feature_8 |  9 | 27126 |  1.170 | 0.605 |  1.000 |  1.213 | 0.000 |  0.000 |  2.000 |  2.000 | -0.098 |  -0.423 | 0.004 |\n",
       "| feature_9 | 10 | 27126 |  1.226 | 0.749 |  1.000 |  1.231 | 0.000 |  0.000 |  3.000 |  3.000 |  0.191 |  -0.278 | 0.005 |\n",
       "| feature_10 | 11 | 27126 |  0.018 | 0.133 |  0.000 |  0.000 | 0.000 |  0.000 |  1.000 |  1.000 |  7.276 |  50.944 | 0.001 |\n",
       "| feature_11 | 12 | 27126 |  0.552 | 0.497 |  1.000 |  0.565 | 0.000 |  0.000 |  1.000 |  1.000 | -0.210 |  -1.956 | 0.003 |\n",
       "| feature_12 | 13 | 27126 |  0.159 | 0.366 |  0.000 |  0.074 | 0.000 |  0.000 |  1.000 |  1.000 |  1.865 |   1.479 | 0.002 |\n",
       "| feature_13 | 14 | 27126 |  0.637 | 0.896 |  0.000 |  0.546 | 0.000 |  0.000 |  2.000 |  2.000 |  0.778 |  -1.302 | 0.005 |\n",
       "| feature_14 | 15 | 27126 |  5.513 | 3.004 |  6.000 |  5.671 | 2.965 |  0.000 | 11.000 | 11.000 | -0.474 |  -0.997 | 0.018 |\n",
       "| feature_15 | 16 | 27126 |  2.562 | 0.987 |  3.000 |  2.828 | 0.000 |  0.000 |  3.000 |  3.000 | -1.983 |   2.192 | 0.006 |\n",
       "\n"
      ],
      "text/plain": [
       "           vars n     mean   sd    median trimmed mad   min    max    range \n",
       "feature_0   1   27126 -0.005 1.000 -0.182 -0.068  0.977 -2.160  5.091  7.251\n",
       "feature_1   2   27126  0.001 0.986 -0.297 -0.193  0.223 -3.081 26.223 29.304\n",
       "feature_2   3   27126  0.004 1.000  0.023 -0.010  1.247 -1.779  1.826  3.605\n",
       "feature_3   4   27126 -0.002 0.997 -0.307 -0.186  0.530 -1.002 18.095 19.097\n",
       "feature_4   5   27126  0.000 1.009 -0.247 -0.210  0.479 -0.569 19.444 20.013\n",
       "feature_5   6   27126 -0.003 0.997 -0.411 -0.285  0.000 -0.411  8.128  8.539\n",
       "feature_6   7   27126 -0.009 0.795 -0.252 -0.197  0.000 -0.252 23.626 23.878\n",
       "feature_7   8   27126  4.336 3.273  4.000  4.242  4.448  0.000 11.000 11.000\n",
       "feature_8   9   27126  1.170 0.605  1.000  1.213  0.000  0.000  2.000  2.000\n",
       "feature_9  10   27126  1.226 0.749  1.000  1.231  0.000  0.000  3.000  3.000\n",
       "feature_10 11   27126  0.018 0.133  0.000  0.000  0.000  0.000  1.000  1.000\n",
       "feature_11 12   27126  0.552 0.497  1.000  0.565  0.000  0.000  1.000  1.000\n",
       "feature_12 13   27126  0.159 0.366  0.000  0.074  0.000  0.000  1.000  1.000\n",
       "feature_13 14   27126  0.637 0.896  0.000  0.546  0.000  0.000  2.000  2.000\n",
       "feature_14 15   27126  5.513 3.004  6.000  5.671  2.965  0.000 11.000 11.000\n",
       "feature_15 16   27126  2.562 0.987  3.000  2.828  0.000  0.000  3.000  3.000\n",
       "           skew   kurtosis se   \n",
       "feature_0   0.677   0.292  0.006\n",
       "feature_1   7.503 103.612  0.006\n",
       "feature_2   0.088  -1.058  0.006\n",
       "feature_3   3.157  18.827  0.006\n",
       "feature_4   5.101  44.119  0.006\n",
       "feature_5   2.639   7.088  0.006\n",
       "feature_6   7.360  96.290  0.005\n",
       "feature_7   0.268  -1.265  0.020\n",
       "feature_8  -0.098  -0.423  0.004\n",
       "feature_9   0.191  -0.278  0.005\n",
       "feature_10  7.276  50.944  0.001\n",
       "feature_11 -0.210  -1.956  0.003\n",
       "feature_12  1.865   1.479  0.002\n",
       "feature_13  0.778  -1.302  0.005\n",
       "feature_14 -0.474  -0.997  0.018\n",
       "feature_15 -1.983   2.192  0.006"
      ]
     },
     "metadata": {},
     "output_type": "display_data"
    }
   ],
   "source": [
    "# return summary statistics for the train dataset\n",
    "round(describe(train[,1:16]), 3)"
   ]
  },
  {
   "cell_type": "markdown",
   "metadata": {},
   "source": [
    "Some initial findings from summary statistics:\n",
    "- There is no **Missing Data**\n",
    "- Features 7 & 14 have the **highest variance**, they could be very useful features. On the flip side, features with the **lowest variance** are 12, 11, and 10, we might consider filtering those out of our models during feature selection.\n",
    "- There has been no **feature scaling** yet (e.g. min-max scaling), we may need to do this for some types of statistical model\n",
    "- **Expected Data Characteristics:** Given that we don't have any particular knowledge about each feature, we cannot comment on the expected or unexpected characteristics of each variable. Only that our response variable has two classes, 0 and 1 which represent churn and no churn as expected."
   ]
  },
  {
   "cell_type": "markdown",
   "metadata": {},
   "source": [
    "#### Descriptive statistics for discrete data:"
   ]
  },
  {
   "cell_type": "code",
   "execution_count": 12,
   "metadata": {},
   "outputs": [
    {
     "data": {
      "text/plain": [
       " feature_7 feature_8 feature_9 feature_10 feature_11 feature_12 feature_13\n",
       " 0 : 806   0: 788    0:1014    0:6652     0:2925     0:5680     0:4361    \n",
       " 1 :1432   1:4021    1:3527    1: 130     1:3857     1:1102     1: 428    \n",
       " 2 : 220   2:1973    2:1946                                     2:1993    \n",
       " 3 : 182             3: 295                                               \n",
       " 4 :1408                                                                  \n",
       " 5 : 354                                                                  \n",
       " 6 : 225                                                                  \n",
       " 7 : 640                                                                  \n",
       " 8 : 135                                                                  \n",
       " 9 :1160                                                                  \n",
       " 10: 179                                                                  \n",
       " 11:  41                                                                  \n",
       " feature_14 feature_15 labels  \n",
       " 0 : 435    0: 736     0:5997  \n",
       " 1 : 928    1: 274     1: 785  \n",
       " 2 :  33    2: 211             \n",
       " 3 : 401    3:5561             \n",
       " 4 : 186                       \n",
       " 5 :1026                       \n",
       " 6 : 816                       \n",
       " 7 :  62                       \n",
       " 8 :2103                       \n",
       " 9 : 599                       \n",
       " 10: 109                       \n",
       " 11:  84                       "
      ]
     },
     "metadata": {},
     "output_type": "display_data"
    }
   ],
   "source": [
    "summary(data.frame(lapply(test[,8:17], as.factor)), maxsum = 12)\n",
    "\n",
    "# table and prop.table information is way to extensive to interpret here\n",
    "#table(test[,8:16])"
   ]
  },
  {
   "cell_type": "markdown",
   "metadata": {},
   "source": [
    "Qualitative data ranges from 2 to 12 categories. None are evenly distributed, while many have a clear preference towards one class over the others, such as feature_13 which has 17,617 in class 0 and less than 10,000 observations in the other two classes (1 & 2) combined."
   ]
  },
  {
   "cell_type": "markdown",
   "metadata": {},
   "source": [
    "Histograms and Density Plots for our continuous data:"
   ]
  },
  {
   "cell_type": "code",
   "execution_count": 13,
   "metadata": {},
   "outputs": [
    {
     "data": {
      "image/png": "[encoded data removed]",
      "text/plain": [
       "Plot with title \"Histogram of Feature 6\""
      ]
     },
     "metadata": {
      "image/png": {
       "height": 840,
       "width": 840
      }
     },
     "output_type": "display_data"
    }
   ],
   "source": [
    "#increase scale size of jupyter plots for some very detailed ones momentarily.\n",
    "options(jupyter.plot_scale=1) \n",
    "\n",
    "# Histogram for features 0 to 6\n",
    "par(mfrow = c(3,3))\n",
    "for (i in 1:7 ) {\n",
    "    h <- hist(train[,i], plot=FALSE)\n",
    "    plot(h, main=paste(\"Histogram of Feature\", i-1), xlab = names(train[i]), col = brewer.pal(8, name = \"Pastel1\")[i])\n",
    "    d <- density(train[,i])\n",
    "    lines(x = d$x, y = d$y * length(train[,i]) * diff(h$breaks)[1], col = \"purple\", lwd = 1.5)\n",
    "}"
   ]
  },
  {
   "cell_type": "markdown",
   "metadata": {},
   "source": [
    "A mix of left skewed (feature 0) and exponential (features 1, 3, 4 & 6) features are seen here."
   ]
  },
  {
   "cell_type": "markdown",
   "metadata": {},
   "source": [
    "Bar chart exploration for our (assumed) qualitative data:"
   ]
  },
  {
   "cell_type": "code",
   "execution_count": 14,
   "metadata": {},
   "outputs": [
    {
     "data": {
      "image/png": "[encoded data removed]",
      "text/plain": [
       "Plot with title \"Bar plot of Feature 15\""
      ]
     },
     "metadata": {
      "image/png": {
       "height": 840,
       "width": 840
      }
     },
     "output_type": "display_data"
    }
   ],
   "source": [
    "# Bar chart for features 7 to 15\n",
    "par(mfrow = c(3,3))\n",
    "for (i in 8:16 ) {\n",
    "        barplot(table(train[,i]), xlab = names(train[i]), main = paste(\"Bar plot of Feature\", i-1), col = brewer.pal(8, name = \"Pastel2\")[i-7])\n",
    "}"
   ]
  },
  {
   "cell_type": "markdown",
   "metadata": {},
   "source": [
    "As found earlier, features 10, 11, 12 and the label are binomial. Features 10 & 12 are primarily distributed at zero. Feature 11 on the other hand is a little more evenly distributed.\n",
    "\n",
    "The rest of our features are multinomial with little patterning to them."
   ]
  },
  {
   "cell_type": "markdown",
   "metadata": {},
   "source": [
    "## 3.2. Summary of Univariate Analysis <a class=\"anchor\" name=\"SumUnivariate\"></a>"
   ]
  },
  {
   "cell_type": "markdown",
   "metadata": {},
   "source": [
    "### Variance \n",
    "Features with the **low variance** are unlikely to contribute much value to any model, such as features 12, 11, and 10, it's likely they will be filtered out during **feature selection**.\n",
    "\n",
    "### Quantitative vs Qualitative Variables:\n",
    "\n",
    "The distinction between quantitative vs qualitative data is important to establish early so that we may choose appropriate visual exploration methods and determine whether **dummy encoding** is needed for specific learning algorithms later on.\n",
    "\n",
    "We have identified that features 0-6 qualitative as they are **continuous**, of those 2,4 & 6 appear to be **discretely** distributed on the decimal scale. It's assumed that features 7-15 are **categoric**, however we don't know if there is any logical order or rank in their integer assignment, therefore their erratic distributions (notably in feature 7, 14 & 15) could be an indication that they are **nominal** (have no order or rank).\n",
    "\n",
    "### Distributions:\n",
    "Other notable observations include that feature 0, 1, 3, 4 & 6 are all skewed. Feature 5 looks interesting, it could be skewed unimodal, bimodal or something else. Feature 2 is fairly uniformly distributed (possibly 7 and 11 too). Many of the integer features (7 and above) show a clear class imbalance (particularly 10, 12 and 15).\n",
    "\n",
    "### Labels class imbalance\n",
    "The **response variable is highly imbalanced**. The majority class (0 = No Churn) is very dominant here and so we expect that some learning algorithms will significantly favour this class for positive prediction unless we compensate. **Resampling**, shifting **probability thresholds** and appropriate **cost function** selection should be considered\n",
    "\n",
    "### Other notes\n",
    "**Feature scaling** has not been completed on this dataset, some algorithms might need this. There is **no missing data** in any features and since we don't have any particular knowledge about each feature, we cannot comment more generally on the expected or unexpected characteristics of each variable, such as the range of values and outliers."
   ]
  },
  {
   "cell_type": "markdown",
   "metadata": {},
   "source": [
    "## 3.3. Bivariate Analysis <a class=\"anchor\" name=\"BivariateAnalysis\"></a>"
   ]
  },
  {
   "cell_type": "markdown",
   "metadata": {},
   "source": [
    "Checking for **colinearity**:"
   ]
  },
  {
   "cell_type": "code",
   "execution_count": 15,
   "metadata": {},
   "outputs": [
    {
     "data": {
      "image/png": "[encoded data removed]",
      "text/plain": [
       "Plot with title \"\""
      ]
     },
     "metadata": {
      "image/png": {
       "height": 840,
       "width": 840
      }
     },
     "output_type": "display_data"
    }
   ],
   "source": [
    "# exclude our label from correlation data since it is a factor\n",
    "cor <- cor(train[-17])\n",
    "\n",
    "# plot correlations\n",
    "corrplot(cor, method = 'number', type = 'upper',number.cex=0.75)"
   ]
  },
  {
   "cell_type": "markdown",
   "metadata": {},
   "source": [
    "Feature 15 and 5 are highly negatively correlated, 15 and 6 are somewhat similar too. Features 5 & 6 are positively correlated with each other, which explains their similar relationship with 15. **Collinearity** in these features will cause problems in regression models.\n",
    "\n",
    "Plotting the pair wise relationships in our data will give us a quick idea of whether there are any important **non-linear relationships**:"
   ]
  },
  {
   "cell_type": "code",
   "execution_count": 16,
   "metadata": {},
   "outputs": [
    {
     "data": {
      "image/png": "[encoded data removed]",
      "text/plain": [
       "plot without title"
      ]
     },
     "metadata": {
      "image/png": {
       "height": 840,
       "width": 840
      }
     },
     "output_type": "display_data"
    }
   ],
   "source": [
    "pairs(train)"
   ]
  },
  {
   "cell_type": "markdown",
   "metadata": {},
   "source": [
    "There are no other descernable realtionships other than those we already established through correlation."
   ]
  },
  {
   "cell_type": "markdown",
   "metadata": {},
   "source": [
    "Correlation between the label and predictors: "
   ]
  },
  {
   "cell_type": "code",
   "execution_count": 17,
   "metadata": {},
   "outputs": [
    {
     "data": {
      "text/html": [
       "<table class=\"dataframe\">\n",
       "<caption>A matrix: 16 × 1 of type dbl</caption>\n",
       "<tbody>\n",
       "\t<tr><th scope=row>feature_0</th><td> 0.01550229</td></tr>\n",
       "\t<tr><th scope=row>feature_1</th><td> 0.05064085</td></tr>\n",
       "\t<tr><th scope=row>feature_2</th><td>-0.02975611</td></tr>\n",
       "\t<tr><th scope=row>feature_3</th><td> 0.39008974</td></tr>\n",
       "\t<tr><th scope=row>feature_4</th><td>-0.07615220</td></tr>\n",
       "\t<tr><th scope=row>feature_5</th><td> 0.11057683</td></tr>\n",
       "\t<tr><th scope=row>feature_6</th><td> 0.11904202</td></tr>\n",
       "\t<tr><th scope=row>feature_7</th><td> 0.03671097</td></tr>\n",
       "\t<tr><th scope=row>feature_8</th><td> 0.04254066</td></tr>\n",
       "\t<tr><th scope=row>feature_9</th><td> 0.06883864</td></tr>\n",
       "\t<tr><th scope=row>feature_10</th><td>-0.02411465</td></tr>\n",
       "\t<tr><th scope=row>feature_11</th><td>-0.13572276</td></tr>\n",
       "\t<tr><th scope=row>feature_12</th><td>-0.06511450</td></tr>\n",
       "\t<tr><th scope=row>feature_13</th><td>-0.14820666</td></tr>\n",
       "\t<tr><th scope=row>feature_14</th><td>-0.02532398</td></tr>\n",
       "\t<tr><th scope=row>feature_15</th><td>-0.08062353</td></tr>\n",
       "</tbody>\n",
       "</table>\n"
      ],
      "text/latex": [
       "A matrix: 16 × 1 of type dbl\n",
       "\\begin{tabular}{r|l}\n",
       "\tfeature\\_0 &  0.01550229\\\\\n",
       "\tfeature\\_1 &  0.05064085\\\\\n",
       "\tfeature\\_2 & -0.02975611\\\\\n",
       "\tfeature\\_3 &  0.39008974\\\\\n",
       "\tfeature\\_4 & -0.07615220\\\\\n",
       "\tfeature\\_5 &  0.11057683\\\\\n",
       "\tfeature\\_6 &  0.11904202\\\\\n",
       "\tfeature\\_7 &  0.03671097\\\\\n",
       "\tfeature\\_8 &  0.04254066\\\\\n",
       "\tfeature\\_9 &  0.06883864\\\\\n",
       "\tfeature\\_10 & -0.02411465\\\\\n",
       "\tfeature\\_11 & -0.13572276\\\\\n",
       "\tfeature\\_12 & -0.06511450\\\\\n",
       "\tfeature\\_13 & -0.14820666\\\\\n",
       "\tfeature\\_14 & -0.02532398\\\\\n",
       "\tfeature\\_15 & -0.08062353\\\\\n",
       "\\end{tabular}\n"
      ],
      "text/markdown": [
       "\n",
       "A matrix: 16 × 1 of type dbl\n",
       "\n",
       "| feature_0 |  0.01550229 |\n",
       "| feature_1 |  0.05064085 |\n",
       "| feature_2 | -0.02975611 |\n",
       "| feature_3 |  0.39008974 |\n",
       "| feature_4 | -0.07615220 |\n",
       "| feature_5 |  0.11057683 |\n",
       "| feature_6 |  0.11904202 |\n",
       "| feature_7 |  0.03671097 |\n",
       "| feature_8 |  0.04254066 |\n",
       "| feature_9 |  0.06883864 |\n",
       "| feature_10 | -0.02411465 |\n",
       "| feature_11 | -0.13572276 |\n",
       "| feature_12 | -0.06511450 |\n",
       "| feature_13 | -0.14820666 |\n",
       "| feature_14 | -0.02532398 |\n",
       "| feature_15 | -0.08062353 |\n",
       "\n"
      ],
      "text/plain": [
       "           [,1]       \n",
       "feature_0   0.01550229\n",
       "feature_1   0.05064085\n",
       "feature_2  -0.02975611\n",
       "feature_3   0.39008974\n",
       "feature_4  -0.07615220\n",
       "feature_5   0.11057683\n",
       "feature_6   0.11904202\n",
       "feature_7   0.03671097\n",
       "feature_8   0.04254066\n",
       "feature_9   0.06883864\n",
       "feature_10 -0.02411465\n",
       "feature_11 -0.13572276\n",
       "feature_12 -0.06511450\n",
       "feature_13 -0.14820666\n",
       "feature_14 -0.02532398\n",
       "feature_15 -0.08062353"
      ]
     },
     "metadata": {},
     "output_type": "display_data"
    }
   ],
   "source": [
    "cor(train[,-17], as.numeric(train[,17])) "
   ]
  },
  {
   "cell_type": "markdown",
   "metadata": {},
   "source": [
    "It appears that feature 3 (cor = 0.39) will be our most important predictor. It stands out above all other features with more than twice the correlation coefficient of any other."
   ]
  },
  {
   "cell_type": "markdown",
   "metadata": {},
   "source": [
    "### Comparing continuous variables against the categoric label:"
   ]
  },
  {
   "cell_type": "markdown",
   "metadata": {},
   "source": [
    "Side by side box plots are ideal for comparing the continuous variables against our categoric response variable (labels). Many outliers have been deliberately removed with boxplots rescaled, as it was difficult to see the main quantiles of the distributions."
   ]
  },
  {
   "cell_type": "code",
   "execution_count": 18,
   "metadata": {
    "scrolled": false
   },
   "outputs": [
    {
     "data": {
      "image/png": "[encoded data removed]",
      "text/plain": [
       "plot without title"
      ]
     },
     "metadata": {
      "image/png": {
       "height": 840,
       "width": 840
      }
     },
     "output_type": "display_data"
    }
   ],
   "source": [
    "p1 <- ggplot(train, aes(x=factor(labels), y=train[,1], fill=factor(labels))) + \n",
    "          geom_boxplot()+\n",
    "          #scale_y_continuous(limits = c(quantile(train[,1], c(0.1, 0.9))[1], quantile(train[,1], c(0.1, 0.9))[2]))+\n",
    "          labs(x = \"labels\",y = names(train)[1]) +\n",
    "          guides(fill=\"none\")\n",
    "\n",
    "p2 <- ggplot(train, aes(x=factor(labels), y=train[,2], fill=factor(labels))) + \n",
    "          geom_boxplot()+\n",
    "          scale_y_continuous(limits = c(quantile(train[,2],c(0.1, 0.9))[1], quantile(train[,2], c(0.1, 0.9))[2]))+\n",
    "          labs(x = \"labels\",y = names(train)[2]) +\n",
    "          guides(fill=\"none\")\n",
    "\n",
    "p3 <- ggplot(train, aes(x=factor(labels), y=train[,3], fill=factor(labels))) + \n",
    "          geom_boxplot()+\n",
    "          #scale_y_continuous(limits = c(quantile(train[,3], c(0.1, 0.9))[1], quantile(train[,3], c(0.1, 0.9))[2]))+\n",
    "          labs(x = \"labels\",y = names(train)[3]) +\n",
    "          guides(fill=\"none\")\n",
    "\n",
    "p4 <- ggplot(train, aes(x=factor(labels), y=train[,4], fill=factor(labels))) + \n",
    "          geom_boxplot()+\n",
    "          scale_y_continuous(limits = c(quantile(train[,4], c(0, 0.9))[1], quantile(train[,4], c(0, 0.9))[2]))+\n",
    "          labs(x = \"labels\",y = names(train)[4]) +\n",
    "          guides(fill=\"none\")\n",
    "\n",
    "p5 <- ggplot(train, aes(x=factor(labels), y=train[,5], fill=factor(labels))) + \n",
    "          geom_boxplot()+\n",
    "          scale_y_continuous(limits = c(quantile(train[,5], c(0, 0.9))[1], quantile(train[,5], c(0, 0.9))[2]))+\n",
    "          labs(x = \"labels\",y = names(train)[5]) +\n",
    "          guides(fill=\"none\")\n",
    "\n",
    "p6 <- ggplot(train, aes(x=factor(labels), y=train[,6], fill=factor(labels))) + \n",
    "          geom_boxplot()+\n",
    "          scale_y_continuous(limits = c(quantile(train[,6], c(0.1, 0.9))[1], quantile(train[,6], c(0.1, 0.9))[2]))+\n",
    "          labs(x = \"labels\",y = names(train)[6]) +\n",
    "          guides(fill=\"none\")\n",
    "\n",
    "p7 <- ggplot(train, aes(x=factor(labels), y=train[,7], fill=factor(labels))) + \n",
    "          geom_boxplot()+\n",
    "          scale_y_continuous(limits = c(quantile(train[,7], c(0, 0.95))[1], quantile(train[,7], c(0, 0.95))[2]))+\n",
    "          labs(x = \"labels\",y = names(train)[7]) +\n",
    "          guides(fill=\"none\")\n",
    "\n",
    "\n",
    "grid.arrange(p1, p2, p3, p4, p5, p6, p7, ncol = 4)"
   ]
  },
  {
   "cell_type": "markdown",
   "metadata": {},
   "source": [
    "- Features 1 & 3 exhibit **higher mean** for churn (1) compared to no churn (0). \n",
    "- Feature 0 has a **wider distribution** for churn than no churn. \n",
    "- Feature 2 has a slightly **lower mean** for churn but the same overall spread. \n",
    "- Feature 5 & 6 appear to be very similar, with the same mean but **greater spread** for churn. \n",
    "- Lastly, feature 4 has **lower mean and spread** for churn. \n",
    "\n",
    "These are explored in increased detail below with density plots. There are a great many potential outliers sitting outside the third quartile in all except feature 3."
   ]
  },
  {
   "cell_type": "markdown",
   "metadata": {},
   "source": [
    "We could compute a t-test to determine whether the means are significantly different, however this requires the **assumption of normal distribution**, which it isn't. Even our most normal variable - feature_0 doesn't meet this criteria, as seen in the QQ plot below."
   ]
  },
  {
   "cell_type": "code",
   "execution_count": 19,
   "metadata": {
    "scrolled": false
   },
   "outputs": [
    {
     "data": {
      "text/html": [
       "<style>\n",
       ".list-inline {list-style: none; margin:0; padding: 0}\n",
       ".list-inline>li {display: inline-block}\n",
       ".list-inline>li:not(:last-child)::after {content: \"\\00b7\"; padding: 0 .5ex}\n",
       "</style>\n",
       "<ol class=list-inline><li>7547</li><li>26375</li></ol>\n"
      ],
      "text/latex": [
       "\\begin{enumerate*}\n",
       "\\item 7547\n",
       "\\item 26375\n",
       "\\end{enumerate*}\n"
      ],
      "text/markdown": [
       "1. 7547\n",
       "2. 26375\n",
       "\n",
       "\n"
      ],
      "text/plain": [
       "[1]  7547 26375"
      ]
     },
     "metadata": {},
     "output_type": "display_data"
    },
    {
     "data": {
      "image/png": "[encoded data removed]",
      "text/plain": [
       "Plot with title \"QQ Plot\""
      ]
     },
     "metadata": {
      "image/png": {
       "height": 840,
       "width": 840
      }
     },
     "output_type": "display_data"
    }
   ],
   "source": [
    "qqPlot(train$feature_0, main=\"QQ Plot\", distribution=\"norm\", envelope=.99)"
   ]
  },
  {
   "cell_type": "markdown",
   "metadata": {},
   "source": [
    "Exploring density plots:"
   ]
  },
  {
   "cell_type": "code",
   "execution_count": 20,
   "metadata": {},
   "outputs": [
    {
     "data": {
      "image/png": "[encoded data removed]",
      "text/plain": [
       "plot without title"
      ]
     },
     "metadata": {
      "image/png": {
       "height": 840,
       "width": 840
      }
     },
     "output_type": "display_data"
    }
   ],
   "source": [
    "p1 <- ggplot(train) +\n",
    "  geom_density(aes(x = feature_0, fill = factor(labels)), alpha=.5) +\n",
    "  labs(x = 'feature_0') +\n",
    "  ggtitle(\"Feature 0 density of Labels\")+\n",
    "  theme(legend.key.size = unit(0.3, 'cm'), legend.title = element_text(size=8))\n",
    "\n",
    "p2 <- ggplot(train) +\n",
    "  geom_density(aes(x = feature_1, fill = factor(labels)), alpha=.5) +\n",
    "  labs(x = 'feature_1') +\n",
    "  ggtitle(\"Feature 1 density of Labels\")+\n",
    "  theme(legend.key.size = unit(0.3, 'cm'), legend.title = element_text(size=8)) +\n",
    "  xlim(c(-1,2.5))\n",
    "\n",
    "p3 <- ggplot(train) +\n",
    "  geom_density(aes(x = feature_2, fill = factor(labels)), alpha=.5) +\n",
    "  labs(x = 'feature_2') +\n",
    "  ggtitle(\"Feature 2 density of Labels\")+\n",
    "  theme(legend.key.size = unit(0.3, 'cm'), legend.title = element_text(size=8))\n",
    "\n",
    "p4 <- ggplot(train) +\n",
    "  geom_density(aes(x = feature_3, fill = factor(labels)), alpha=.5) +\n",
    "  labs(x = 'feature_3') +\n",
    "  ggtitle(\"Feature 3 density of Labels\")+\n",
    "  theme(legend.key.size = unit(0.3, 'cm'), legend.title = element_text(size=8))\n",
    "\n",
    "p5 <- ggplot(train) +\n",
    "  geom_density(aes(x = feature_4, fill = factor(labels)), alpha=.5) +\n",
    "  labs(x = 'feature_4') +\n",
    "  ggtitle(\"Feature 4 density of Labels\")+\n",
    "  theme(legend.key.size = unit(0.3, 'cm'), legend.title = element_text(size=8)) +\n",
    "  xlim(c(-1,2.5))\n",
    "\n",
    "p6 <- ggplot(train) +\n",
    "  geom_density(aes(x = feature_5, fill = factor(labels)), alpha=.5) +\n",
    "  labs(x = 'feature_5') +\n",
    "  ggtitle(\"Feature 5 density of Labels\")+\n",
    "  theme(legend.key.size = unit(0.3, 'cm'), legend.title = element_text(size=8)) +\n",
    "  xlim(c(-1,4))\n",
    "\n",
    "p7 <- ggplot(train) +\n",
    "  geom_density(aes(x = feature_6, fill = factor(labels)), alpha=.5) +\n",
    "  labs(x = 'feature_6') +\n",
    "  ggtitle(\"Feature 6 density of Labels\")+\n",
    "  theme(legend.key.size = unit(0.3, 'cm'), legend.title = element_text(size=8)) +\n",
    "  xlim(c(-0.5,2.5))\n",
    "\n",
    "grid.arrange(p1, p2, p3, p4, p5, p6, p7, ncol = 2)"
   ]
  },
  {
   "cell_type": "markdown",
   "metadata": {},
   "source": [
    "- The additional detail in features 2, 4,5 & 6 is interesting. \n",
    "- Features 4, 5 and 6 appear to have similar distributions for churn versus no churn, however they differ in the magnitude of their peaks - feature 4's high peak colours are the inverse of 5 & 6.\n",
    "- Feature 2 is different, it has churn and no churn peaks in different places. It now appears more multimodal.\n",
    "\n",
    "The difference in mean and spread for each label class in **features 1 & 3 remain convincing as a strong predictors**."
   ]
  },
  {
   "cell_type": "markdown",
   "metadata": {},
   "source": [
    "### Comparing two categoric variables\n",
    "Bar charts are used to compare features 7-15 against their labels. Since there is substantial imbalance between the churn and no churn rates, we use a percentage scale for comparisons."
   ]
  },
  {
   "cell_type": "code",
   "execution_count": 21,
   "metadata": {},
   "outputs": [
    {
     "data": {
      "image/png": "[encoded data removed]",
      "text/plain": [
       "plot without title"
      ]
     },
     "metadata": {
      "image/png": {
       "height": 840,
       "width": 840
      }
     },
     "output_type": "display_data"
    }
   ],
   "source": [
    "p7<- ggplot(train, aes(x = factor(feature_7), fill = labels)) + \n",
    "  geom_bar(position = \"fill\") +\n",
    "  theme(legend.key.size = unit(0.3, 'cm'), legend.title = element_text(size=8))+\n",
    "  xlab('feature_7')\n",
    "\n",
    "p8<- ggplot(train, aes(x = factor(feature_8), fill = labels)) + \n",
    "  geom_bar(position = \"fill\") +\n",
    "  theme(legend.key.size = unit(0.3, 'cm'), legend.title = element_text(size=8))+\n",
    "  xlab('feature_8')\n",
    "\n",
    "p9<- ggplot(train, aes(x = factor(feature_9), fill = labels)) + \n",
    "  geom_bar(position = \"fill\") +\n",
    "  theme(legend.key.size = unit(0.3, 'cm'), legend.title = element_text(size=8))+\n",
    "  xlab('feature_9')\n",
    "\n",
    "p10<- ggplot(train, aes(x = factor(feature_10), fill = labels)) + \n",
    "  geom_bar(position = \"fill\") +\n",
    "  theme(legend.key.size = unit(0.3, 'cm'), legend.title = element_text(size=8))+\n",
    "  xlab('feature_10')\n",
    "\n",
    "p11<- ggplot(train, aes(x = factor(feature_11), fill = labels)) + \n",
    "  geom_bar(position = \"fill\") +\n",
    "  theme(legend.key.size = unit(0.3, 'cm'), legend.title = element_text(size=8))+\n",
    "  xlab('feature_11')\n",
    "\n",
    "p12<- ggplot(train, aes(x = factor(feature_12), fill = labels)) + \n",
    "  geom_bar(position = \"fill\") +\n",
    "  theme(legend.key.size = unit(0.3, 'cm'), legend.title = element_text(size=8))+\n",
    "  xlab('feature_12')\n",
    "\n",
    "p13<- ggplot(train, aes(x = factor(feature_13), fill = labels)) + \n",
    "  geom_bar(position = \"fill\") +\n",
    "  theme(legend.key.size = unit(0.3, 'cm'), legend.title = element_text(size=8))+\n",
    "  xlab('feature_13')\n",
    "\n",
    "p14<- ggplot(train, aes(x = factor(feature_14), fill = labels)) + \n",
    "  geom_bar(position = \"fill\") +\n",
    "  theme(legend.key.size = unit(0.3, 'cm'), legend.title = element_text(size=8))+\n",
    "  xlab('feature_14')\n",
    "\n",
    "p15<- ggplot(train, aes(x = factor(feature_15), fill = labels)) + \n",
    "  geom_bar(position = \"fill\") +\n",
    "  theme(legend.key.size = unit(0.3, 'cm'), legend.title = element_text(size=8))+\n",
    "  xlab('feature_15')\n",
    "\n",
    "\n",
    "grid.arrange(p7, p8, p9, p10, p11, p12, p13, p14, p15, ncol = 3)"
   ]
  },
  {
   "cell_type": "markdown",
   "metadata": {},
   "source": [
    "These results show very strong motivation for treating features 7, 14 & 15 as nominal, they should be **factors** or **one hot encoded**.\n",
    "\n",
    "The overall imbalance in this dataset's labels dictates that churn (1/blue) should be roughly around 12% of the counts. We see substantial deviation from this for some category values in feature 7, 14 and 15. These could be helpful in predicting churn. Because we see no obvious trends in the way the data is split for churn and no churn within these features, this might indicate there is no ordinal relationship between the categories and that dummy encoding would be beneficial in the modelling stage."
   ]
  },
  {
   "cell_type": "markdown",
   "metadata": {},
   "source": [
    "Chi-squared test of independence:"
   ]
  },
  {
   "cell_type": "code",
   "execution_count": 22,
   "metadata": {},
   "outputs": [
    {
     "data": {
      "text/plain": [
       "\n",
       "\tPearson's Chi-squared test\n",
       "\n",
       "data:  train$labels and train$feature_7\n",
       "X-squared = 500.81, df = 11, p-value < 2.2e-16\n"
      ]
     },
     "metadata": {},
     "output_type": "display_data"
    },
    {
     "data": {
      "text/plain": [
       "\n",
       "\tPearson's Chi-squared test\n",
       "\n",
       "data:  train$labels and train$feature_8\n",
       "X-squared = 115.64, df = 2, p-value < 2.2e-16\n"
      ]
     },
     "metadata": {},
     "output_type": "display_data"
    },
    {
     "data": {
      "text/plain": [
       "\n",
       "\tPearson's Chi-squared test\n",
       "\n",
       "data:  train$labels and train$feature_9\n",
       "X-squared = 164.58, df = 3, p-value < 2.2e-16\n"
      ]
     },
     "metadata": {},
     "output_type": "display_data"
    },
    {
     "data": {
      "text/plain": [
       "\n",
       "\tPearson's Chi-squared test\n",
       "\n",
       "data:  train$labels and train$feature_10\n",
       "X-squared = 15.774, df = 1, p-value = 7.137e-05\n"
      ]
     },
     "metadata": {},
     "output_type": "display_data"
    },
    {
     "data": {
      "text/plain": [
       "\n",
       "\tPearson's Chi-squared test\n",
       "\n",
       "data:  train$labels and train$feature_11\n",
       "X-squared = 499.68, df = 1, p-value < 2.2e-16\n"
      ]
     },
     "metadata": {},
     "output_type": "display_data"
    },
    {
     "data": {
      "text/plain": [
       "\n",
       "\tPearson's Chi-squared test\n",
       "\n",
       "data:  train$labels and train$feature_12\n",
       "X-squared = 115.01, df = 1, p-value < 2.2e-16\n"
      ]
     },
     "metadata": {},
     "output_type": "display_data"
    },
    {
     "data": {
      "text/plain": [
       "\n",
       "\tPearson's Chi-squared test\n",
       "\n",
       "data:  train$labels and train$feature_13\n",
       "X-squared = 617.63, df = 2, p-value < 2.2e-16\n"
      ]
     },
     "metadata": {},
     "output_type": "display_data"
    },
    {
     "data": {
      "text/plain": [
       "\n",
       "\tPearson's Chi-squared test\n",
       "\n",
       "data:  train$labels and train$feature_14\n",
       "X-squared = 1788.7, df = 11, p-value < 2.2e-16\n"
      ]
     },
     "metadata": {},
     "output_type": "display_data"
    },
    {
     "data": {
      "text/plain": [
       "\n",
       "\tPearson's Chi-squared test\n",
       "\n",
       "data:  train$labels and train$feature_15\n",
       "X-squared = 2802.7, df = 3, p-value < 2.2e-16\n"
      ]
     },
     "metadata": {},
     "output_type": "display_data"
    }
   ],
   "source": [
    "chisq.test(train$labels, train$feature_7, correct=FALSE)\n",
    "chisq.test(train$labels, train$feature_8, correct=FALSE)\n",
    "chisq.test(train$labels, train$feature_9, correct=FALSE)\n",
    "chisq.test(train$labels, train$feature_10, correct=FALSE)\n",
    "chisq.test(train$labels, train$feature_11, correct=FALSE)\n",
    "chisq.test(train$labels, train$feature_12, correct=FALSE)\n",
    "chisq.test(train$labels, train$feature_13, correct=FALSE)\n",
    "chisq.test(train$labels, train$feature_14, correct=FALSE)\n",
    "chisq.test(train$labels, train$feature_15, correct=FALSE)"
   ]
  },
  {
   "cell_type": "markdown",
   "metadata": {},
   "source": [
    "If we have a significance level of 0.05, we can **reject the null hypothesis, all tested features are dependent on the labels**, therefore there is a relationship between them."
   ]
  },
  {
   "cell_type": "markdown",
   "metadata": {},
   "source": [
    "## 3.4. Summary of Bivariate Analysis <a class=\"anchor\" name=\"SumBivariate\"></a>"
   ]
  },
  {
   "cell_type": "markdown",
   "metadata": {},
   "source": [
    "### Collinearity\n",
    "In this section correlation was measured between features. Feature 15 and 5 are **highly negatively correlated**, 15 and 6 are somewhat similar too. Since we feel feature 15 could be a strong categoric predictor, features 5 & 6 would likely be removed.\n",
    "\n",
    "### Label correlation\n",
    "Correlation against the label is used to identify that **feature 3 could be our most important predictor**.\n",
    "\n",
    "### Quantitative/Numeric features\n",
    "Boxplots of the numeric variables broken down by label confirms again that feature 3 has a lot of promise as a predictor. Additionally feature 1 may be of importance. Density plots reveal little extra detail that is helpful above what has been found so far. \n",
    "\n",
    "Boxplots also show that there are a great many potential outliers sitting outside the third quartile in all features except feature 3.\n",
    "\n",
    "### Qualtitative/Categoric features\n",
    "The bar charts of our assumed categoric data show that features 7, 14, 15 have categories which deviate from the expected 12% churn rate for some particular categories, also highlighting that they could prove very useful as predictors.\n",
    "\n",
    "Results from the **chi-squared test of independence** show evidence that there is a relationship between categoric variables 7-14 and our label. This supports the theory that features 7-15  could be categoric."
   ]
  },
  {
   "cell_type": "markdown",
   "metadata": {},
   "source": [
    "## 3.5. Multivariate Analysis <a class=\"anchor\" name=\"MultivariateAnalysis\"></a>"
   ]
  },
  {
   "cell_type": "markdown",
   "metadata": {},
   "source": [
    "### Analysing interactions between two continuous variables and the label:\n",
    "\n",
    "In this section we have explored interactions between all continuous variables with colour separation of the label, only those with interactions of interest have been kept and discussed. If there is no difference of behavior seen between the churn and no churn label, the plot was removed.\n"
   ]
  },
  {
   "cell_type": "code",
   "execution_count": 23,
   "metadata": {
    "scrolled": false
   },
   "outputs": [
    {
     "data": {
      "image/png": "[encoded data removed]",
      "text/plain": [
       "plot without title"
      ]
     },
     "metadata": {
      "image/png": {
       "height": 840,
       "width": 840
      }
     },
     "output_type": "display_data"
    }
   ],
   "source": [
    "p0 <- ggplot(train, aes(x=feature_3, y=feature_0)) +\n",
    "        geom_point(aes(colour = labels), alpha=.5)\n",
    "\n",
    "p2 <- ggplot(train, aes(x=feature_3, y=feature_2)) +\n",
    "        geom_point(aes(colour = labels), alpha=.5)\n",
    "\n",
    "p5 <- ggplot(train, aes(x=feature_3, y=feature_5)) +\n",
    "        geom_point(aes(colour = labels), alpha=.5)\n",
    "\n",
    "p6 <- ggplot(train, aes(x=feature_3, y=feature_6)) +\n",
    "        geom_point(aes(colour = labels), alpha=.5)\n",
    "\n",
    "grid.arrange(p0, p2, p5, p6, ncol = 2)"
   ]
  },
  {
   "cell_type": "markdown",
   "metadata": {},
   "source": [
    "The interaction between **most features are linearly separable**, meaning there isn't any interaction between the variables, as seen in feature 6 x 3 and feature 2 x 3, you can almost draw a line to separate the majority of churn / no churn cases. However in the case of feature 0 x 3 particularly, and feature 5 x 3 there many be some **dependence visible**."
   ]
  },
  {
   "cell_type": "markdown",
   "metadata": {},
   "source": [
    "### Analysing interactions between a continuous and discrete variable with the label:"
   ]
  },
  {
   "cell_type": "markdown",
   "metadata": {},
   "source": [
    "In this section we have explored interactions between all continuous and discrete variable combinations with colour separation of the label, only those with interactions of interest have been kept and discussed. If there is no difference of behaviour seen between the churn and no churn label, the plot was removed. Also, if there was no new behaviours not already discovered during earlier exploration, the plot was removed."
   ]
  },
  {
   "cell_type": "code",
   "execution_count": 24,
   "metadata": {
    "scrolled": false
   },
   "outputs": [
    {
     "data": {
      "image/png": "[encoded data removed]",
      "text/plain": [
       "plot without title"
      ]
     },
     "metadata": {
      "image/png": {
       "height": 840,
       "width": 840
      }
     },
     "output_type": "display_data"
    },
    {
     "data": {
      "image/png": "[encoded data removed]",
      "text/plain": [
       "plot without title"
      ]
     },
     "metadata": {
      "image/png": {
       "height": 840,
       "width": 840
      }
     },
     "output_type": "display_data"
    }
   ],
   "source": [
    "ggplot(aes(x=feature_2),data =train) + \n",
    "    geom_density(aes(fill = labels), alpha=.5) +\n",
    "    facet_wrap(~feature_8) +\n",
    "    ggtitle('Feature 2 & 8 Relationship')\n",
    "\n",
    "ggplot(aes(x=feature_2),data =train) + \n",
    "    geom_density(aes(fill = labels), alpha=.5) +\n",
    "    facet_wrap(~feature_14) +\n",
    "    ggtitle('Feature 2 & 14 Relationship')"
   ]
  },
  {
   "cell_type": "markdown",
   "metadata": {},
   "source": [
    "Exploration of feature 2's **interactions** with other categories was quite interesting. In general, it seems to have four or more peaks that rise and fall (independently for churn and no churn) depending on the feature and category, the interaction between feature 2 & 8 is shown as an example of this. Additionally, the interaction **between 2 and 14 is quite unique**, it is not clear how to interpret this information currently - perhaps conversion into a discrete form (such as binning into four groups) would make this variable more useful."
   ]
  },
  {
   "cell_type": "markdown",
   "metadata": {},
   "source": [
    "### Analysing interactions between two categoric variables with the label:"
   ]
  },
  {
   "cell_type": "markdown",
   "metadata": {},
   "source": [
    "Mosaic plots were used to explore category interactions."
   ]
  },
  {
   "cell_type": "code",
   "execution_count": 25,
   "metadata": {},
   "outputs": [
    {
     "data": {
      "image/png": "[encoded data removed]",
      "text/plain": [
       "plot without title"
      ]
     },
     "metadata": {
      "image/png": {
       "height": 840,
       "width": 840
      }
     },
     "output_type": "display_data"
    }
   ],
   "source": [
    "mosaic( ~ feature_7 + feature_15 + labels, data = train,\n",
    "      highlighting = \"labels\", highlighting_fill = c(\"lightblue\", \"pink\"))"
   ]
  },
  {
   "cell_type": "markdown",
   "metadata": {},
   "source": [
    "No new discoveries were made using this method, it only confirmed what we already knew, that features 14 & 15 have categories with much higher churn rates than others."
   ]
  },
  {
   "cell_type": "markdown",
   "metadata": {},
   "source": [
    "## 3.6. Summary of Multivariate Analysis <a class=\"anchor\" name=\"SumMultivariate\"></a>"
   ]
  },
  {
   "cell_type": "markdown",
   "metadata": {},
   "source": [
    "Numeric variable interactions again confirmed **feature 3 is significant**.\n",
    "\n",
    "Numeric and categorical interactions showed **unusual peaks in feature 2** that appear to move independently for churn and no churn groups. As discussed earlier, this behavior seems reminiscent of categorical behavior. It's possible that **conversion into a discrete form** (such as binning into four groups) would make this variable more useful, but this is hard to justify without background knowledge of the data.\n",
    "\n",
    "No new discoveries were made using mosaic plots to compare categoric interactions, it only confirmed what we already knew, that features 14 & 15 have some categories with much higher churn rates than others."
   ]
  },
  {
   "cell_type": "markdown",
   "metadata": {},
   "source": [
    "## 3.7. More <a class=\"anchor\" name=\"More\"></a>"
   ]
  },
  {
   "cell_type": "markdown",
   "metadata": {},
   "source": [
    "Below a linear model is built with all variables to quantify the suitability of linear models for this problem."
   ]
  },
  {
   "cell_type": "code",
   "execution_count": 26,
   "metadata": {},
   "outputs": [
    {
     "data": {
      "text/plain": [
       "\n",
       "Call:\n",
       "glm(formula = labels ~ ., family = binomial, data = train)\n",
       "\n",
       "Deviance Residuals: \n",
       "    Min       1Q   Median       3Q      Max  \n",
       "-5.5843  -0.4504  -0.2904  -0.1688   3.1445  \n",
       "\n",
       "Coefficients:\n",
       "             Estimate Std. Error z value Pr(>|z|)    \n",
       "(Intercept) -2.985656   0.129631 -23.032  < 2e-16 ***\n",
       "feature_0    0.057227   0.023064   2.481  0.01309 *  \n",
       "feature_1    0.055672   0.017962   3.099  0.00194 ** \n",
       "feature_2   -0.048750   0.022234  -2.193  0.02834 *  \n",
       "feature_3    1.005097   0.020166  49.842  < 2e-16 ***\n",
       "feature_4   -0.433253   0.040982 -10.572  < 2e-16 ***\n",
       "feature_5    0.374963   0.032498  11.538  < 2e-16 ***\n",
       "feature_6    0.263095   0.024147  10.895  < 2e-16 ***\n",
       "feature_7    0.006500   0.006922   0.939  0.34771    \n",
       "feature_8    0.191809   0.039996   4.796 1.62e-06 ***\n",
       "feature_9    0.206859   0.029721   6.960 3.40e-12 ***\n",
       "feature_10  -0.315873   0.208964  -1.512  0.13063    \n",
       "feature_11  -1.004934   0.048833 -20.579  < 2e-16 ***\n",
       "feature_12  -0.711614   0.073431  -9.691  < 2e-16 ***\n",
       "feature_13  -0.626692   0.034716 -18.052  < 2e-16 ***\n",
       "feature_14   0.034472   0.007175   4.804 1.55e-06 ***\n",
       "feature_15   0.265232   0.037600   7.054 1.74e-12 ***\n",
       "---\n",
       "Signif. codes:  0 '***' 0.001 '**' 0.01 '*' 0.05 '.' 0.1 ' ' 1\n",
       "\n",
       "(Dispersion parameter for binomial family taken to be 1)\n",
       "\n",
       "    Null deviance: 19613  on 27125  degrees of freedom\n",
       "Residual deviance: 14573  on 27109  degrees of freedom\n",
       "AIC: 14607\n",
       "\n",
       "Number of Fisher Scoring iterations: 6\n"
      ]
     },
     "metadata": {},
     "output_type": "display_data"
    }
   ],
   "source": [
    "fit.glm = glm(labels ~ ., data = train, family = binomial)\n",
    "summary(fit.glm)"
   ]
  },
  {
   "cell_type": "markdown",
   "metadata": {},
   "source": [
    "Many variables appear to be **statistically significant** to this linear model. Only 10 & 7 aren't in this instance."
   ]
  },
  {
   "cell_type": "code",
   "execution_count": 27,
   "metadata": {},
   "outputs": [
    {
     "data": {
      "text/html": [
       "0"
      ],
      "text/latex": [
       "0"
      ],
      "text/markdown": [
       "0"
      ],
      "text/plain": [
       "[1] 0"
      ]
     },
     "metadata": {},
     "output_type": "display_data"
    }
   ],
   "source": [
    "with(fit.glm, pchisq(null.deviance - deviance, df.null - df.residual, lower.tail = FALSE))"
   ]
  },
  {
   "cell_type": "markdown",
   "metadata": {},
   "source": [
    "In this **chi-squared test**, the **p value** is zero, it tells us that our model fits much better than an empty model."
   ]
  },
  {
   "cell_type": "markdown",
   "metadata": {},
   "source": [
    "As we have seen earlier, there are few variables which correlate strongly with our response variable, only feature 3 stood out initially. However, the takeaway in this section is that we have more than enough information to create a linear model."
   ]
  },
  {
   "cell_type": "markdown",
   "metadata": {},
   "source": [
    "## 3.4. EDA Summary <a class=\"anchor\" name=\"Summary\"></a>"
   ]
  },
  {
   "cell_type": "markdown",
   "metadata": {},
   "source": [
    "### Univariate\n",
    "- Data types were difficult to determine given the de-identified data.\n",
    "- Features with the lowest variance are 6 & 8-10, in the next section we expect to exclude these from our model on the basis of filter method of feature selection.\n",
    "- Many features are highly skewed, it was not possible to normalise them using conventional methods.\n",
    "- Label class imbalance was identified which will impact modeling and scoring in the next section.\n",
    "- No scale normalization has been completed, this might need.\n",
    "\n",
    "### Bivariate\n",
    "- **Multicollinearity** was identified between feature 15 with features 5 & 6. Since 15 has been singled out as a potentially strong predictor, 5 & 6 are to be removed.\n",
    "- Feature 3 **correlates** substantially higher than others with the label, this could be a very **important predictor**. On the other hand, 1-4, 7-10, 12, 14 & 15 scored lowest on label correlation\n",
    "\n",
    "### Multivariate\n",
    "- Variable interactions were trialled, **no substantial new findings** were made. Feature 3 interacts with 1, 4 and 6, the churn category is more bunched together than no churn in these cases. No conclusions were drawn over feature 2's interaction with other features, although it was interesting.\n",
    "\n",
    "### Chi-Squared Test\n",
    "We have plenty of variables which are **statistically significant** in testing with chi-squared on a generalized linear model.\n",
    "\n",
    "Feature 3 again proved it's strong significance along with 5, 11 and 13. Features 14 & 15 are still significant, although they rate less highly than we gave them credit for earlier, if we experiment with factors during model development, we might find we can increase their significant that way.\n",
    "\n",
    "### Feature filtering\n",
    "We've seen that there is clearly more than enough information to create a linear model. In the following section we will deal with the multicollinearity issue between features 5, 6 & 15 and low variance in other variables.\n",
    "\n",
    "### Choice of model\n",
    "Since we've determined that linear models should be sufficient for this problem, in the following section we'll explore Logistic Regression and Linear Discriminant Analysis for modeling."
   ]
  },
  {
   "cell_type": "markdown",
   "metadata": {},
   "source": [
    "# 4. Model Development <a class=\"anchor\" name=\"MD\">"
   ]
  },
  {
   "cell_type": "markdown",
   "metadata": {},
   "source": [
    "## 4.1 First Model - Generalised Linear Model <a class=\"anchor\" name=\"DevGLM\">"
   ]
  },
  {
   "cell_type": "markdown",
   "metadata": {},
   "source": [
    "### Feature subset selection"
   ]
  },
  {
   "cell_type": "markdown",
   "metadata": {},
   "source": [
    "We'll use the step function to select the best subset of variables for our model fit."
   ]
  },
  {
   "cell_type": "code",
   "execution_count": 28,
   "metadata": {},
   "outputs": [],
   "source": [
    "# all features aside from those we determined should be removed earlier - 5, 6, 7 & 10\n",
    "fit1.glm <- glm(formula = labels ~ feature_0 + feature_1 + feature_2 + feature_3 + \n",
    "    feature_4 + feature_8 + feature_9 + feature_11 + feature_12 + feature_13 + \n",
    "    feature_14 + feature_15, family = binomial, data = train)"
   ]
  },
  {
   "cell_type": "code",
   "execution_count": 29,
   "metadata": {
    "scrolled": true
   },
   "outputs": [
    {
     "name": "stdout",
     "output_type": "stream",
     "text": [
      "Start:  AIC=14864.95\n",
      "labels ~ feature_0 + feature_1 + feature_2 + feature_3 + feature_4 + \n",
      "    feature_8 + feature_9 + feature_11 + feature_12 + feature_13 + \n",
      "    feature_14 + feature_15\n",
      "\n",
      "             Df Deviance   AIC\n",
      "<none>             14839 14865\n",
      "- feature_0   1    14845 14869\n",
      "- feature_2   1    14847 14871\n",
      "- feature_1   1    14848 14872\n",
      "- feature_8   1    14865 14889\n",
      "- feature_14  1    14866 14890\n",
      "- feature_9   1    14886 14910\n",
      "- feature_15  1    14924 14948\n",
      "- feature_12  1    14954 14978\n",
      "- feature_4   1    14971 14995\n",
      "- feature_13  1    15247 15271\n",
      "- feature_11  1    15268 15292\n",
      "- feature_3   1    18039 18063\n"
     ]
    }
   ],
   "source": [
    "step1 <- step(fit1.glm)"
   ]
  },
  {
   "cell_type": "markdown",
   "metadata": {},
   "source": [
    "AIC is reduced from 17943 to 14731 with these features which is good, it seems that features 0, 1 & 2 are contributing very little, in fact it appears that the first eight features are doing the heavy lifting in this model."
   ]
  },
  {
   "cell_type": "code",
   "execution_count": 30,
   "metadata": {},
   "outputs": [],
   "source": [
    "fit.step1.glm <- glm(formula = labels ~ feature_0 + feature_1 + feature_2 + feature_3 + feature_4 + \n",
    "    feature_8 + feature_9 + feature_11 + feature_12 + feature_13 + \n",
    "    feature_14 + feature_15, family = binomial, data = train)"
   ]
  },
  {
   "cell_type": "markdown",
   "metadata": {},
   "source": [
    "Function to evaluate our models:"
   ]
  },
  {
   "cell_type": "code",
   "execution_count": 31,
   "metadata": {},
   "outputs": [],
   "source": [
    "# we're going to evaluate a few models, so we'll make a function to reuse\n",
    "# this will only make predictions from the train/validation data / glm models (not glmnet)\n",
    "evaluate <- function(model, true_labels) {\n",
    "    probs <- predict(model, type = \"response\")\n",
    "    pred.glm <- rep(\"0\", length(probs))\n",
    "    pred.glm[probs > 0.5] <- \"1\"\n",
    "    #table(pred.glm, true_labels)\n",
    "    std_confusion_mat <- confusionMatrix(as.factor(pred.glm), true_labels, positive=\"1\")\n",
    "    std_confusion_mat\n",
    "}"
   ]
  },
  {
   "cell_type": "markdown",
   "metadata": {},
   "source": [
    "Evaluation:"
   ]
  },
  {
   "cell_type": "code",
   "execution_count": 32,
   "metadata": {},
   "outputs": [
    {
     "data": {
      "text/plain": [
       "Confusion Matrix and Statistics\n",
       "\n",
       "          Reference\n",
       "Prediction     0     1\n",
       "         0 23497  2570\n",
       "         1   447   612\n",
       "                                         \n",
       "               Accuracy : 0.8888         \n",
       "                 95% CI : (0.885, 0.8925)\n",
       "    No Information Rate : 0.8827         \n",
       "    P-Value [Acc > NIR] : 0.0008884      \n",
       "                                         \n",
       "                  Kappa : 0.2443         \n",
       "                                         \n",
       " Mcnemar's Test P-Value : < 2.2e-16      \n",
       "                                         \n",
       "            Sensitivity : 0.19233        \n",
       "            Specificity : 0.98133        \n",
       "         Pos Pred Value : 0.57790        \n",
       "         Neg Pred Value : 0.90141        \n",
       "             Prevalence : 0.11730        \n",
       "         Detection Rate : 0.02256        \n",
       "   Detection Prevalence : 0.03904        \n",
       "      Balanced Accuracy : 0.58683        \n",
       "                                         \n",
       "       'Positive' Class : 1              \n",
       "                                         "
      ]
     },
     "metadata": {},
     "output_type": "display_data"
    }
   ],
   "source": [
    "evaluate(fit.step1.glm, train$labels)"
   ]
  },
  {
   "cell_type": "markdown",
   "metadata": {},
   "source": [
    "Our model appears to be performing well at 89% accuracy, the **no information rate** is high at 88% accuracy can be expected given the imbalance in the class labels. Looking at the **balanced accuracy** tells us that maybe it's not as good as we think.\n",
    "\n",
    "We think there might be something to gain from setting features 7-9 & 13-15 as factors (7-15 were our hypothetical categoric variables, but 10, 11 & 12 aren't required to be set as factors because they are already binary). We'll add them as new features to our glm model and see whether the factor or numeric variable comes out on top after applying the step function."
   ]
  },
  {
   "cell_type": "code",
   "execution_count": 33,
   "metadata": {},
   "outputs": [],
   "source": [
    "fit.factors.glm = glm(labels ~ feature_0 + feature_1 + feature_2 + feature_3 + feature_4 + feature_11 + feature_12 + feature_13 +\n",
    "                      as.factor(feature_8)+as.factor(feature_9)+as.factor(feature_14)+as.factor(feature_15), data = train, family = binomial)"
   ]
  },
  {
   "cell_type": "code",
   "execution_count": 34,
   "metadata": {
    "scrolled": true
   },
   "outputs": [
    {
     "name": "stdout",
     "output_type": "stream",
     "text": [
      "Start:  AIC=13121.83\n",
      "labels ~ feature_0 + feature_1 + feature_2 + feature_3 + feature_4 + \n",
      "    feature_11 + feature_12 + feature_13 + as.factor(feature_8) + \n",
      "    as.factor(feature_9) + as.factor(feature_14) + as.factor(feature_15)\n",
      "\n",
      "                        Df Deviance   AIC\n",
      "- feature_0              1    13068 13122\n",
      "<none>                        13066 13122\n",
      "- feature_1              1    13069 13123\n",
      "- feature_2              1    13070 13124\n",
      "- as.factor(feature_9)   3    13102 13152\n",
      "- as.factor(feature_8)   2    13102 13154\n",
      "- feature_12             1    13106 13160\n",
      "- feature_4              1    13124 13178\n",
      "- feature_11             1    13258 13312\n",
      "- feature_13             1    13347 13401\n",
      "- as.factor(feature_14) 11    13723 13757\n",
      "- as.factor(feature_15)  3    13991 14041\n",
      "- feature_3              1    16346 16400\n",
      "\n",
      "Step:  AIC=13121.73\n",
      "labels ~ feature_1 + feature_2 + feature_3 + feature_4 + feature_11 + \n",
      "    feature_12 + feature_13 + as.factor(feature_8) + as.factor(feature_9) + \n",
      "    as.factor(feature_14) + as.factor(feature_15)\n",
      "\n",
      "                        Df Deviance   AIC\n",
      "<none>                        13068 13122\n",
      "- feature_1              1    13071 13123\n",
      "- feature_2              1    13072 13124\n",
      "- as.factor(feature_9)   3    13102 13150\n",
      "- as.factor(feature_8)   2    13103 13153\n",
      "- feature_12             1    13109 13161\n",
      "- feature_4              1    13126 13178\n",
      "- feature_11             1    13271 13323\n",
      "- feature_13             1    13347 13399\n",
      "- as.factor(feature_14) 11    13729 13761\n",
      "- as.factor(feature_15)  3    13999 14047\n",
      "- feature_3              1    16350 16402\n"
     ]
    }
   ],
   "source": [
    "step2 <- step(fit.factors.glm)"
   ]
  },
  {
   "cell_type": "markdown",
   "metadata": {},
   "source": [
    "We've substantially lowered the AIC again from 14865 in our last model to 13122 here. Feature 0 has been dropped as it does not contribute to lowering the AIC by the looks.\n",
    "\n",
    "The best model and features produced by the step function is:"
   ]
  },
  {
   "cell_type": "code",
   "execution_count": 35,
   "metadata": {},
   "outputs": [],
   "source": [
    "fit.step2.glm <- glm(formula = labels ~ feature_1 + feature_2 + feature_3 + feature_4 + feature_11 + \n",
    "    feature_12 + feature_13 + as.factor(feature_8) + as.factor(feature_9) + as.factor(feature_14) + \n",
    "    as.factor(feature_15), family = binomial, data = train)"
   ]
  },
  {
   "cell_type": "code",
   "execution_count": 36,
   "metadata": {
    "scrolled": true
   },
   "outputs": [
    {
     "data": {
      "text/html": [
       "<table class=\"dataframe\">\n",
       "<caption>A anova: 3 × 5</caption>\n",
       "<thead>\n",
       "\t<tr><th></th><th scope=col>Resid. Df</th><th scope=col>Resid. Dev</th><th scope=col>Df</th><th scope=col>Deviance</th><th scope=col>Pr(&gt;Chi)</th></tr>\n",
       "\t<tr><th></th><th scope=col>&lt;dbl&gt;</th><th scope=col>&lt;dbl&gt;</th><th scope=col>&lt;dbl&gt;</th><th scope=col>&lt;dbl&gt;</th><th scope=col>&lt;dbl&gt;</th></tr>\n",
       "</thead>\n",
       "<tbody>\n",
       "\t<tr><th scope=row>1</th><td>27109</td><td>14573.44</td><td>NA</td><td>       NA</td><td>          NA</td></tr>\n",
       "\t<tr><th scope=row>2</th><td>27113</td><td>14838.95</td><td>-4</td><td>-265.5108</td><td>2.960573e-56</td></tr>\n",
       "\t<tr><th scope=row>3</th><td>27099</td><td>13067.73</td><td>14</td><td>1771.2221</td><td>0.000000e+00</td></tr>\n",
       "</tbody>\n",
       "</table>\n"
      ],
      "text/latex": [
       "A anova: 3 × 5\n",
       "\\begin{tabular}{r|lllll}\n",
       "  & Resid. Df & Resid. Dev & Df & Deviance & Pr(>Chi)\\\\\n",
       "  & <dbl> & <dbl> & <dbl> & <dbl> & <dbl>\\\\\n",
       "\\hline\n",
       "\t1 & 27109 & 14573.44 & NA &        NA &           NA\\\\\n",
       "\t2 & 27113 & 14838.95 & -4 & -265.5108 & 2.960573e-56\\\\\n",
       "\t3 & 27099 & 13067.73 & 14 & 1771.2221 & 0.000000e+00\\\\\n",
       "\\end{tabular}\n"
      ],
      "text/markdown": [
       "\n",
       "A anova: 3 × 5\n",
       "\n",
       "| <!--/--> | Resid. Df &lt;dbl&gt; | Resid. Dev &lt;dbl&gt; | Df &lt;dbl&gt; | Deviance &lt;dbl&gt; | Pr(&gt;Chi) &lt;dbl&gt; |\n",
       "|---|---|---|---|---|---|\n",
       "| 1 | 27109 | 14573.44 | NA |        NA |           NA |\n",
       "| 2 | 27113 | 14838.95 | -4 | -265.5108 | 2.960573e-56 |\n",
       "| 3 | 27099 | 13067.73 | 14 | 1771.2221 | 0.000000e+00 |\n",
       "\n"
      ],
      "text/plain": [
       "  Resid. Df Resid. Dev Df Deviance  Pr(>Chi)    \n",
       "1 27109     14573.44   NA        NA           NA\n",
       "2 27113     14838.95   -4 -265.5108 2.960573e-56\n",
       "3 27099     13067.73   14 1771.2221 0.000000e+00"
      ]
     },
     "metadata": {},
     "output_type": "display_data"
    }
   ],
   "source": [
    "anova(fit.glm,fit.step1.glm, fit.step2.glm, test = \"Chisq\")"
   ]
  },
  {
   "cell_type": "markdown",
   "metadata": {},
   "source": [
    "This is much better, the p-value indicates this model is substantially different from the previous two models."
   ]
  },
  {
   "cell_type": "code",
   "execution_count": 37,
   "metadata": {},
   "outputs": [
    {
     "data": {
      "text/plain": [
       "Confusion Matrix and Statistics\n",
       "\n",
       "          Reference\n",
       "Prediction     0     1\n",
       "         0 23357  2063\n",
       "         1   587  1119\n",
       "                                          \n",
       "               Accuracy : 0.9023          \n",
       "                 95% CI : (0.8987, 0.9058)\n",
       "    No Information Rate : 0.8827          \n",
       "    P-Value [Acc > NIR] : < 2.2e-16       \n",
       "                                          \n",
       "                  Kappa : 0.4095          \n",
       "                                          \n",
       " Mcnemar's Test P-Value : < 2.2e-16       \n",
       "                                          \n",
       "            Sensitivity : 0.35167         \n",
       "            Specificity : 0.97548         \n",
       "         Pos Pred Value : 0.65592         \n",
       "         Neg Pred Value : 0.91884         \n",
       "             Prevalence : 0.11730         \n",
       "         Detection Rate : 0.04125         \n",
       "   Detection Prevalence : 0.06289         \n",
       "      Balanced Accuracy : 0.66358         \n",
       "                                          \n",
       "       'Positive' Class : 1               \n",
       "                                          "
      ]
     },
     "metadata": {},
     "output_type": "display_data"
    }
   ],
   "source": [
    "evaluate(fit.step2.glm, train$labels)"
   ]
  },
  {
   "cell_type": "markdown",
   "metadata": {},
   "source": [
    "Our **accuracy**, **sensitivity** and **specificity** are all much improved. Most notably the **sensitivity has improved from 19% to 35%**."
   ]
  },
  {
   "cell_type": "markdown",
   "metadata": {},
   "source": [
    "Try a log transform of our most exponential looking skewed distributions:"
   ]
  },
  {
   "cell_type": "code",
   "execution_count": 38,
   "metadata": {},
   "outputs": [],
   "source": [
    "fit.log.glm = glm(labels ~ log(feature_1+4) + feature_2 + +log(feature_3+2) + log(feature_4+1) + feature_11 + \n",
    "    feature_12 + feature_13 + as.factor(feature_8) + as.factor(feature_9) + as.factor(feature_14) + \n",
    "    as.factor(feature_15), data = train, family = binomial)"
   ]
  },
  {
   "cell_type": "code",
   "execution_count": 39,
   "metadata": {},
   "outputs": [
    {
     "name": "stdout",
     "output_type": "stream",
     "text": [
      "Start:  AIC=12580.01\n",
      "labels ~ log(feature_1 + 4) + feature_2 + +log(feature_3 + 2) + \n",
      "    log(feature_4 + 1) + feature_11 + feature_12 + feature_13 + \n",
      "    as.factor(feature_8) + as.factor(feature_9) + as.factor(feature_14) + \n",
      "    as.factor(feature_15)\n",
      "\n",
      "                        Df Deviance   AIC\n",
      "<none>                        12526 12580\n",
      "- feature_2              1    12532 12584\n",
      "- log(feature_1 + 4)     1    12534 12586\n",
      "- as.factor(feature_9)   3    12563 12611\n",
      "- as.factor(feature_8)   2    12562 12612\n",
      "- feature_12             1    12563 12615\n",
      "- log(feature_4 + 1)     1    12592 12644\n",
      "- feature_11             1    12718 12770\n",
      "- feature_13             1    12784 12836\n",
      "- as.factor(feature_14) 11    13185 13217\n",
      "- as.factor(feature_15)  3    13438 13486\n",
      "- log(feature_3 + 2)     1    16334 16386\n"
     ]
    }
   ],
   "source": [
    "step3 <- step(fit.log.glm)"
   ]
  },
  {
   "cell_type": "markdown",
   "metadata": {},
   "source": [
    "The AIC is once again decreased, so our model is still improving, 13122 down to 12580. Feature 1 & 12 are really not contributing to this model they should be removed.\n",
    "\n",
    "Best model from step3:"
   ]
  },
  {
   "cell_type": "code",
   "execution_count": 40,
   "metadata": {},
   "outputs": [],
   "source": [
    "fit.step3.glm <- glm(formula = labels ~ log(feature_3 + 2) + \n",
    "    log(feature_4 + 1) + feature_11 + feature_13 + as.factor(feature_8) + \n",
    "    as.factor(feature_9) + as.factor(feature_14) + \n",
    "    as.factor(feature_15), family = binomial, data = train)"
   ]
  },
  {
   "cell_type": "markdown",
   "metadata": {},
   "source": [
    "We cannot compare these models with anova, as the log component makes them no longer from the same subset model. Our model is quite complex though and we want to reduce the features further. Although it would go against the AIC rating to say that features 1, 2 & 12 should be removed, they are contributing very little value to our model and there will be some uncertainty in those ratings (with more time we would quantify which features have high enough uncertainty and low enough contribution that we could remove those features), but for today, it is probable that features 1, 2 and 12 are not contributing anything significantly valuable to this model other than extra complexity so we will remove them."
   ]
  },
  {
   "cell_type": "code",
   "execution_count": 41,
   "metadata": {},
   "outputs": [
    {
     "data": {
      "text/plain": [
       "Confusion Matrix and Statistics\n",
       "\n",
       "          Reference\n",
       "Prediction     0     1\n",
       "         0 23323  2006\n",
       "         1   621  1176\n",
       "                                          \n",
       "               Accuracy : 0.9032          \n",
       "                 95% CI : (0.8996, 0.9067)\n",
       "    No Information Rate : 0.8827          \n",
       "    P-Value [Acc > NIR] : < 2.2e-16       \n",
       "                                          \n",
       "                  Kappa : 0.4236          \n",
       "                                          \n",
       " Mcnemar's Test P-Value : < 2.2e-16       \n",
       "                                          \n",
       "            Sensitivity : 0.36958         \n",
       "            Specificity : 0.97406         \n",
       "         Pos Pred Value : 0.65442         \n",
       "         Neg Pred Value : 0.92080         \n",
       "             Prevalence : 0.11730         \n",
       "         Detection Rate : 0.04335         \n",
       "   Detection Prevalence : 0.06625         \n",
       "      Balanced Accuracy : 0.67182         \n",
       "                                          \n",
       "       'Positive' Class : 1               \n",
       "                                          "
      ]
     },
     "metadata": {},
     "output_type": "display_data"
    }
   ],
   "source": [
    "evaluate(fit.step3.glm, train$labels)"
   ]
  },
  {
   "cell_type": "markdown",
   "metadata": {},
   "source": [
    "While the addition of the **logarithmic transformation** has left the accuracy and specificity mostly unchanged, this has given us a much needed boost of **2.3% extra sensitivity**."
   ]
  },
  {
   "cell_type": "markdown",
   "metadata": {},
   "source": [
    "## 4.2 First Model - Cross Validation"
   ]
  },
  {
   "cell_type": "markdown",
   "metadata": {},
   "source": [
    "We're going to swap from glm to cv.glmnet here so that **cross validation** is simpler to implement. The function cv.glm uses k=10 folds by default which suits us well, it also optimises lambda and alpha for us without requiring us to search that space, and it will scale our features which will make out model coefficients more interpretable. Unfortunately, it doesn't have the functionality to create a stratified k-fold which would compensate for our imbalanced label classes, this would be an ideal addition if we had extra time.\n",
    "\n",
    "As we mentioned earlier, the imbalance in our label classes (churn / no churn) is going to bias the model predictions towards 'no churn' if we only measure accuracy. However, the cv.glmnet function allows us to choose from the following parameters to optimise lambda with, and this gives us a chance to counter some of the effects of imbalance.\n",
    "- Mean square error (mse)\n",
    "- Binomial deviance (deviance)\n",
    "- Misclassification Error (class)\n",
    "- Area under the ROC Curve (auc)\n",
    "- Mean absolute error (mae)\n",
    "- Harrel's concordance (C) - Not suitable for our model\n",
    "\n",
    "ROC evaluation of a model gives equal weight to correct classification of both classes, which is why it is the best metric for this problem. Therefore, the AUC parameter will be used to optimise and assess the models from here on."
   ]
  },
  {
   "cell_type": "markdown",
   "metadata": {},
   "source": [
    "Create a model matrix which will handle the dummy variable conversion for factors."
   ]
  },
  {
   "cell_type": "code",
   "execution_count": 42,
   "metadata": {},
   "outputs": [],
   "source": [
    "\n",
    "\n",
    "#Converting dataset to a model matrix, this will handle our factors for us\n",
    "train_mat <- model.matrix(labels ~ log(feature_3 + 2) + log(feature_4 + 1) + feature_11 + feature_13 + \n",
    "    as.factor(feature_8) + as.factor(feature_9) + as.factor(feature_14) + as.factor(feature_15), data=train)\n",
    "\n",
    "\n",
    "test_mat <- model.matrix(labels ~ log(feature_3 + 2) + log(feature_4 + 1) + feature_11 + feature_13 + \n",
    "    as.factor(feature_8) + as.factor(feature_9) + as.factor(feature_14) + as.factor(feature_15), data=test)\n"
   ]
  },
  {
   "cell_type": "markdown",
   "metadata": {},
   "source": [
    "Fit a cross validated model and optimise lambda and alpha"
   ]
  },
  {
   "cell_type": "code",
   "execution_count": 43,
   "metadata": {},
   "outputs": [],
   "source": [
    "glm.cvfit = cv.glmnet(train_mat,train$labels, family = \"binomial\", type.measure = \"auc\", standardize = T)"
   ]
  },
  {
   "cell_type": "code",
   "execution_count": 44,
   "metadata": {},
   "outputs": [
    {
     "name": "stdout",
     "output_type": "stream",
     "text": [
      "Min lambda on standardized set : 0.0005221554"
     ]
    }
   ],
   "source": [
    "#return the best lambda\n",
    "cat(\"Min lambda on standardized set :\",glm.cvfit$lambda.min)"
   ]
  },
  {
   "cell_type": "markdown",
   "metadata": {},
   "source": [
    "MSE Plot as a function of log(lambda)"
   ]
  },
  {
   "cell_type": "code",
   "execution_count": 45,
   "metadata": {},
   "outputs": [
    {
     "data": {
      "image/png": "[encoded data removed]",
      "text/plain": [
       "plot without title"
      ]
     },
     "metadata": {
      "image/png": {
       "height": 840,
       "width": 840
      }
     },
     "output_type": "display_data"
    }
   ],
   "source": [
    "plot(glm.cvfit)"
   ]
  },
  {
   "cell_type": "code",
   "execution_count": 46,
   "metadata": {},
   "outputs": [
    {
     "name": "stdout",
     "output_type": "stream",
     "text": [
      "As we seein the plot, AUC is maximised at log(lambda) =  -7.56"
     ]
    }
   ],
   "source": [
    "cat(\"As we seein the plot, AUC is maximised at log(lambda) = \",round(log(glm.cvfit$lambda.min),2))"
   ]
  },
  {
   "cell_type": "markdown",
   "metadata": {},
   "source": [
    "Below, the coefficients of our model show us that some dummy variables have been eliminated as expected."
   ]
  },
  {
   "cell_type": "code",
   "execution_count": 47,
   "metadata": {},
   "outputs": [
    {
     "data": {
      "text/plain": [
       "25 x 1 sparse Matrix of class \"dgCMatrix\"\n",
       "                                  1\n",
       "(Intercept)             -3.87868044\n",
       "(Intercept)              .         \n",
       "log(feature_3 + 2)       3.00659852\n",
       "log(feature_4 + 1)      -0.26324513\n",
       "feature_11              -0.61784533\n",
       "feature_13              -0.47427503\n",
       "as.factor(feature_8)1   -0.13373609\n",
       "as.factor(feature_8)2    0.08479656\n",
       "as.factor(feature_9)1    .         \n",
       "as.factor(feature_9)2    0.18982324\n",
       "as.factor(feature_9)3    .         \n",
       "as.factor(feature_14)1  -0.15818547\n",
       "as.factor(feature_14)2   0.86045239\n",
       "as.factor(feature_14)3   .         \n",
       "as.factor(feature_14)4  -0.43081139\n",
       "as.factor(feature_14)5  -0.33017725\n",
       "as.factor(feature_14)6   0.18365728\n",
       "as.factor(feature_14)7   1.96232885\n",
       "as.factor(feature_14)8  -0.12065844\n",
       "as.factor(feature_14)9  -0.23545948\n",
       "as.factor(feature_14)10  1.23914716\n",
       "as.factor(feature_14)11  0.93744238\n",
       "as.factor(feature_15)1   .         \n",
       "as.factor(feature_15)2   2.29563132\n",
       "as.factor(feature_15)3  -0.20530999"
      ]
     },
     "metadata": {},
     "output_type": "display_data"
    }
   ],
   "source": [
    "coef(glm.cvfit)"
   ]
  },
  {
   "cell_type": "markdown",
   "metadata": {},
   "source": [
    "Evaluate the result:"
   ]
  },
  {
   "cell_type": "code",
   "execution_count": 48,
   "metadata": {},
   "outputs": [
    {
     "data": {
      "text/plain": [
       "Confusion Matrix and Statistics\n",
       "\n",
       "          Reference\n",
       "Prediction     0     1\n",
       "         0 23333  2024\n",
       "         1   611  1158\n",
       "                                          \n",
       "               Accuracy : 0.9029          \n",
       "                 95% CI : (0.8993, 0.9064)\n",
       "    No Information Rate : 0.8827          \n",
       "    P-Value [Acc > NIR] : < 2.2e-16       \n",
       "                                          \n",
       "                  Kappa : 0.4191          \n",
       "                                          \n",
       " Mcnemar's Test P-Value : < 2.2e-16       \n",
       "                                          \n",
       "            Sensitivity : 0.36392         \n",
       "            Specificity : 0.97448         \n",
       "         Pos Pred Value : 0.65461         \n",
       "         Neg Pred Value : 0.92018         \n",
       "             Prevalence : 0.11730         \n",
       "         Detection Rate : 0.04269         \n",
       "   Detection Prevalence : 0.06521         \n",
       "      Balanced Accuracy : 0.66920         \n",
       "                                          \n",
       "       'Positive' Class : 1               \n",
       "                                          "
      ]
     },
     "metadata": {},
     "output_type": "display_data"
    }
   ],
   "source": [
    "std_predict <- predict(glm.cvfit, newx = train_mat, s = \"lambda.min\",type = \"class\")\n",
    "std_probability <- predict(glm.cvfit, newx = train_mat, s = \"lambda.min\", type = \"response\")\n",
    "\n",
    "\n",
    "std_confusion_mat <- confusionMatrix(as.factor(std_predict), as.factor(train$labels), positive=\"1\")\n",
    "std_confusion_mat"
   ]
  },
  {
   "cell_type": "markdown",
   "metadata": {},
   "source": [
    "Our results show that the model is **90.3% accurate** however, our **Sensitivity (True Positive Rate) is low at 36%**, meaning we're only detecting 36% of our churn cases. We probably want to shift our threshold so that we can detect as many as possible.\n",
    "\n",
    "Assume that the insurance company has specified that they want to detect 90% of churn cases, no matter the cost of accidentally chasing down false positives. By shifting the probability threshold, we can increase the sensitivity to 90%."
   ]
  },
  {
   "cell_type": "code",
   "execution_count": 49,
   "metadata": {},
   "outputs": [
    {
     "data": {
      "text/plain": [
       "Confusion Matrix and Statistics\n",
       "\n",
       "          Reference\n",
       "Prediction     0     1\n",
       "         0 18053   312\n",
       "         1  5891  2870\n",
       "                                          \n",
       "               Accuracy : 0.7713          \n",
       "                 95% CI : (0.7663, 0.7763)\n",
       "    No Information Rate : 0.8827          \n",
       "    P-Value [Acc > NIR] : 1               \n",
       "                                          \n",
       "                  Kappa : 0.3726          \n",
       "                                          \n",
       " Mcnemar's Test P-Value : <2e-16          \n",
       "                                          \n",
       "            Sensitivity : 0.9019          \n",
       "            Specificity : 0.7540          \n",
       "         Pos Pred Value : 0.3276          \n",
       "         Neg Pred Value : 0.9830          \n",
       "             Prevalence : 0.1173          \n",
       "         Detection Rate : 0.1058          \n",
       "   Detection Prevalence : 0.3230          \n",
       "      Balanced Accuracy : 0.8280          \n",
       "                                          \n",
       "       'Positive' Class : 1               \n",
       "                                          "
      ]
     },
     "metadata": {},
     "output_type": "display_data"
    }
   ],
   "source": [
    "# threshold for adjusting sensitivity.\n",
    "t <- 0.078 \n",
    "\n",
    "# convert probabilities to predictions\n",
    "predict_binary <- ifelse(std_probability > t, 1, 0)\n",
    "CM <- confusionMatrix(as.factor(predict_binary), as.factor(train$labels), positive=\"1\")\n",
    "CM"
   ]
  },
  {
   "cell_type": "markdown",
   "metadata": {},
   "source": [
    "The cost of setting the churn threshold so high is that our accuracy has dropped to 77% (although balanced accuracy is much improved at 82%) and the specificity to 75%, meaning that 25% of customers who do not plan to leave are predicted to do so. This could amount to a huge amount of work for a marketing team to reach out to so many customers, in which case you might refine that threshold a bit more depending on the preventative measures you wish to implement."
   ]
  },
  {
   "cell_type": "markdown",
   "metadata": {},
   "source": [
    "## 4.3 Second Model - Linear Discriminant Analysis<a class=\"anchor\" name=\"DevLDA\">"
   ]
  },
  {
   "cell_type": "markdown",
   "metadata": {},
   "source": [
    "Fit the LDA model to all features:"
   ]
  },
  {
   "cell_type": "code",
   "execution_count": 50,
   "metadata": {
    "scrolled": true
   },
   "outputs": [
    {
     "data": {
      "text/plain": [
       "Call:\n",
       "lda(labels ~ ., data = train)\n",
       "\n",
       "Prior probabilities of groups:\n",
       "        0         1 \n",
       "0.8826956 0.1173044 \n",
       "\n",
       "Group means:\n",
       "    feature_0   feature_1   feature_2  feature_3   feature_4   feature_5\n",
       "0 -0.01055885 -0.01687312  0.01452347 -0.1441421  0.02796778 -0.04315315\n",
       "1  0.03761570  0.13836133 -0.07790341  1.0639063 -0.21085256  0.29960662\n",
       "    feature_6 feature_7 feature_8 feature_9  feature_10 feature_11 feature_12\n",
       "0 -0.04359262  4.292516  1.160750  1.206774 0.019044437  0.5768042 0.16764116\n",
       "1  0.25041530  4.665933  1.240729  1.367065 0.009113765  0.3670647 0.09365179\n",
       "  feature_13 feature_14 feature_15\n",
       "0  0.6849733   5.541221   2.591338\n",
       "1  0.2721559   5.304840   2.344123\n",
       "\n",
       "Coefficients of linear discriminants:\n",
       "                    LD1\n",
       "feature_0   0.040904031\n",
       "feature_1   0.052893029\n",
       "feature_2  -0.030310505\n",
       "feature_3   0.943193304\n",
       "feature_4  -0.077309868\n",
       "feature_5   0.346286763\n",
       "feature_6   0.275782235\n",
       "feature_7   0.004894059\n",
       "feature_8   0.125733950\n",
       "feature_9   0.132972701\n",
       "feature_10 -0.169616378\n",
       "feature_11 -0.629516904\n",
       "feature_12 -0.345676579\n",
       "feature_13 -0.287418092\n",
       "feature_14  0.034465294\n",
       "feature_15  0.283324726"
      ]
     },
     "metadata": {},
     "output_type": "display_data"
    }
   ],
   "source": [
    "fit.lda = lda(labels ~ ., data = train)\n",
    "fit.lda"
   ]
  },
  {
   "cell_type": "code",
   "execution_count": 51,
   "metadata": {
    "scrolled": true
   },
   "outputs": [
    {
     "data": {
      "text/plain": [
       "Confusion Matrix and Statistics\n",
       "\n",
       "          Reference\n",
       "Prediction     0     1\n",
       "         0 23227  2256\n",
       "         1   717   926\n",
       "                                          \n",
       "               Accuracy : 0.8904          \n",
       "                 95% CI : (0.8866, 0.8941)\n",
       "    No Information Rate : 0.8827          \n",
       "    P-Value [Acc > NIR] : 3.593e-05       \n",
       "                                          \n",
       "                  Kappa : 0.3303          \n",
       "                                          \n",
       " Mcnemar's Test P-Value : < 2.2e-16       \n",
       "                                          \n",
       "            Sensitivity : 0.29101         \n",
       "            Specificity : 0.97006         \n",
       "         Pos Pred Value : 0.56360         \n",
       "         Neg Pred Value : 0.91147         \n",
       "             Prevalence : 0.11730         \n",
       "         Detection Rate : 0.03414         \n",
       "   Detection Prevalence : 0.06057         \n",
       "      Balanced Accuracy : 0.63053         \n",
       "                                          \n",
       "       'Positive' Class : 1               \n",
       "                                          "
      ]
     },
     "metadata": {},
     "output_type": "display_data"
    }
   ],
   "source": [
    "pred.lda = predict(fit.lda, train)\n",
    "confusionMatrix(pred.lda$class, train$labels, positive=\"1\")"
   ]
  },
  {
   "cell_type": "markdown",
   "metadata": {},
   "source": [
    "As we found with logistic regression, the lda model trained on all features makes a **biased prediction** towards the **majority label class**. As they are both linear models, we suspect the same features that were chosen by the **step function** will perform well on an LDA model. The features from step3 are used below:"
   ]
  },
  {
   "cell_type": "code",
   "execution_count": 52,
   "metadata": {
    "scrolled": true
   },
   "outputs": [
    {
     "data": {
      "text/plain": [
       "Call:\n",
       "lda(labels ~ log(feature_3 + 2) + log(feature_4 + 1) + feature_11 + \n",
       "    feature_13 + as.factor(feature_8) + as.factor(feature_9) + \n",
       "    as.factor(feature_14) + as.factor(feature_15), data = train, \n",
       "    family = binomial)\n",
       "\n",
       "Prior probabilities of groups:\n",
       "        0         1 \n",
       "0.8826956 0.1173044 \n",
       "\n",
       "Group means:\n",
       "  log(feature_3 + 2) log(feature_4 + 1) feature_11 feature_13\n",
       "0          0.5539135         -0.2236684  0.5768042  0.6849733\n",
       "1          1.0176981         -0.4038181  0.3670647  0.2721559\n",
       "  as.factor(feature_8)1 as.factor(feature_8)2 as.factor(feature_9)1\n",
       "0             0.6159790             0.2723856             0.5178333\n",
       "1             0.5229415             0.3588938             0.4569453\n",
       "  as.factor(feature_9)2 as.factor(feature_9)3 as.factor(feature_14)1\n",
       "0             0.2838289            0.04042766              0.1396174\n",
       "1             0.3871779            0.04525456              0.1260214\n",
       "  as.factor(feature_14)2 as.factor(feature_14)3 as.factor(feature_14)4\n",
       "0            0.002464083             0.05663214             0.03324424\n",
       "1            0.018227530             0.08045255             0.02796983\n",
       "  as.factor(feature_14)5 as.factor(feature_14)6 as.factor(feature_14)7\n",
       "0              0.1574507              0.1200718            0.005763448\n",
       "1              0.1228787              0.1037084            0.047454431\n",
       "  as.factor(feature_14)8 as.factor(feature_14)9 as.factor(feature_14)10\n",
       "0              0.3177414             0.09041931              0.01023221\n",
       "1              0.1766185             0.07573853              0.06002514\n",
       "  as.factor(feature_14)11 as.factor(feature_15)1 as.factor(feature_15)2\n",
       "0             0.007976946             0.03788005             0.01290511\n",
       "1             0.047768699             0.05782527             0.19044626\n",
       "  as.factor(feature_15)3\n",
       "0              0.8425493\n",
       "1              0.6351351\n",
       "\n",
       "Coefficients of linear discriminants:\n",
       "                                LD1\n",
       "log(feature_3 + 2)       2.12655462\n",
       "log(feature_4 + 1)      -0.04783205\n",
       "feature_11              -0.37579447\n",
       "feature_13              -0.25044702\n",
       "as.factor(feature_8)1   -0.10036163\n",
       "as.factor(feature_8)2    0.05885736\n",
       "as.factor(feature_9)1    0.03885763\n",
       "as.factor(feature_9)2    0.19611312\n",
       "as.factor(feature_9)3    0.09511386\n",
       "as.factor(feature_14)1  -0.56380858\n",
       "as.factor(feature_14)2   1.00160806\n",
       "as.factor(feature_14)3  -0.24368863\n",
       "as.factor(feature_14)4  -0.76788010\n",
       "as.factor(feature_14)5  -0.56026676\n",
       "as.factor(feature_14)6  -0.06283886\n",
       "as.factor(feature_14)7   1.87839387\n",
       "as.factor(feature_14)8  -0.35078391\n",
       "as.factor(feature_14)9  -0.53373256\n",
       "as.factor(feature_14)10  1.08874182\n",
       "as.factor(feature_14)11  0.89922259\n",
       "as.factor(feature_15)1   0.19243804\n",
       "as.factor(feature_15)2   2.94802511\n",
       "as.factor(feature_15)3  -0.03345371"
      ]
     },
     "metadata": {},
     "output_type": "display_data"
    }
   ],
   "source": [
    "fit.step3.lda <- lda(formula = labels ~ log(feature_3 + 2) + log(feature_4 + 1) + feature_11 + feature_13 + as.factor(feature_8) +\n",
    "    as.factor(feature_9) + as.factor(feature_14) + as.factor(feature_15), family = binomial, data = train)\n",
    "\n",
    "fit.step3.lda"
   ]
  },
  {
   "cell_type": "code",
   "execution_count": 53,
   "metadata": {},
   "outputs": [
    {
     "data": {
      "text/plain": [
       "Confusion Matrix and Statistics\n",
       "\n",
       "          Reference\n",
       "Prediction     0     1\n",
       "         0 23097  1824\n",
       "         1   847  1358\n",
       "                                          \n",
       "               Accuracy : 0.9015          \n",
       "                 95% CI : (0.8979, 0.9051)\n",
       "    No Information Rate : 0.8827          \n",
       "    P-Value [Acc > NIR] : < 2.2e-16       \n",
       "                                          \n",
       "                  Kappa : 0.4515          \n",
       "                                          \n",
       " Mcnemar's Test P-Value : < 2.2e-16       \n",
       "                                          \n",
       "            Sensitivity : 0.42678         \n",
       "            Specificity : 0.96463         \n",
       "         Pos Pred Value : 0.61587         \n",
       "         Neg Pred Value : 0.92681         \n",
       "             Prevalence : 0.11730         \n",
       "         Detection Rate : 0.05006         \n",
       "   Detection Prevalence : 0.08129         \n",
       "      Balanced Accuracy : 0.69570         \n",
       "                                          \n",
       "       'Positive' Class : 1               \n",
       "                                          "
      ]
     },
     "metadata": {},
     "output_type": "display_data"
    }
   ],
   "source": [
    "pred.lda = predict(fit.step3.lda, train)\n",
    "confusionMatrix(pred.lda$class, train$labels, positive=\"1\")"
   ]
  },
  {
   "cell_type": "markdown",
   "metadata": {},
   "source": [
    "The sensitivity of this model is better than the logit model (while it had unchanged probability threshold), but the down side of this model is that we cannot adjust the probabilities and choose to preference the minority label class."
   ]
  },
  {
   "cell_type": "markdown",
   "metadata": {},
   "source": [
    "## 5. Model Scoring on Test Data <a class=\"anchor\" name=\"MScore\">"
   ]
  },
  {
   "cell_type": "markdown",
   "metadata": {},
   "source": [
    "Below we score the model on our test data using accuracy, sensitivity and specificity, as well as boostrap standard error for uncertainty."
   ]
  },
  {
   "cell_type": "markdown",
   "metadata": {},
   "source": [
    "## 5.1 Evaluation of Generalised Linear Model"
   ]
  },
  {
   "cell_type": "markdown",
   "metadata": {},
   "source": [
    "Below our best outcome for a general linear model is shown at two probability thresholds."
   ]
  },
  {
   "cell_type": "code",
   "execution_count": 54,
   "metadata": {},
   "outputs": [
    {
     "name": "stdout",
     "output_type": "stream",
     "text": [
      "Performance metrics for predictions with default probability threshold at 0.5:"
     ]
    },
    {
     "data": {
      "text/plain": [
       "Confusion Matrix and Statistics\n",
       "\n",
       "          Reference\n",
       "Prediction    0    1\n",
       "         0 5838  500\n",
       "         1  159  285\n",
       "                                          \n",
       "               Accuracy : 0.9028          \n",
       "                 95% CI : (0.8955, 0.9098)\n",
       "    No Information Rate : 0.8843          \n",
       "    P-Value [Acc > NIR] : 5.381e-07       \n",
       "                                          \n",
       "                  Kappa : 0.4149          \n",
       "                                          \n",
       " Mcnemar's Test P-Value : < 2.2e-16       \n",
       "                                          \n",
       "            Sensitivity : 0.36306         \n",
       "            Specificity : 0.97349         \n",
       "         Pos Pred Value : 0.64189         \n",
       "         Neg Pred Value : 0.92111         \n",
       "             Prevalence : 0.11575         \n",
       "         Detection Rate : 0.04202         \n",
       "   Detection Prevalence : 0.06547         \n",
       "      Balanced Accuracy : 0.66827         \n",
       "                                          \n",
       "       'Positive' Class : 1               \n",
       "                                          "
      ]
     },
     "metadata": {},
     "output_type": "display_data"
    },
    {
     "name": "stdout",
     "output_type": "stream",
     "text": [
      "Performance metrics for predictions with adjusted probability threshold at 0.084, to increase senseitivity to 90%:"
     ]
    },
    {
     "data": {
      "text/plain": [
       "Confusion Matrix and Statistics\n",
       "\n",
       "          Reference\n",
       "Prediction    0    1\n",
       "         0 4477   76\n",
       "         1 1520  709\n",
       "                                          \n",
       "               Accuracy : 0.7647          \n",
       "                 95% CI : (0.7544, 0.7747)\n",
       "    No Information Rate : 0.8843          \n",
       "    P-Value [Acc > NIR] : 1               \n",
       "                                          \n",
       "                  Kappa : 0.3611          \n",
       "                                          \n",
       " Mcnemar's Test P-Value : <2e-16          \n",
       "                                          \n",
       "            Sensitivity : 0.9032          \n",
       "            Specificity : 0.7465          \n",
       "         Pos Pred Value : 0.3181          \n",
       "         Neg Pred Value : 0.9833          \n",
       "             Prevalence : 0.1157          \n",
       "         Detection Rate : 0.1045          \n",
       "   Detection Prevalence : 0.3287          \n",
       "      Balanced Accuracy : 0.8249          \n",
       "                                          \n",
       "       'Positive' Class : 1               \n",
       "                                          "
      ]
     },
     "metadata": {},
     "output_type": "display_data"
    }
   ],
   "source": [
    "std_predict <- predict(glm.cvfit, newx = test_mat, s = \"lambda.min\",type = \"class\")\n",
    "std_probability <- predict(glm.cvfit, newx = test_mat, s = \"lambda.min\", type = \"response\")\n",
    "\n",
    "# threshold at 0.5\n",
    "cat(\"Performance metrics for predictions with default probability threshold at 0.5:\")\n",
    "confusionMatrix(as.factor(std_predict), as.factor(test$labels), positive=\"1\")\n",
    "\n",
    "# threshold for adjusting sensitivity.\n",
    "t <- 0.076 \n",
    "\n",
    "# convert probabilities to predictions\n",
    "predict_binary <- ifelse(std_probability > t, 1, 0)\n",
    "\n",
    "cat(\"Performance metrics for predictions with adjusted probability threshold at 0.084, to increase senseitivity to 90%:\")\n",
    "confusionMatrix(as.factor(predict_binary), as.factor(test$labels), positive=\"1\")\n"
   ]
  },
  {
   "cell_type": "markdown",
   "metadata": {},
   "source": [
    "### GLM Bootstrap error:"
   ]
  },
  {
   "cell_type": "code",
   "execution_count": 55,
   "metadata": {},
   "outputs": [],
   "source": [
    "# boot function to recalculate the model based on each sample of the dataset\n",
    "boot.fn <- function(data, index) {\n",
    "    fit <- glm(formula = labels ~ log(feature_3 + 2) + log(feature_4 + 1) + feature_11 + feature_13 + as.factor(feature_8) +\n",
    "    as.factor(feature_9) + as.factor(feature_14) + as.factor(feature_15), family = binomial, data = train, subset = index)\n",
    "    return (coef(fit))\n",
    "}"
   ]
  },
  {
   "cell_type": "code",
   "execution_count": 56,
   "metadata": {},
   "outputs": [],
   "source": [
    "#  set the index for a sample\n",
    "index <- sample(dim(train)[1], dim(train)[1] / 2)"
   ]
  },
  {
   "cell_type": "markdown",
   "metadata": {},
   "source": [
    "Below we use the bootstrap function to estimate the standard error of our feature coefficients. It's a bit difficult to interpret because there are so many dummy variables, we'll provide an index of them below."
   ]
  },
  {
   "cell_type": "code",
   "execution_count": 57,
   "metadata": {},
   "outputs": [
    {
     "data": {
      "text/plain": [
       "\n",
       "ORDINARY NONPARAMETRIC BOOTSTRAP\n",
       "\n",
       "\n",
       "Call:\n",
       "boot(data = train, statistic = boot.fn, R = 1000)\n",
       "\n",
       "\n",
       "Bootstrap Statistics :\n",
       "        original        bias    std. error\n",
       "t1*  -3.82206420  0.0001550054  0.15157035\n",
       "t2*   3.30726851  0.0066620298  0.06526583\n",
       "t3*  -0.35474907  0.0010815289  0.04865484\n",
       "t4*  -0.78698635 -0.0080512107  0.06151141\n",
       "t5*  -0.65896554 -0.0011652724  0.04845240\n",
       "t6*  -0.21439437 -0.0018220369  0.07483212\n",
       "t7*   0.09375067 -0.0025629204  0.07922197\n",
       "t8*   0.17455802  0.0004604736  0.07803962\n",
       "t9*   0.44677077 -0.0001494480  0.08439055\n",
       "t10*  0.27081944 -0.0030043907  0.14176933\n",
       "t11* -0.83460618 -0.0042316895  0.11662458\n",
       "t12*  0.78935311 -0.0131068744  0.29648866\n",
       "t13* -0.36244694 -0.0050007475  0.12216189\n",
       "t14* -1.33573113 -0.0083085196  0.16332429\n",
       "t15* -0.99772682 -0.0043098425  0.10886985\n",
       "t16*  0.10249986 -0.0031451141  0.13447534\n",
       "t17*  1.74516117 -0.0033918293  0.17544373\n",
       "t18* -0.58491139 -0.0011354831  0.09612413\n",
       "t19* -0.95367508 -0.0021605571  0.11672563\n",
       "t20*  1.00058460 -0.0024484466  0.17452304\n",
       "t21*  0.68201633 -0.0042938348  0.17432429\n",
       "t22*  0.19170911 -0.0028642456  0.12725411\n",
       "t23*  2.49166885  0.0124260667  0.11099802\n",
       "t24* -0.13320378 -0.0006781575  0.08004287"
      ]
     },
     "metadata": {},
     "output_type": "display_data"
    }
   ],
   "source": [
    "set.seed(1234)\n",
    "myBootstrap<-boot(train, boot.fn, 1000)\n",
    "myBootstrap"
   ]
  },
  {
   "cell_type": "markdown",
   "metadata": {},
   "source": [
    "Features in t12 has the highest uncertainty, this corresponds to feature feature_14 category_2.\n",
    "\n",
    "Features in t2, t3 t4, t5 have the lowest uncertainty, these respectively correspond to:\n",
    "- feature_3\n",
    "- feature_4\n",
    "- feature_11\n",
    "- feature_13\n",
    "\n",
    "See below to help us understand which row in the above statistics corresponds to which variable:"
   ]
  },
  {
   "cell_type": "code",
   "execution_count": 58,
   "metadata": {},
   "outputs": [
    {
     "data": {
      "text/html": [
       "<table class=\"dataframe\">\n",
       "<caption>A data.frame: 24 × 2</caption>\n",
       "<thead>\n",
       "\t<tr><th scope=col>ID</th><th scope=col>colnames(train_mat)</th></tr>\n",
       "\t<tr><th scope=col>&lt;int&gt;</th><th scope=col>&lt;fct&gt;</th></tr>\n",
       "</thead>\n",
       "<tbody>\n",
       "\t<tr><td> 1</td><td>(Intercept)            </td></tr>\n",
       "\t<tr><td> 2</td><td>log(feature_3 + 2)     </td></tr>\n",
       "\t<tr><td> 3</td><td>log(feature_4 + 1)     </td></tr>\n",
       "\t<tr><td> 4</td><td>feature_11             </td></tr>\n",
       "\t<tr><td> 5</td><td>feature_13             </td></tr>\n",
       "\t<tr><td> 6</td><td>as.factor(feature_8)1  </td></tr>\n",
       "\t<tr><td> 7</td><td>as.factor(feature_8)2  </td></tr>\n",
       "\t<tr><td> 8</td><td>as.factor(feature_9)1  </td></tr>\n",
       "\t<tr><td> 9</td><td>as.factor(feature_9)2  </td></tr>\n",
       "\t<tr><td>10</td><td>as.factor(feature_9)3  </td></tr>\n",
       "\t<tr><td>11</td><td>as.factor(feature_14)1 </td></tr>\n",
       "\t<tr><td>12</td><td>as.factor(feature_14)2 </td></tr>\n",
       "\t<tr><td>13</td><td>as.factor(feature_14)3 </td></tr>\n",
       "\t<tr><td>14</td><td>as.factor(feature_14)4 </td></tr>\n",
       "\t<tr><td>15</td><td>as.factor(feature_14)5 </td></tr>\n",
       "\t<tr><td>16</td><td>as.factor(feature_14)6 </td></tr>\n",
       "\t<tr><td>17</td><td>as.factor(feature_14)7 </td></tr>\n",
       "\t<tr><td>18</td><td>as.factor(feature_14)8 </td></tr>\n",
       "\t<tr><td>19</td><td>as.factor(feature_14)9 </td></tr>\n",
       "\t<tr><td>20</td><td>as.factor(feature_14)10</td></tr>\n",
       "\t<tr><td>21</td><td>as.factor(feature_14)11</td></tr>\n",
       "\t<tr><td>22</td><td>as.factor(feature_15)1 </td></tr>\n",
       "\t<tr><td>23</td><td>as.factor(feature_15)2 </td></tr>\n",
       "\t<tr><td>24</td><td>as.factor(feature_15)3 </td></tr>\n",
       "</tbody>\n",
       "</table>\n"
      ],
      "text/latex": [
       "A data.frame: 24 × 2\n",
       "\\begin{tabular}{ll}\n",
       " ID & colnames(train\\_mat)\\\\\n",
       " <int> & <fct>\\\\\n",
       "\\hline\n",
       "\t  1 & (Intercept)            \\\\\n",
       "\t  2 & log(feature\\_3 + 2)     \\\\\n",
       "\t  3 & log(feature\\_4 + 1)     \\\\\n",
       "\t  4 & feature\\_11             \\\\\n",
       "\t  5 & feature\\_13             \\\\\n",
       "\t  6 & as.factor(feature\\_8)1  \\\\\n",
       "\t  7 & as.factor(feature\\_8)2  \\\\\n",
       "\t  8 & as.factor(feature\\_9)1  \\\\\n",
       "\t  9 & as.factor(feature\\_9)2  \\\\\n",
       "\t 10 & as.factor(feature\\_9)3  \\\\\n",
       "\t 11 & as.factor(feature\\_14)1 \\\\\n",
       "\t 12 & as.factor(feature\\_14)2 \\\\\n",
       "\t 13 & as.factor(feature\\_14)3 \\\\\n",
       "\t 14 & as.factor(feature\\_14)4 \\\\\n",
       "\t 15 & as.factor(feature\\_14)5 \\\\\n",
       "\t 16 & as.factor(feature\\_14)6 \\\\\n",
       "\t 17 & as.factor(feature\\_14)7 \\\\\n",
       "\t 18 & as.factor(feature\\_14)8 \\\\\n",
       "\t 19 & as.factor(feature\\_14)9 \\\\\n",
       "\t 20 & as.factor(feature\\_14)10\\\\\n",
       "\t 21 & as.factor(feature\\_14)11\\\\\n",
       "\t 22 & as.factor(feature\\_15)1 \\\\\n",
       "\t 23 & as.factor(feature\\_15)2 \\\\\n",
       "\t 24 & as.factor(feature\\_15)3 \\\\\n",
       "\\end{tabular}\n"
      ],
      "text/markdown": [
       "\n",
       "A data.frame: 24 × 2\n",
       "\n",
       "| ID &lt;int&gt; | colnames(train_mat) &lt;fct&gt; |\n",
       "|---|---|\n",
       "|  1 | (Intercept)             |\n",
       "|  2 | log(feature_3 + 2)      |\n",
       "|  3 | log(feature_4 + 1)      |\n",
       "|  4 | feature_11              |\n",
       "|  5 | feature_13              |\n",
       "|  6 | as.factor(feature_8)1   |\n",
       "|  7 | as.factor(feature_8)2   |\n",
       "|  8 | as.factor(feature_9)1   |\n",
       "|  9 | as.factor(feature_9)2   |\n",
       "| 10 | as.factor(feature_9)3   |\n",
       "| 11 | as.factor(feature_14)1  |\n",
       "| 12 | as.factor(feature_14)2  |\n",
       "| 13 | as.factor(feature_14)3  |\n",
       "| 14 | as.factor(feature_14)4  |\n",
       "| 15 | as.factor(feature_14)5  |\n",
       "| 16 | as.factor(feature_14)6  |\n",
       "| 17 | as.factor(feature_14)7  |\n",
       "| 18 | as.factor(feature_14)8  |\n",
       "| 19 | as.factor(feature_14)9  |\n",
       "| 20 | as.factor(feature_14)10 |\n",
       "| 21 | as.factor(feature_14)11 |\n",
       "| 22 | as.factor(feature_15)1  |\n",
       "| 23 | as.factor(feature_15)2  |\n",
       "| 24 | as.factor(feature_15)3  |\n",
       "\n"
      ],
      "text/plain": [
       "   ID colnames(train_mat)    \n",
       "1   1 (Intercept)            \n",
       "2   2 log(feature_3 + 2)     \n",
       "3   3 log(feature_4 + 1)     \n",
       "4   4 feature_11             \n",
       "5   5 feature_13             \n",
       "6   6 as.factor(feature_8)1  \n",
       "7   7 as.factor(feature_8)2  \n",
       "8   8 as.factor(feature_9)1  \n",
       "9   9 as.factor(feature_9)2  \n",
       "10 10 as.factor(feature_9)3  \n",
       "11 11 as.factor(feature_14)1 \n",
       "12 12 as.factor(feature_14)2 \n",
       "13 13 as.factor(feature_14)3 \n",
       "14 14 as.factor(feature_14)4 \n",
       "15 15 as.factor(feature_14)5 \n",
       "16 16 as.factor(feature_14)6 \n",
       "17 17 as.factor(feature_14)7 \n",
       "18 18 as.factor(feature_14)8 \n",
       "19 19 as.factor(feature_14)9 \n",
       "20 20 as.factor(feature_14)10\n",
       "21 21 as.factor(feature_14)11\n",
       "22 22 as.factor(feature_15)1 \n",
       "23 23 as.factor(feature_15)2 \n",
       "24 24 as.factor(feature_15)3 "
      ]
     },
     "metadata": {},
     "output_type": "display_data"
    }
   ],
   "source": [
    "tibble::rowid_to_column(as.data.frame(colnames(train_mat)), \"ID\")"
   ]
  },
  {
   "cell_type": "markdown",
   "metadata": {},
   "source": [
    "## 5.2 Evaluation of Linear Disciminant Analysis Model"
   ]
  },
  {
   "cell_type": "code",
   "execution_count": 59,
   "metadata": {},
   "outputs": [
    {
     "data": {
      "text/plain": [
       "Confusion Matrix and Statistics\n",
       "\n",
       "          Reference\n",
       "Prediction    0    1\n",
       "         0 5782  454\n",
       "         1  215  331\n",
       "                                         \n",
       "               Accuracy : 0.9014         \n",
       "                 95% CI : (0.894, 0.9084)\n",
       "    No Information Rate : 0.8843         \n",
       "    P-Value [Acc > NIR] : 3.753e-06      \n",
       "                                         \n",
       "                  Kappa : 0.4446         \n",
       "                                         \n",
       " Mcnemar's Test P-Value : < 2.2e-16      \n",
       "                                         \n",
       "            Sensitivity : 0.42166        \n",
       "            Specificity : 0.96415        \n",
       "         Pos Pred Value : 0.60623        \n",
       "         Neg Pred Value : 0.92720        \n",
       "             Prevalence : 0.11575        \n",
       "         Detection Rate : 0.04881        \n",
       "   Detection Prevalence : 0.08051        \n",
       "      Balanced Accuracy : 0.69290        \n",
       "                                         \n",
       "       'Positive' Class : 1              \n",
       "                                         "
      ]
     },
     "metadata": {},
     "output_type": "display_data"
    }
   ],
   "source": [
    "pred.lda = predict(fit.step3.lda, test)\n",
    "confusionMatrix(pred.lda$class, test$labels, positive=\"1\")"
   ]
  },
  {
   "cell_type": "markdown",
   "metadata": {},
   "source": [
    "This model has a **higher sensitivity** than the final glm model with default probability threshold. The accuracy is a smidge lower but this is not a material difference. However, the fact that the glm model gives us the ability to shift the bar in order to manipulate the sensitivity score is an unquestionable advantage in a problem such as this. A marketing team might be able to devise a staged response to customers based on their risk level, those with the greatest probability of leaving may warrant greater intervention measures."
   ]
  },
  {
   "cell_type": "markdown",
   "metadata": {},
   "source": [
    "### LDA Bootstrap error\n",
    "Redefine the boot function for lda."
   ]
  },
  {
   "cell_type": "code",
   "execution_count": 60,
   "metadata": {},
   "outputs": [],
   "source": [
    "boot.fn <- function(data, index) {\n",
    "    fit <- lda(formula = labels ~ log(feature_3 + 2) + log(feature_4 + 1) + feature_11 + feature_13 + as.factor(feature_8) +\n",
    "    as.factor(feature_9) + as.factor(feature_14) + as.factor(feature_15), family = binomial, data = train, subset = index)\n",
    "    return (coef(fit))\n",
    "}"
   ]
  },
  {
   "cell_type": "markdown",
   "metadata": {},
   "source": [
    "Estimate bootstrap error:"
   ]
  },
  {
   "cell_type": "code",
   "execution_count": 61,
   "metadata": {},
   "outputs": [
    {
     "data": {
      "text/plain": [
       "\n",
       "ORDINARY NONPARAMETRIC BOOTSTRAP\n",
       "\n",
       "\n",
       "Call:\n",
       "boot(data = train, statistic = boot.fn, R = 1000)\n",
       "\n",
       "\n",
       "Bootstrap Statistics :\n",
       "        original        bias    std. error\n",
       "t1*   2.12655462 -0.0030945375  0.03587594\n",
       "t2*  -0.04783205  0.0003051808  0.01781525\n",
       "t3*  -0.37579447  0.0014629635  0.02797130\n",
       "t4*  -0.25044702  0.0004037174  0.01975007\n",
       "t5*  -0.10036163  0.0010686944  0.03599078\n",
       "t6*   0.05885736  0.0009478020  0.03958033\n",
       "t7*   0.03885763 -0.0008607981  0.02953705\n",
       "t8*   0.19611312 -0.0002622491  0.03510479\n",
       "t9*   0.09511386 -0.0029170547  0.06186013\n",
       "t10* -0.56380858 -0.0024444100  0.07238720\n",
       "t11*  1.00160806  0.0084858498  0.29210337\n",
       "t12* -0.24368863 -0.0034461956  0.08267755\n",
       "t13* -0.76788010  0.0012698246  0.08515351\n",
       "t14* -0.56026676 -0.0013078624  0.06680245\n",
       "t15* -0.06283886 -0.0005732603  0.07668322\n",
       "t16*  1.87839387  0.0073209980  0.19332453\n",
       "t17* -0.35078391 -0.0015655579  0.06503386\n",
       "t18* -0.53373256 -0.0011389856  0.06940129\n",
       "t19*  1.08874182  0.0069921209  0.15843164\n",
       "t20*  0.89922259  0.0035119118  0.17319399\n",
       "t21*  0.19243804  0.0005583861  0.07758724\n",
       "t22*  2.94802511 -0.0006413273  0.10472908\n",
       "t23* -0.03345371 -0.0000948979  0.04687941"
      ]
     },
     "metadata": {},
     "output_type": "display_data"
    }
   ],
   "source": [
    "myBootstrap<-boot(train, boot.fn, 1000)\n",
    "myBootstrap"
   ]
  },
  {
   "cell_type": "markdown",
   "metadata": {},
   "source": [
    "There's one less value in this as we no longer have an intercept for lda, so the feature names are offset by one from before.\n",
    "\n",
    "Uncertainty in this model is very similar to the logistic regression model, although the LD1 coefficients are produced and scaled differently to the logit model, so perhaps they are not comparable in this way. Our features with highest uncertainty again appear to be in feature 14, our lowest uncertainty is in t4 (feature 4), accompanied by t2, t3 & t4. These correspond to features 4, 11 & 13. "
   ]
  },
  {
   "cell_type": "markdown",
   "metadata": {},
   "source": [
    "Index of feature names in bootstrap uncertainty table:"
   ]
  },
  {
   "cell_type": "code",
   "execution_count": 62,
   "metadata": {},
   "outputs": [
    {
     "data": {
      "text/html": [
       "<table class=\"dataframe\">\n",
       "<caption>A data.frame: 23 × 2</caption>\n",
       "<thead>\n",
       "\t<tr><th scope=col>ID</th><th scope=col>colnames(train_mat)[-1]</th></tr>\n",
       "\t<tr><th scope=col>&lt;int&gt;</th><th scope=col>&lt;fct&gt;</th></tr>\n",
       "</thead>\n",
       "<tbody>\n",
       "\t<tr><td> 1</td><td>log(feature_3 + 2)     </td></tr>\n",
       "\t<tr><td> 2</td><td>log(feature_4 + 1)     </td></tr>\n",
       "\t<tr><td> 3</td><td>feature_11             </td></tr>\n",
       "\t<tr><td> 4</td><td>feature_13             </td></tr>\n",
       "\t<tr><td> 5</td><td>as.factor(feature_8)1  </td></tr>\n",
       "\t<tr><td> 6</td><td>as.factor(feature_8)2  </td></tr>\n",
       "\t<tr><td> 7</td><td>as.factor(feature_9)1  </td></tr>\n",
       "\t<tr><td> 8</td><td>as.factor(feature_9)2  </td></tr>\n",
       "\t<tr><td> 9</td><td>as.factor(feature_9)3  </td></tr>\n",
       "\t<tr><td>10</td><td>as.factor(feature_14)1 </td></tr>\n",
       "\t<tr><td>11</td><td>as.factor(feature_14)2 </td></tr>\n",
       "\t<tr><td>12</td><td>as.factor(feature_14)3 </td></tr>\n",
       "\t<tr><td>13</td><td>as.factor(feature_14)4 </td></tr>\n",
       "\t<tr><td>14</td><td>as.factor(feature_14)5 </td></tr>\n",
       "\t<tr><td>15</td><td>as.factor(feature_14)6 </td></tr>\n",
       "\t<tr><td>16</td><td>as.factor(feature_14)7 </td></tr>\n",
       "\t<tr><td>17</td><td>as.factor(feature_14)8 </td></tr>\n",
       "\t<tr><td>18</td><td>as.factor(feature_14)9 </td></tr>\n",
       "\t<tr><td>19</td><td>as.factor(feature_14)10</td></tr>\n",
       "\t<tr><td>20</td><td>as.factor(feature_14)11</td></tr>\n",
       "\t<tr><td>21</td><td>as.factor(feature_15)1 </td></tr>\n",
       "\t<tr><td>22</td><td>as.factor(feature_15)2 </td></tr>\n",
       "\t<tr><td>23</td><td>as.factor(feature_15)3 </td></tr>\n",
       "</tbody>\n",
       "</table>\n"
      ],
      "text/latex": [
       "A data.frame: 23 × 2\n",
       "\\begin{tabular}{ll}\n",
       " ID & colnames(train\\_mat){[}-1{]}\\\\\n",
       " <int> & <fct>\\\\\n",
       "\\hline\n",
       "\t  1 & log(feature\\_3 + 2)     \\\\\n",
       "\t  2 & log(feature\\_4 + 1)     \\\\\n",
       "\t  3 & feature\\_11             \\\\\n",
       "\t  4 & feature\\_13             \\\\\n",
       "\t  5 & as.factor(feature\\_8)1  \\\\\n",
       "\t  6 & as.factor(feature\\_8)2  \\\\\n",
       "\t  7 & as.factor(feature\\_9)1  \\\\\n",
       "\t  8 & as.factor(feature\\_9)2  \\\\\n",
       "\t  9 & as.factor(feature\\_9)3  \\\\\n",
       "\t 10 & as.factor(feature\\_14)1 \\\\\n",
       "\t 11 & as.factor(feature\\_14)2 \\\\\n",
       "\t 12 & as.factor(feature\\_14)3 \\\\\n",
       "\t 13 & as.factor(feature\\_14)4 \\\\\n",
       "\t 14 & as.factor(feature\\_14)5 \\\\\n",
       "\t 15 & as.factor(feature\\_14)6 \\\\\n",
       "\t 16 & as.factor(feature\\_14)7 \\\\\n",
       "\t 17 & as.factor(feature\\_14)8 \\\\\n",
       "\t 18 & as.factor(feature\\_14)9 \\\\\n",
       "\t 19 & as.factor(feature\\_14)10\\\\\n",
       "\t 20 & as.factor(feature\\_14)11\\\\\n",
       "\t 21 & as.factor(feature\\_15)1 \\\\\n",
       "\t 22 & as.factor(feature\\_15)2 \\\\\n",
       "\t 23 & as.factor(feature\\_15)3 \\\\\n",
       "\\end{tabular}\n"
      ],
      "text/markdown": [
       "\n",
       "A data.frame: 23 × 2\n",
       "\n",
       "| ID &lt;int&gt; | colnames(train_mat)[-1] &lt;fct&gt; |\n",
       "|---|---|\n",
       "|  1 | log(feature_3 + 2)      |\n",
       "|  2 | log(feature_4 + 1)      |\n",
       "|  3 | feature_11              |\n",
       "|  4 | feature_13              |\n",
       "|  5 | as.factor(feature_8)1   |\n",
       "|  6 | as.factor(feature_8)2   |\n",
       "|  7 | as.factor(feature_9)1   |\n",
       "|  8 | as.factor(feature_9)2   |\n",
       "|  9 | as.factor(feature_9)3   |\n",
       "| 10 | as.factor(feature_14)1  |\n",
       "| 11 | as.factor(feature_14)2  |\n",
       "| 12 | as.factor(feature_14)3  |\n",
       "| 13 | as.factor(feature_14)4  |\n",
       "| 14 | as.factor(feature_14)5  |\n",
       "| 15 | as.factor(feature_14)6  |\n",
       "| 16 | as.factor(feature_14)7  |\n",
       "| 17 | as.factor(feature_14)8  |\n",
       "| 18 | as.factor(feature_14)9  |\n",
       "| 19 | as.factor(feature_14)10 |\n",
       "| 20 | as.factor(feature_14)11 |\n",
       "| 21 | as.factor(feature_15)1  |\n",
       "| 22 | as.factor(feature_15)2  |\n",
       "| 23 | as.factor(feature_15)3  |\n",
       "\n"
      ],
      "text/plain": [
       "   ID colnames(train_mat)[-1]\n",
       "1   1 log(feature_3 + 2)     \n",
       "2   2 log(feature_4 + 1)     \n",
       "3   3 feature_11             \n",
       "4   4 feature_13             \n",
       "5   5 as.factor(feature_8)1  \n",
       "6   6 as.factor(feature_8)2  \n",
       "7   7 as.factor(feature_9)1  \n",
       "8   8 as.factor(feature_9)2  \n",
       "9   9 as.factor(feature_9)3  \n",
       "10 10 as.factor(feature_14)1 \n",
       "11 11 as.factor(feature_14)2 \n",
       "12 12 as.factor(feature_14)3 \n",
       "13 13 as.factor(feature_14)4 \n",
       "14 14 as.factor(feature_14)5 \n",
       "15 15 as.factor(feature_14)6 \n",
       "16 16 as.factor(feature_14)7 \n",
       "17 17 as.factor(feature_14)8 \n",
       "18 18 as.factor(feature_14)9 \n",
       "19 19 as.factor(feature_14)10\n",
       "20 20 as.factor(feature_14)11\n",
       "21 21 as.factor(feature_15)1 \n",
       "22 22 as.factor(feature_15)2 \n",
       "23 23 as.factor(feature_15)3 "
      ]
     },
     "metadata": {},
     "output_type": "display_data"
    }
   ],
   "source": [
    "tibble::rowid_to_column(as.data.frame(colnames(train_mat)[-1]), \"ID\")"
   ]
  },
  {
   "cell_type": "markdown",
   "metadata": {},
   "source": [
    "# 6. Best model selection\n",
    "\n",
    "Below we compare the same glm model at two different probability thresholds against the LDA model. 't' indicates the probability threshold used on the GML model.\n",
    "\n",
    "Bootstrap uncertainty in all models are very similar.\n",
    "\n",
    "**Accuracy** of the LDA and GLM (t=0.5) were very similar:     \n",
    "GLM (t=0.5) Accuracy : 0.90   \n",
    "GLM (t=0.076) Accuracy : 0.76    \n",
    "LDA Accuracy : 0.90    \n",
    "\n",
    "**Sensitivity** is a very important parameter for this problem, GLM (t=0.076) is the stand out winner:     \n",
    "GLM (t=0.5) Sensitivity : 0.36      \n",
    "GLM (t=0.076) Sensitivity : 0.90    \n",
    "LDA Sensitivity : 0.42      \n",
    "\n",
    "\n",
    "**Specificity** GLM (t=0.5) is slightly ahead of LDA, while GLM (t=0.076) is poor:    \n",
    "GLM (t=0.5) Specificity : 0.97   \n",
    "GLM (t=0.076) Specificity : 0.75    \n",
    "LDA Specificity : 0.96   \n",
    "\n",
    "**Balanced accuracy** GLM (t=0.076) is far better than the other two:    \n",
    "GLM (t=0.5) Balanced Accuracy : 0.67            \n",
    "GLM (t=0.076) Balanced Accuracy : 0.82   \n",
    "LDA Balanced Accuracy : 0.69    \n",
    "\n",
    "The best model we have developed for this problem is the GLM model (glm.cvfit), the lda **lacks the flexibility** needed to get high enough sensitivity that churn customers won't slip through the gaps."
   ]
  },
  {
   "cell_type": "markdown",
   "metadata": {},
   "source": [
    "# 7. Model Interpretation and Inference<a class=\"anchor\" name=\"MInterp\">"
   ]
  },
  {
   "cell_type": "markdown",
   "metadata": {},
   "source": [
    "The benefit of using linear models are their  interpretability. The feature coefficients allow us to infer the meaning of our models as they describe the change in log odds of churn occurring  for one every degree of change in each feature.\n",
    "\n",
    "The log odds describes the probability of churn occurring, where the relationship is log(p/(1-p)), p=probability. So as the probability of an event occurring increases, so does the logit.\n",
    "\n",
    "We can also factor in the uncertainty of the log odds from the previous section where calculated bootstrap error estimates on the coefficients.\n",
    "\n",
    "The model coefficients:"
   ]
  },
  {
   "cell_type": "code",
   "execution_count": 63,
   "metadata": {},
   "outputs": [
    {
     "data": {
      "text/plain": [
       "25 x 1 sparse Matrix of class \"dgCMatrix\"\n",
       "                                  1\n",
       "(Intercept)             -3.87868044\n",
       "(Intercept)              .         \n",
       "log(feature_3 + 2)       3.00659852\n",
       "log(feature_4 + 1)      -0.26324513\n",
       "feature_11              -0.61784533\n",
       "feature_13              -0.47427503\n",
       "as.factor(feature_8)1   -0.13373609\n",
       "as.factor(feature_8)2    0.08479656\n",
       "as.factor(feature_9)1    .         \n",
       "as.factor(feature_9)2    0.18982324\n",
       "as.factor(feature_9)3    .         \n",
       "as.factor(feature_14)1  -0.15818547\n",
       "as.factor(feature_14)2   0.86045239\n",
       "as.factor(feature_14)3   .         \n",
       "as.factor(feature_14)4  -0.43081139\n",
       "as.factor(feature_14)5  -0.33017725\n",
       "as.factor(feature_14)6   0.18365728\n",
       "as.factor(feature_14)7   1.96232885\n",
       "as.factor(feature_14)8  -0.12065844\n",
       "as.factor(feature_14)9  -0.23545948\n",
       "as.factor(feature_14)10  1.23914716\n",
       "as.factor(feature_14)11  0.93744238\n",
       "as.factor(feature_15)1   .         \n",
       "as.factor(feature_15)2   2.29563132\n",
       "as.factor(feature_15)3  -0.20530999"
      ]
     },
     "metadata": {},
     "output_type": "display_data"
    }
   ],
   "source": [
    "coef(glm.cvfit)"
   ]
  },
  {
   "cell_type": "markdown",
   "metadata": {},
   "source": [
    "The above coefficients tell us that our **strongest predictors**, as expected, are feature_3 with a coefficient of 2.98+/-0.07, and feature_15:category_2 with a coefficient of 2.29+/-0.11. They tell us that customers which rate more highly in feature 3 characteristics are more likely to churn, in fact, for every one degree of increase in feature 3 the log odds of the customers likelihood to churn will increase by 2.91 - 3.05. Additionally, customers who are present in category 2 of feature 15 are also more likely to churn, specifically the log odds of them churning is between 2.17 - 2.39 times higher than someone not in that category.\n",
    "\n",
    "Similarly, customers who are present in feature_14 category_7 and category 10 have a high likelihood of churn.\n",
    "\n",
    "On the other hand, the lowest coefficients are feature 11 & 13. For every degree increase in a customer’s standing within feature 11 & 13, their log odds of churning decreases by between 0.54-0.66 and 0.41-0.51 respectively."
   ]
  },
  {
   "cell_type": "markdown",
   "metadata": {},
   "source": [
    "## 7.1 Variable Importance <a class=\"anchor\" name=\"VImp\">"
   ]
  },
  {
   "cell_type": "markdown",
   "metadata": {},
   "source": [
    "We look at shapely values to compare each variables importance in our model. Shapely values show us feature importance by assessing the increase in error after rearranging the model several times and provide the aggregate global feature importance (Raoniar, 2020). We'll discuss the final model and also compare it to our initial model that included all variables, to see how we did with feature selection."
   ]
  },
  {
   "cell_type": "markdown",
   "metadata": {},
   "source": [
    "Calculate shapely values for our model:"
   ]
  },
  {
   "cell_type": "code",
   "execution_count": 64,
   "metadata": {},
   "outputs": [],
   "source": [
    "#glm.cvfit can't be used here, so we'll recreate it with glm\n",
    "fit.glm.final <- glm(labels ~ log(feature_3 + 2) + log(feature_4 + 1) + feature_11 + feature_13 + \n",
    "    as.factor(feature_8) + as.factor(feature_9) + as.factor(feature_14) + as.factor(feature_15), data = test, family = binomial)\n",
    "\n",
    "\n",
    "X <- train[-which(names(train) == \"labels\")] # label data\n",
    "mod <- Predictor$new(fit.glm.final, data = X) # holding the machine learning model and the data\n",
    "\n",
    "# Then we explain the first instance of the dataset with the Shapley method:\n",
    "x.interest <- X[1, ]\n",
    "shapley.glm.final <- Shapley$new(mod, x.interest = x.interest)"
   ]
  },
  {
   "cell_type": "markdown",
   "metadata": {},
   "source": [
    "Plot the data:"
   ]
  },
  {
   "cell_type": "code",
   "execution_count": 65,
   "metadata": {},
   "outputs": [
    {
     "data": {
      "image/png": "[encoded data removed]",
      "text/plain": [
       "plot without title"
      ]
     },
     "metadata": {
      "image/png": {
       "height": 840,
       "width": 840
      }
     },
     "output_type": "display_data"
    }
   ],
   "source": [
    "plot(shapley.glm.final)"
   ]
  },
  {
   "cell_type": "markdown",
   "metadata": {},
   "source": [
    "As we have said from the start, feature 3 is our most important, followed by 13, 14 and 11."
   ]
  },
  {
   "cell_type": "markdown",
   "metadata": {},
   "source": [
    "Below we regenerate the original glm model, using all features but with dummy variables and log functions as we know they were the best form for those variables."
   ]
  },
  {
   "cell_type": "code",
   "execution_count": 66,
   "metadata": {},
   "outputs": [],
   "source": [
    "#glm.cvfit can't be used here, so we'll recreate it with glm\n",
    "fit.glm.initial <- glm(labels ~ log(feature_1+4) + feature_2 + log(feature_3 + 2) + log(feature_4 + 1) + feature_5 + feature_6 + \n",
    "                     feature_7 + as.factor(feature_8) + as.factor(feature_9) + feature_10 + feature_11 + feature_12 + \n",
    "                     feature_13 +  as.factor(feature_14) + as.factor(feature_15), data = test, family = binomial)\n",
    "\n",
    "\n",
    "X <- train[-which(names(train) == \"labels\")] # label data\n",
    "mod <- Predictor$new(fit.glm.initial, data = X) # holding the machine learning model and the data\n",
    "\n",
    "# Then we explain the first instance of the dataset with the Shapley method:\n",
    "x.interest <- X[1, ]\n",
    "shapley.glm.initial <- Shapley$new(mod, x.interest = x.interest)"
   ]
  },
  {
   "cell_type": "code",
   "execution_count": 67,
   "metadata": {},
   "outputs": [
    {
     "data": {
      "image/png": "[encoded data removed]",
      "text/plain": [
       "plot without title"
      ]
     },
     "metadata": {
      "image/png": {
       "height": 840,
       "width": 840
      }
     },
     "output_type": "display_data"
    }
   ],
   "source": [
    "plot(shapley.glm.initial)"
   ]
  },
  {
   "cell_type": "markdown",
   "metadata": {},
   "source": [
    "It seems our selection of features is in agreeance with the model containing all features. Those with the least importance have all been removed from our final model, such as feature 0, 1 & 10 in our first iteration, followed by further complexity reductions by elimination of 7, 6 12 and 5.\n",
    "\n",
    "Perhaps for a less complex model, we might have improved things again by only including 3, 13, 14 & 11.\n",
    "\n",
    "It's possible we misjudged the importance of feature 6, which we eliminated due to it's high multicollinearity with feature 5 & 15, the later of which was the one retained in the model. Feature 6 is ranked of higher importance than feature 15 and would have reduced the model complexity since feature 15 was split into three dummy variables."
   ]
  },
  {
   "cell_type": "markdown",
   "metadata": {},
   "source": [
    "## 7.2 Marketing Suggestions <a class=\"anchor\" name=\"MarktSugst\">"
   ]
  },
  {
   "cell_type": "markdown",
   "metadata": {},
   "source": [
    "As our model has some inaccuracy when targeting customers who we suspect may leave, marketing teams should approach their customers differently depending on how high their risk of churn is.\n",
    "\n",
    "If the probability threshold is set at 0.7, we are highly certain that any customers who are predicted to leave are going to do so, and therefore, more aggressive or expensive marketing strategies should consider for that cohort. There will still be ~1% of those predicted to leave who will be caught up unnecessarily in the marketing strategy, but this a small cost for potentially keeping the 20% of customers who are predicted to leave.\n",
    "\n",
    "A second cohort should be considered for a softer marketing strategy. By reducing the probability threshold to 0.46 we can double the number of customers that are targeted because we expect may want to leave, however now 3% of happy customers will be caught up who may not want to be bothered by a marketing team. You don't want to bother happy customers with extra marketing too much, because then you might make them unhappy.\n",
    "\n",
    "This can continue with as many cohorts as they want.\n",
    "\n",
    "We might also suggest to the company that when marketing to new customers, they could have a more reliable customer base if they target the parameters we discussed in the inference section, such as if they have characteristics that align with low values of feature 3 they will be less likely to leave immediately.\n",
    "This below can be used to test the thresholds suggested above:\n",
    "\n"
   ]
  },
  {
   "cell_type": "markdown",
   "metadata": {},
   "source": [
    "This below can be used to test the thresholds suggested above:"
   ]
  },
  {
   "cell_type": "code",
   "execution_count": 68,
   "metadata": {},
   "outputs": [
    {
     "name": "stdout",
     "output_type": "stream",
     "text": [
      "Performance metrics for predictions with adjusted probability threshold at 0.084, to increase senseitivity to 90%:"
     ]
    },
    {
     "data": {
      "text/plain": [
       "Confusion Matrix and Statistics\n",
       "\n",
       "          Reference\n",
       "Prediction    0    1\n",
       "         0 5815  471\n",
       "         1  182  314\n",
       "                                          \n",
       "               Accuracy : 0.9037          \n",
       "                 95% CI : (0.8964, 0.9106)\n",
       "    No Information Rate : 0.8843          \n",
       "    P-Value [Acc > NIR] : 1.552e-07       \n",
       "                                          \n",
       "                  Kappa : 0.4401          \n",
       "                                          \n",
       " Mcnemar's Test P-Value : < 2.2e-16       \n",
       "                                          \n",
       "            Sensitivity : 0.40000         \n",
       "            Specificity : 0.96965         \n",
       "         Pos Pred Value : 0.63306         \n",
       "         Neg Pred Value : 0.92507         \n",
       "             Prevalence : 0.11575         \n",
       "         Detection Rate : 0.04630         \n",
       "   Detection Prevalence : 0.07313         \n",
       "      Balanced Accuracy : 0.68483         \n",
       "                                          \n",
       "       'Positive' Class : 1               \n",
       "                                          "
      ]
     },
     "metadata": {},
     "output_type": "display_data"
    }
   ],
   "source": [
    "std_probability <- predict(glm.cvfit, newx = test_mat, s = \"lambda.min\", type = \"response\")\n",
    "\n",
    "# threshold for adjusting sensitivity.\n",
    "#t <- 0.7\n",
    "t <- 0.46\n",
    "\n",
    "# convert probabilities to predictions\n",
    "predict_binary <- ifelse(std_probability > t, 1, 0)\n",
    "\n",
    "cat(\"Performance metrics for predictions with adjusted probability threshold at 0.084, to increase senseitivity to 90%:\")\n",
    "confusionMatrix(as.factor(predict_binary), as.factor(test$labels), positive=\"1\")\n"
   ]
  },
  {
   "cell_type": "markdown",
   "metadata": {},
   "source": [
    "# 8. Conclusion <a class=\"anchor\" name=\"Conclusion\">"
   ]
  },
  {
   "cell_type": "markdown",
   "metadata": {},
   "source": [
    "\n",
    "### EDA\n",
    "Many different graphical and statistical comparisons are made between one, two and three variables. It is immediately clear that feature 3 is significant. We suspect that features 7-15 may be best treated as if they are categoric. The distributions are analysed and significant imbalance is found the response variable.\n",
    "\n",
    "### Model Development\n",
    "First features are filtered out based on their multicollinearity and their low significance in the initial glm model, this resulted in the removal of features 5, 6, 7 & 10. Following this, the step function was used to iteratively reduce the AIC score and by removing features 0, 1 & 2 for their very low AIC scored contribution (with more time we would have confirmed the AIC uncertainty before assuming their AIC contribution was basically within the noise of the problem). Next it was found that the use of dummy variables on our suspected categoric features and logarithmic transforms on our highly skewed features was beneficial to the AIC as well. At the end, the model was still more complex than it should be for easy interpretation, however it was performing better and further reductions resulted in loss of accuracy or sensitivity.\n",
    "\n",
    "\n",
    "### Model Scoring on Test Data\n",
    "Models are scored on the test data by comparing their sensitivity, specificity, bootstrap standard error of coefficients and their flexibility. It was found that the logistic regression model's ability to flexibly adjust the probability threshold was a major advantage which would prevent customers from slipping through the gaps caused by low sensitivity.\n",
    "\n",
    "### Model Interpretation and Inference\n",
    "To interpret the model, the coefficients are compared along with their uncertainty. Feature_3 with a coefficient of 2.98+/-0.07 tells us that customers which rate more highly in feature 3 characteristics are more likely to churn and feature_15:category_2 with a coefficient of 2.29+/-0.11, meaning that customers who are present in category 2 of feature 15 are also more likely to churn.\n",
    "\n",
    "On the other hand, the lowest coefficients are feature 11 & 13. For every degree increase in a customers standing within feature 11 & 13, their log odds of churning decreases by between 0.54-0.66 and 0.41-0.51 respectively.\n",
    "\n",
    "### Variable Importance\n",
    "In this section we use shapely values to compare out final model against the importance of all features from our initial model. Our findings here reinforce that good decisions were made with regard to feature selection. Feature 3 is a very strong feature along with 11, 13 & 14. This subset may have made a better simpler model had we continued to reduce the model complexity further. The weakest features, 0, 10 and 2 were all removed along with others.\n",
    "\n",
    "### Marketing Suggestions\n",
    "Marketing suggestion is made to approach different cohorts of customers with varying degrees of aggressiveness in marketing strategy based on the probability that they customer is going to leave."
   ]
  },
  {
   "cell_type": "markdown",
   "metadata": {},
   "source": [
    "# 9. References <a class=\"anchor\" name=\"Ref\"></a>"
   ]
  },
  {
   "cell_type": "markdown",
   "metadata": {},
   "source": [
    "Raoniar, R. (September 26, 2020). Machine Learning Model Explanation using Shapley Values. https://onezero.blog/machine-learning-model-explanation-using-shapley-values/\n"
   ]
  }
 ],
 "metadata": {
  "kernelspec": {
   "display_name": "R",
   "language": "R",
   "name": "ir"
  },
  "language_info": {
   "codemirror_mode": "r",
   "file_extension": ".r",
   "mimetype": "text/x-r-source",
   "name": "R",
   "pygments_lexer": "r",
   "version": "3.6.2"
  }
 },
 "nbformat": 4,
 "nbformat_minor": 2
}
