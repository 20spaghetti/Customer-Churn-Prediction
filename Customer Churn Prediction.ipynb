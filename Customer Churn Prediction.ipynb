{
 "cells": [
  {
   "cell_type": "markdown",
   "metadata": {},
   "source": [
    "<div class=\"alert alert-block alert-info\">\n",
    "\n",
    "# Customer Churn Prediction\n",
    "\n",
    "## FIT5149 Assignment1\n",
    "    \n",
    "#### Student Name: Madeleine Chalmers\n",
    "#### Student ID: 31222846\n",
    "\n",
    "Date: 26 October 2021\n",
    "\n",
    "    \n",
    "</div>"
   ]
  },
  {
   "cell_type": "markdown",
   "metadata": {},
   "source": [
    "<div class=\"alert alert-block alert-info\">\n",
    "    \n",
    "## Table of Contents\n",
    "\n",
    "</div>\n",
    "\n",
    "[1. Introduction](#Intro) <br>\n",
    "[2. EDA](#task1) <br>\n",
    "$\\;\\;\\;\\;$[2.1. Univariate analysis](#Univariate) <br>\n",
    "$\\;\\;\\;\\;$[2.1. Summary of Univariate analysis](#SumUnivariate) <br>\n",
    "$\\;\\;\\;\\;$[2.2. Bivariate analysis](#Bivariate) <br>\n",
    "$\\;\\;\\;\\;$[2.2. Summary of Bivariate analysis](#SumBivariate) <br>\n",
    "$\\;\\;\\;\\;$[2.2. Multivariate analysis](#Multivariate) <br>\n",
    "$\\;\\;\\;\\;$[2.2. Summary of Multivariate analysis](#SumMultivariate) <br>\n",
    "$\\;\\;\\;\\;$[2.3. More](#More) <br>\n",
    "$\\;\\;\\;\\;$[2.4. Summary](#Summary) <br>\n",
    "[3. Model Development](#MD) <br>\n",
    "[4. Model Scoring on Test Data](#MScore) <br>\n",
    "[5. Model Interpretation and Inference](#MInterp) <br>\n",
    "[6. Variable Importance](#VarImp) <br>\n",
    "[7. Marketing Suggestions](#MarktSugst) <br>\n",
    "[8. Conclusion](#Conclusion) <br>\n",
    "[9. References](#Ref) <br>"
   ]
  },
  {
   "cell_type": "markdown",
   "metadata": {},
   "source": [
    "<div class=\"alert alert-block alert-warning\">\n",
    "\n",
    "<br>    \n",
    "    \n",
    "## 1.  Introduction  <a class=\"anchor\" name=\"Intro\">\n",
    "    \n",
    "</a>\n",
    "</div>\n",
    "    \n",
    "The aim here is to build a statistical model which will accurately predict when an insurance company is about to lose their customer. There are sixteen anonymised features in the dataset and one response variable (named 'labels') which indicates churn (1) or no churn (0) for each observation. Two datasets are provided for training (trainSet.csv) and testing (testSet.csv) the models. <br><br>\n",
    "\n",
    "Data Source: https://www.kaggle.com/mukulsingh/insurance-churn-prediction <br><br>\n",
    "\n",
    "Section 1: Exploratory data analsis is completed in this section. The data is characterised with single variable exploration, then relationships are explored through correlation and graphical analysis. Findings are discussed along the way and summarised at the end. <br><br>\n",
    "\n",
    "Section 2: Models which are strong candidates for effective statistical learning given the data discoveries we have made are discussed. The code and development process for two classificaltion model varieties as well as any data transformations required to run them are included, such as one hot encoding and standard scaling of features.<br><br>\n",
    "\n",
    "Section 3: The final model(s) results are presented and interpreted at the end. Performance metrics are discussed and key features that are strongly associated with the response variable are identified and discussed.<br><br>"
   ]
  },
  {
   "cell_type": "markdown",
   "metadata": {},
   "source": [
    "Load the required libraries:"
   ]
  },
  {
   "cell_type": "code",
   "execution_count": 1,
   "metadata": {},
   "outputs": [
    {
     "name": "stderr",
     "output_type": "stream",
     "text": [
      "Registered S3 methods overwritten by 'ggplot2':\n",
      "  method         from \n",
      "  [.quosures     rlang\n",
      "  c.quosures     rlang\n",
      "  print.quosures rlang\n",
      "\n",
      "Attaching package: 'ggplot2'\n",
      "\n",
      "The following objects are masked from 'package:psych':\n",
      "\n",
      "    %+%, alpha\n",
      "\n",
      "Warning message:\n",
      "\"package 'OneR' was built under R version 3.6.3\"corrplot 0.90 loaded\n",
      "Warning message:\n",
      "\"package 'gridExtra' was built under R version 3.6.3\""
     ]
    }
   ],
   "source": [
    "library(psych)\n",
    "#library(GGally) \n",
    "library(ggplot2)\n",
    "library(reshape2)\n",
    "#library(corrgram)\n",
    "library(OneR)\n",
    "library(RColorBrewer)\n",
    "library(corrplot)\n",
    "library(gridExtra) "
   ]
  },
  {
   "cell_type": "markdown",
   "metadata": {},
   "source": [
    "package installations:"
   ]
  },
  {
   "cell_type": "code",
   "execution_count": 2,
   "metadata": {},
   "outputs": [],
   "source": [
    "#install.packages(\"psych\")\n",
    "#install.packages(\"reshape2\")\n",
    "#install.packages(\"OneR\")\n",
    "#install.packages(\"ggplot2\")\n",
    "#install.packages(\"tidyverse\")\n",
    "#install.packages(\"corrplot\")\n",
    "#install.packages(\"gridExtra\")\n",
    "#install.packages(\"\")"
   ]
  },
  {
   "cell_type": "markdown",
   "metadata": {},
   "source": [
    "Read in the test and train datasets that were provided."
   ]
  },
  {
   "cell_type": "code",
   "execution_count": 3,
   "metadata": {},
   "outputs": [],
   "source": [
    "# load test dataset\n",
    "test <- read.csv(file = 'testSet.csv',stringsAsFactors = TRUE)\n",
    "\n",
    "# load train dataset\n",
    "train <-  read.csv(file = 'trainSet.csv',stringsAsFactors = TRUE)"
   ]
  },
  {
   "cell_type": "markdown",
   "metadata": {},
   "source": [
    "<div class=\"alert alert-block alert-success\">\n",
    "\n",
    "<br>\n",
    "    \n",
    "## 2. Exploatory Data Analysis <a class=\"anchor\" name=\"task1\">\n",
    "    \n",
    "<br>\n",
    "    \n",
    "</a>"
   ]
  },
  {
   "cell_type": "markdown",
   "metadata": {},
   "source": [
    "#### Using Exploratory Data Analysis (EDA) we will:\n",
    "\n",
    "1. Explore individual variables, their characteristics such as spread, variance, distribution etc.\n",
    "2. Identify important features which have a relationship with our label, and how they interact.\n",
    "3. Explore the qualities of the relationships to identify which models will give strongest results, and how we can transform the data to aid with learning.\n",
    "4. Identify features with no relationship and exclude them from our models, for improved efficiency and reduced over fitting.\n",
    "5. Identify features which strongly correlate with one another, to eliminate duplicate information. \n",
    "6. Build effective models which are supported by our exploration."
   ]
  },
  {
   "cell_type": "markdown",
   "metadata": {},
   "source": [
    "First look at the data"
   ]
  },
  {
   "cell_type": "code",
   "execution_count": 4,
   "metadata": {},
   "outputs": [
    {
     "data": {
      "text/html": [
       "<table>\n",
       "<thead><tr><th scope=col>feature_0</th><th scope=col>feature_1</th><th scope=col>feature_2</th><th scope=col>feature_3</th><th scope=col>feature_4</th><th scope=col>feature_5</th><th scope=col>feature_6</th><th scope=col>feature_7</th><th scope=col>feature_8</th><th scope=col>feature_9</th><th scope=col>feature_10</th><th scope=col>feature_11</th><th scope=col>feature_12</th><th scope=col>feature_13</th><th scope=col>feature_14</th><th scope=col>feature_15</th><th scope=col>labels</th></tr></thead>\n",
       "<tbody>\n",
       "\t<tr><td> 1.5127910 </td><td>-0.2434605 </td><td> 0.1434182 </td><td> 2.01858846</td><td> 0.07622994</td><td>-0.4114531 </td><td>-0.2519404 </td><td>1          </td><td>1          </td><td>1          </td><td>0          </td><td>1          </td><td>0          </td><td>0          </td><td>0          </td><td>3          </td><td>0          </td></tr>\n",
       "\t<tr><td>-1.5007763 </td><td>-0.2125875 </td><td> 1.2248391 </td><td>-0.15984112</td><td>-0.56935064</td><td>-0.4114531 </td><td>-0.2519404 </td><td>8          </td><td>2          </td><td>1          </td><td>0          </td><td>0          </td><td>0          </td><td>0          </td><td>8          </td><td>3          </td><td>0          </td></tr>\n",
       "\t<tr><td> 0.9477471 </td><td> 0.5812426 </td><td>-0.3372133 </td><td> 0.77987360</td><td>-0.56935064</td><td>-0.4114531 </td><td>-0.2519404 </td><td>0          </td><td>2          </td><td>1          </td><td>0          </td><td>0          </td><td>0          </td><td>2          </td><td>8          </td><td>3          </td><td>0          </td></tr>\n",
       "\t<tr><td>-0.8415585 </td><td>-0.2217837 </td><td> 0.5038918 </td><td>-0.37729577</td><td> 0.39902023</td><td>-0.4114531 </td><td>-0.2519404 </td><td>9          </td><td>1          </td><td>1          </td><td>0          </td><td>0          </td><td>0          </td><td>0          </td><td>1          </td><td>3          </td><td>0          </td></tr>\n",
       "\t<tr><td>-0.5590365 </td><td>-0.5922597 </td><td>-1.1783185 </td><td>-0.41612696</td><td>-0.56935064</td><td>-0.4114531 </td><td>-0.2519404 </td><td>1          </td><td>2          </td><td>1          </td><td>0          </td><td>1          </td><td>0          </td><td>0          </td><td>8          </td><td>3          </td><td>0          </td></tr>\n",
       "\t<tr><td> 0.9477471 </td><td>-0.4654833 </td><td>-0.5775291 </td><td> 0.08867847</td><td>-0.24656035</td><td> 2.2551433 </td><td> 2.3528870 </td><td>4          </td><td>2          </td><td>2          </td><td>1          </td><td>1          </td><td>0          </td><td>0          </td><td>8          </td><td>0          </td><td>0          </td></tr>\n",
       "</tbody>\n",
       "</table>\n"
      ],
      "text/latex": [
       "\\begin{tabular}{r|lllllllllllllllll}\n",
       " feature\\_0 & feature\\_1 & feature\\_2 & feature\\_3 & feature\\_4 & feature\\_5 & feature\\_6 & feature\\_7 & feature\\_8 & feature\\_9 & feature\\_10 & feature\\_11 & feature\\_12 & feature\\_13 & feature\\_14 & feature\\_15 & labels\\\\\n",
       "\\hline\n",
       "\t  1.5127910  & -0.2434605  &  0.1434182  &  2.01858846 &  0.07622994 & -0.4114531  & -0.2519404  & 1           & 1           & 1           & 0           & 1           & 0           & 0           & 0           & 3           & 0          \\\\\n",
       "\t -1.5007763  & -0.2125875  &  1.2248391  & -0.15984112 & -0.56935064 & -0.4114531  & -0.2519404  & 8           & 2           & 1           & 0           & 0           & 0           & 0           & 8           & 3           & 0          \\\\\n",
       "\t  0.9477471  &  0.5812426  & -0.3372133  &  0.77987360 & -0.56935064 & -0.4114531  & -0.2519404  & 0           & 2           & 1           & 0           & 0           & 0           & 2           & 8           & 3           & 0          \\\\\n",
       "\t -0.8415585  & -0.2217837  &  0.5038918  & -0.37729577 &  0.39902023 & -0.4114531  & -0.2519404  & 9           & 1           & 1           & 0           & 0           & 0           & 0           & 1           & 3           & 0          \\\\\n",
       "\t -0.5590365  & -0.5922597  & -1.1783185  & -0.41612696 & -0.56935064 & -0.4114531  & -0.2519404  & 1           & 2           & 1           & 0           & 1           & 0           & 0           & 8           & 3           & 0          \\\\\n",
       "\t  0.9477471  & -0.4654833  & -0.5775291  &  0.08867847 & -0.24656035 &  2.2551433  &  2.3528870  & 4           & 2           & 2           & 1           & 1           & 0           & 0           & 8           & 0           & 0          \\\\\n",
       "\\end{tabular}\n"
      ],
      "text/markdown": [
       "\n",
       "| feature_0 | feature_1 | feature_2 | feature_3 | feature_4 | feature_5 | feature_6 | feature_7 | feature_8 | feature_9 | feature_10 | feature_11 | feature_12 | feature_13 | feature_14 | feature_15 | labels |\n",
       "|---|---|---|---|---|---|---|---|---|---|---|---|---|---|---|---|---|\n",
       "|  1.5127910  | -0.2434605  |  0.1434182  |  2.01858846 |  0.07622994 | -0.4114531  | -0.2519404  | 1           | 1           | 1           | 0           | 1           | 0           | 0           | 0           | 3           | 0           |\n",
       "| -1.5007763  | -0.2125875  |  1.2248391  | -0.15984112 | -0.56935064 | -0.4114531  | -0.2519404  | 8           | 2           | 1           | 0           | 0           | 0           | 0           | 8           | 3           | 0           |\n",
       "|  0.9477471  |  0.5812426  | -0.3372133  |  0.77987360 | -0.56935064 | -0.4114531  | -0.2519404  | 0           | 2           | 1           | 0           | 0           | 0           | 2           | 8           | 3           | 0           |\n",
       "| -0.8415585  | -0.2217837  |  0.5038918  | -0.37729577 |  0.39902023 | -0.4114531  | -0.2519404  | 9           | 1           | 1           | 0           | 0           | 0           | 0           | 1           | 3           | 0           |\n",
       "| -0.5590365  | -0.5922597  | -1.1783185  | -0.41612696 | -0.56935064 | -0.4114531  | -0.2519404  | 1           | 2           | 1           | 0           | 1           | 0           | 0           | 8           | 3           | 0           |\n",
       "|  0.9477471  | -0.4654833  | -0.5775291  |  0.08867847 | -0.24656035 |  2.2551433  |  2.3528870  | 4           | 2           | 2           | 1           | 1           | 0           | 0           | 8           | 0           | 0           |\n",
       "\n"
      ],
      "text/plain": [
       "  feature_0  feature_1  feature_2  feature_3   feature_4   feature_5 \n",
       "1  1.5127910 -0.2434605  0.1434182  2.01858846  0.07622994 -0.4114531\n",
       "2 -1.5007763 -0.2125875  1.2248391 -0.15984112 -0.56935064 -0.4114531\n",
       "3  0.9477471  0.5812426 -0.3372133  0.77987360 -0.56935064 -0.4114531\n",
       "4 -0.8415585 -0.2217837  0.5038918 -0.37729577  0.39902023 -0.4114531\n",
       "5 -0.5590365 -0.5922597 -1.1783185 -0.41612696 -0.56935064 -0.4114531\n",
       "6  0.9477471 -0.4654833 -0.5775291  0.08867847 -0.24656035  2.2551433\n",
       "  feature_6  feature_7 feature_8 feature_9 feature_10 feature_11 feature_12\n",
       "1 -0.2519404 1         1         1         0          1          0         \n",
       "2 -0.2519404 8         2         1         0          0          0         \n",
       "3 -0.2519404 0         2         1         0          0          0         \n",
       "4 -0.2519404 9         1         1         0          0          0         \n",
       "5 -0.2519404 1         2         1         0          1          0         \n",
       "6  2.3528870 4         2         2         1          1          0         \n",
       "  feature_13 feature_14 feature_15 labels\n",
       "1 0          0          3          0     \n",
       "2 0          8          3          0     \n",
       "3 2          8          3          0     \n",
       "4 0          1          3          0     \n",
       "5 0          8          3          0     \n",
       "6 0          8          0          0     "
      ]
     },
     "metadata": {},
     "output_type": "display_data"
    }
   ],
   "source": [
    "# show the first rows\n",
    "head(train)"
   ]
  },
  {
   "cell_type": "markdown",
   "metadata": {},
   "source": [
    "Check the data types."
   ]
  },
  {
   "cell_type": "code",
   "execution_count": 5,
   "metadata": {},
   "outputs": [
    {
     "name": "stdout",
     "output_type": "stream",
     "text": [
      "'data.frame':\t27126 obs. of  17 variables:\n",
      " $ feature_0 : num  1.513 -1.501 0.948 -0.842 -0.559 ...\n",
      " $ feature_1 : num  -0.243 -0.213 0.581 -0.222 -0.592 ...\n",
      " $ feature_2 : num  0.143 1.225 -0.337 0.504 -1.178 ...\n",
      " $ feature_3 : num  2.019 -0.16 0.78 -0.377 -0.416 ...\n",
      " $ feature_4 : num  0.0762 -0.5694 -0.5694 0.399 -0.5694 ...\n",
      " $ feature_5 : num  -0.411 -0.411 -0.411 -0.411 -0.411 ...\n",
      " $ feature_6 : num  -0.252 -0.252 -0.252 -0.252 -0.252 ...\n",
      " $ feature_7 : int  1 8 0 9 1 4 7 6 6 9 ...\n",
      " $ feature_8 : int  1 2 2 1 2 2 1 1 1 1 ...\n",
      " $ feature_9 : int  1 1 1 1 1 2 1 2 1 3 ...\n",
      " $ feature_10: int  0 0 0 0 0 1 0 0 0 0 ...\n",
      " $ feature_11: int  1 0 0 0 1 1 0 1 1 1 ...\n",
      " $ feature_12: int  0 0 0 0 0 0 0 1 1 0 ...\n",
      " $ feature_13: int  0 0 2 0 0 0 0 2 0 0 ...\n",
      " $ feature_14: int  0 8 8 1 8 8 1 6 5 9 ...\n",
      " $ feature_15: int  3 3 3 3 3 0 3 3 3 3 ...\n",
      " $ labels    : int  0 0 0 0 0 0 0 0 0 0 ...\n"
     ]
    }
   ],
   "source": [
    "# show training the data structure\n",
    "str(train)"
   ]
  },
  {
   "cell_type": "markdown",
   "metadata": {},
   "source": [
    "We want to be certain that the two test and train datasets are compatible with one another. Do they have the same data types? The same features in each?"
   ]
  },
  {
   "cell_type": "code",
   "execution_count": 6,
   "metadata": {},
   "outputs": [
    {
     "name": "stdout",
     "output_type": "stream",
     "text": [
      "'data.frame':\t6782 obs. of  17 variables:\n",
      " $ feature_0 : num  -1.03 -0.842 -1.501 -0.277 -0.936 ...\n",
      " $ feature_1 : num  -0.222 -0.356 -0.265 -0.402 -0.268 ...\n",
      " $ feature_2 : num  0.504 -1.539 -1.419 1.826 1.585 ...\n",
      " $ feature_3 : num  -0.9054 -0.1055 0.3993 -0.8976 0.0537 ...\n",
      " $ feature_4 : num  0.0762 2.9813 -0.5694 6.2092 -0.5694 ...\n",
      " $ feature_5 : num  -0.411 -0.411 -0.411 -0.411 -0.411 ...\n",
      " $ feature_6 : num  -0.252 -0.252 -0.252 -0.252 -0.252 ...\n",
      " $ feature_7 : int  0 0 7 0 0 7 5 9 4 1 ...\n",
      " $ feature_8 : int  1 1 2 1 2 2 1 1 1 1 ...\n",
      " $ feature_9 : int  1 1 1 1 1 1 1 1 2 1 ...\n",
      " $ feature_10: int  0 0 0 0 0 0 0 0 0 0 ...\n",
      " $ feature_11: int  1 1 1 1 1 1 0 1 1 1 ...\n",
      " $ feature_12: int  0 0 1 0 0 1 0 0 0 1 ...\n",
      " $ feature_13: int  2 2 2 0 0 2 0 2 0 2 ...\n",
      " $ feature_14: int  6 6 6 5 4 8 1 8 3 8 ...\n",
      " $ feature_15: int  3 3 3 3 3 3 3 3 3 3 ...\n",
      " $ labels    : int  0 0 0 0 0 0 0 0 0 0 ...\n"
     ]
    }
   ],
   "source": [
    "# Show the testing data structure \n",
    "str(test)"
   ]
  },
  {
   "cell_type": "markdown",
   "metadata": {},
   "source": [
    "We know that our response variable 'labels' is a factor. It appears that feature 7-15 probably are as well, but we want to try and understand for certain which are numeric and which are categoric, so we might apply the right analysis techniques and comparisons.\n",
    "\n",
    "Below we show the number of unique values in each feature:"
   ]
  },
  {
   "cell_type": "code",
   "execution_count": 7,
   "metadata": {},
   "outputs": [
    {
     "name": "stdout",
     "output_type": "stream",
     "text": [
      " feature_0  feature_1  feature_2  feature_3  feature_4  feature_5  feature_6 \n",
      "        77       5901         31       1403         46        499         35 \n",
      " feature_7  feature_8  feature_9 feature_10 feature_11 feature_12 feature_13 \n",
      "        12          3          4          2          2          2          3 \n",
      "feature_14 feature_15     labels \n",
      "        12          4          2 \n"
     ]
    }
   ],
   "source": [
    "#Show the unique values in the features we think could be qualitative\n",
    "print(apply(train,2,function(x) length(unique(x))))"
   ]
  },
  {
   "cell_type": "markdown",
   "metadata": {},
   "source": [
    "Since this feature names in this dataset have been de-identified, it's logiical to assume that categoric data could have also been numerically encoded, this would prevent analysts being able to infer the information in those features. If this is the case, we would expect to see them represented by a somewhat small set of integer values. From what we have seen so far, it is certainly possible that our integer data seen above could be categoric, as there are a limited number of values in features 7-15. Next we  check what the possible values are. If they are a set of numeric integers from a condensed range, that will further our case for assuming they are categoric.\n",
    "\n",
    "Interestingly, it also appears that more than just our integer data is discrete, for example, feature 2 despite being numeric, only takes 31 unique values. By plotting them on a number line, we can see the exact nature of features 1-6. We'll take a closer look after assessing the categoric nature of features 7-14."
   ]
  },
  {
   "cell_type": "code",
   "execution_count": 8,
   "metadata": {},
   "outputs": [
    {
     "data": {
      "text/html": [
       "<dl>\n",
       "\t<dt>$feature_7</dt>\n",
       "\t\t<dd><ol class=list-inline>\n",
       "\t<li>0</li>\n",
       "\t<li>1</li>\n",
       "\t<li>2</li>\n",
       "\t<li>3</li>\n",
       "\t<li>4</li>\n",
       "\t<li>5</li>\n",
       "\t<li>6</li>\n",
       "\t<li>7</li>\n",
       "\t<li>8</li>\n",
       "\t<li>9</li>\n",
       "\t<li>10</li>\n",
       "\t<li>11</li>\n",
       "</ol>\n",
       "</dd>\n",
       "\t<dt>$feature_8</dt>\n",
       "\t\t<dd><ol class=list-inline>\n",
       "\t<li>0</li>\n",
       "\t<li>1</li>\n",
       "\t<li>2</li>\n",
       "</ol>\n",
       "</dd>\n",
       "\t<dt>$feature_9</dt>\n",
       "\t\t<dd><ol class=list-inline>\n",
       "\t<li>0</li>\n",
       "\t<li>1</li>\n",
       "\t<li>2</li>\n",
       "\t<li>3</li>\n",
       "</ol>\n",
       "</dd>\n",
       "\t<dt>$feature_10</dt>\n",
       "\t\t<dd><ol class=list-inline>\n",
       "\t<li>0</li>\n",
       "\t<li>1</li>\n",
       "</ol>\n",
       "</dd>\n",
       "\t<dt>$feature_11</dt>\n",
       "\t\t<dd><ol class=list-inline>\n",
       "\t<li>0</li>\n",
       "\t<li>1</li>\n",
       "</ol>\n",
       "</dd>\n",
       "\t<dt>$feature_12</dt>\n",
       "\t\t<dd><ol class=list-inline>\n",
       "\t<li>0</li>\n",
       "\t<li>1</li>\n",
       "</ol>\n",
       "</dd>\n",
       "\t<dt>$feature_13</dt>\n",
       "\t\t<dd><ol class=list-inline>\n",
       "\t<li>0</li>\n",
       "\t<li>1</li>\n",
       "\t<li>2</li>\n",
       "</ol>\n",
       "</dd>\n",
       "\t<dt>$feature_14</dt>\n",
       "\t\t<dd><ol class=list-inline>\n",
       "\t<li>0</li>\n",
       "\t<li>1</li>\n",
       "\t<li>2</li>\n",
       "\t<li>3</li>\n",
       "\t<li>4</li>\n",
       "\t<li>5</li>\n",
       "\t<li>6</li>\n",
       "\t<li>7</li>\n",
       "\t<li>8</li>\n",
       "\t<li>9</li>\n",
       "\t<li>10</li>\n",
       "\t<li>11</li>\n",
       "</ol>\n",
       "</dd>\n",
       "\t<dt>$feature_15</dt>\n",
       "\t\t<dd><ol class=list-inline>\n",
       "\t<li>0</li>\n",
       "\t<li>1</li>\n",
       "\t<li>2</li>\n",
       "\t<li>3</li>\n",
       "</ol>\n",
       "</dd>\n",
       "\t<dt>$labels</dt>\n",
       "\t\t<dd><ol class=list-inline>\n",
       "\t<li>0</li>\n",
       "\t<li>1</li>\n",
       "</ol>\n",
       "</dd>\n",
       "</dl>\n"
      ],
      "text/latex": [
       "\\begin{description}\n",
       "\\item[\\$feature\\_7] \\begin{enumerate*}\n",
       "\\item 0\n",
       "\\item 1\n",
       "\\item 2\n",
       "\\item 3\n",
       "\\item 4\n",
       "\\item 5\n",
       "\\item 6\n",
       "\\item 7\n",
       "\\item 8\n",
       "\\item 9\n",
       "\\item 10\n",
       "\\item 11\n",
       "\\end{enumerate*}\n",
       "\n",
       "\\item[\\$feature\\_8] \\begin{enumerate*}\n",
       "\\item 0\n",
       "\\item 1\n",
       "\\item 2\n",
       "\\end{enumerate*}\n",
       "\n",
       "\\item[\\$feature\\_9] \\begin{enumerate*}\n",
       "\\item 0\n",
       "\\item 1\n",
       "\\item 2\n",
       "\\item 3\n",
       "\\end{enumerate*}\n",
       "\n",
       "\\item[\\$feature\\_10] \\begin{enumerate*}\n",
       "\\item 0\n",
       "\\item 1\n",
       "\\end{enumerate*}\n",
       "\n",
       "\\item[\\$feature\\_11] \\begin{enumerate*}\n",
       "\\item 0\n",
       "\\item 1\n",
       "\\end{enumerate*}\n",
       "\n",
       "\\item[\\$feature\\_12] \\begin{enumerate*}\n",
       "\\item 0\n",
       "\\item 1\n",
       "\\end{enumerate*}\n",
       "\n",
       "\\item[\\$feature\\_13] \\begin{enumerate*}\n",
       "\\item 0\n",
       "\\item 1\n",
       "\\item 2\n",
       "\\end{enumerate*}\n",
       "\n",
       "\\item[\\$feature\\_14] \\begin{enumerate*}\n",
       "\\item 0\n",
       "\\item 1\n",
       "\\item 2\n",
       "\\item 3\n",
       "\\item 4\n",
       "\\item 5\n",
       "\\item 6\n",
       "\\item 7\n",
       "\\item 8\n",
       "\\item 9\n",
       "\\item 10\n",
       "\\item 11\n",
       "\\end{enumerate*}\n",
       "\n",
       "\\item[\\$feature\\_15] \\begin{enumerate*}\n",
       "\\item 0\n",
       "\\item 1\n",
       "\\item 2\n",
       "\\item 3\n",
       "\\end{enumerate*}\n",
       "\n",
       "\\item[\\$labels] \\begin{enumerate*}\n",
       "\\item 0\n",
       "\\item 1\n",
       "\\end{enumerate*}\n",
       "\n",
       "\\end{description}\n"
      ],
      "text/markdown": [
       "$feature_7\n",
       ":   1. 0\n",
       "2. 1\n",
       "3. 2\n",
       "4. 3\n",
       "5. 4\n",
       "6. 5\n",
       "7. 6\n",
       "8. 7\n",
       "9. 8\n",
       "10. 9\n",
       "11. 10\n",
       "12. 11\n",
       "\n",
       "\n",
       "\n",
       "$feature_8\n",
       ":   1. 0\n",
       "2. 1\n",
       "3. 2\n",
       "\n",
       "\n",
       "\n",
       "$feature_9\n",
       ":   1. 0\n",
       "2. 1\n",
       "3. 2\n",
       "4. 3\n",
       "\n",
       "\n",
       "\n",
       "$feature_10\n",
       ":   1. 0\n",
       "2. 1\n",
       "\n",
       "\n",
       "\n",
       "$feature_11\n",
       ":   1. 0\n",
       "2. 1\n",
       "\n",
       "\n",
       "\n",
       "$feature_12\n",
       ":   1. 0\n",
       "2. 1\n",
       "\n",
       "\n",
       "\n",
       "$feature_13\n",
       ":   1. 0\n",
       "2. 1\n",
       "3. 2\n",
       "\n",
       "\n",
       "\n",
       "$feature_14\n",
       ":   1. 0\n",
       "2. 1\n",
       "3. 2\n",
       "4. 3\n",
       "5. 4\n",
       "6. 5\n",
       "7. 6\n",
       "8. 7\n",
       "9. 8\n",
       "10. 9\n",
       "11. 10\n",
       "12. 11\n",
       "\n",
       "\n",
       "\n",
       "$feature_15\n",
       ":   1. 0\n",
       "2. 1\n",
       "3. 2\n",
       "4. 3\n",
       "\n",
       "\n",
       "\n",
       "$labels\n",
       ":   1. 0\n",
       "2. 1\n",
       "\n",
       "\n",
       "\n",
       "\n",
       "\n"
      ],
      "text/plain": [
       "$feature_7\n",
       " [1]  0  1  2  3  4  5  6  7  8  9 10 11\n",
       "\n",
       "$feature_8\n",
       "[1] 0 1 2\n",
       "\n",
       "$feature_9\n",
       "[1] 0 1 2 3\n",
       "\n",
       "$feature_10\n",
       "[1] 0 1\n",
       "\n",
       "$feature_11\n",
       "[1] 0 1\n",
       "\n",
       "$feature_12\n",
       "[1] 0 1\n",
       "\n",
       "$feature_13\n",
       "[1] 0 1 2\n",
       "\n",
       "$feature_14\n",
       " [1]  0  1  2  3  4  5  6  7  8  9 10 11\n",
       "\n",
       "$feature_15\n",
       "[1] 0 1 2 3\n",
       "\n",
       "$labels\n",
       "[1] 0 1\n"
      ]
     },
     "metadata": {},
     "output_type": "display_data"
    }
   ],
   "source": [
    "#Show the unique values in the features we think could be qualitative\n",
    "apply(train[,8:17],2,function(x) sort(unique(x)))"
   ]
  },
  {
   "cell_type": "markdown",
   "metadata": {},
   "source": [
    "This is as close as we can get to evidence that these variables are categoric for now, since there is really no wrong way to explore data, it will be more convenient for us to assume they are categoric. However, we will not change them to factors until we are certain.\n",
    "\n",
    "It doesn't really serve any purpose to know whether features 0-6 are discrete or not, since it is unlikely for categories to be assigned a decimal value. But, for the sake of knowing, we'll check whether they really are discrete."
   ]
  },
  {
   "cell_type": "code",
   "execution_count": 9,
   "metadata": {},
   "outputs": [
    {
     "data": {
      "image/png": "[encoded data removed]",
      "text/plain": [
       "plot without title"
      ]
     },
     "metadata": {},
     "output_type": "display_data"
    }
   ],
   "source": [
    "p0 <- ggplot(train, aes(x=0, y=feature_0)) +\n",
    "  geom_point(size = 1)\n",
    "\n",
    "p1 <- ggplot(train, aes(x=0, y=feature_1)) +\n",
    "  geom_point(size = 1)\n",
    "\n",
    "p2 <- ggplot(train, aes(x=0, y=feature_2)) +\n",
    "  geom_point(size = 1)\n",
    "\n",
    "p3 <- ggplot(train, aes(x=0, y=feature_3)) +\n",
    "  geom_point(size = 1)\n",
    "\n",
    "p4 <- ggplot(train, aes(x=0, y=feature_4)) +\n",
    "  geom_point(size = 1)\n",
    "\n",
    "p5 <- ggplot(train, aes(x=0, y=feature_5)) +\n",
    "  geom_point(size = 1)\n",
    "\n",
    "p6 <- ggplot(train, aes(x=0, y=feature_6)) +\n",
    "  geom_point(size = 1)\n",
    "\n",
    "grid.arrange(p1, p2, p3, p4, p5, p6, ncol = 6)"
   ]
  },
  {
   "cell_type": "markdown",
   "metadata": {},
   "source": [
    "Yes, it appears that feature 2, 4 and 6 at least are discrete (I'm sure all measurement data is discrete on some level when you look at the lowest resolution though). Knowing all this, we shall proceed with the assumption that features 0-6 are conintuous numeric variables and features 7-15 are categoric. Until such time as it becomes apparent that this should change.\n",
    "\n",
    "It's also unknown whether the integer variables are a mix of both ordinal and nominal values. For the purpose of exploration we'll keep them as integers (so we can test correlations etc.) and then we'll change any to factor if we find significant motivations to do so.\n",
    "\n",
    "Below we change the response variable to factor in both test and train data sets, as we do know that the labels are categoric."
   ]
  },
  {
   "cell_type": "code",
   "execution_count": 10,
   "metadata": {},
   "outputs": [
    {
     "name": "stdout",
     "output_type": "stream",
     "text": [
      "'data.frame':\t27126 obs. of  17 variables:\n",
      " $ feature_0 : num  1.513 -1.501 0.948 -0.842 -0.559 ...\n",
      " $ feature_1 : num  -0.243 -0.213 0.581 -0.222 -0.592 ...\n",
      " $ feature_2 : num  0.143 1.225 -0.337 0.504 -1.178 ...\n",
      " $ feature_3 : num  2.019 -0.16 0.78 -0.377 -0.416 ...\n",
      " $ feature_4 : num  0.0762 -0.5694 -0.5694 0.399 -0.5694 ...\n",
      " $ feature_5 : num  -0.411 -0.411 -0.411 -0.411 -0.411 ...\n",
      " $ feature_6 : num  -0.252 -0.252 -0.252 -0.252 -0.252 ...\n",
      " $ feature_7 : int  1 8 0 9 1 4 7 6 6 9 ...\n",
      " $ feature_8 : int  1 2 2 1 2 2 1 1 1 1 ...\n",
      " $ feature_9 : int  1 1 1 1 1 2 1 2 1 3 ...\n",
      " $ feature_10: int  0 0 0 0 0 1 0 0 0 0 ...\n",
      " $ feature_11: int  1 0 0 0 1 1 0 1 1 1 ...\n",
      " $ feature_12: int  0 0 0 0 0 0 0 1 1 0 ...\n",
      " $ feature_13: int  0 0 2 0 0 0 0 2 0 0 ...\n",
      " $ feature_14: int  0 8 8 1 8 8 1 6 5 9 ...\n",
      " $ feature_15: int  3 3 3 3 3 0 3 3 3 3 ...\n",
      " $ labels    : Factor w/ 2 levels \"0\",\"1\": 1 1 1 1 1 1 1 1 1 1 ...\n"
     ]
    }
   ],
   "source": [
    "#change label and features 7-15 data type to factor in train dataset\n",
    "#train[,8:17] <- data.frame(lapply(train[,8:17], as.factor))\n",
    "train$labels <- as.factor(train$labels)\n",
    "\n",
    "#change label and features 7-15 data type to factor in test dataset\n",
    "#test[,8:17] <- data.frame(lapply(test[,8:17], as.factor))\n",
    "test$labels <- as.factor(test$labels)\n",
    "                     \n",
    "#always check your work - looks good.\n",
    "str(train)"
   ]
  },
  {
   "cell_type": "markdown",
   "metadata": {},
   "source": [
    "What proportion of the data is test versus train?"
   ]
  },
  {
   "cell_type": "code",
   "execution_count": 11,
   "metadata": {},
   "outputs": [
    {
     "data": {
      "text/html": [
       "0.200011796626165"
      ],
      "text/latex": [
       "0.200011796626165"
      ],
      "text/markdown": [
       "0.200011796626165"
      ],
      "text/plain": [
       "[1] 0.2000118"
      ]
     },
     "metadata": {},
     "output_type": "display_data"
    }
   ],
   "source": [
    "# get the dimentions of each dataset and return the proportion of data in the training dataset\n",
    "dim(test)[1] / (dim(test)[1] + dim(train)[1])"
   ]
  },
  {
   "cell_type": "markdown",
   "metadata": {},
   "source": [
    "The test dataset makes up one fifth of our total data"
   ]
  },
  {
   "cell_type": "markdown",
   "metadata": {},
   "source": [
    "<div class=\"alert alert-block alert-success\">\n",
    "\n",
    "### 2.1. Univariate Analysis <a class=\"anchor\" name=\"Univariate\"></a>"
   ]
  },
  {
   "cell_type": "markdown",
   "metadata": {},
   "source": [
    "How is the response variable distributed? Is it imbalanced? Is it biased?"
   ]
  },
  {
   "cell_type": "code",
   "execution_count": 12,
   "metadata": {},
   "outputs": [
    {
     "name": "stdout",
     "output_type": "stream",
     "text": [
      "Percentage rate of churn: 11.73 %"
     ]
    },
    {
     "data": {
      "image/png": "[encoded data removed]",
      "text/plain": [
       "Plot with title \"Class distribution of Labels\""
      ]
     },
     "metadata": {},
     "output_type": "display_data"
    }
   ],
   "source": [
    "# produce a bar chart showing how many observations in our label data have their class equal to 1 or 0.\n",
    "barplot(table(train$labels), xlab = \"Labels\", main = \"Class distribution of Labels\", col = \"white\")\n",
    "\n",
    "# imbalance as a ratio\n",
    "pc <- round(table(train$labels)[2] / length(train$labels) * 100, 2)\n",
    "cat('Percentage rate of churn:', pc, '%')"
   ]
  },
  {
   "cell_type": "markdown",
   "metadata": {},
   "source": [
    "There is no **detectable** bias in the label data, as we do not know any true information about real churn rates compared to the rates observed in this dataset. However, the class distribution in the label is very imbalanced (regardless of bias), this will likely become an issue for some learning algorithms later and will need to be factored in.\n",
    "\n"
   ]
  },
  {
   "cell_type": "markdown",
   "metadata": {},
   "source": [
    "Detailed descriptive statistics for continuous data:"
   ]
  },
  {
   "cell_type": "code",
   "execution_count": 13,
   "metadata": {},
   "outputs": [
    {
     "data": {
      "text/html": [
       "<table>\n",
       "<thead><tr><th></th><th scope=col>vars</th><th scope=col>n</th><th scope=col>mean</th><th scope=col>sd</th><th scope=col>median</th><th scope=col>trimmed</th><th scope=col>mad</th><th scope=col>min</th><th scope=col>max</th><th scope=col>range</th><th scope=col>skew</th><th scope=col>kurtosis</th><th scope=col>se</th></tr></thead>\n",
       "<tbody>\n",
       "\t<tr><th scope=row>feature_0</th><td>1      </td><td>27126  </td><td>-0.005 </td><td>1.000  </td><td>-0.182 </td><td>-0.068 </td><td>0.977  </td><td>-2.160 </td><td> 5.091 </td><td> 7.251 </td><td>0.677  </td><td>  0.292</td><td>0.006  </td></tr>\n",
       "\t<tr><th scope=row>feature_1</th><td>2      </td><td>27126  </td><td> 0.001 </td><td>0.986  </td><td>-0.297 </td><td>-0.193 </td><td>0.223  </td><td>-3.081 </td><td>26.223 </td><td>29.304 </td><td>7.503  </td><td>103.612</td><td>0.006  </td></tr>\n",
       "\t<tr><th scope=row>feature_2</th><td>3      </td><td>27126  </td><td> 0.004 </td><td>1.000  </td><td> 0.023 </td><td>-0.010 </td><td>1.247  </td><td>-1.779 </td><td> 1.826 </td><td> 3.605 </td><td>0.088  </td><td> -1.058</td><td>0.006  </td></tr>\n",
       "\t<tr><th scope=row>feature_3</th><td>4      </td><td>27126  </td><td>-0.002 </td><td>0.997  </td><td>-0.307 </td><td>-0.186 </td><td>0.530  </td><td>-1.002 </td><td>18.095 </td><td>19.097 </td><td>3.157  </td><td> 18.827</td><td>0.006  </td></tr>\n",
       "\t<tr><th scope=row>feature_4</th><td>5      </td><td>27126  </td><td> 0.000 </td><td>1.009  </td><td>-0.247 </td><td>-0.210 </td><td>0.479  </td><td>-0.569 </td><td>19.444 </td><td>20.013 </td><td>5.101  </td><td> 44.119</td><td>0.006  </td></tr>\n",
       "\t<tr><th scope=row>feature_5</th><td>6      </td><td>27126  </td><td>-0.003 </td><td>0.997  </td><td>-0.411 </td><td>-0.285 </td><td>0.000  </td><td>-0.411 </td><td> 8.128 </td><td> 8.539 </td><td>2.639  </td><td>  7.088</td><td>0.006  </td></tr>\n",
       "\t<tr><th scope=row>feature_6</th><td>7      </td><td>27126  </td><td>-0.009 </td><td>0.795  </td><td>-0.252 </td><td>-0.197 </td><td>0.000  </td><td>-0.252 </td><td>23.626 </td><td>23.878 </td><td>7.360  </td><td> 96.290</td><td>0.005  </td></tr>\n",
       "</tbody>\n",
       "</table>\n"
      ],
      "text/latex": [
       "\\begin{tabular}{r|lllllllllllll}\n",
       "  & vars & n & mean & sd & median & trimmed & mad & min & max & range & skew & kurtosis & se\\\\\n",
       "\\hline\n",
       "\tfeature\\_0 & 1       & 27126   & -0.005  & 1.000   & -0.182  & -0.068  & 0.977   & -2.160  &  5.091  &  7.251  & 0.677   &   0.292 & 0.006  \\\\\n",
       "\tfeature\\_1 & 2       & 27126   &  0.001  & 0.986   & -0.297  & -0.193  & 0.223   & -3.081  & 26.223  & 29.304  & 7.503   & 103.612 & 0.006  \\\\\n",
       "\tfeature\\_2 & 3       & 27126   &  0.004  & 1.000   &  0.023  & -0.010  & 1.247   & -1.779  &  1.826  &  3.605  & 0.088   &  -1.058 & 0.006  \\\\\n",
       "\tfeature\\_3 & 4       & 27126   & -0.002  & 0.997   & -0.307  & -0.186  & 0.530   & -1.002  & 18.095  & 19.097  & 3.157   &  18.827 & 0.006  \\\\\n",
       "\tfeature\\_4 & 5       & 27126   &  0.000  & 1.009   & -0.247  & -0.210  & 0.479   & -0.569  & 19.444  & 20.013  & 5.101   &  44.119 & 0.006  \\\\\n",
       "\tfeature\\_5 & 6       & 27126   & -0.003  & 0.997   & -0.411  & -0.285  & 0.000   & -0.411  &  8.128  &  8.539  & 2.639   &   7.088 & 0.006  \\\\\n",
       "\tfeature\\_6 & 7       & 27126   & -0.009  & 0.795   & -0.252  & -0.197  & 0.000   & -0.252  & 23.626  & 23.878  & 7.360   &  96.290 & 0.005  \\\\\n",
       "\\end{tabular}\n"
      ],
      "text/markdown": [
       "\n",
       "| <!--/--> | vars | n | mean | sd | median | trimmed | mad | min | max | range | skew | kurtosis | se |\n",
       "|---|---|---|---|---|---|---|---|---|---|---|---|---|---|\n",
       "| feature_0 | 1       | 27126   | -0.005  | 1.000   | -0.182  | -0.068  | 0.977   | -2.160  |  5.091  |  7.251  | 0.677   |   0.292 | 0.006   |\n",
       "| feature_1 | 2       | 27126   |  0.001  | 0.986   | -0.297  | -0.193  | 0.223   | -3.081  | 26.223  | 29.304  | 7.503   | 103.612 | 0.006   |\n",
       "| feature_2 | 3       | 27126   |  0.004  | 1.000   |  0.023  | -0.010  | 1.247   | -1.779  |  1.826  |  3.605  | 0.088   |  -1.058 | 0.006   |\n",
       "| feature_3 | 4       | 27126   | -0.002  | 0.997   | -0.307  | -0.186  | 0.530   | -1.002  | 18.095  | 19.097  | 3.157   |  18.827 | 0.006   |\n",
       "| feature_4 | 5       | 27126   |  0.000  | 1.009   | -0.247  | -0.210  | 0.479   | -0.569  | 19.444  | 20.013  | 5.101   |  44.119 | 0.006   |\n",
       "| feature_5 | 6       | 27126   | -0.003  | 0.997   | -0.411  | -0.285  | 0.000   | -0.411  |  8.128  |  8.539  | 2.639   |   7.088 | 0.006   |\n",
       "| feature_6 | 7       | 27126   | -0.009  | 0.795   | -0.252  | -0.197  | 0.000   | -0.252  | 23.626  | 23.878  | 7.360   |  96.290 | 0.005   |\n",
       "\n"
      ],
      "text/plain": [
       "          vars n     mean   sd    median trimmed mad   min    max    range \n",
       "feature_0 1    27126 -0.005 1.000 -0.182 -0.068  0.977 -2.160  5.091  7.251\n",
       "feature_1 2    27126  0.001 0.986 -0.297 -0.193  0.223 -3.081 26.223 29.304\n",
       "feature_2 3    27126  0.004 1.000  0.023 -0.010  1.247 -1.779  1.826  3.605\n",
       "feature_3 4    27126 -0.002 0.997 -0.307 -0.186  0.530 -1.002 18.095 19.097\n",
       "feature_4 5    27126  0.000 1.009 -0.247 -0.210  0.479 -0.569 19.444 20.013\n",
       "feature_5 6    27126 -0.003 0.997 -0.411 -0.285  0.000 -0.411  8.128  8.539\n",
       "feature_6 7    27126 -0.009 0.795 -0.252 -0.197  0.000 -0.252 23.626 23.878\n",
       "          skew  kurtosis se   \n",
       "feature_0 0.677   0.292  0.006\n",
       "feature_1 7.503 103.612  0.006\n",
       "feature_2 0.088  -1.058  0.006\n",
       "feature_3 3.157  18.827  0.006\n",
       "feature_4 5.101  44.119  0.006\n",
       "feature_5 2.639   7.088  0.006\n",
       "feature_6 7.360  96.290  0.005"
      ]
     },
     "metadata": {},
     "output_type": "display_data"
    }
   ],
   "source": [
    "# return summary statistics for the train dataset\n",
    "round(describe(train[,1:7]), 3)"
   ]
  },
  {
   "cell_type": "markdown",
   "metadata": {},
   "source": [
    "Some initital findings from summary statistics:\n",
    "- **Missing Data:** There is no missing data in any features\n",
    "- **Mean:** The data all appear to have relatively similar means, ranging between values of -1 and 6\n",
    "- **Median:** The range of median values is slightly wider than the mean, but not by much.\n",
    "- **Standard Deviation / Error:** Once standardised (using standard error), this data all has very similar spread.\n",
    "- **Range:** The range of values in all the data only spread from (approximately) -2 to 24. Feature 1 has the widest range of all, next to 3, 4 and 6.\n",
    "- **Skew:** Feature 1 & 6 have highest skew, in the positive direction.\n",
    "- **Range:** Features 1 & 6 have the widest range.\n",
    "- **Kurtosis:** Features 1, 4 & 6 have relatively high kurtosis, making their tails very short. Conversely, quite a few variables have longer tails, measuring no lesser than -1.06 though.\n",
    "- **Scaling:** there has been no feature scaling yet (e.g. min-max scaling), we may need to do this for some types of statistical model\n",
    "- **Expected Data Characteristics:** Given that we don't have any particular knowledge about each feature, we cannot comment on the expected or unexpected characteristics of each variable. Only that our response variable has two classes, 0 and 1 which represent churn and no churn as expected."
   ]
  },
  {
   "cell_type": "markdown",
   "metadata": {},
   "source": [
    "Descriptive statistics for discrete data:"
   ]
  },
  {
   "cell_type": "code",
   "execution_count": 14,
   "metadata": {},
   "outputs": [
    {
     "data": {
      "text/plain": [
       " feature_7 feature_8 feature_9 feature_10 feature_11 feature_12 feature_13\n",
       " 0 : 806   0: 788    0:1014    0:6652     0:2925     0:5680     0:4361    \n",
       " 1 :1432   1:4021    1:3527    1: 130     1:3857     1:1102     1: 428    \n",
       " 2 : 220   2:1973    2:1946                                     2:1993    \n",
       " 3 : 182             3: 295                                               \n",
       " 4 :1408                                                                  \n",
       " 5 : 354                                                                  \n",
       " 6 : 225                                                                  \n",
       " 7 : 640                                                                  \n",
       " 8 : 135                                                                  \n",
       " 9 :1160                                                                  \n",
       " 10: 179                                                                  \n",
       " 11:  41                                                                  \n",
       " feature_14 feature_15 labels  \n",
       " 0 : 435    0: 736     0:5997  \n",
       " 1 : 928    1: 274     1: 785  \n",
       " 2 :  33    2: 211             \n",
       " 3 : 401    3:5561             \n",
       " 4 : 186                       \n",
       " 5 :1026                       \n",
       " 6 : 816                       \n",
       " 7 :  62                       \n",
       " 8 :2103                       \n",
       " 9 : 599                       \n",
       " 10: 109                       \n",
       " 11:  84                       "
      ]
     },
     "metadata": {},
     "output_type": "display_data"
    }
   ],
   "source": [
    "summary(data.frame(lapply(test[,8:17], as.factor)), maxsum = 12)\n",
    "\n",
    "# table and prop.table information is way to extensive to interpret here\n",
    "#table(test[,8:16])"
   ]
  },
  {
   "cell_type": "markdown",
   "metadata": {},
   "source": [
    "Qualitative data ranges from 2 to 12 categories. None are evenly distributed, while many have a clear preference towards one class over the others, such as feature_13 which has 17,617 in class '0' and less than 10,000 observations in the other two classes ('1' & '2') combined."
   ]
  },
  {
   "cell_type": "markdown",
   "metadata": {},
   "source": [
    "Histograms and Density Plots for our continuous data:"
   ]
  },
  {
   "cell_type": "code",
   "execution_count": 15,
   "metadata": {},
   "outputs": [
    {
     "data": {
      "image/png": "[encoded data removed]",
      "text/plain": [
       "Plot with title \"Histogram of Feature 3\""
      ]
     },
     "metadata": {},
     "output_type": "display_data"
    },
    {
     "data": {
      "image/png": "[encoded data removed]",
      "text/plain": [
       "Plot with title \"Histogram of Feature 6\""
      ]
     },
     "metadata": {},
     "output_type": "display_data"
    }
   ],
   "source": [
    "#increase scale size of jupyter plots for some very detailed ones momentarily.\n",
    "options(jupyter.plot_scale=1) \n",
    "\n",
    "# Histogram for features 0 to 6\n",
    "par(mfrow = c(2,2))\n",
    "for (i in 1:7 ) {\n",
    "    h <- hist(train[,i], plot=FALSE)\n",
    "    plot(h, main=paste(\"Histogram of Feature\", i-1), xlab = names(train[i]), col = brewer.pal(8, name = \"Pastel1\")[i])\n",
    "    d <- density(train[,i])\n",
    "    lines(x = d$x, y = d$y * length(train[,i]) * diff(h$breaks)[1], col = \"purple\", lwd = 1.5)\n",
    "}"
   ]
  },
  {
   "cell_type": "markdown",
   "metadata": {},
   "source": [
    "The histograms seem to tell us that the data here is a mix of left skewed (0), exponential (1, 3, 4 & 6) and uniformly (2?) distributed features are seen here. But the density plots say a whole lot more. Most of our exponential data is just very highly right skewed unimodal. Our questionably uniform feature (2) could alternatively be multimodal.  There are also some interesting artefacts on features 4 & 6, some kind of decaying harmonic oscillation. Feature 5 appears to have some kind of normal distribution with a right tail, could be right skewed unimodel, or it could be something else, it might help to take a closer look.\n",
    "\n",
    "Below we use log scaling to look more closely at the tail end of the data in feature 5."
   ]
  },
  {
   "cell_type": "code",
   "execution_count": 16,
   "metadata": {},
   "outputs": [
    {
     "data": {
      "image/png": "[encoded data removed]",
      "text/plain": [
       "Plot with title \"Log scaled Feature 5\""
      ]
     },
     "metadata": {},
     "output_type": "display_data"
    }
   ],
   "source": [
    "barplot(table(train[,6]), log=\"y\", xlab = names(train[,6]), main = paste(\"Log scaled Feature\", 5), col = brewer.pal(8, name = \"Pastel1\")[6])"
   ]
  },
  {
   "cell_type": "markdown",
   "metadata": {},
   "source": [
    "This is definately not the best chart option for the job, but it does have an in-built log scale. It shows that the data could be multimodal.\n",
    "\n",
    "It could be improved with binning:"
   ]
  },
  {
   "cell_type": "code",
   "execution_count": 17,
   "metadata": {},
   "outputs": [
    {
     "data": {
      "image/png": "[encoded data removed]",
      "text/plain": [
       "Plot with title \"Barplot of Feature 5 with Log y Scale and binned x data\""
      ]
     },
     "metadata": {},
     "output_type": "display_data"
    }
   ],
   "source": [
    "barplot(table(bin(train[,6], nbins = 20)), log = \"y\", xlab = \"feature_5\", ylab = \"log(Frequency)\", main = \"Barplot of Feature 5 with Log y Scale and binned x data\", col = brewer.pal(8, name = \"Pastel1\")[6])"
   ]
  },
  {
   "cell_type": "markdown",
   "metadata": {},
   "source": [
    "This is quite unusual, not an easily identifiable distribution."
   ]
  },
  {
   "cell_type": "markdown",
   "metadata": {},
   "source": [
    "Moving on. Bar chart exploration for our (assumed) qualitative data:"
   ]
  },
  {
   "cell_type": "code",
   "execution_count": 18,
   "metadata": {},
   "outputs": [
    {
     "data": {
      "image/png": "[encoded data removed]",
      "text/plain": [
       "Plot with title \"Bar plot of Feature 10\""
      ]
     },
     "metadata": {},
     "output_type": "display_data"
    },
    {
     "data": {
      "image/png": "[encoded data removed]",
      "text/plain": [
       "Plot with title \"Bar plot of Feature 14\""
      ]
     },
     "metadata": {},
     "output_type": "display_data"
    },
    {
     "data": {
      "image/png": "[encoded data removed]",
      "text/plain": [
       "Plot with title \"Bar plot of Feature 15\""
      ]
     },
     "metadata": {},
     "output_type": "display_data"
    }
   ],
   "source": [
    "# Bar chart for features 7 to 15\n",
    "par(mfrow = c(2,2))\n",
    "for (i in 8:16 ) {\n",
    "        barplot(table(train[,i]), xlab = names(train[i]), main = paste(\"Bar plot of Feature\", i-1), col = brewer.pal(8, name = \"Pastel2\")[i-7])\n",
    "}"
   ]
  },
  {
   "cell_type": "markdown",
   "metadata": {},
   "source": [
    "As found earlier, features 10, 11, 12 and the label are binomial. Features 10 & 12 are primarliy distributed at zero. Feature 11 on the otherhand is a little more evenly distributed.\n",
    "\n",
    "The rest of our features are multinomial with little patterning to them."
   ]
  },
  {
   "cell_type": "markdown",
   "metadata": {},
   "source": [
    "<div class=\"alert alert-block alert-success\">\n",
    "\n",
    "### 2.2. Summary of Univariate Analysis <a class=\"anchor\" name=\"SumUnivariate\"></a>"
   ]
  },
  {
   "cell_type": "markdown",
   "metadata": {},
   "source": [
    "### Quantitative vs Qualitative Variables:\n",
    "\n",
    "We have identified that features 0-6 are continuous, of those 2,4 & 6 appear to be discrete. As discussed earlier, we continue with the assumption that features 7-15 are categoric. It is possible that their (features 7-15) distributions and/or relationships with other variables could reveal the possibility of a rank or logical order, therefore their erratic distributions (notably in feature 7, 14 & 15) could be an indication that they are nominal (have no order or rank), we cannot really know for certain which features are ordinal or nominal though. This information is important to establish early so that we may choose appropriate visual exploration methods and determine whether dummy encoding is needed for specific learning algorithms later on.\n",
    "\n",
    "### Distributions:\n",
    "Other notable observations incluide that feature 0, 1, 3, 4 & 6 are all skewed (although the histogram would have you beleive otherwise). Feature 5 looks interesting, it could be skewed unimodal, bimodal or something else entirely. Meanwhile feature 2 is fairly uniformly distributed (possibly 7 and 11 too). Many of the integer features (7 and above) show a clear imbalance where one class is prefenced (particularly 10, 12 and 15). Features 8 and 9 show some degree of normal distribution however, if it is categoric this is probably not the case. It's hard to determine what information 7 & 14 have to give us, they are discrete with no clear distribution meaning that they could be nominal variables with no clear rank or order, these would be prime candidates for tree methods or dummy encoding for other learning methods.\n",
    "\n",
    "### Labels class imbalance\n",
    "The response variable is not evenly distributed. The majority class (0 / No Churn) is very dominant here and so we expect that some learning algorithms will significantly favour this class for positive prediction unless we compensate. Resampling or shifting probability thresholds may be necessary so as not to introduce bias in our learning/modelling algorithms.\n",
    "\n",
    "### Other notes\n",
    "Feature scaling has not been completed on this dataset. Some learning algorithms might need us to preform this. There is no missing data in any features and since we don't have any particular knowledge about each feature, we cannot comment more generally on the expected or unexpected characteristics of each variable, such as the range of values and outliers.\n",
    "_________________________"
   ]
  },
  {
   "cell_type": "markdown",
   "metadata": {},
   "source": [
    "<div class=\"alert alert-block alert-success\">\n",
    "\n",
    "### 2.3. Bivariate Analysis <a class=\"anchor\" name=\"Bivariate\"></a>"
   ]
  },
  {
   "cell_type": "markdown",
   "metadata": {},
   "source": [
    "Checking for highly colinear features."
   ]
  },
  {
   "cell_type": "code",
   "execution_count": 19,
   "metadata": {},
   "outputs": [
    {
     "data": {
      "image/png": "[encoded data removed]",
      "text/plain": [
       "Plot with title \"\""
      ]
     },
     "metadata": {},
     "output_type": "display_data"
    }
   ],
   "source": [
    "# exclude our label from correlation data since it is a factor\n",
    "cor <- cor(train[-17])\n",
    "\n",
    "# plot correlations\n",
    "corrplot(cor, method = 'number', type = 'upper',number.cex=0.75)"
   ]
  },
  {
   "cell_type": "markdown",
   "metadata": {},
   "source": [
    "Feature 15 and 5 are highly negatively correlated, 15 and 6 are somewhat similar too. Features 5 & 6 are positively correlated with each other, which probably exaplins their similar relationship with 15. Feature 15 or 5 & 6 should be removed. Feature 0 & 8 are also somewhat negatively correlated. Otherwise, correlation between other varibles are almost zero.\n",
    "\n",
    "Next we take a quick peek at the pair wise relationships in our data:"
   ]
  },
  {
   "cell_type": "code",
   "execution_count": 20,
   "metadata": {},
   "outputs": [
    {
     "data": {
      "image/png": "[encoded data removed]",
      "text/plain": [
       "plot without title"
      ]
     },
     "metadata": {},
     "output_type": "display_data"
    }
   ],
   "source": [
    "pairs(train)"
   ]
  },
  {
   "cell_type": "markdown",
   "metadata": {},
   "source": [
    "There are no other descerable realtionships other than those we already established."
   ]
  },
  {
   "cell_type": "code",
   "execution_count": 21,
   "metadata": {},
   "outputs": [
    {
     "data": {
      "text/html": [
       "<table>\n",
       "<tbody>\n",
       "\t<tr><th scope=row>feature_0</th><td> 0.01550229</td></tr>\n",
       "\t<tr><th scope=row>feature_1</th><td> 0.05064085</td></tr>\n",
       "\t<tr><th scope=row>feature_2</th><td>-0.02975611</td></tr>\n",
       "\t<tr><th scope=row>feature_3</th><td> 0.39008974</td></tr>\n",
       "\t<tr><th scope=row>feature_4</th><td>-0.07615220</td></tr>\n",
       "\t<tr><th scope=row>feature_5</th><td> 0.11057683</td></tr>\n",
       "\t<tr><th scope=row>feature_6</th><td> 0.11904202</td></tr>\n",
       "\t<tr><th scope=row>feature_7</th><td> 0.03671097</td></tr>\n",
       "\t<tr><th scope=row>feature_8</th><td> 0.04254066</td></tr>\n",
       "\t<tr><th scope=row>feature_9</th><td> 0.06883864</td></tr>\n",
       "\t<tr><th scope=row>feature_10</th><td>-0.02411465</td></tr>\n",
       "\t<tr><th scope=row>feature_11</th><td>-0.13572276</td></tr>\n",
       "\t<tr><th scope=row>feature_12</th><td>-0.06511450</td></tr>\n",
       "\t<tr><th scope=row>feature_13</th><td>-0.14820666</td></tr>\n",
       "\t<tr><th scope=row>feature_14</th><td>-0.02532398</td></tr>\n",
       "\t<tr><th scope=row>feature_15</th><td>-0.08062353</td></tr>\n",
       "</tbody>\n",
       "</table>\n"
      ],
      "text/latex": [
       "\\begin{tabular}{r|l}\n",
       "\tfeature\\_0 &  0.01550229\\\\\n",
       "\tfeature\\_1 &  0.05064085\\\\\n",
       "\tfeature\\_2 & -0.02975611\\\\\n",
       "\tfeature\\_3 &  0.39008974\\\\\n",
       "\tfeature\\_4 & -0.07615220\\\\\n",
       "\tfeature\\_5 &  0.11057683\\\\\n",
       "\tfeature\\_6 &  0.11904202\\\\\n",
       "\tfeature\\_7 &  0.03671097\\\\\n",
       "\tfeature\\_8 &  0.04254066\\\\\n",
       "\tfeature\\_9 &  0.06883864\\\\\n",
       "\tfeature\\_10 & -0.02411465\\\\\n",
       "\tfeature\\_11 & -0.13572276\\\\\n",
       "\tfeature\\_12 & -0.06511450\\\\\n",
       "\tfeature\\_13 & -0.14820666\\\\\n",
       "\tfeature\\_14 & -0.02532398\\\\\n",
       "\tfeature\\_15 & -0.08062353\\\\\n",
       "\\end{tabular}\n"
      ],
      "text/markdown": [
       "\n",
       "| feature_0 |  0.01550229 |\n",
       "| feature_1 |  0.05064085 |\n",
       "| feature_2 | -0.02975611 |\n",
       "| feature_3 |  0.39008974 |\n",
       "| feature_4 | -0.07615220 |\n",
       "| feature_5 |  0.11057683 |\n",
       "| feature_6 |  0.11904202 |\n",
       "| feature_7 |  0.03671097 |\n",
       "| feature_8 |  0.04254066 |\n",
       "| feature_9 |  0.06883864 |\n",
       "| feature_10 | -0.02411465 |\n",
       "| feature_11 | -0.13572276 |\n",
       "| feature_12 | -0.06511450 |\n",
       "| feature_13 | -0.14820666 |\n",
       "| feature_14 | -0.02532398 |\n",
       "| feature_15 | -0.08062353 |\n",
       "\n"
      ],
      "text/plain": [
       "           [,1]       \n",
       "feature_0   0.01550229\n",
       "feature_1   0.05064085\n",
       "feature_2  -0.02975611\n",
       "feature_3   0.39008974\n",
       "feature_4  -0.07615220\n",
       "feature_5   0.11057683\n",
       "feature_6   0.11904202\n",
       "feature_7   0.03671097\n",
       "feature_8   0.04254066\n",
       "feature_9   0.06883864\n",
       "feature_10 -0.02411465\n",
       "feature_11 -0.13572276\n",
       "feature_12 -0.06511450\n",
       "feature_13 -0.14820666\n",
       "feature_14 -0.02532398\n",
       "feature_15 -0.08062353"
      ]
     },
     "metadata": {},
     "output_type": "display_data"
    }
   ],
   "source": [
    "cor(train[,-17], as.numeric(train[,17])) "
   ]
  },
  {
   "cell_type": "markdown",
   "metadata": {},
   "source": [
    "It appears that feature 3 (cor = 0.39) will be our most important predictor. It stands out above all other features with more than twice the correlation coefficient of any other."
   ]
  },
  {
   "cell_type": "markdown",
   "metadata": {},
   "source": [
    "### Comparing continuous variables against the categoric label:"
   ]
  },
  {
   "cell_type": "markdown",
   "metadata": {},
   "source": [
    "Side by side box plots are ideal for comparing the continuous variables against our categoric response variable (labels). Many outliers have been deliberately removed with boxplots rescaled, as it was difficult to see the main quantiles of the distributions."
   ]
  },
  {
   "cell_type": "code",
   "execution_count": 22,
   "metadata": {
    "scrolled": false
   },
   "outputs": [
    {
     "name": "stderr",
     "output_type": "stream",
     "text": [
      "Warning message:\n",
      "\"Removed 4955 rows containing non-finite values (stat_boxplot).\"Warning message:\n",
      "\"Removed 2705 rows containing non-finite values (stat_boxplot).\"Warning message:\n",
      "\"Removed 2602 rows containing non-finite values (stat_boxplot).\"Warning message:\n",
      "\"Removed 2691 rows containing non-finite values (stat_boxplot).\"Warning message:\n",
      "\"Removed 1314 rows containing non-finite values (stat_boxplot).\""
     ]
    },
    {
     "data": {
      "image/png": "[encoded data removed]",
      "text/plain": [
       "plot without title"
      ]
     },
     "metadata": {},
     "output_type": "display_data"
    }
   ],
   "source": [
    "p1 <- ggplot(train, aes(x=factor(labels), y=train[,1], fill=factor(labels))) + \n",
    "          geom_boxplot()+\n",
    "          #scale_y_continuous(limits = c(quantile(train[,1], c(0.1, 0.9))[1], quantile(train[,1], c(0.1, 0.9))[2]))+\n",
    "          labs(x = \"labels\",y = names(train)[1]) +\n",
    "          guides(fill=\"none\")\n",
    "\n",
    "p2 <- ggplot(train, aes(x=factor(labels), y=train[,2], fill=factor(labels))) + \n",
    "          geom_boxplot()+\n",
    "          scale_y_continuous(limits = c(quantile(train[,2],c(0.1, 0.9))[1], quantile(train[,2], c(0.1, 0.9))[2]))+\n",
    "          labs(x = \"labels\",y = names(train)[2]) +\n",
    "          guides(fill=\"none\")\n",
    "\n",
    "p3 <- ggplot(train, aes(x=factor(labels), y=train[,3], fill=factor(labels))) + \n",
    "          geom_boxplot()+\n",
    "          #scale_y_continuous(limits = c(quantile(train[,3], c(0.1, 0.9))[1], quantile(train[,3], c(0.1, 0.9))[2]))+\n",
    "          labs(x = \"labels\",y = names(train)[3]) +\n",
    "          guides(fill=\"none\")\n",
    "\n",
    "p4 <- ggplot(train, aes(x=factor(labels), y=train[,4], fill=factor(labels))) + \n",
    "          geom_boxplot()+\n",
    "          scale_y_continuous(limits = c(quantile(train[,4], c(0, 0.9))[1], quantile(train[,4], c(0, 0.9))[2]))+\n",
    "          labs(x = \"labels\",y = names(train)[4]) +\n",
    "          guides(fill=\"none\")\n",
    "\n",
    "p5 <- ggplot(train, aes(x=factor(labels), y=train[,5], fill=factor(labels))) + \n",
    "          geom_boxplot()+\n",
    "          scale_y_continuous(limits = c(quantile(train[,5], c(0, 0.9))[1], quantile(train[,5], c(0, 0.9))[2]))+\n",
    "          labs(x = \"labels\",y = names(train)[5]) +\n",
    "          guides(fill=\"none\")\n",
    "\n",
    "p6 <- ggplot(train, aes(x=factor(labels), y=train[,6], fill=factor(labels))) + \n",
    "          geom_boxplot()+\n",
    "          scale_y_continuous(limits = c(quantile(train[,6], c(0.1, 0.9))[1], quantile(train[,6], c(0.1, 0.9))[2]))+\n",
    "          labs(x = \"labels\",y = names(train)[6]) +\n",
    "          guides(fill=\"none\")\n",
    "\n",
    "p7 <- ggplot(train, aes(x=factor(labels), y=train[,7], fill=factor(labels))) + \n",
    "          geom_boxplot()+\n",
    "          scale_y_continuous(limits = c(quantile(train[,7], c(0, 0.95))[1], quantile(train[,7], c(0, 0.95))[2]))+\n",
    "          labs(x = \"labels\",y = names(train)[7]) +\n",
    "          guides(fill=\"none\")\n",
    "\n",
    "\n",
    "grid.arrange(p1, p2, p3, p4, p5, p6, p7, ncol = 4)"
   ]
  },
  {
   "cell_type": "markdown",
   "metadata": {},
   "source": [
    "These box plots reveal that features 1 & 3 exhibit higher mean for churn (1) compared to no churn (0). Feature 0 has a wider distribution for churn than no churn. Feature 2 has a slightly lower mean for churn but the same overall spread. feature 5 & 6 appear to be very similar, with the same mean but greater spread for churn. Lastly, feature 4 has lower mean and spread for churn. These are explored in increased detail below with density plots. There are a great many potential outliers sitting outside the third quartile in all except feature 3."
   ]
  },
  {
   "cell_type": "code",
   "execution_count": 23,
   "metadata": {},
   "outputs": [
    {
     "name": "stderr",
     "output_type": "stream",
     "text": [
      "Warning message:\n",
      "\"Removed 619 rows containing non-finite values (stat_density).\"Warning message:\n",
      "\"Removed 726 rows containing non-finite values (stat_density).\"Warning message:\n",
      "\"Removed 111 rows containing non-finite values (stat_density).\"Warning message:\n",
      "\"Removed 447 rows containing non-finite values (stat_density).\""
     ]
    },
    {
     "data": {
      "image/png": "[encoded data removed]",
      "text/plain": [
       "plot without title"
      ]
     },
     "metadata": {},
     "output_type": "display_data"
    }
   ],
   "source": [
    "p1 <- ggplot(train) +\n",
    "  geom_density(aes(x = feature_0, fill = factor(labels)), alpha=.5) +\n",
    "  labs(x = 'feature_0') +\n",
    "  ggtitle(\"Feature 0 density of Labels\")+\n",
    "  theme(legend.key.size = unit(0.3, 'cm'), legend.title = element_text(size=8))\n",
    "\n",
    "p2 <- ggplot(train) +\n",
    "  geom_density(aes(x = feature_1, fill = factor(labels)), alpha=.5) +\n",
    "  labs(x = 'feature_1') +\n",
    "  ggtitle(\"Feature 1 density of Labels\")+\n",
    "  theme(legend.key.size = unit(0.3, 'cm'), legend.title = element_text(size=8)) +\n",
    "  xlim(c(-1,2.5))\n",
    "\n",
    "p3 <- ggplot(train) +\n",
    "  geom_density(aes(x = feature_2, fill = factor(labels)), alpha=.5) +\n",
    "  labs(x = 'feature_2') +\n",
    "  ggtitle(\"Feature 2 density of Labels\")+\n",
    "  theme(legend.key.size = unit(0.3, 'cm'), legend.title = element_text(size=8))\n",
    "\n",
    "p4 <- ggplot(train) +\n",
    "  geom_density(aes(x = feature_3, fill = factor(labels)), alpha=.5) +\n",
    "  labs(x = 'feature_3') +\n",
    "  ggtitle(\"Feature 3 density of Labels\")+\n",
    "  theme(legend.key.size = unit(0.3, 'cm'), legend.title = element_text(size=8))\n",
    "\n",
    "p5 <- ggplot(train) +\n",
    "  geom_density(aes(x = feature_4, fill = factor(labels)), alpha=.5) +\n",
    "  labs(x = 'feature_4') +\n",
    "  ggtitle(\"Feature 4 density of Labels\")+\n",
    "  theme(legend.key.size = unit(0.3, 'cm'), legend.title = element_text(size=8)) +\n",
    "  xlim(c(-1,2.5))\n",
    "\n",
    "p6 <- ggplot(train) +\n",
    "  geom_density(aes(x = feature_5, fill = factor(labels)), alpha=.5) +\n",
    "  labs(x = 'feature_5') +\n",
    "  ggtitle(\"Feature 5 density of Labels\")+\n",
    "  theme(legend.key.size = unit(0.3, 'cm'), legend.title = element_text(size=8)) +\n",
    "  xlim(c(-1,4))\n",
    "\n",
    "p7 <- ggplot(train) +\n",
    "  geom_density(aes(x = feature_6, fill = factor(labels)), alpha=.5) +\n",
    "  labs(x = 'feature_6') +\n",
    "  ggtitle(\"Feature 6 density of Labels\")+\n",
    "  theme(legend.key.size = unit(0.3, 'cm'), legend.title = element_text(size=8)) +\n",
    "  xlim(c(-0.5,2.5))\n",
    "\n",
    "grid.arrange(p1, p2, p3, p4, p5, p6, p7, ncol = 2)"
   ]
  },
  {
   "cell_type": "markdown",
   "metadata": {},
   "source": [
    "These compartisons for features 0, 1 & 3 are explained well enough by their boxplots. The additional detail in features 2, 4,5 & 6 is interesting. Features 4, 5 and 6 appear to have similar distributions for churn versus no churn, however they differ in the magnitude of their peaks - feature 4's high peak colours are are the inverse of 5 & 6.\n",
    "\n",
    "Feature 2 is different, it has churn and no churn peaks in different places. It now appears more multimodal than uniformly distributed.\n",
    "\n",
    "The difference in mean and spread for each label class in features 1 & 3 remains convincing as a strong predictors."
   ]
  },
  {
   "cell_type": "markdown",
   "metadata": {},
   "source": [
    "### Comparing two categoric variables\n",
    "Bar charts are used to compare features 7-15 against their labels. Since there is substantial imbalance between the churn and no churn rates, we use a percentage scale for comparisons."
   ]
  },
  {
   "cell_type": "code",
   "execution_count": 24,
   "metadata": {},
   "outputs": [
    {
     "data": {
      "image/png": "[encoded data removed]",
      "text/plain": [
       "plot without title"
      ]
     },
     "metadata": {},
     "output_type": "display_data"
    }
   ],
   "source": [
    "p7<- ggplot(train, aes(x = factor(feature_7), fill = labels)) + \n",
    "  geom_bar(position = \"fill\") +\n",
    "  theme(legend.key.size = unit(0.3, 'cm'), legend.title = element_text(size=8))+\n",
    "  xlab('feature_7')\n",
    "\n",
    "p8<- ggplot(train, aes(x = factor(feature_8), fill = labels)) + \n",
    "  geom_bar(position = \"fill\") +\n",
    "  theme(legend.key.size = unit(0.3, 'cm'), legend.title = element_text(size=8))+\n",
    "  xlab('feature_8')\n",
    "\n",
    "p9<- ggplot(train, aes(x = factor(feature_9), fill = labels)) + \n",
    "  geom_bar(position = \"fill\") +\n",
    "  theme(legend.key.size = unit(0.3, 'cm'), legend.title = element_text(size=8))+\n",
    "  xlab('feature_9')\n",
    "\n",
    "p10<- ggplot(train, aes(x = factor(feature_10), fill = labels)) + \n",
    "  geom_bar(position = \"fill\") +\n",
    "  theme(legend.key.size = unit(0.3, 'cm'), legend.title = element_text(size=8))+\n",
    "  xlab('feature_10')\n",
    "\n",
    "p11<- ggplot(train, aes(x = factor(feature_11), fill = labels)) + \n",
    "  geom_bar(position = \"fill\") +\n",
    "  theme(legend.key.size = unit(0.3, 'cm'), legend.title = element_text(size=8))+\n",
    "  xlab('feature_11')\n",
    "\n",
    "p12<- ggplot(train, aes(x = factor(feature_12), fill = labels)) + \n",
    "  geom_bar(position = \"fill\") +\n",
    "  theme(legend.key.size = unit(0.3, 'cm'), legend.title = element_text(size=8))+\n",
    "  xlab('feature_12')\n",
    "\n",
    "p13<- ggplot(train, aes(x = factor(feature_13), fill = labels)) + \n",
    "  geom_bar(position = \"fill\") +\n",
    "  theme(legend.key.size = unit(0.3, 'cm'), legend.title = element_text(size=8))+\n",
    "  xlab('feature_13')\n",
    "\n",
    "p14<- ggplot(train, aes(x = factor(feature_14), fill = labels)) + \n",
    "  geom_bar(position = \"fill\") +\n",
    "  theme(legend.key.size = unit(0.3, 'cm'), legend.title = element_text(size=8))+\n",
    "  xlab('feature_14')\n",
    "\n",
    "p15<- ggplot(train, aes(x = factor(feature_15), fill = labels)) + \n",
    "  geom_bar(position = \"fill\") +\n",
    "  theme(legend.key.size = unit(0.3, 'cm'), legend.title = element_text(size=8))+\n",
    "  xlab('feature_15')\n",
    "\n",
    "\n",
    "grid.arrange(p7, p8, p9, p10, p11, p12, p13, p14, p15, ncol = 3)"
   ]
  },
  {
   "cell_type": "markdown",
   "metadata": {},
   "source": [
    "The overall imbalance in this dataset's labels dictates that churn (1/blue) should be roughly around 12% of the counts. We see substantial deviation from this for some category values in feature 7, 14 and 15. These could be helpful in predicting churn. Because we see no obvious trends in the way the data is split for churn and no churn within these features, this might indicate there is no ordinal relationship between the categories and that dummy encoding would be beneficial in the modelling stage."
   ]
  },
  {
   "cell_type": "markdown",
   "metadata": {},
   "source": [
    "<div class=\"alert alert-block alert-success\">\n",
    "\n",
    "### 2.4. Summary of Bivariate Analysis <a class=\"anchor\" name=\"SumBivariate\"></a>"
   ]
  },
  {
   "cell_type": "markdown",
   "metadata": {},
   "source": [
    "In this section correlation was measured between features. Feature 15 and 5 are highly negatively correlated, 15 and 6 are somewhat similar too. Since we feel feature 15 could be a strong categoric predictor, features 5 & 6 should be removed.\n",
    "\n",
    "Correlation against the label is used to identify that feature 3 could be our most important predictor.\n",
    "\n",
    "Boxplots of the numeric variables broken down by label confirms again that feature 3 has a lot of promise as a predictor. Additionally feature 1 may be of importance. Density plots reveal little extra detail that is helpful above what has been found so far. \n",
    "\n",
    "Boxplots also show that there are a great many potential outliers sitting outside the third quartile in all features except feature 3.\n",
    "\n",
    "The bar charts of our assumed categoric data show that features 7, 14, 15 have categories which deviate from the expected 12% churn rate for some particular categories, also highlighting that they could prove very useful as predictors."
   ]
  },
  {
   "cell_type": "markdown",
   "metadata": {},
   "source": [
    "<div class=\"alert alert-block alert-success\">\n",
    "\n",
    "### 2.5. Multivariate Analysis <a class=\"anchor\" name=\"Multivariate\"></a>"
   ]
  },
  {
   "cell_type": "markdown",
   "metadata": {},
   "source": [
    "### Analysing interactions between two continuous variables and the label:\n",
    "In this section we have explored interactions between all continuous variables with colour sepration of the label, only those with interactions of interest have been kept and discussed. If there is no difference of behaviour seen between the churn and no churn label, the plot was removed."
   ]
  },
  {
   "cell_type": "code",
   "execution_count": 25,
   "metadata": {
    "scrolled": false
   },
   "outputs": [
    {
     "data": {
      "image/png": "[encoded data removed]",
      "text/plain": [
       "plot without title"
      ]
     },
     "metadata": {},
     "output_type": "display_data"
    }
   ],
   "source": [
    "p0 <- ggplot(train, aes(x=feature_3, y=feature_0)) +\n",
    "        geom_point(aes(colour = labels), alpha=.5)\n",
    "\n",
    "p1 <- ggplot(train, aes(x=feature_3, y=feature_1)) +\n",
    "        geom_point(aes(colour = labels), alpha=.5)\n",
    "\n",
    "p2 <- ggplot(train, aes(x=feature_3, y=feature_2)) +\n",
    "        geom_point(aes(colour = labels), alpha=.5)\n",
    "\n",
    "p4 <- ggplot(train, aes(x=feature_3, y=feature_4)) +\n",
    "        geom_point(aes(colour = labels), alpha=.5)\n",
    "\n",
    "p5 <- ggplot(train, aes(x=feature_3, y=feature_5)) +\n",
    "        geom_point(aes(colour = labels), alpha=.5)\n",
    "\n",
    "p6 <- ggplot(train, aes(x=feature_3, y=feature_6)) +\n",
    "        geom_point(aes(colour = labels), alpha=.5)\n",
    "\n",
    "grid.arrange(p0, p1, p2, p4, p5, p6, ncol = 2)"
   ]
  },
  {
   "cell_type": "markdown",
   "metadata": {},
   "source": [
    "During this exploration we only found clear/noticable separation of the label classes (1/Blue = Churn) in plots that involve feature 3.\n",
    "\n",
    "Feature 0 x 3: Churn is more commonly found towards the right\n",
    "\n",
    "Feature 1 x 3: Churn is more commonly found towards the lower right\n",
    "\n",
    "Feature 2 x 3: Churn is more commonly found towards the right. This appears to be a much more uniform separation than for some other features.\n",
    "\n",
    "Feature 4 x 3: Churn is more commonly found towards the lower right\n",
    "\n",
    "Feature 5 x 3: Churn is more commonly found towards the right\n",
    "\n",
    "Feature 6 x 3: Churn is more commonly found towards the lower right"
   ]
  },
  {
   "cell_type": "markdown",
   "metadata": {},
   "source": [
    "### Analysing interactions between a continuous and discrete variable with the label:"
   ]
  },
  {
   "cell_type": "markdown",
   "metadata": {},
   "source": [
    "In this section we have explored interactions between all continuous and discrete variable combinations with colour sepration of the label, only those with interactions of interest have been kept and discussed. If there is no difference of behaviour seen between the churn and no churn label, the plot was removed. Also, if there was no new behaviours not already discovered during earlier exploration, the plot was removed."
   ]
  },
  {
   "cell_type": "code",
   "execution_count": 26,
   "metadata": {
    "scrolled": false
   },
   "outputs": [
    {
     "data": {
      "image/png": "[encoded data removed]",
      "text/plain": [
       "plot without title"
      ]
     },
     "metadata": {},
     "output_type": "display_data"
    },
    {
     "data": {
      "image/png": "[encoded data removed]",
      "text/plain": [
       "plot without title"
      ]
     },
     "metadata": {},
     "output_type": "display_data"
    }
   ],
   "source": [
    "ggplot(aes(x=feature_2),data =train) + \n",
    "    geom_density(aes(fill = labels), alpha=.5) +\n",
    "    facet_wrap(~feature_8) +\n",
    "    ggtitle('Feature 2 & 8 Relationship')\n",
    "\n",
    "ggplot(aes(x=feature_2),data =train) + \n",
    "    geom_density(aes(fill = labels), alpha=.5) +\n",
    "    facet_wrap(~feature_14) +\n",
    "    ggtitle('Feature 2 & 14 Relationship')"
   ]
  },
  {
   "cell_type": "markdown",
   "metadata": {},
   "source": [
    "Exploration of feature 2's interactions with other categories was quite interesting. In general, it seems to have four or more peaks that rise and fall (independantly for churn and no churn) depending on the feature and category, the interaction between feature 2 & 8 is shown as an example of this. Additionally, the interaction between 2 and 14 is quite unique, it is not clear how to interpret this information currently - perhaps conversion into a discrete form (such as binning into four groups) would make this variable more useful, but this is hard to justify without background knowledge of the data."
   ]
  },
  {
   "cell_type": "markdown",
   "metadata": {},
   "source": [
    "### Analysing interactions between two categoric variables with the label:"
   ]
  },
  {
   "cell_type": "markdown",
   "metadata": {},
   "source": [
    "Mosaic plots were used to explore category interactions."
   ]
  },
  {
   "cell_type": "code",
   "execution_count": 31,
   "metadata": {},
   "outputs": [
    {
     "data": {
      "image/png": "[encoded data removed]",
      "text/plain": [
       "plot without title"
      ]
     },
     "metadata": {},
     "output_type": "display_data"
    }
   ],
   "source": [
    "library(vcd)\n",
    "\n",
    "mosaic( ~ feature_7 + feature_15 + labels, data = train,\n",
    "      highlighting = \"labels\", highlighting_fill = c(\"lightblue\", \"pink\"))"
   ]
  },
  {
   "cell_type": "markdown",
   "metadata": {},
   "source": [
    "No new discoveries were made using this method, it only confirmed what we already knew, that features 14 & 15 have categories with much higher churn rates than others."
   ]
  },
  {
   "cell_type": "markdown",
   "metadata": {},
   "source": [
    "<div class=\"alert alert-block alert-success\">\n",
    "\n",
    "### 2.6. Summary of Multivariate Analysis <a class=\"anchor\" name=\"SumMultivariate\"></a>"
   ]
  },
  {
   "cell_type": "markdown",
   "metadata": {},
   "source": [
    "Numeric variable interactions again confirmed feature 3's significance.\n",
    "\n",
    "Numeric and categorical interactions showed unusual peaks in feature 2 that appear to move independently for churn and no churn groups. As discussed earlier, this behaviour seems reminiscent of cateorical behaviour. It's possible that conversion into a discrete form (such as binning into four groups) would make this variable more useful, but this is hard to justify without background knowledge of the data.\n",
    "\n",
    "No new discoveries were made using mosaic plots to compare categoric interactions, it only confirmed what we already knew, that features 14 & 15 have some categories with much higher churn rates than others."
   ]
  },
  {
   "cell_type": "markdown",
   "metadata": {},
   "source": [
    "<div class=\"alert alert-block alert-success\">\n",
    "\n",
    "### 2.3. More <a class=\"anchor\" name=\"More\"></a>"
   ]
  },
  {
   "cell_type": "markdown",
   "metadata": {},
   "source": []
  },
  {
   "cell_type": "code",
   "execution_count": null,
   "metadata": {},
   "outputs": [],
   "source": []
  },
  {
   "cell_type": "markdown",
   "metadata": {},
   "source": [
    "As we have seen, there are few variables which correlate highly with our response variable, meaning that linear models may not be an appropriate choice of model over more complex analysis techniques such QDA, KNN or Tree methods. We will test our most highly correlated variable, feature 3 to see if these is a case for creating an LDA model for this data."
   ]
  },
  {
   "cell_type": "code",
   "execution_count": null,
   "metadata": {},
   "outputs": [],
   "source": []
  },
  {
   "cell_type": "code",
   "execution_count": null,
   "metadata": {},
   "outputs": [],
   "source": []
  },
  {
   "cell_type": "code",
   "execution_count": null,
   "metadata": {},
   "outputs": [],
   "source": []
  },
  {
   "cell_type": "code",
   "execution_count": null,
   "metadata": {},
   "outputs": [],
   "source": []
  },
  {
   "cell_type": "code",
   "execution_count": null,
   "metadata": {},
   "outputs": [],
   "source": []
  },
  {
   "cell_type": "markdown",
   "metadata": {},
   "source": []
  },
  {
   "cell_type": "markdown",
   "metadata": {},
   "source": [
    "<div class=\"alert alert-block alert-success\">\n",
    "\n",
    "### 2.4. EDA Summary <a class=\"anchor\" name=\"Summary\"></a>"
   ]
  },
  {
   "cell_type": "markdown",
   "metadata": {},
   "source": [
    "Univariate \n",
    "- small vs wide variance\n",
    "- Normality\n",
    "- Skew, should it be fixed?\n",
    "Bivariate\n",
    "- How much information do they share?\n",
    "- Colinear label and feature makes a very important feature, lower coreltation less so\n",
    "- If classes appear to be very seperate, linear model could be good, otherwise maybe a more complex model"
   ]
  },
  {
   "cell_type": "markdown",
   "metadata": {},
   "source": [
    "<div class=\"alert alert-block alert-success\">\n",
    "\n",
    "<br>\n",
    "    \n",
    "## 3. Model Development <a class=\"anchor\" name=\"MD\">\n",
    "    \n",
    "<br>\n",
    "    \n",
    "</a>"
   ]
  },
  {
   "cell_type": "markdown",
   "metadata": {},
   "source": [
    "Before we continue, we must decide what metric is important to us in predicting churn. We have been informed that customer acquisition and retention are equally important, and the former being a more expensive process. So it is possible that the client would prefer to take preventative measures against a wider margin of customers that are at risk of leaving rather than allowing some to slip through the gaps. In terms of metrics, we are talking about ensuring we have a (near) 100% true positive rate for the churn category at the expense of lower overall accuracy and/or to over estimating false positives, that customers who do not plan to leave are predicted to do so. Recall would be an appropriate metric to maximise in this instance.\n",
    "\n",
    "Alternative, they may care only about accuracy or precision. \n",
    "\n",
    "We will assume that recall is an important metric in this analysis, but that there needs to be some balance so as not to be issuing preventative measures on every single customer, therefore F1 score seems like the best metric to optimise in this case. F1 will balance recall against precision with the formula:\n",
    "\n",
    "$$Recall = \\frac{True Positive}{True Positive + False Negative}$$\n",
    "\n",
    "$$Precision = \\frac{True Positive}{True Positive + False Positive}$$\n",
    "\n",
    "$$F_{1} = 2 *  \\frac{Precision * Recall}{Precision + Recall}$$"
   ]
  },
  {
   "cell_type": "markdown",
   "metadata": {},
   "source": [
    "- Explain choice of model\n",
    "\n",
    "\n",
    "Choices are:\n",
    "- LDA\n",
    "- QDA\n",
    "- Logistic\n",
    "- KNN*\n",
    "- Decision Tree/ Random Forest*\n",
    "\n",
    "Say something like: The data relationships looked very complex, so non linear methods were chosen. Or the linear relationships were very strong, so we chose logistic regression.\n"
   ]
  },
  {
   "cell_type": "markdown",
   "metadata": {},
   "source": [
    "In this section we want to use validation data for tuning our models. We will take this from the training set:"
   ]
  },
  {
   "cell_type": "code",
   "execution_count": 32,
   "metadata": {},
   "outputs": [
    {
     "name": "stdout",
     "output_type": "stream",
     "text": [
      "Rows in training: 20344 . Rows in validation: 6782"
     ]
    }
   ],
   "source": [
    "# keep 75% of dataset for training\n",
    "sample <- floor(0.75 * nrow(train))\n",
    "\n",
    "# Split the data, making sure it always uses the same subset for repeatability\n",
    "set.seed(123)\n",
    "index <- sample(seq_len(nrow(train)), size = sample)\n",
    "training <- train[index, ]\n",
    "validation <- train[-index, ]\n",
    "\n",
    "# check that we split as intended\n",
    "cat(\"Rows in training:\",dim(training)[1], \". Rows in validation:\", dim(validation)[1])"
   ]
  },
  {
   "cell_type": "markdown",
   "metadata": {},
   "source": [
    "# GLM Model"
   ]
  },
  {
   "cell_type": "code",
   "execution_count": 33,
   "metadata": {},
   "outputs": [
    {
     "data": {
      "text/plain": [
       "\n",
       "Call:\n",
       "glm(formula = labels ~ ., family = binomial, data = training)\n",
       "\n",
       "Deviance Residuals: \n",
       "    Min       1Q   Median       3Q      Max  \n",
       "-5.6240  -0.4496  -0.2866  -0.1663   3.1268  \n",
       "\n",
       "Coefficients:\n",
       "             Estimate Std. Error z value Pr(>|z|)    \n",
       "(Intercept) -3.012093   0.149687 -20.123  < 2e-16 ***\n",
       "feature_0    0.062430   0.026584   2.348 0.018854 *  \n",
       "feature_1    0.057648   0.021493   2.682 0.007315 ** \n",
       "feature_2   -0.040336   0.025750  -1.566 0.117244    \n",
       "feature_3    1.017157   0.023393  43.482  < 2e-16 ***\n",
       "feature_4   -0.406763   0.045664  -8.908  < 2e-16 ***\n",
       "feature_5    0.399528   0.037513  10.650  < 2e-16 ***\n",
       "feature_6    0.232267   0.027945   8.311  < 2e-16 ***\n",
       "feature_7    0.011476   0.008034   1.428 0.153161    \n",
       "feature_8    0.199744   0.046442   4.301 1.70e-05 ***\n",
       "feature_9    0.231526   0.034352   6.740 1.58e-11 ***\n",
       "feature_10  -0.657668   0.290773  -2.262 0.023711 *  \n",
       "feature_11  -1.008315   0.056617 -17.809  < 2e-16 ***\n",
       "feature_12  -0.728579   0.086328  -8.440  < 2e-16 ***\n",
       "feature_13  -0.626883   0.040290 -15.559  < 2e-16 ***\n",
       "feature_14   0.027450   0.008256   3.325 0.000885 ***\n",
       "feature_15   0.267414   0.043371   6.166 7.02e-10 ***\n",
       "---\n",
       "Signif. codes:  0 '***' 0.001 '**' 0.01 '*' 0.05 '.' 0.1 ' ' 1\n",
       "\n",
       "(Dispersion parameter for binomial family taken to be 1)\n",
       "\n",
       "    Null deviance: 14712  on 20343  degrees of freedom\n",
       "Residual deviance: 10851  on 20327  degrees of freedom\n",
       "AIC: 10885\n",
       "\n",
       "Number of Fisher Scoring iterations: 6\n"
      ]
     },
     "metadata": {},
     "output_type": "display_data"
    }
   ],
   "source": [
    "fit.glm = glm(labels ~ ., data = training, family = binomial)\n",
    "summary(fit.glm)"
   ]
  },
  {
   "cell_type": "code",
   "execution_count": 34,
   "metadata": {},
   "outputs": [
    {
     "data": {
      "text/html": [
       "<table>\n",
       "<thead><tr><th></th><th scope=col>Df</th><th scope=col>Deviance</th><th scope=col>Resid. Df</th><th scope=col>Resid. Dev</th><th scope=col>Pr(&gt;Chi)</th></tr></thead>\n",
       "<tbody>\n",
       "\t<tr><th scope=row>NULL</th><td>NA           </td><td>         NA  </td><td>20343        </td><td>14711.77     </td><td>           NA</td></tr>\n",
       "\t<tr><th scope=row>feature_0</th><td> 1           </td><td>   3.086638  </td><td>20342        </td><td>14708.68     </td><td> 7.893776e-02</td></tr>\n",
       "\t<tr><th scope=row>feature_1</th><td> 1           </td><td>  47.429718  </td><td>20341        </td><td>14661.25     </td><td> 5.701177e-12</td></tr>\n",
       "\t<tr><th scope=row>feature_2</th><td> 1           </td><td>  14.662393  </td><td>20340        </td><td>14646.59     </td><td> 1.285864e-04</td></tr>\n",
       "\t<tr><th scope=row>feature_3</th><td> 1           </td><td>2300.839877  </td><td>20339        </td><td>12345.75     </td><td> 0.000000e+00</td></tr>\n",
       "\t<tr><th scope=row>feature_4</th><td> 1           </td><td> 129.712394  </td><td>20338        </td><td>12216.03     </td><td> 4.736689e-30</td></tr>\n",
       "\t<tr><th scope=row>feature_5</th><td> 1           </td><td> 235.574175  </td><td>20337        </td><td>11980.46     </td><td> 3.628856e-53</td></tr>\n",
       "\t<tr><th scope=row>feature_6</th><td> 1           </td><td>  69.558013  </td><td>20336        </td><td>11910.90     </td><td> 7.419970e-17</td></tr>\n",
       "\t<tr><th scope=row>feature_7</th><td> 1           </td><td>  44.916305  </td><td>20335        </td><td>11865.99     </td><td> 2.056385e-11</td></tr>\n",
       "\t<tr><th scope=row>feature_8</th><td> 1           </td><td>  54.970603  </td><td>20334        </td><td>11811.02     </td><td> 1.223462e-13</td></tr>\n",
       "\t<tr><th scope=row>feature_9</th><td> 1           </td><td> 100.782108  </td><td>20333        </td><td>11710.23     </td><td> 1.026797e-23</td></tr>\n",
       "\t<tr><th scope=row>feature_10</th><td> 1           </td><td>   8.942648  </td><td>20332        </td><td>11701.29     </td><td> 2.785886e-03</td></tr>\n",
       "\t<tr><th scope=row>feature_11</th><td> 1           </td><td> 480.241387  </td><td>20331        </td><td>11221.05     </td><td>1.893296e-106</td></tr>\n",
       "\t<tr><th scope=row>feature_12</th><td> 1           </td><td>  71.607888  </td><td>20330        </td><td>11149.44     </td><td> 2.625051e-17</td></tr>\n",
       "\t<tr><th scope=row>feature_13</th><td> 1           </td><td> 249.608893  </td><td>20329        </td><td>10899.83     </td><td> 3.160129e-56</td></tr>\n",
       "\t<tr><th scope=row>feature_14</th><td> 1           </td><td>   8.833897  </td><td>20328        </td><td>10891.00     </td><td> 2.956864e-03</td></tr>\n",
       "\t<tr><th scope=row>feature_15</th><td> 1           </td><td>  39.958356  </td><td>20327        </td><td>10851.04     </td><td> 2.594354e-10</td></tr>\n",
       "</tbody>\n",
       "</table>\n"
      ],
      "text/latex": [
       "\\begin{tabular}{r|lllll}\n",
       "  & Df & Deviance & Resid. Df & Resid. Dev & Pr(>Chi)\\\\\n",
       "\\hline\n",
       "\tNULL & NA            &          NA   & 20343         & 14711.77      &            NA\\\\\n",
       "\tfeature\\_0 &  1            &    3.086638   & 20342         & 14708.68      &  7.893776e-02\\\\\n",
       "\tfeature\\_1 &  1            &   47.429718   & 20341         & 14661.25      &  5.701177e-12\\\\\n",
       "\tfeature\\_2 &  1            &   14.662393   & 20340         & 14646.59      &  1.285864e-04\\\\\n",
       "\tfeature\\_3 &  1            & 2300.839877   & 20339         & 12345.75      &  0.000000e+00\\\\\n",
       "\tfeature\\_4 &  1            &  129.712394   & 20338         & 12216.03      &  4.736689e-30\\\\\n",
       "\tfeature\\_5 &  1            &  235.574175   & 20337         & 11980.46      &  3.628856e-53\\\\\n",
       "\tfeature\\_6 &  1            &   69.558013   & 20336         & 11910.90      &  7.419970e-17\\\\\n",
       "\tfeature\\_7 &  1            &   44.916305   & 20335         & 11865.99      &  2.056385e-11\\\\\n",
       "\tfeature\\_8 &  1            &   54.970603   & 20334         & 11811.02      &  1.223462e-13\\\\\n",
       "\tfeature\\_9 &  1            &  100.782108   & 20333         & 11710.23      &  1.026797e-23\\\\\n",
       "\tfeature\\_10 &  1            &    8.942648   & 20332         & 11701.29      &  2.785886e-03\\\\\n",
       "\tfeature\\_11 &  1            &  480.241387   & 20331         & 11221.05      & 1.893296e-106\\\\\n",
       "\tfeature\\_12 &  1            &   71.607888   & 20330         & 11149.44      &  2.625051e-17\\\\\n",
       "\tfeature\\_13 &  1            &  249.608893   & 20329         & 10899.83      &  3.160129e-56\\\\\n",
       "\tfeature\\_14 &  1            &    8.833897   & 20328         & 10891.00      &  2.956864e-03\\\\\n",
       "\tfeature\\_15 &  1            &   39.958356   & 20327         & 10851.04      &  2.594354e-10\\\\\n",
       "\\end{tabular}\n"
      ],
      "text/markdown": [
       "\n",
       "| <!--/--> | Df | Deviance | Resid. Df | Resid. Dev | Pr(>Chi) |\n",
       "|---|---|---|---|---|---|\n",
       "| NULL | NA            |          NA   | 20343         | 14711.77      |            NA |\n",
       "| feature_0 |  1            |    3.086638   | 20342         | 14708.68      |  7.893776e-02 |\n",
       "| feature_1 |  1            |   47.429718   | 20341         | 14661.25      |  5.701177e-12 |\n",
       "| feature_2 |  1            |   14.662393   | 20340         | 14646.59      |  1.285864e-04 |\n",
       "| feature_3 |  1            | 2300.839877   | 20339         | 12345.75      |  0.000000e+00 |\n",
       "| feature_4 |  1            |  129.712394   | 20338         | 12216.03      |  4.736689e-30 |\n",
       "| feature_5 |  1            |  235.574175   | 20337         | 11980.46      |  3.628856e-53 |\n",
       "| feature_6 |  1            |   69.558013   | 20336         | 11910.90      |  7.419970e-17 |\n",
       "| feature_7 |  1            |   44.916305   | 20335         | 11865.99      |  2.056385e-11 |\n",
       "| feature_8 |  1            |   54.970603   | 20334         | 11811.02      |  1.223462e-13 |\n",
       "| feature_9 |  1            |  100.782108   | 20333         | 11710.23      |  1.026797e-23 |\n",
       "| feature_10 |  1            |    8.942648   | 20332         | 11701.29      |  2.785886e-03 |\n",
       "| feature_11 |  1            |  480.241387   | 20331         | 11221.05      | 1.893296e-106 |\n",
       "| feature_12 |  1            |   71.607888   | 20330         | 11149.44      |  2.625051e-17 |\n",
       "| feature_13 |  1            |  249.608893   | 20329         | 10899.83      |  3.160129e-56 |\n",
       "| feature_14 |  1            |    8.833897   | 20328         | 10891.00      |  2.956864e-03 |\n",
       "| feature_15 |  1            |   39.958356   | 20327         | 10851.04      |  2.594354e-10 |\n",
       "\n"
      ],
      "text/plain": [
       "           Df Deviance    Resid. Df Resid. Dev Pr(>Chi)     \n",
       "NULL       NA          NA 20343     14711.77              NA\n",
       "feature_0   1    3.086638 20342     14708.68    7.893776e-02\n",
       "feature_1   1   47.429718 20341     14661.25    5.701177e-12\n",
       "feature_2   1   14.662393 20340     14646.59    1.285864e-04\n",
       "feature_3   1 2300.839877 20339     12345.75    0.000000e+00\n",
       "feature_4   1  129.712394 20338     12216.03    4.736689e-30\n",
       "feature_5   1  235.574175 20337     11980.46    3.628856e-53\n",
       "feature_6   1   69.558013 20336     11910.90    7.419970e-17\n",
       "feature_7   1   44.916305 20335     11865.99    2.056385e-11\n",
       "feature_8   1   54.970603 20334     11811.02    1.223462e-13\n",
       "feature_9   1  100.782108 20333     11710.23    1.026797e-23\n",
       "feature_10  1    8.942648 20332     11701.29    2.785886e-03\n",
       "feature_11  1  480.241387 20331     11221.05   1.893296e-106\n",
       "feature_12  1   71.607888 20330     11149.44    2.625051e-17\n",
       "feature_13  1  249.608893 20329     10899.83    3.160129e-56\n",
       "feature_14  1    8.833897 20328     10891.00    2.956864e-03\n",
       "feature_15  1   39.958356 20327     10851.04    2.594354e-10"
      ]
     },
     "metadata": {},
     "output_type": "display_data"
    }
   ],
   "source": [
    "anova(fit.glm, test = \"Chisq\")"
   ]
  },
  {
   "cell_type": "code",
   "execution_count": 35,
   "metadata": {},
   "outputs": [
    {
     "data": {
      "text/html": [
       "0"
      ],
      "text/latex": [
       "0"
      ],
      "text/markdown": [
       "0"
      ],
      "text/plain": [
       "[1] 0"
      ]
     },
     "metadata": {},
     "output_type": "display_data"
    }
   ],
   "source": [
    "with(fit.glm, pchisq(null.deviance - deviance, df.null - df.residual, lower.tail = FALSE))"
   ]
  },
  {
   "cell_type": "code",
   "execution_count": 36,
   "metadata": {},
   "outputs": [
    {
     "data": {
      "text/plain": [
       "        Direction\n",
       "pred.glm     0     1\n",
       "       0 17594  1851\n",
       "       1   363   536"
      ]
     },
     "metadata": {},
     "output_type": "display_data"
    }
   ],
   "source": [
    "probs <- predict(fit.glm, type = \"response\")\n",
    "pred.glm <- rep(\"0\", length(probs))\n",
    "pred.glm[probs > 0.5] <- \"1\"\n",
    "Direction = training$labels\n",
    "table(pred.glm, Direction)"
   ]
  },
  {
   "cell_type": "code",
   "execution_count": 37,
   "metadata": {},
   "outputs": [
    {
     "data": {
      "text/html": [
       "0.891171844278411"
      ],
      "text/latex": [
       "0.891171844278411"
      ],
      "text/markdown": [
       "0.891171844278411"
      ],
      "text/plain": [
       "[1] 0.8911718"
      ]
     },
     "metadata": {},
     "output_type": "display_data"
    }
   ],
   "source": [
    "mean(pred.glm == Direction)"
   ]
  },
  {
   "cell_type": "markdown",
   "metadata": {},
   "source": [
    "# QDA Model"
   ]
  },
  {
   "cell_type": "code",
   "execution_count": 41,
   "metadata": {},
   "outputs": [
    {
     "name": "stderr",
     "output_type": "stream",
     "text": [
      "Loading required package: lattice\n"
     ]
    }
   ],
   "source": [
    "library(MASS)\n",
    "library(caret)"
   ]
  },
  {
   "cell_type": "markdown",
   "metadata": {},
   "source": [
    "All variables:"
   ]
  },
  {
   "cell_type": "code",
   "execution_count": 42,
   "metadata": {},
   "outputs": [
    {
     "data": {
      "text/plain": [
       "Call:\n",
       "qda(labels ~ ., data = training)\n",
       "\n",
       "Prior probabilities of groups:\n",
       "        0         1 \n",
       "0.8826681 0.1173319 \n",
       "\n",
       "Group means:\n",
       "     feature_0   feature_1   feature_2  feature_3   feature_4  feature_5\n",
       "0 -0.007486544 -0.01855936  0.01765289 -0.1478869  0.03042777 -0.0431478\n",
       "1  0.031099357  0.14630275 -0.06447961  1.0805558 -0.20166451  0.3063362\n",
       "    feature_6 feature_7 feature_8 feature_9  feature_10 feature_11 feature_12\n",
       "0 -0.03860669  4.287186  1.161942  1.205658 0.018767055  0.5786044 0.16895918\n",
       "1  0.24258035  4.691663  1.240888  1.378718 0.005865103  0.3648932 0.08923335\n",
       "  feature_13 feature_14 feature_15\n",
       "0  0.6876427   5.562343   2.589018\n",
       "1  0.2697947   5.258902   2.348136"
      ]
     },
     "metadata": {},
     "output_type": "display_data"
    }
   ],
   "source": [
    "fit.qda = qda(labels ~ ., data = training)\n",
    "fit.qda"
   ]
  },
  {
   "cell_type": "code",
   "execution_count": 44,
   "metadata": {},
   "outputs": [
    {
     "data": {
      "text/plain": [
       "Confusion Matrix and Statistics\n",
       "\n",
       "          Reference\n",
       "Prediction    0    1\n",
       "         0 5383  421\n",
       "         1  604  374\n",
       "                                          \n",
       "               Accuracy : 0.8489          \n",
       "                 95% CI : (0.8401, 0.8573)\n",
       "    No Information Rate : 0.8828          \n",
       "    P-Value [Acc > NIR] : 1               \n",
       "                                          \n",
       "                  Kappa : 0.336           \n",
       "                                          \n",
       " Mcnemar's Test P-Value : 1.31e-08        \n",
       "                                          \n",
       "            Sensitivity : 0.47044         \n",
       "            Specificity : 0.89911         \n",
       "         Pos Pred Value : 0.38241         \n",
       "         Neg Pred Value : 0.92746         \n",
       "             Prevalence : 0.11722         \n",
       "         Detection Rate : 0.05515         \n",
       "   Detection Prevalence : 0.14421         \n",
       "      Balanced Accuracy : 0.68478         \n",
       "                                          \n",
       "       'Positive' Class : 1               \n",
       "                                          "
      ]
     },
     "metadata": {},
     "output_type": "display_data"
    }
   ],
   "source": [
    "pred.qda <- predict(fit.qda, validation)\n",
    "confusionMatrix(pred.qda$class, validation[,17], positive=\"1\")"
   ]
  },
  {
   "cell_type": "markdown",
   "metadata": {},
   "source": [
    "Our chosen variables:"
   ]
  },
  {
   "cell_type": "code",
   "execution_count": 45,
   "metadata": {},
   "outputs": [
    {
     "data": {
      "text/plain": [
       "Call:\n",
       "qda(labels ~ feature_1 + feature_3 + feature_14 + feature_15, \n",
       "    data = training)\n",
       "\n",
       "Prior probabilities of groups:\n",
       "        0         1 \n",
       "0.8826681 0.1173319 \n",
       "\n",
       "Group means:\n",
       "    feature_1  feature_3 feature_14 feature_15\n",
       "0 -0.01855936 -0.1478869   5.562343   2.589018\n",
       "1  0.14630275  1.0805558   5.258902   2.348136"
      ]
     },
     "metadata": {},
     "output_type": "display_data"
    }
   ],
   "source": [
    "fit.qda = qda(labels ~ feature_1+ feature_3+ feature_14 + feature_15, data = training)\n",
    "fit.qda"
   ]
  },
  {
   "cell_type": "code",
   "execution_count": 46,
   "metadata": {},
   "outputs": [
    {
     "data": {
      "text/plain": [
       "Confusion Matrix and Statistics\n",
       "\n",
       "          Reference\n",
       "Prediction    0    1\n",
       "         0 5749  591\n",
       "         1  238  204\n",
       "                                          \n",
       "               Accuracy : 0.8778          \n",
       "                 95% CI : (0.8697, 0.8855)\n",
       "    No Information Rate : 0.8828          \n",
       "    P-Value [Acc > NIR] : 0.903           \n",
       "                                          \n",
       "                  Kappa : 0.2686          \n",
       "                                          \n",
       " Mcnemar's Test P-Value : <2e-16          \n",
       "                                          \n",
       "            Sensitivity : 0.25660         \n",
       "            Specificity : 0.96025         \n",
       "         Pos Pred Value : 0.46154         \n",
       "         Neg Pred Value : 0.90678         \n",
       "             Prevalence : 0.11722         \n",
       "         Detection Rate : 0.03008         \n",
       "   Detection Prevalence : 0.06517         \n",
       "      Balanced Accuracy : 0.60843         \n",
       "                                          \n",
       "       'Positive' Class : 1               \n",
       "                                          "
      ]
     },
     "metadata": {},
     "output_type": "display_data"
    }
   ],
   "source": [
    "pred.qda <- predict(fit.qda, validation)\n",
    "confusionMatrix(pred.qda$class, validation[,17], positive=\"1\")"
   ]
  },
  {
   "cell_type": "markdown",
   "metadata": {},
   "source": [
    "# KNN Model"
   ]
  },
  {
   "cell_type": "code",
   "execution_count": 47,
   "metadata": {},
   "outputs": [],
   "source": [
    "library(class)"
   ]
  },
  {
   "cell_type": "markdown",
   "metadata": {},
   "source": [
    "All features:"
   ]
  },
  {
   "cell_type": "code",
   "execution_count": 48,
   "metadata": {},
   "outputs": [],
   "source": [
    "pred.knn1 <- knn(training[,-17],validation[,-17],cl=training[,17],k=10)"
   ]
  },
  {
   "cell_type": "code",
   "execution_count": 50,
   "metadata": {},
   "outputs": [
    {
     "data": {
      "text/plain": [
       "Confusion Matrix and Statistics\n",
       "\n",
       "          Reference\n",
       "Prediction    0    1\n",
       "         0 5857  600\n",
       "         1  130  195\n",
       "                                          \n",
       "               Accuracy : 0.8924          \n",
       "                 95% CI : (0.8847, 0.8996)\n",
       "    No Information Rate : 0.8828          \n",
       "    P-Value [Acc > NIR] : 0.006958        \n",
       "                                          \n",
       "                  Kappa : 0.3006          \n",
       "                                          \n",
       " Mcnemar's Test P-Value : < 2.2e-16       \n",
       "                                          \n",
       "            Sensitivity : 0.9783          \n",
       "            Specificity : 0.2453          \n",
       "         Pos Pred Value : 0.9071          \n",
       "         Neg Pred Value : 0.6000          \n",
       "             Prevalence : 0.8828          \n",
       "         Detection Rate : 0.8636          \n",
       "   Detection Prevalence : 0.9521          \n",
       "      Balanced Accuracy : 0.6118          \n",
       "                                          \n",
       "       'Positive' Class : 0               \n",
       "                                          "
      ]
     },
     "metadata": {},
     "output_type": "display_data"
    }
   ],
   "source": [
    "#table(pred.knn1,validation$labels)\n",
    "confusionMatrix(pred.knn1, validation[,17], positive=\"0\")"
   ]
  },
  {
   "cell_type": "code",
   "execution_count": 52,
   "metadata": {},
   "outputs": [
    {
     "name": "stdout",
     "output_type": "stream",
     "text": [
      "1 = 87.61427 2 = 87.51106 3 = 88.98555 4 = 89.05927 5 = 89.36892 6 = 89.16249 7 = 89.20672 8 = 89.51637 9 = 89.29519 10 = 89.30994 11 = 89.2657 12 = 89.44264 13 = 89.47213 14 = 89.29519 15 = 89.25096 16 = 89.38366 17 = 89.29519 18 = 89.4279 19 = 89.36892 20 = 89.30994 21 = 89.30994 22 = 89.39841 23 = 89.23621 24 = 89.23621 25 = 89.14774 26 = 89.08876 27 = 89.07402 28 = 89.08876 29 = 89.05927 30 = 89.02978 31 = 89.02978 32 = 88.92657 33 = 88.89708 34 = 88.94132 35 = 88.80861 36 = 88.91183 37 = 88.85285 38 = 88.89708 39 = 88.82336 40 = 88.77912 41 = 88.76438 42 = 88.82336 43 = 88.67591 44 = 88.66116 45 = 88.7054 46 = 88.69065 47 = 88.69065 48 = 88.73489 49 = 88.72014 50 = 88.74963 "
     ]
    }
   ],
   "source": [
    "i=1\n",
    "k.optm=1\n",
    "for (i in seq(1,50)){\n",
    "    pred.knn1 <- knn(training[,-17],validation[,-17],cl=training[,17],k=i)\n",
    "    k.optm[i] <- 100 * confusionMatrix(pred.knn1, validation[,17], positive=\"0\")$overall[1]\n",
    "    k=i\n",
    "    cat(k,'=',k.optm[i],'')\n",
    "}"
   ]
  },
  {
   "cell_type": "code",
   "execution_count": 53,
   "metadata": {},
   "outputs": [
    {
     "data": {
      "image/png": "[encoded data removed]",
      "text/plain": [
       "plot without title"
      ]
     },
     "metadata": {},
     "output_type": "display_data"
    }
   ],
   "source": [
    "plot(k.optm, type=\"b\", xlab=\"K- Value\",ylab=\"Accuracy\")"
   ]
  },
  {
   "cell_type": "markdown",
   "metadata": {},
   "source": [
    "Our chosen features:"
   ]
  },
  {
   "cell_type": "code",
   "execution_count": 54,
   "metadata": {},
   "outputs": [],
   "source": [
    "pred.knn2 <- knn(training[,c(2,4,15,16)],validation[,c(2,4,15,16)],cl=training[,17],k=10)"
   ]
  },
  {
   "cell_type": "code",
   "execution_count": 55,
   "metadata": {
    "scrolled": false
   },
   "outputs": [
    {
     "data": {
      "text/plain": [
       "Confusion Matrix and Statistics\n",
       "\n",
       "          Reference\n",
       "Prediction    0    1\n",
       "         0 5776  505\n",
       "         1  211  290\n",
       "                                          \n",
       "               Accuracy : 0.8944          \n",
       "                 95% CI : (0.8869, 0.9016)\n",
       "    No Information Rate : 0.8828          \n",
       "    P-Value [Acc > NIR] : 0.001339        \n",
       "                                          \n",
       "                  Kappa : 0.3925          \n",
       "                                          \n",
       " Mcnemar's Test P-Value : < 2.2e-16       \n",
       "                                          \n",
       "            Sensitivity : 0.9648          \n",
       "            Specificity : 0.3648          \n",
       "         Pos Pred Value : 0.9196          \n",
       "         Neg Pred Value : 0.5788          \n",
       "             Prevalence : 0.8828          \n",
       "         Detection Rate : 0.8517          \n",
       "   Detection Prevalence : 0.9261          \n",
       "      Balanced Accuracy : 0.6648          \n",
       "                                          \n",
       "       'Positive' Class : 0               \n",
       "                                          "
      ]
     },
     "metadata": {},
     "output_type": "display_data"
    }
   ],
   "source": [
    "confusionMatrix(pred.knn2, validation[,17], positive=\"0\")"
   ]
  },
  {
   "cell_type": "code",
   "execution_count": 56,
   "metadata": {},
   "outputs": [
    {
     "name": "stdout",
     "output_type": "stream",
     "text": [
      "1 = 86.18402 2 = 86.28723 3 = 88.51371 4 = 88.7054 5 = 89.2657 6 = 89.2657 7 = 89.22147 8 = 89.36892 9 = 89.30994 10 = 89.35417 11 = 89.5606 12 = 89.63433 13 = 89.81127 14 = 89.89973 15 = 89.91448 16 = 89.81127 17 = 89.89973 18 = 89.87024 19 = 89.81127 20 = 89.8555 21 = 90.00295 22 = 90.04718 23 = 90.01769 24 = 89.97346 25 = 89.94397 26 = 90.04718 27 = 89.95871 28 = 89.8555 29 = 89.89973 30 = 89.91448 31 = 89.91448 32 = 89.79652 33 = 89.82601 34 = 89.73754 35 = 89.76703 36 = 89.76703 37 = 89.84075 38 = 89.79652 39 = 89.82601 40 = 89.84075 41 = 89.84075 42 = 89.8555 43 = 89.88499 44 = 89.87024 45 = 89.84075 46 = 89.97346 47 = 89.84075 48 = 89.76703 49 = 89.75229 50 = 89.78178 "
     ]
    }
   ],
   "source": [
    "i=1\n",
    "k.optm=1\n",
    "for (i in seq(1,50)){\n",
    "    pred.knn2 <- knn(training[,c(2,4,15,16)],validation[,c(2,4,15,16)],cl=training[,17],k=i)\n",
    "    k.optm[i] <- 100 * confusionMatrix(pred.knn2, validation[,17], positive=\"0\")$overall[1]\n",
    "    k=i\n",
    "    cat(k,'=',k.optm[i],'')\n",
    "}"
   ]
  },
  {
   "cell_type": "code",
   "execution_count": 57,
   "metadata": {},
   "outputs": [
    {
     "data": {
      "image/png": "[encoded data removed]",
      "text/plain": [
       "plot without title"
      ]
     },
     "metadata": {},
     "output_type": "display_data"
    }
   ],
   "source": [
    "plot(k.optm, type=\"b\", xlab=\"K- Value\",ylab=\"Accuracy level\")"
   ]
  },
  {
   "cell_type": "markdown",
   "metadata": {},
   "source": [
    "# Tree Model"
   ]
  },
  {
   "cell_type": "code",
   "execution_count": 58,
   "metadata": {},
   "outputs": [
    {
     "name": "stderr",
     "output_type": "stream",
     "text": [
      "Loading required package: tree\n",
      "Warning message:\n",
      "\"package 'tree' was built under R version 3.6.3\""
     ]
    }
   ],
   "source": [
    "#install.packages(\"tree\")\n",
    "require(tree)"
   ]
  },
  {
   "cell_type": "code",
   "execution_count": 60,
   "metadata": {
    "scrolled": true
   },
   "outputs": [
    {
     "data": {
      "text/plain": [
       "\n",
       "Classification tree:\n",
       "tree(formula = labels ~ ., data = training)\n",
       "Variables actually used in tree construction:\n",
       "[1] \"feature_3\"  \"feature_13\" \"feature_11\" \"feature_5\"  \"feature_14\"\n",
       "[6] \"feature_15\"\n",
       "Number of terminal nodes:  10 \n",
       "Residual mean deviance:  0.5063 = 10300 / 20330 \n",
       "Misclassification error rate: 0.107 = 2176 / 20344 "
      ]
     },
     "metadata": {},
     "output_type": "display_data"
    }
   ],
   "source": [
    "tree.fit1 <- tree(labels~., data=training)\n",
    "summary(tree.fit1)"
   ]
  },
  {
   "cell_type": "code",
   "execution_count": 61,
   "metadata": {},
   "outputs": [],
   "source": [
    "tree.pred1 = predict(tree.fit1, validation, type=\"class\")"
   ]
  },
  {
   "cell_type": "code",
   "execution_count": 62,
   "metadata": {},
   "outputs": [
    {
     "data": {
      "text/plain": [
       "Confusion Matrix and Statistics\n",
       "\n",
       "          Reference\n",
       "Prediction    0    1\n",
       "         0 5688  476\n",
       "         1  299  319\n",
       "                                          \n",
       "               Accuracy : 0.8857          \n",
       "                 95% CI : (0.8779, 0.8932)\n",
       "    No Information Rate : 0.8828          \n",
       "    P-Value [Acc > NIR] : 0.2315          \n",
       "                                          \n",
       "                  Kappa : 0.3889          \n",
       "                                          \n",
       " Mcnemar's Test P-Value : 2.58e-10        \n",
       "                                          \n",
       "            Sensitivity : 0.9501          \n",
       "            Specificity : 0.4013          \n",
       "         Pos Pred Value : 0.9228          \n",
       "         Neg Pred Value : 0.5162          \n",
       "             Prevalence : 0.8828          \n",
       "         Detection Rate : 0.8387          \n",
       "   Detection Prevalence : 0.9089          \n",
       "      Balanced Accuracy : 0.6757          \n",
       "                                          \n",
       "       'Positive' Class : 0               \n",
       "                                          "
      ]
     },
     "metadata": {},
     "output_type": "display_data"
    }
   ],
   "source": [
    "#table(tree.pred,validation$labels)\n",
    "confusionMatrix(tree.pred1, validation[,17], positive=\"0\")"
   ]
  },
  {
   "cell_type": "markdown",
   "metadata": {},
   "source": [
    "Try only including our favorite vars:"
   ]
  },
  {
   "cell_type": "code",
   "execution_count": 64,
   "metadata": {},
   "outputs": [
    {
     "data": {
      "text/plain": [
       "\n",
       "Classification tree:\n",
       "tree(formula = labels ~ feature_1 + feature_3 + feature_14 + \n",
       "    feature_15, data = training)\n",
       "Variables actually used in tree construction:\n",
       "[1] \"feature_3\"  \"feature_15\" \"feature_14\"\n",
       "Number of terminal nodes:  8 \n",
       "Residual mean deviance:  0.5251 = 10680 / 20340 \n",
       "Misclassification error rate: 0.107 = 2176 / 20344 "
      ]
     },
     "metadata": {},
     "output_type": "display_data"
    },
    {
     "data": {
      "text/plain": [
       "Confusion Matrix and Statistics\n",
       "\n",
       "          Reference\n",
       "Prediction    0    1\n",
       "         0 5698  470\n",
       "         1  289  325\n",
       "                                          \n",
       "               Accuracy : 0.8881          \n",
       "                 95% CI : (0.8803, 0.8955)\n",
       "    No Information Rate : 0.8828          \n",
       "    P-Value [Acc > NIR] : 0.08947         \n",
       "                                          \n",
       "                  Kappa : 0.4             \n",
       "                                          \n",
       " Mcnemar's Test P-Value : 6.421e-11       \n",
       "                                          \n",
       "            Sensitivity : 0.9517          \n",
       "            Specificity : 0.4088          \n",
       "         Pos Pred Value : 0.9238          \n",
       "         Neg Pred Value : 0.5293          \n",
       "             Prevalence : 0.8828          \n",
       "         Detection Rate : 0.8402          \n",
       "   Detection Prevalence : 0.9095          \n",
       "      Balanced Accuracy : 0.6803          \n",
       "                                          \n",
       "       'Positive' Class : 0               \n",
       "                                          "
      ]
     },
     "metadata": {},
     "output_type": "display_data"
    }
   ],
   "source": [
    "tree.fit2 <- tree(labels~ feature_1+feature_3+ feature_14 + feature_15, data=training)\n",
    "summary(tree.fit2)\n",
    "\n",
    "tree.pred2 = predict(tree.fit2, validation, type=\"class\")\n",
    "\n",
    "confusionMatrix(tree.pred2, validation[,17], positive=\"0\")"
   ]
  },
  {
   "cell_type": "code",
   "execution_count": null,
   "metadata": {},
   "outputs": [],
   "source": []
  },
  {
   "cell_type": "markdown",
   "metadata": {},
   "source": [
    "<div class=\"alert alert-block alert-success\">\n",
    "\n",
    "<br>\n",
    "    \n",
    "## 4. Model Scoring on Test Data <a class=\"anchor\" name=\"MScore\">\n",
    "    \n",
    "<br>\n",
    "    \n",
    "</a>"
   ]
  },
  {
   "cell_type": "markdown",
   "metadata": {},
   "source": [
    "Use Pre, recall, etc. ROC, F1"
   ]
  },
  {
   "cell_type": "code",
   "execution_count": null,
   "metadata": {},
   "outputs": [],
   "source": []
  },
  {
   "cell_type": "code",
   "execution_count": null,
   "metadata": {},
   "outputs": [],
   "source": []
  },
  {
   "cell_type": "code",
   "execution_count": null,
   "metadata": {},
   "outputs": [],
   "source": []
  },
  {
   "cell_type": "markdown",
   "metadata": {},
   "source": [
    "<div class=\"alert alert-block alert-warning\">\n",
    "\n",
    "<br>\n",
    "    \n",
    "## 5. Model Interpretation and Inference<a class=\"anchor\" name=\"MInterp\">\n",
    "    \n",
    "<br>\n",
    "    \n",
    "</a>"
   ]
  },
  {
   "cell_type": "markdown",
   "metadata": {},
   "source": [
    "Comment on accuracy etc\n",
    "Interpretability\n",
    "For similarly scoring models, factor in time to run and complexity\n",
    "What are the hyperparameters and what do they mean\n",
    "\n",
    "From the reading material:\n",
    "Understanding the association between X1, X2, X3, etc. and Y (Page 19)\n",
    "- Which predictors are associated with the response?\n",
    "- What is the relationship between the response and each predictor? (Is it pos/neg correlated, is there greater complexity such as one variable depending on the value of another?)\n",
    "- Can the relationship between Y and each predictor be adequately summarized using a linear equation, or is the relationship more complicated?"
   ]
  },
  {
   "cell_type": "markdown",
   "metadata": {},
   "source": [
    "<div class=\"alert alert-block alert-warning\">\n",
    "\n",
    "<br>\n",
    "    \n",
    "## 5.1 Variable Importance <a class=\"anchor\" name=\"VImp\">\n",
    "    \n",
    "<br>\n",
    "    \n",
    "</a>"
   ]
  },
  {
   "cell_type": "markdown",
   "metadata": {},
   "source": [
    "Read up on shapely value:\n",
    "https://onezero.blog/machine-learning-model-explanation-using-shapley-values/"
   ]
  },
  {
   "cell_type": "markdown",
   "metadata": {},
   "source": [
    "<div class=\"alert alert-block alert-warning\">\n",
    "\n",
    "<br>\n",
    "    \n",
    "## 7. Marketing Suggestions <a class=\"anchor\" name=\"MarktSugst\">\n",
    "    \n",
    "<br>\n",
    "    \n",
    "</a>"
   ]
  },
  {
   "cell_type": "markdown",
   "metadata": {},
   "source": [
    "What features would you suggest are important. What to do more of or less of? Target Audience (observation ranges) to focus on? Assuming the data represents client characeteristics and behaviour, suggest which features and ranges are most and least ilkely to leave."
   ]
  },
  {
   "cell_type": "markdown",
   "metadata": {},
   "source": [
    "<div class=\"alert alert-block alert-warning\">\n",
    "\n",
    "<br>\n",
    "    \n",
    "## 8. Conclusion <a class=\"anchor\" name=\"Conclusion\">\n",
    "    \n",
    "<br>\n",
    "    \n",
    "</a>"
   ]
  },
  {
   "cell_type": "code",
   "execution_count": null,
   "metadata": {},
   "outputs": [],
   "source": [
    "names(fit.glm)"
   ]
  },
  {
   "cell_type": "code",
   "execution_count": null,
   "metadata": {},
   "outputs": [],
   "source": [
    "fit.glm$df.residual"
   ]
  },
  {
   "cell_type": "markdown",
   "metadata": {},
   "source": [
    "Analysis steps taken and the outcome at each step."
   ]
  },
  {
   "cell_type": "markdown",
   "metadata": {},
   "source": [
    "<div class=\"alert alert-block alert-info\">\n",
    "    \n",
    "## 9. References <a class=\"anchor\" name=\"Ref\"></a>"
   ]
  },
  {
   "cell_type": "markdown",
   "metadata": {},
   "source": [
    "Du, L. & Liu, M. (2021). Regression Analysis with Linear Models [Lecture notes]. Retrieved from https://lms.monash.edu/."
   ]
  },
  {
   "cell_type": "markdown",
   "metadata": {},
   "source": [
    "<div class=\"alert alert-block alert-danger\">\n",
    "\n",
    "# Assignment submission ends here - Delete before completion\n",
    "\n",
    "    \n",
    "</div>"
   ]
  },
  {
   "cell_type": "markdown",
   "metadata": {},
   "source": [
    "# Best predictors:\n",
    "- Corelation: Feature 15 and 5 are highly correlated, 15 and 6 are somewhat similar too, it's possible these pairs carry the same information. We should remove feature 15 or 5 & 6. We will need to look at how each of these relate to our label before deciding which to remove.\n",
    "- Box plots indicate that there is label dependancy in most features. 0 has a wider distribution in class 1 than 0, distributions in feature 1 are offset from one another, there is an even wider offset in feature 3. Features 4...while 5 and 6 have the same mean but longer tails on label 1 relative to 0.\n",
    "- Density plots tells us that...\n",
    "- segmented bar plots tell us...\n",
    "\n",
    "\n",
    "# Worst Predictors:\n",
    "- 10 and 12 have low variance, which will likely make them poor predictors.\n",
    "- Box plots indicate that feature 2 has the least dependancy on label class. \n",
    "- Density plots tells us that...\n",
    "- segmented bar plots tell us...\n",
    "\n",
    "\n",
    "# Interactions:\n",
    "- \n",
    "\n",
    "\n",
    "# Overall variables of significance and insignificance\n",
    "- ?"
   ]
  },
  {
   "cell_type": "markdown",
   "metadata": {},
   "source": [
    "### Model selection and justification\n",
    "Clearly explained how the models were developed with sufficient supporting information derived from exploratory data analysis and proper statistical diagnostics.\n",
    "\n",
    "The exploratory analysis and diagnostics logically lead to the development of the models (including attribute/feature selection)."
   ]
  },
  {
   "cell_type": "markdown",
   "metadata": {},
   "source": [
    "# Modelling"
   ]
  },
  {
   "cell_type": "code",
   "execution_count": null,
   "metadata": {},
   "outputs": [],
   "source": []
  },
  {
   "cell_type": "markdown",
   "metadata": {},
   "source": [
    "### Model quality comparison\n",
    "Critically assess the accuracy of the models with in-depth statistical analysis. \n",
    "\n",
    "The comparison is logical and solid with an appropriate level of details. \n",
    "\n",
    "Demonstrates a high-level of understanding of the differences (i.e., advantages and disadvantages) between the models in regard to the task."
   ]
  },
  {
   "cell_type": "markdown",
   "metadata": {},
   "source": [
    "# Summary\n",
    "Explanation of why the chosen subset of attributes have a significant impact on the prediction of the response variable.\n",
    "- The subset of attributes leading to the prediction are identified and clearly justified with in-depth statistical analysis.\n",
    "- The description and accompanying interpretation are comprehensible and convincing, in line with the findings from the model development.\n",
    "\n",
    "The quality of the Jupiter notebook/ the R Markdown file, quality and readability of the R implementation.\n",
    "- The Jupyter  Notebook is well structured in a logical order that clearly supports the development of the answers.\n",
    "- The R code is logically structured and easy to read.\n",
    "- Concise but precise code comments clearly explain how the code is intended to work.\n",
    "- The redundant or unnecessary code is excluded from the final submission.\n"
   ]
  },
  {
   "cell_type": "code",
   "execution_count": null,
   "metadata": {},
   "outputs": [],
   "source": []
  },
  {
   "cell_type": "markdown",
   "metadata": {},
   "source": [
    "# Questions:\n",
    "- The Week 2 tutorial explores the relationship between many variables with one another. Are we interested in just the relationships that we wish to predict? Why would we explore other relationships aside from just looking for duplicated information?\n",
    "- Check for duplicates still?\n",
    "\n",
    "\n",
    "# Concerns to follow up before modelling\n",
    "- Resample data to even out label class\n",
    "- Are categoric data ordinal? Should they be one hot encoded? Specifically look at 7, 8, 9, 13, 14, 15.\n",
    "- Feature scaling might be needed for some models\n",
    "- \n",
    "\n",
    "# Suggestions\n",
    "If there is time:\n",
    "- Convert legends to say Churn / No churn rather than 0/1\n",
    "- set labels to factor type\n",
    "- plot pairs to highlight potentially non-linear relationships between variables. The nagain, scatter plots are for numeric & numeric comparison. So only features 0 - 6 should be done.\n"
   ]
  },
  {
   "cell_type": "markdown",
   "metadata": {},
   "source": [
    "# Rejection Zone...probably don't need this code but not 100% sure yet."
   ]
  },
  {
   "cell_type": "code",
   "execution_count": null,
   "metadata": {},
   "outputs": [],
   "source": [
    "# One stop shop, crashes everything...\n",
    "library(GGally)\n",
    "ggpairs(train, aes(color = labels)) + theme_bw()"
   ]
  },
  {
   "cell_type": "markdown",
   "metadata": {},
   "source": [
    "The correlation between each feature and the labels.\n",
    "\n",
    "I don't think we should use this...."
   ]
  },
  {
   "cell_type": "code",
   "execution_count": null,
   "metadata": {},
   "outputs": [],
   "source": [
    "par(mfrow = c(4,4))\n",
    "for (i in 1:(length(train) - 1)) {\n",
    "        plot(train[,i], train$labels, ylab = 'labels', xlab = names(train)[i])\n",
    "}"
   ]
  },
  {
   "cell_type": "markdown",
   "metadata": {},
   "source": [
    "There appear to be differences in the distribution of data for each label correlated with features 1, 4 and 6. It is questionable whether this is also the case for 1, 3 and 5. These features should be explored further using geom_density filled by label to distinguish..."
   ]
  },
  {
   "cell_type": "markdown",
   "metadata": {},
   "source": [
    "Correlation measurements are for the most part relatively low, the top 5 include:\n",
    "1. -0.855 between features 5 & 15\n",
    "2. -0.596\tbetween features 15 & 6\n",
    "3. 0.547\tbetween features  5 & 6\n",
    "4. -0.405\tbetween features 8 and 0\n",
    "5. 0.390\tbetween the labels and 3\n",
    "\n",
    "Remember this only measures the linear relationship between two variables. Visualising with all with a scatter plot could bring other non linear relationship patterns to the surface. These are a bit crowded with so many features though, so we will focus on the top 5 we've highlighted for now."
   ]
  },
  {
   "cell_type": "code",
   "execution_count": null,
   "metadata": {},
   "outputs": [],
   "source": [
    "par(mfrow = c(2,3))\n",
    "plot(train$feature_0, train$feature_8, main = \"Features 0 & 8\", sub = \"Cor = -0.405\")\n",
    "plot(train$feature_3, train$labels, main = \"Feature 0 & labels\", sub = \"Cor = -0.390\")\n",
    "plot(train$feature_5, train$feature_6, main = \"Features 5 & 6\", sub = \"Cor = 0.547\")\n",
    "plot(train$feature_5, train$feature_15, main = \"Features 5 & 15\", sub = \"Cor = -0.855\")\n",
    "plot(train$feature_6, train$feature_15, main = \"Features 6 & 15\", sub = \"Cor = -0.596\")"
   ]
  },
  {
   "cell_type": "markdown",
   "metadata": {},
   "source": [
    "We can't really comment on whether we expected these correlations, we just know they're the most significant linear relationships we have found."
   ]
  },
  {
   "cell_type": "code",
   "execution_count": null,
   "metadata": {},
   "outputs": [],
   "source": []
  },
  {
   "cell_type": "code",
   "execution_count": null,
   "metadata": {},
   "outputs": [],
   "source": [
    "#install.packages(\"car\")\n",
    "#library(\"car\") \n",
    "scatterplotMatrix(train,cex=0.2) "
   ]
  },
  {
   "cell_type": "code",
   "execution_count": null,
   "metadata": {},
   "outputs": [],
   "source": []
  }
 ],
 "metadata": {
  "kernelspec": {
   "display_name": "R",
   "language": "R",
   "name": "ir"
  },
  "language_info": {
   "codemirror_mode": "r",
   "file_extension": ".r",
   "mimetype": "text/x-r-source",
   "name": "R",
   "pygments_lexer": "r",
   "version": "3.6.1"
  }
 },
 "nbformat": 4,
 "nbformat_minor": 2
}
