{
 "cells": [
  {
   "cell_type": "markdown",
   "metadata": {},
   "source": [
    "# Customer Churn Prediction\n",
    "Predict when a customer of an insurance company is likely to cancel their insurance product.\n",
    "\n",
    "Data Source: https://www.kaggle.com/mukulsingh/insurance-churn-prediction\n",
    "\n",
    "Libraries:"
   ]
  },
  {
   "cell_type": "code",
   "execution_count": 1,
   "metadata": {},
   "outputs": [
    {
     "name": "stderr",
     "output_type": "stream",
     "text": [
      "\n",
      "Attaching package: 'ggplot2'\n",
      "\n",
      "\n",
      "The following objects are masked from 'package:psych':\n",
      "\n",
      "    %+%, alpha\n",
      "\n",
      "\n",
      "Warning message:\n",
      "\"package 'OneR' was built under R version 3.6.3\"\n"
     ]
    }
   ],
   "source": [
    "library(psych)\n",
    "library(ggplot2)\n",
    "#library(GGally) \n",
    "library(ggplot2)\n",
    "#library(reshape2)\n",
    "#library(corrgram)\n",
    "#library(corrplot)\n",
    "library(OneR)"
   ]
  },
  {
   "cell_type": "markdown",
   "metadata": {},
   "source": [
    "Read in the test and train datasets"
   ]
  },
  {
   "cell_type": "code",
   "execution_count": 2,
   "metadata": {},
   "outputs": [],
   "source": [
    "test <- read.csv(file = 'testSet.csv')\n",
    "train <-  read.csv(file = 'trainSet.csv')"
   ]
  },
  {
   "cell_type": "markdown",
   "metadata": {},
   "source": [
    "Our approach:\n",
    "\n",
    "What are we doing? What is the goal? How will we predict churn?\n",
    "1. Explore individual variables, their characteristics such as spread, variance, distribution etc.\n",
    "2. Identify important features which have a relationship with our label, and how they interact.\n",
    "3. Explore the qualities of the relationships to identify which models will give strongest results, and how we can transform the data to aid with learning.\n",
    "4. Identify features with no relationship and exclude them from our models, for improved efficiency and reduced over fitting.\n",
    "5. Identify features which strongly correlate with one another, to eliminate duplicate information. \n",
    "6. Build effective models which are supported by our exploration."
   ]
  },
  {
   "cell_type": "markdown",
   "metadata": {},
   "source": [
    "# Exploratory Data Analysis"
   ]
  },
  {
   "cell_type": "markdown",
   "metadata": {},
   "source": [
    "First look at the data"
   ]
  },
  {
   "cell_type": "code",
   "execution_count": null,
   "metadata": {},
   "outputs": [],
   "source": [
    "head(train)"
   ]
  },
  {
   "cell_type": "markdown",
   "metadata": {},
   "source": [
    "Check the data types."
   ]
  },
  {
   "cell_type": "code",
   "execution_count": null,
   "metadata": {},
   "outputs": [],
   "source": [
    "str(train)"
   ]
  },
  {
   "cell_type": "markdown",
   "metadata": {},
   "source": [
    "We want to be certain that the two test and train datasets are compatible with one another. Do they have the same data types? The same features in each?"
   ]
  },
  {
   "cell_type": "code",
   "execution_count": null,
   "metadata": {},
   "outputs": [],
   "source": [
    " str(test)"
   ]
  },
  {
   "cell_type": "markdown",
   "metadata": {},
   "source": [
    "We are satisfied that features 0-6 are numeric type and 7-15 are integer in both test and train sets. It's possible that some of these integer variables are categoric / non-ordinal / qualitative and that there is no order to their numeric assignment. One hot encoding might need to be concidered later, we really don't know enough about the data for now though."
   ]
  },
  {
   "cell_type": "markdown",
   "metadata": {},
   "source": [
    "What proportion of the data is test versus train?"
   ]
  },
  {
   "cell_type": "code",
   "execution_count": null,
   "metadata": {},
   "outputs": [],
   "source": [
    "dim(test)[1] / (dim(test)[1] + dim(train)[1])"
   ]
  },
  {
   "cell_type": "markdown",
   "metadata": {},
   "source": [
    "One fifth of our total data is in the test dataset"
   ]
  },
  {
   "cell_type": "markdown",
   "metadata": {},
   "source": [
    "## Single Variable Exploration"
   ]
  },
  {
   "cell_type": "markdown",
   "metadata": {},
   "source": [
    "How is the response variable distributed? Is it imbalanced? Is it biased?"
   ]
  },
  {
   "cell_type": "code",
   "execution_count": null,
   "metadata": {},
   "outputs": [],
   "source": [
    "barplot(table(train$labels), xlab = \"Labels\", main = \"Class distribution of Labels\")"
   ]
  },
  {
   "cell_type": "markdown",
   "metadata": {},
   "source": [
    "There is no **detectable** bias in the label data, as we do not know any true information about real churn rates compared to the rates observed in this dataset. However, the class distribution in the label is very imbalanced (regardless of bias), this will likely become an issue for many learning algorithms later.\n",
    "\n"
   ]
  },
  {
   "cell_type": "markdown",
   "metadata": {},
   "source": [
    "Descriptive statistics for continuous data:"
   ]
  },
  {
   "cell_type": "code",
   "execution_count": null,
   "metadata": {},
   "outputs": [],
   "source": []
  },
  {
   "cell_type": "markdown",
   "metadata": {},
   "source": [
    "Descriptive statistics for qualitative data: ??"
   ]
  },
  {
   "cell_type": "code",
   "execution_count": null,
   "metadata": {},
   "outputs": [],
   "source": []
  },
  {
   "cell_type": "markdown",
   "metadata": {},
   "source": [
    "More detailed summary statistics"
   ]
  },
  {
   "cell_type": "code",
   "execution_count": null,
   "metadata": {},
   "outputs": [],
   "source": [
    "round(describe(train), 3)"
   ]
  },
  {
   "cell_type": "markdown",
   "metadata": {},
   "source": [
    "Some initital findings from summary statistics:\n",
    "- No missing data in any features\n",
    "- Not yet feature scaled (e.g. min-max scaling), might need to do this for some models\n",
    "- Feature 1 , 6 and 10 have highest skew, in the positive direction. Negative skewed variables are minimally affected.\n",
    "- Features 1 & 6 have the widest range\n",
    "- Features 10, 11 and 12 are integer and have a range of 1, making them binomial (as well as label)\n",
    "- Features 1, 4, 6 and 10 have relatively high kurtosis, making their tails very short. Conversely, quite a few variables have longer tails, measuring no lesser than -2 though\n",
    "- Given that we don't have any particular knowledge about each feature, we cannot comment on the expected or unexpected characteristics of each variable.\n",
    "- 7 & 14 have highest standard deviation"
   ]
  },
  {
   "cell_type": "markdown",
   "metadata": {},
   "source": [
    "Histograms for our continuous data:\n",
    "\n",
    "# Density plots would be better here!?"
   ]
  },
  {
   "cell_type": "code",
   "execution_count": 18,
   "metadata": {},
   "outputs": [
    {
     "data": {
      "image/png": "[encoded data removed]",
      "text/plain": [
       "Plot with title \"Histogram of Feature 6\""
      ]
     },
     "metadata": {
      "image/png": {
       "height": 840,
       "width": 840
      }
     },
     "output_type": "display_data"
    }
   ],
   "source": [
    "#increase scale size of jupyter plots for some very detailed ones momentarily.\n",
    "options(jupyter.plot_scale=1) \n",
    "\n",
    "# Histogram for features 0 to 6\n",
    "par(mfrow = c(4,2))\n",
    "for (i in 1:7 ) {\n",
    "    h <- hist(train[,i], plot=FALSE)\n",
    "    plot(h, main=paste(\"Histogram of Feature\", i-1), xlab = names(train[i]))\n",
    "    d <- density(train[,i])\n",
    "    lines(x = d$x, y = d$y * length(train[,i]) * diff(h$breaks)[1], col = \"purple\", lwd = 1)\n",
    "}"
   ]
  },
  {
   "cell_type": "code",
   "execution_count": 19,
   "metadata": {},
   "outputs": [
    {
     "data": {
      "image/png": "[encoded data removed]",
      "text/plain": [
       "Plot with title \"Histogram of Feature 6\""
      ]
     },
     "metadata": {
      "image/png": {
       "height": 840,
       "width": 840
      }
     },
     "output_type": "display_data"
    }
   ],
   "source": [
    "#increase scale size of jupyter plots for some very detailed ones momentarily.\n",
    "options(jupyter.plot_scale=1) \n",
    "\n",
    "# Histogram for features 0 to 6\n",
    "par(mfrow = c(4,2))\n",
    "for (i in 1:7 ) {\n",
    "        hist(train[,i], xlab = names(train[i]), main = paste(\"Histogram of Feature\", i-1))\n",
    "}"
   ]
  },
  {
   "cell_type": "code",
   "execution_count": 20,
   "metadata": {},
   "outputs": [
    {
     "name": "stderr",
     "output_type": "stream",
     "text": [
      "Warning message in plot.xy(xy.coords(x, y), type = type, ...):\n",
      "\"\"add\" is not a graphical parameter\"\n"
     ]
    },
    {
     "data": {
      "image/png": "[encoded data removed]",
      "text/plain": [
       "Plot with title \"Histogram of train$feature_0\""
      ]
     },
     "metadata": {
      "image/png": {
       "height": 840,
       "width": 840
      }
     },
     "output_type": "display_data"
    }
   ],
   "source": []
  },
  {
   "cell_type": "code",
   "execution_count": 21,
   "metadata": {},
   "outputs": [
    {
     "data": {
      "image/png": "[encoded data removed]",
      "text/plain": [
       "Plot with title \"\""
      ]
     },
     "metadata": {
      "image/png": {
       "height": 840,
       "width": 840
      }
     },
     "output_type": "display_data"
    }
   ],
   "source": [
    "## Make some sample data\n",
    "x <- train$feature_0\n",
    "\n",
    "## Calculate and plot the two histograms\n",
    "h <- hist(x, plot=FALSE)\n",
    "plot(h, main=\"\")\n",
    "\n",
    "\n",
    "## Plot the density and cumulative density\n",
    "d <- density(x)\n",
    "lines(x = d$x, y = d$y * length(x) * diff(h$breaks)[1], col = \"purple\", lwd = 3)"
   ]
  },
  {
   "cell_type": "code",
   "execution_count": 22,
   "metadata": {},
   "outputs": [
    {
     "data": {
      "image/png": "[encoded data removed]",
      "text/plain": [
       "Plot with title \"Density Pl of Feature 6\""
      ]
     },
     "metadata": {
      "image/png": {
       "height": 840,
       "width": 840
      }
     },
     "output_type": "display_data"
    }
   ],
   "source": [
    "# Histogram for features 0 to 6\n",
    "par(mfrow = c(4,2))\n",
    "for (i in 1:7 ) {\n",
    "        plot(density(train[,i]), xlab = names(train[i]), main = paste(\"Density Pl of Feature\", i-1))\n",
    "}"
   ]
  },
  {
   "cell_type": "markdown",
   "metadata": {},
   "source": [
    "A mix of left skewed (0), exponential (1, 3, 4 & 6) and uniformly (2?) distributed features are seen here. \n",
    "\n",
    "Feature 5 is unusual looking, it might be better seen/understood on a logarithmic scale:"
   ]
  },
  {
   "cell_type": "code",
   "execution_count": null,
   "metadata": {},
   "outputs": [],
   "source": [
    "#increase scale size of jupyter plots for some very detailed ones momentarily.\n",
    "options(jupyter.plot_scale=2) \n",
    "#par(mfrow = c(1,2))\n",
    "\n",
    "barplot(table(train[,6]), log=\"y\", xlab = names(train[,6]), main = paste(\"Log scaled Feature\", 5))"
   ]
  },
  {
   "cell_type": "markdown",
   "metadata": {},
   "source": [
    "This is definately not the best chart option for the job, but it does have an inbuilt log scale. \n",
    "\n",
    "It could be improved with binning:"
   ]
  },
  {
   "cell_type": "code",
   "execution_count": null,
   "metadata": {},
   "outputs": [],
   "source": [
    "barplot(table(bin(train[,6], nbins = 20)), log = \"y\", xlab = \"feature_5\", ylab = \"log(Frequency)\", main = \"Barplot of Feature 5 with Log y Scale and binned x data\")"
   ]
  },
  {
   "cell_type": "markdown",
   "metadata": {},
   "source": [
    "What to say about this?"
   ]
  },
  {
   "cell_type": "markdown",
   "metadata": {},
   "source": [
    "In trying to acheive the above, we also stumbled across another interesting result by taking the log of feature 5 (as opposed to adding a log scale to the frequency axis)"
   ]
  },
  {
   "cell_type": "code",
   "execution_count": null,
   "metadata": {},
   "outputs": [],
   "source": [
    "hist(log(train[,6]), xlab = names(train[6]), main = paste(\"Histogram of Log( Feature\", 5, \")\"))"
   ]
  },
  {
   "cell_type": "markdown",
   "metadata": {},
   "source": [
    "Well, that's a lot more revealing that I had anticipated...\n",
    "\n",
    "We now have a variable that is right skewed normal distribution after logarithmic transformation of the data."
   ]
  },
  {
   "cell_type": "markdown",
   "metadata": {},
   "source": [
    "Bar chart exploration for our discrete data:"
   ]
  },
  {
   "cell_type": "code",
   "execution_count": null,
   "metadata": {},
   "outputs": [],
   "source": [
    "#increase scale size of jupyter plots for some very detailed ones momentarily.\n",
    "options(jupyter.plot_scale=1) \n",
    "\n",
    "# Bar chart for features 7 to 15\n",
    "par(mfrow = c(5,2))\n",
    "for (i in 8:16 ) {\n",
    "        barplot(table(train[,i]), xlab = names(train[i]), main = paste(\"Bar plot of Feature\", i-1))\n",
    "}\n"
   ]
  },
  {
   "cell_type": "markdown",
   "metadata": {},
   "source": [
    "Exploration so far tells us:\n",
    "\n",
    "### Quantitative vs Qualitative Variables:\n",
    "As we suspected from the summary statistics, we can see that features 0 - 6 are continuous while 7 to 15 are discrete. As we have no context for this data, we cannot deduce easily whether the discrete variables are ordinal (logically ordered or ranked) or nominal (have no logical sequence). It is possible that their relationships with other variables could reveal the possibility of a rank or logical order, but we can never know for certain. This information is important to determine whether one hot encoding is needed for specific learning algorithms.\n",
    "\n",
    "### Distributions:\n",
    "Other notable observations incluide that feature 0 is skewed to the left while  it appears that 1, 3, 4 & 6 are all exponential (although increasing the bins might yet reveal they are all very highly skewed instead). Feature 5 looks interesting, it could be skewed, exponential or something else entirely. Meanwhile feature 2 is fairly uniformly distributed (possibly 7 and 11 too). Many of the integer features (7 and above) show a clear imbalance where one class is prefenced (particularly 10, 12 and 15). Features 8 and 9 could be somewhat normally distributed (the discretness of this data does not clearly show skew, there are too few possible values). It's hard to determine what information 7 & 14 have to give from this, they are discrete with no clear distribution meaning that they could be nominal variables with no clear rank or order, these would be prime candidates for tree methods or one hot encoding for other learning methods.\n",
    "\n",
    "### Labels class imbalance\n",
    "The response variable is not evenly distributed. The majority class (0) is very dominant here and so we expect that learning algorithms will significantly favour this class for positive prediction. Resampling may be necessary so as not to introduce bias in our learning/modelling algorithms.\n",
    "\n",
    "### Feature scaling\n",
    "Feature scaling has not been completed on this dataset. Some algorithms might need us to preform this.\n",
    "\n",
    "### Other notes\n",
    "No missing data in any features. Given that we don't have any particular knowledge about each feature, we cannot comment more generally on the expected or unexpected characteristics of each variable, such as the range of values and outliers.\n",
    "_________________________"
   ]
  },
  {
   "cell_type": "markdown",
   "metadata": {},
   "source": [
    "Box plots of numeric and integer vars seperated for easier readability.\n",
    "\n",
    "Continuous variables:"
   ]
  },
  {
   "cell_type": "code",
   "execution_count": null,
   "metadata": {},
   "outputs": [],
   "source": [
    "boxplot(train[1:7], las=2, cex.axis = 1)"
   ]
  },
  {
   "cell_type": "markdown",
   "metadata": {},
   "source": [
    "Discrete variables:"
   ]
  },
  {
   "cell_type": "code",
   "execution_count": null,
   "metadata": {},
   "outputs": [],
   "source": [
    "boxplot(train[8:17], las=2, cex.axis = 1)"
   ]
  },
  {
   "cell_type": "markdown",
   "metadata": {},
   "source": [
    "Earlier we found features 10,11 and 12 along with the labels all have two possible discrete values. It appears all but feature 11 are primarliy distributed at zero with less than a quarter of the data at one. Feature 11 on the otherhand is a little more evenly distributed with one quartile of the data distributed at zero and the remainder at one."
   ]
  },
  {
   "cell_type": "code",
   "execution_count": null,
   "metadata": {},
   "outputs": [],
   "source": [
    "#increase scale size of jupyter plots for some very detailed ones momentarily.\n",
    "options(jupyter.plot_scale=1) "
   ]
  },
  {
   "cell_type": "markdown",
   "metadata": {},
   "source": [
    "The correlation between each feature and the labels."
   ]
  },
  {
   "cell_type": "code",
   "execution_count": null,
   "metadata": {},
   "outputs": [],
   "source": [
    "par(mfrow = c(4,4))\n",
    "for (i in 1:(length(train) - 1)) {\n",
    "        plot(train[,i], train$labels, ylab = 'labels', xlab = names(train)[i])\n",
    "}"
   ]
  },
  {
   "cell_type": "markdown",
   "metadata": {},
   "source": [
    "There appear to be differences in the distribution of data for each label correlated with features 1, 4 and 6. It is questionable whether this is also the case for 1, 3 and 5. These features should be explored further using geom_density filled by label to distinguish..."
   ]
  },
  {
   "cell_type": "markdown",
   "metadata": {},
   "source": [
    "Correlation of all features and labels:"
   ]
  },
  {
   "cell_type": "code",
   "execution_count": null,
   "metadata": {},
   "outputs": [],
   "source": [
    "round(cor(train),3)"
   ]
  },
  {
   "cell_type": "markdown",
   "metadata": {},
   "source": [
    "Correlation measurements are for the most part relatively low, the top 5 include:\n",
    "1. -0.855 between features 5 & 15\n",
    "2. -0.596\tbetween features 15 & 6\n",
    "3. 0.547\tbetween features  5 & 6\n",
    "4. -0.405\tbetween features 8 and 0\n",
    "5. 0.390\tbetween the labels and 3\n",
    "\n",
    "Remember this only measures the linear relationship between two variables. Visualising with all with a scatter plot could bring other non linear relationship patterns to the surface. These are a bit crowded with so many features though, so we will focus on the top 5 we've highlighted for now."
   ]
  },
  {
   "cell_type": "code",
   "execution_count": null,
   "metadata": {},
   "outputs": [],
   "source": [
    "par(mfrow = c(2,3))\n",
    "plot(train$feature_0, train$feature_8, main = \"Features 0 & 8\", sub = \"Cor = -0.405\")\n",
    "plot(train$feature_3, train$labels, main = \"Feature 0 & labels\", sub = \"Cor = -0.390\")\n",
    "plot(train$feature_5, train$feature_6, main = \"Features 5 & 6\", sub = \"Cor = 0.547\")\n",
    "plot(train$feature_5, train$feature_15, main = \"Features 5 & 15\", sub = \"Cor = -0.855\")\n",
    "plot(train$feature_6, train$feature_15, main = \"Features 6 & 15\", sub = \"Cor = -0.596\")"
   ]
  },
  {
   "cell_type": "markdown",
   "metadata": {},
   "source": [
    "We can't really comment on whether we expected these correlations, we just know they're the most significant linear relationships we have found."
   ]
  },
  {
   "cell_type": "markdown",
   "metadata": {},
   "source": [
    "Analysing labels seperately to find differences:"
   ]
  },
  {
   "cell_type": "code",
   "execution_count": null,
   "metadata": {},
   "outputs": [],
   "source": [
    "colorRange <- c('#69091e', '#e37f65', 'white', '#aed2e6', '#042f60')\n",
    "## colorRamp() returns a function which takes as an argument a number\n",
    "## on [0,1] and returns a color in the gradient in colorRange\n",
    "myColorRampFunc <- colorRamp(colorRange)\n",
    "\n",
    "panel.cor <- function(w, z, ...) {\n",
    "    correlation <- cor(w, z)\n",
    "\n",
    "    ## because the func needs [0,1] and cor gives [-1,1], we need to shift and scale it\n",
    "    col <- rgb(myColorRampFunc((1 + correlation) / 2 ) / 255 )\n",
    "\n",
    "    ## square it to avoid visual bias due to \"area vs diameter\"\n",
    "    radius <- sqrt(abs(correlation))\n",
    "    radians <- seq(0, 2*pi, len = 50) # 50 is arbitrary\n",
    "    x <- radius * cos(radians)\n",
    "    y <- radius * sin(radians)\n",
    "    ## make them full loops\n",
    "    x <- c(x, tail(x,n=1))\n",
    "    y <- c(y, tail(y,n=1))\n",
    "\n",
    "    ## trick: \"don't create a new plot\" thing by following the\n",
    "    ## advice here: http://www.r-bloggers.com/multiple-y-axis-in-a-r-plot/\n",
    "    ## This allows\n",
    "    par(new=TRUE)\n",
    "    plot(0, type='n', xlim=c(-1,1), ylim=c(-1,1), axes=FALSE, asp=1)\n",
    "    polygon(x, y, border=col, col=col)\n",
    "}"
   ]
  },
  {
   "cell_type": "code",
   "execution_count": null,
   "metadata": {},
   "outputs": [],
   "source": [
    "#increase scale size of jupyter plots for some very detailed ones momentarily.\n",
    "options(jupyter.plot_scale=1.5) "
   ]
  },
  {
   "cell_type": "code",
   "execution_count": null,
   "metadata": {},
   "outputs": [],
   "source": [
    "pairs(train[train$labels==1,-17], upper.panel = panel.cor, main = \"Label = 1\")"
   ]
  },
  {
   "cell_type": "code",
   "execution_count": null,
   "metadata": {},
   "outputs": [],
   "source": [
    "pairs(train[train$labels==0,-17], upper.panel = panel.cor, main = \"Label = 0\")"
   ]
  },
  {
   "cell_type": "markdown",
   "metadata": {},
   "source": [
    "There appears to be no major differences in correlation between any features and the two label values. This indicates that regression may not perform well with this data."
   ]
  },
  {
   "cell_type": "code",
   "execution_count": null,
   "metadata": {},
   "outputs": [],
   "source": [
    "# just a prototype to hopefully overlay two density plots depending on the label.\n",
    "plot(density(train[train$labels == 1,6]))\n",
    "plot(density(train[train$labels == 0,6]))"
   ]
  },
  {
   "cell_type": "code",
   "execution_count": null,
   "metadata": {},
   "outputs": [],
   "source": []
  },
  {
   "cell_type": "code",
   "execution_count": null,
   "metadata": {},
   "outputs": [],
   "source": []
  },
  {
   "cell_type": "code",
   "execution_count": null,
   "metadata": {},
   "outputs": [],
   "source": []
  },
  {
   "cell_type": "markdown",
   "metadata": {},
   "source": [
    "Explore distribution of variables for each seperate label side by side."
   ]
  },
  {
   "cell_type": "code",
   "execution_count": null,
   "metadata": {},
   "outputs": [],
   "source": [
    "# What to do with this information??\n",
    "ggplot(aes(x=feature_6),data =train) + \n",
    "    geom_density(aes(fill = labels)) +\n",
    "    facet_wrap(~feature_11) +\n",
    "    ggtitle('title')\n",
    "\n",
    "ggplot(aes(x=feature_5),data =train) + \n",
    "    geom_density(aes(fill = labels)) +\n",
    "    facet_wrap(~feature_8) +\n",
    "    ggtitle('title')"
   ]
  },
  {
   "cell_type": "code",
   "execution_count": null,
   "metadata": {},
   "outputs": [],
   "source": [
    "ggplot(aes(x = feature_6),data = train) + \n",
    "    geom_density(aes(fill = labels)) +\n",
    "    facet_wrap(~feature_13) +\n",
    "    ggtitle('pH values  relationship with Quality')"
   ]
  },
  {
   "cell_type": "markdown",
   "metadata": {},
   "source": [
    "### Model selection and justification\n",
    "Clearly explained how the models were developed with sufficient supporting information derived from exploratory data analysis and proper statistical diagnostics.\n",
    "\n",
    "The exploratory analysis and diagnostics logically lead to the development of the models (including attribute/feature selection)."
   ]
  },
  {
   "cell_type": "markdown",
   "metadata": {},
   "source": [
    "# Modelling"
   ]
  },
  {
   "cell_type": "code",
   "execution_count": null,
   "metadata": {},
   "outputs": [],
   "source": []
  },
  {
   "cell_type": "markdown",
   "metadata": {},
   "source": [
    "### Model quality comparison\n",
    "Critically assess the accuracy of the models with in-depth statistical analysis. \n",
    "\n",
    "The comparison is logical and solid with an appropriate level of details. \n",
    "\n",
    "Demonstrates a high-level of understanding of the differences (i.e., advantages and disadvantages) between the models in regard to the task."
   ]
  },
  {
   "cell_type": "markdown",
   "metadata": {},
   "source": [
    "# Summary\n",
    "Explanation of why the chosen subset of attributes have a significant impact on the prediction of the response variable.\n",
    "- The subset of attributes leading to the prediction are identified and clearly justified with in-depth statistical analysis.\n",
    "- The description and accompanying interpretation are comprehensible and convincing, in line with the findings from the model development.\n",
    "\n",
    "The quality of the Jupiter notebook/ the R Markdown file, quality and readability of the R implementation.\n",
    "- The Jupyter  Notebook is well structured in a logical order that clearly supports the development of the answers.\n",
    "- The R code is logically structured and easy to read.\n",
    "- Concise but precise code comments clearly explain how the code is intended to work.\n",
    "- The redundant or unnecessary code is excluded from the final submission.\n"
   ]
  },
  {
   "cell_type": "code",
   "execution_count": null,
   "metadata": {},
   "outputs": [],
   "source": []
  },
  {
   "cell_type": "markdown",
   "metadata": {},
   "source": [
    "# Questions:\n",
    "- Should test and train be merged during EDA - so we get the fullest picture of the data?\n",
    "- The Week 2 tutorial explores the relationship between many variables with one another. Are we interested in just the relationships that we wish to predict? Why would we explore other relationships aside from just looking for duplicated information?\n",
    "\n",
    "\n",
    "# Concerns to follow up before modelling\n",
    "- Resample data to even out label class\n",
    "- Are categoric data ordinal? Should they be one hot encoded? Specifically look at 7, 8, 9, 13, 14, 15.\n",
    "- Feature scaling might be needed for some models\n",
    "- "
   ]
  }
 ],
 "metadata": {
  "kernelspec": {
   "display_name": "R",
   "language": "R",
   "name": "ir"
  },
  "language_info": {
   "codemirror_mode": "r",
   "file_extension": ".r",
   "mimetype": "text/x-r-source",
   "name": "R",
   "pygments_lexer": "r",
   "version": "3.6.2"
  }
 },
 "nbformat": 4,
 "nbformat_minor": 2
}
